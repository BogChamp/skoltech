{
 "cells": [
  {
   "cell_type": "code",
   "execution_count": 1,
   "metadata": {},
   "outputs": [],
   "source": [
    "#Web3py, documentation: https://web3py.readthedocs.io/en/v5/"
   ]
  },
  {
   "cell_type": "markdown",
   "metadata": {},
   "source": [
    "Web3.py is a Python library for interacting with Ethereum."
   ]
  },
  {
   "cell_type": "code",
   "execution_count": 2,
   "metadata": {},
   "outputs": [],
   "source": [
    "#!pip install web3"
   ]
  },
  {
   "cell_type": "code",
   "execution_count": 3,
   "metadata": {},
   "outputs": [],
   "source": [
    "from web3 import Web3"
   ]
  },
  {
   "cell_type": "code",
   "execution_count": 4,
   "metadata": {},
   "outputs": [
    {
     "name": "stdout",
     "output_type": "stream",
     "text": [
      "Connected to Testnet: True\n"
     ]
    }
   ],
   "source": [
    "testnet_url = \"https://goerli.infura.io/v3/2963693ca9c446f0aede3f10cab2adc0\"\n",
    "\n",
    "web3 = Web3(Web3.HTTPProvider(testnet_url))\n",
    "print(\"Connected to Testnet:\",web3.isConnected())"
   ]
  },
  {
   "cell_type": "code",
   "execution_count": 5,
   "metadata": {},
   "outputs": [
    {
     "name": "stdout",
     "output_type": "stream",
     "text": [
      "AttributeDict({'baseFeePerGas': 25369873457, 'difficulty': 0, 'extraData': HexBytes('0x496c6c756d696e61746520446d6f63726174697a6520447374726962757465'), 'gasLimit': 30000000, 'gasUsed': 24728914, 'hash': HexBytes('0x04cf837dd0cec5e3ee73a37f24932658a3ac8175a733f15e0b74717c4c1a8c98'), 'logsBloom': HexBytes('0x9daf8ef375a1fe6690d79821e4c8c301439e83732c33581c0263a0168839550c41268109a900d2961349018001042094e94900e05630a0700a80deac4b3432f1496d0110dd7090bc78a060b9500cd068ce94890a18cebd2400db098e8086bf05a818530202e048016e031f9324150a08a511005904284283a8c4323082880b91e615827b0814aa4a01df7150a2901022484036876400934c004106c11873008743a649403ea3035210a9812182464705e00005102294685000e041ce21325b12a37972820322456b144083351907640c4344142ec71825dad0cbcd22ccc5e2a6b9b1598a40622f573603e9d202c909049422d011f0c1614b00060a0a42a44e13'), 'miner': '0xb64a30399f7F6b0C154c2E7Af0a3ec7B0A5b131a', 'mixHash': HexBytes('0x6a682bac64830fe6d039d59e48012d8b85ca98073c73c8828acd22ddafe298ae'), 'nonce': HexBytes('0x0000000000000000'), 'number': 8496365, 'parentHash': HexBytes('0x0563bb3dc3d58a4933e880497450800361b5228bdc961886430c86c1627c0b27'), 'receiptsRoot': HexBytes('0x8652f1cc0d5a1a157eca99985a2de5318356a14c951a0f6f8573eda4fee3e587'), 'sha3Uncles': HexBytes('0x1dcc4de8dec75d7aab85b567b6ccd41ad312451b948a7413f0a142fd40d49347'), 'size': 138998, 'stateRoot': HexBytes('0x7bc14af3b0f1dcb6fff5f9f9b6f11e20f2030f7de3d6fc92fde12189ee2ed1b0'), 'timestamp': 1676470032, 'totalDifficulty': 10790000, 'transactions': [HexBytes('0xdacfe4600f7fe55e45c5acd0beb9f8ef586406bab224dfb2250fa4177a539e0a'), HexBytes('0x4ee5bb49f82e148581edc0ca2a087a7f79fbfdafd135183c50d79a8a7a3161bb'), HexBytes('0xda28b7fd038ce7c334ceb8d16cd5fd782ddd655b23e33dc5b38bad6ac8fe85c5'), HexBytes('0xe967869ac2c230fc40f23c648ae6ab4a694f6d3e19502e8c8fe1a91feb401746'), HexBytes('0x5899bb5b456a38054714566199e83fc7459748ad09f2e1003f203830d871e083'), HexBytes('0xf719533f1bdb03b53b01b82dfa0dd7ac7a64d23929421596893d04147ab3aeb3'), HexBytes('0x9ce6e839d226d725ca1411280358f82866d87501a36324f2e30734c572383d73'), HexBytes('0x77e0f6d46a0674ef28224e19a85f6242dfab013ec345140537b084712f03d2cc'), HexBytes('0xa8d31291434010179ba92d6bb2e86ea9c56dd0c9f0be4dd37f7cb1158c2bfc2f'), HexBytes('0xffea838f485de496cf3fc0135173916e6a8a8d21c9a2644db7728259e28f4bcd'), HexBytes('0xfc537f48897539cf0d3e3560e37264abc14d709c2ff8bf66e8c04258f32350c1'), HexBytes('0xac8a797092572a73c6d06161cdd3d7b2c61e9af69dd0dd415959d71b89d3d446'), HexBytes('0xc367f6acf01dc4eff42ade5975526f68b773cded2cddff4709b1167107e60d22'), HexBytes('0x53d248c656c427d19dcb5b3bd48288d320a325f3e7c49a634b5b085a238928ce'), HexBytes('0x306fcd1483fb5a55f9d38e1f1cf67db3a174091ddcd687ed15c9132781bf30f9'), HexBytes('0xa81d4e38aa884828cfd14fc5c2b60c241c2a48a2b7f0ea5e5b8993929bf95fb0'), HexBytes('0x1534b33c83fa2e8ec60a74c0776737de5cd2499fb0414f87a0da57bbec2e2209'), HexBytes('0xd7d1232cb51af6bc84a4eedacaeb24d4f4ad8280e8a4ebb8ddd6f0e4b40bc51f'), HexBytes('0x2cf8d220d564e3834a9f8ba3ba7288fa0e69e451cf9f5acd2d877410d0bcc45d'), HexBytes('0x3587e6670e0c1d5beab52990dc7f21df38dcecd8ad3db9e551a80ab2328f7a6e'), HexBytes('0x049e9cadbbee485ead241cb19915ae4d6cca56e4ceeabd2db5d8bc28fcfce5bf'), HexBytes('0x66b6faf0b24ef95b2f696ae4f1f3d6216f6a001507076fc8c070778245abc6c5'), HexBytes('0x34724a47bd3460f6b29494245f93432669614de4125ccc32549872019b728291'), HexBytes('0xc6696dc66620747a46fa66aca805f017ec472c6ff867fb05088ea34a5ad9fb02'), HexBytes('0x6a64cf1727d23b2d0516a5861230c8c71c71ecf834b3c2ff0eeffda6ee9fc4a0'), HexBytes('0x65eec63c1944783547baac0436b3c1c37286dcd9a85156de6af97350748ac60b'), HexBytes('0x2117813041ebc913f2fce081669b42c81158faece3de823cde2f6680f67c92b1'), HexBytes('0xa351cc6148ed32c0092ceed5c117b26591ad46aac0639dd4e32198e6c1812665'), HexBytes('0x2c596c0dcf83a4a9a7ca2a9645215eac47224f7883742e5f823a3cdcdc70c480'), HexBytes('0x83e5fa66549211eafe02970204ef74a46e2b4bb04a18a39b9bfc808c0c55c445'), HexBytes('0x75933cf0de8a381bd869caefb8d20d5f1bc5e5126a0927bd45e8050a023c2324'), HexBytes('0xdd3f4e479c147cf39d80297cd3750317b8a9584b81de0138acb3112a8d92d0a3'), HexBytes('0x81a27ab18f239536c2d824262d5cceef8586394a3055a65686769240ed07452a'), HexBytes('0x024eef745947b04824bf5a5a8977797a603e96f63658fe9fdc1520c1d27d6931'), HexBytes('0x66b799123d5b18ee5cfd003e76101d52569683c3f35afb475e51492299457533'), HexBytes('0x3d0ceab216b89d40ed9742f67e9e270288232133e17dd108558b62bc368de5c9'), HexBytes('0xcca6f92726608707196f9fbb30591d1ec630d6b3711e63a380def99760e6beb5'), HexBytes('0xc4ce11bad553e6c723261b967f4ddbe6d2d34c571ab7735395dc325426fe86fb'), HexBytes('0x761362e7327fa9a589545ae360b584025a4fe6df819751e7464c540fe71b26b1'), HexBytes('0xe9b9592994088dece7ac67f66aa574d837f5ea457a5f2eafce5686b1d1d7b228'), HexBytes('0x0aeac7296c3615295143d1dff6f525a3cecb4d9c8ce2c99289b2c284801de87f'), HexBytes('0xfc841db999d93af2b83393a6dedd9c7ab4de81bde3ce7175df0963d0cee9a7fc'), HexBytes('0x430b46d6f1eb1368785213a8ed9c8d8519e8dab487b06663119b7f6988674886'), HexBytes('0x840af3bc6673ae4bd47f5f8136d66d5d43f350fabebcff44f8642e3c2f47eaa5'), HexBytes('0x5242be9c3f41bf397a9842003d5d550f1e771f5950d1f067574e56e544efd45a'), HexBytes('0x4ce960ff1819ef8b2d804ceb904648dbf6af73ad6219fa970444d2f83f7e7e13'), HexBytes('0x7b4dbaf6923ee19b6cc91b9cd9700de3146394f75288ec56faf2591eaa813daa'), HexBytes('0xa4546d9cde367e3e50b1e2726a6b4df4682608d5c45d6833ff2be2f6ff120314'), HexBytes('0x99ed42cc277268b55c1151ca4935b55a812176e6ef613680e61ceb801ab59b0b'), HexBytes('0x99ab695ca5d277670d92ec6541a57cb398691ee9cf72acd5314f2624a5da5387'), HexBytes('0x5420fa549f841bc47d91f37ac3fd15933b66e4f5c8993d86567d61f66ecb4708'), HexBytes('0xc2bc9da462fb3bcfbc374882db4b6ad287718f125a7213544a584090a925609e'), HexBytes('0xcea2d280150b576424e66d06b3c1ccaa9e4aa3155232041986605298e12c27f4'), HexBytes('0x4e850fafa98bd2b69d3acf2b15ce56968206ea850907cb2e7576616474ba3fa7'), HexBytes('0x3655b855ddbd71690f3d56aace384b2edc0a4a6c57b28c82987980dc7c087b21'), HexBytes('0x08c48800e31bc41e4caa05183f118a5abac70eb7c65bf618a175577c24745b1a'), HexBytes('0x87abddd54f15c173c0186d3a7e348197ed8866207808cf2ed45e4f21009e0ad2'), HexBytes('0xc1c33010439ee35e91aabb0f4c31a9f41f49857b734682134299b884bae5c868'), HexBytes('0xe14e97d341a0a32aec67c43dd74e7fc56d7e5f4e7686d83853c9687b4887a346'), HexBytes('0x53eccb4016d9bfc023ae68f09a067bbc0892ac3aa86504658c7767603b8dca73'), HexBytes('0xfbe175e928223f5c2a604e37485d2338fc356326461441f2c5b9f8ef5a9bffba'), HexBytes('0x853980f13bc6d0694aa3a7f86991baa5a5a19e4588105088126829575a039217'), HexBytes('0xbf36072a8ef12238f484d24ec28b066f032e6b65481d18cb74de8d02f1dd942d'), HexBytes('0x688a0c650135430acf237a5c216041331cfdc6d1fe61ae9a86c6b80ded47bbf4'), HexBytes('0x2d5004447f6b6fb1c1bcf19941b441afcf0b4cf9276c4b639583844f5b59e7bd'), HexBytes('0x9b956e20588d44d5cb71d04acf31817c8b779e2c98bccd7f94a132e1a9e6c301'), HexBytes('0x17d94629c56badcd1b1f4550d945c7e45bfb5621667c2366e486114073322f24'), HexBytes('0x95229d2094504583ad9229541a8644b48459ad60e30528b7c3c497632d8f989f'), HexBytes('0xafe0e471e192ce103ca479afcfdce6dc71d7f068e1fb4a320d6760a7e37bb2df'), HexBytes('0x1495dc02df39611525dd02a1e2cbc3e7d38862998087150aa76643711e5f78d9'), HexBytes('0x70491da3f5e4b9cdea17f67f1df114bf6fec77eb8f57fe90ef7401fcfd687a0e'), HexBytes('0x99515c010aea157f8824613f9ded867709a4e5ca817ecb1679e4b1f8c220f985'), HexBytes('0x2eab91d1acb4e5d737152f2afca5fdedf4c9161aec102bb6d1f99b4f0582598f'), HexBytes('0x6c6a4d308121d9c4b1f350b78fb6281317ce1ab4b8ec422480a57ce1cedfe6f5'), HexBytes('0xd4f865dbc96b929d0d1781b8732303dd3e6351dc8ec16901f50409579258b473'), HexBytes('0x15a4bbde63c72554378ff131e4227825dd0ea787f4e9634ac2066ac7314465f7'), HexBytes('0x55327c68d01d8a286827ecd215091884bf03ef5335db31c2c076a0f5aafe0855'), HexBytes('0x7080c04691a87ce902545f52f30971c908b4b49b931239a3a9f0351ddf4b91f1'), HexBytes('0x56b64d4455dd324d4ad9f788d0c285b606fd54f71ac6b049341c305ddfc1fb2f'), HexBytes('0xbceffb0465ee27161fd6cdd6c99171bc595af91fbb5f43d542ecb5e595744878'), HexBytes('0xb2848da53dc2cffe9b60aa14c0091edd453de4e866df832bf3d637b2d6e82325'), HexBytes('0x2c8dd0a3f151b382f943691a29fbec45acb3156458110834678ec6688ad0af50'), HexBytes('0xc33a6cf0a861aa808a0fc5b9193403ffb38f86fecf74c938802c20240bddae95'), HexBytes('0x887382f29e8d7a3340982afaabb375df78359e8aa582007ec076a4a5fc6d72f3'), HexBytes('0xabcf2c29342c56ddbf396f017353ae0d4ea7af488020b0525011fec3156329df'), HexBytes('0x548666b5c1361867c6052cb157fc596d91f5233e487ccc23d5eaac43a6a713a1'), HexBytes('0xe4d0043ecfe8ac36b1dd3537f9b47382dfdd9fe81693695e7daff271f0603b64'), HexBytes('0x910b7a570de0e707ae2b9f686ae6f4b9c253014e4ac5ec967c570077f93f9757'), HexBytes('0x6db7fd8ed4c9f9d3d79b5b8c55bd93e7958e22ae43ddd285fe529e06b0cf705d'), HexBytes('0x69ab42e78ac013781c8ff3391eabf3892729c3715f1b107cad4d69fe0ab7a683'), HexBytes('0xf156bde230b27257459fcc0e49f80a2f51bfd873fbc90b3fcbf330497d1d1f07'), HexBytes('0x1d0254832f4e665d75806f570ac1228111fe6e1d11d4aee5b9baa4654977e46c'), HexBytes('0x3f2936e328324ee2a53c7417f562bcf10d0a2f65937f697096373cf8563f544f'), HexBytes('0xf4ceb03e180e2c29d0fe20165c3623c3544e644afc5181f9486b0968d7878728'), HexBytes('0xccb7ba3b25924401a040c34228de8a73b840b70e731d4ba37d7a347587f80f6f'), HexBytes('0x45f8ecf3e3e25b6e22fd237edc9b3d1b9d427c676760754143ffc3a90f55d424'), HexBytes('0x8375e07d7af99cdbc8c560085caedf0dc7e440ef2b10bccf625847788ed5460f'), HexBytes('0xe87ee215a0261a5e939dfb6df1bfe65fef744a7df8e5ec5658fe0c1d116f721d'), HexBytes('0x40e47c64aa240e3e50425707525b96ce4efa380201726d02bc2a04d7653feb4a'), HexBytes('0x1e7adb43b6f9329226d050612978b08951e59bc89a8ae94596781c8d8f7aaf95'), HexBytes('0xd9ce6f34f6e01ba911446f4195d87f27301fc71ae2a19e4104049f090ca77a87'), HexBytes('0x3d49a3d2ef1dbb2e4aadea4b3e027a005d56ca18bc74d76d51e6f818b2cf34be'), HexBytes('0x8c477929a1bc1b6491bde3a78debaf61e2605f7baa13e7946fe53cd82ac02009'), HexBytes('0xe45633f446e5c4911210ffdbbcd031616483c87cdbc14d6f056321010672ee5d'), HexBytes('0xa6cce94437a2e18eb1cf35710c4925efeecab338b463852518d5c159b0d3fd31'), HexBytes('0xa89aba32cfdf1afc4bc5cbb847e30b67fd0e06413abddd32e4d81a5b817bb0f7'), HexBytes('0x17559aeb3dff55f88ce1878ce59dbd3ecda1e9704a9c1d82a951e5532ef2d5b3'), HexBytes('0x297d4703fe2c46bdd895f6203ec7ee6ec90f48d9166cdf69ee8b682104ef7124'), HexBytes('0x7877ea76d8c5fa551f607477ee493c24cd61e8c78f6aa94d1725d6708017250d'), HexBytes('0x559567bcb233412acdcd8e0f0c5802ace08c199ec8eee89764aabb1adac700d0'), HexBytes('0xe460bab5711d5eb03cc0ba29255bedef7951da26380ed3600cb2c74d7c74760c'), HexBytes('0xdd2d8d8d8f86832f3fe08b0ffca3fc3e7081c9362f43a4accd3782f928b14a6a'), HexBytes('0x7e88d8decbae68096a520e1c69aea247226e200a76500ed808994a131968014f'), HexBytes('0xe83cf816390be51777b923711a739dcb3bb5494a3f9b66ab54be5cef2604ba4a'), HexBytes('0x1bea9fd430d3244ad6796dc90160f399f39ee0695ff546b82fa1706c62fd65c9'), HexBytes('0x3edfd665e66a138c3f2c23e8721f2a6a10982e9c06b16fffcda036db1ddb407b')], 'transactionsRoot': HexBytes('0x9b8b8670d708cd3f750facfbee0d146c95157862b3231d1470261a283420cd18'), 'uncles': []})\n"
     ]
    }
   ],
   "source": [
    "print(web3.eth.getBlock(8496365))"
   ]
  },
  {
   "cell_type": "code",
   "execution_count": 9,
   "metadata": {},
   "outputs": [
    {
     "data": {
      "text/plain": [
       "8496373"
      ]
     },
     "execution_count": 9,
     "metadata": {},
     "output_type": "execute_result"
    }
   ],
   "source": [
    "web3.eth.blockNumber"
   ]
  },
  {
   "cell_type": "code",
   "execution_count": 10,
   "metadata": {},
   "outputs": [
    {
     "name": "stdout",
     "output_type": "stream",
     "text": [
      "70210823876595600\n"
     ]
    }
   ],
   "source": [
    "print(web3.eth.getBalance('0x80773c866332a7f3CFdD583d0b3A96655F035d6C'))"
   ]
  },
  {
   "cell_type": "code",
   "execution_count": null,
   "metadata": {},
   "outputs": [],
   "source": []
  },
  {
   "cell_type": "code",
   "execution_count": 5,
   "metadata": {},
   "outputs": [
    {
     "name": "stdout",
     "output_type": "stream",
     "text": [
      "Connected to Testnet: True\n"
     ]
    }
   ],
   "source": [
    "ganche_url = \"HTTP://127.0.0.1:7545\"\n",
    "\n",
    "web3_ganache = Web3(Web3.HTTPProvider(ganche_url))\n",
    "print(\"Connected to Testnet:\",web3_ganache.isConnected())"
   ]
  },
  {
   "cell_type": "code",
   "execution_count": 21,
   "metadata": {},
   "outputs": [
    {
     "name": "stdout",
     "output_type": "stream",
     "text": [
      "999993286720000000000\n"
     ]
    }
   ],
   "source": [
    "print(web3_ganache.eth.getBalance('0x571D39C9B860451D599D1cb565AAb443fA589F76'))"
   ]
  },
  {
   "cell_type": "code",
   "execution_count": 22,
   "metadata": {},
   "outputs": [],
   "source": [
    "# Hello World Contract Setting\n",
    "# Remix"
   ]
  },
  {
   "cell_type": "code",
   "execution_count": 23,
   "metadata": {},
   "outputs": [],
   "source": [
    "contract_address = '0xcC486BD047938f1d3bf4D8715Fd6FD505A8211Be'"
   ]
  },
  {
   "cell_type": "code",
   "execution_count": 24,
   "metadata": {},
   "outputs": [],
   "source": [
    "contract_abi = '[ { \"inputs\": [ { \"internalType\": \"string\", \"name\": \"_message\", \"type\": \"string\" } ], \"name\": \"changeMessage\", \"outputs\": [], \"stateMutability\": \"nonpayable\", \"type\": \"function\" }, { \"inputs\": [], \"stateMutability\": \"nonpayable\", \"type\": \"constructor\" }, { \"inputs\": [], \"name\": \"sayTheMessage\", \"outputs\": [ { \"internalType\": \"string\", \"name\": \"\", \"type\": \"string\" } ], \"stateMutability\": \"view\", \"type\": \"function\" } ]'"
   ]
  },
  {
   "cell_type": "code",
   "execution_count": 25,
   "metadata": {},
   "outputs": [],
   "source": [
    "contract_instance = web3_ganache.eth.contract(address = contract_address, abi = contract_abi)"
   ]
  },
  {
   "cell_type": "code",
   "execution_count": 30,
   "metadata": {},
   "outputs": [
    {
     "name": "stdout",
     "output_type": "stream",
     "text": [
      "Hello Python!\n"
     ]
    }
   ],
   "source": [
    "print(contract_instance.functions.sayTheMessage().call())"
   ]
  },
  {
   "cell_type": "code",
   "execution_count": 31,
   "metadata": {},
   "outputs": [],
   "source": [
    "# Changing the message on Ganache because on Remix private keys are not managed to sign the TX.\n",
    "\n",
    "# transact == Contract call, meaning you are changing something on the contract (eg state)\n",
    "# call != Contract call"
   ]
  },
  {
   "cell_type": "code",
   "execution_count": 32,
   "metadata": {},
   "outputs": [
    {
     "data": {
      "text/plain": [
       "HexBytes('0x439ad6f0b1aa44e6c84f025bf8994bf191f157c4dbe1ed598608f1a3efb2aa9e')"
      ]
     },
     "execution_count": 32,
     "metadata": {},
     "output_type": "execute_result"
    }
   ],
   "source": [
    "contract_instance.functions.changeMessage(\"Hello Python 2!\").transact({'from':'0x571D39C9B860451D599D1cb565AAb443fA589F76'})"
   ]
  },
  {
   "cell_type": "code",
   "execution_count": 33,
   "metadata": {},
   "outputs": [
    {
     "name": "stdout",
     "output_type": "stream",
     "text": [
      "Hello Python 2!\n"
     ]
    }
   ],
   "source": [
    "print(contract_instance.functions.sayTheMessage().call())"
   ]
  },
  {
   "cell_type": "code",
   "execution_count": null,
   "metadata": {},
   "outputs": [],
   "source": []
  },
  {
   "cell_type": "code",
   "execution_count": null,
   "metadata": {},
   "outputs": [],
   "source": []
  },
  {
   "cell_type": "code",
   "execution_count": null,
   "metadata": {},
   "outputs": [],
   "source": [
    "# From Testnet\n",
    "contract_address_testnet = '0xB4479e5Ad4B48624F23a702D4BCf13B10011DDb9'"
   ]
  },
  {
   "cell_type": "code",
   "execution_count": null,
   "metadata": {},
   "outputs": [],
   "source": [
    "contract_abi_testnet = '[ { \"inputs\": [ { \"internalType\": \"string\", \"name\": \"_message\", \"type\": \"string\" } ], \"name\": \"changeMessage\", \"outputs\": [], \"stateMutability\": \"nonpayable\", \"type\": \"function\" }, { \"inputs\": [], \"stateMutability\": \"nonpayable\", \"type\": \"constructor\" }, { \"inputs\": [], \"name\": \"sayTheMessage\", \"outputs\": [ { \"internalType\": \"string\", \"name\": \"\", \"type\": \"string\" } ], \"stateMutability\": \"view\", \"type\": \"function\" } ]'"
   ]
  },
  {
   "cell_type": "code",
   "execution_count": null,
   "metadata": {},
   "outputs": [],
   "source": [
    "contract_instance_testnet = web3.eth.contract(address = contract_address_testnet, abi = contract_abi_testnet)"
   ]
  },
  {
   "cell_type": "code",
   "execution_count": null,
   "metadata": {},
   "outputs": [],
   "source": [
    "print(contract_instance_testnet.functions.sayTheMessage().call())"
   ]
  },
  {
   "cell_type": "code",
   "execution_count": null,
   "metadata": {},
   "outputs": [],
   "source": []
  }
 ],
 "metadata": {
  "kernelspec": {
   "display_name": "Python 3 (ipykernel)",
   "language": "python",
   "name": "python3"
  },
  "language_info": {
   "codemirror_mode": {
    "name": "ipython",
    "version": 3
   },
   "file_extension": ".py",
   "mimetype": "text/x-python",
   "name": "python",
   "nbconvert_exporter": "python",
   "pygments_lexer": "ipython3",
   "version": "3.10.6"
  }
 },
 "nbformat": 4,
 "nbformat_minor": 4
}
