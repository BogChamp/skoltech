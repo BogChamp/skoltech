{
 "cells": [
  {
   "cell_type": "code",
   "execution_count": 3,
   "id": "cb7ef9e9",
   "metadata": {},
   "outputs": [],
   "source": [
    "from web3 import Web3"
   ]
  },
  {
   "cell_type": "markdown",
   "id": "07a30652",
   "metadata": {},
   "source": [
    "**Task 1.**"
   ]
  },
  {
   "cell_type": "code",
   "execution_count": 5,
   "id": "02657685",
   "metadata": {},
   "outputs": [
    {
     "name": "stdout",
     "output_type": "stream",
     "text": [
      "Enter desired network [mainnet, palm, aurora, ganache]: mainnet\n",
      "You are connected to mainnet!\n"
     ]
    }
   ],
   "source": [
    "network = input(\"Enter desired network [mainnet, palm, aurora, ganache]: \")\n",
    "\n",
    "if network == \"mainnet\":\n",
    "    url = \"https://goerli.infura.io/v3/f1f69a04dd7e4cad9bf11c3bd183b8d0\"\n",
    "elif network == \"palm\":\n",
    "    url = \"https://palm-testnet.infura.io/v3/f1f69a04dd7e4cad9bf11c3bd183b8d0\"\n",
    "elif network == \"aurora\":\n",
    "    url = \"https://near-testnet.infura.io/v3/f1f69a04dd7e4cad9bf11c3bd183b8d0\"\n",
    "elif network_choice == \"ganache\":\n",
    "    url = \"http://127.0.0.1:7545\"\n",
    "else:\n",
    "    raise Exception('wrong network!')\n",
    "web3 = Web3(Web3.HTTPProvider(url))\n",
    "\n",
    "print(f'You are connected to {network}!')"
   ]
  },
  {
   "cell_type": "markdown",
   "id": "6484d90d",
   "metadata": {},
   "source": [
    "**Task 2.**\n",
    "\n",
    "https://goerli.etherscan.io/tx/0x491e0834511b45ed489ddf68f1d01082e048c1958633a2785d8bb48dd7089076"
   ]
  },
  {
   "cell_type": "markdown",
   "id": "ce6bb4aa",
   "metadata": {},
   "source": [
    "**Task 3.**"
   ]
  },
  {
   "cell_type": "code",
   "execution_count": 17,
   "id": "d68c68a8",
   "metadata": {
    "scrolled": false
   },
   "outputs": [
    {
     "name": "stdout",
     "output_type": "stream",
     "text": [
      "block height is : 8671054\n",
      "enter block number : 8671050\n",
      "Block 8671050 info:\n",
      "baseFeePerGas: 51556482780\n",
      "difficulty: 0\n",
      "extraData: b'Illuminate Dmocratize Dstribute'\n",
      "gasLimit: 30000000\n",
      "gasUsed: 13084597\n",
      "hash: b',;\\xbap\\x1cm+\\xb9\\x8eI\\xbf\\xfc}\\x9f\\xbc_\\xf1K^02(\\xe9\\xaa\\x02\\x12\\x1f\\xcc\\xf8\\xa3\\xb6\\n'\n",
      "logsBloom: b'\\xb0\\xe4\\x0eB\\x00\\x81JD\\x18\\x11@\\x88\\x0c\\x96I\\x80\\x00\\n\\x01@ \\x02k\\x80\\x00)\\t\\x10\\x98Q\\x01 \\x01\"\\x10\\x01\\x08\"\\x82\\x14\\x00\\x19\\x00\\x00a\\x04\\x00\\x94@\\x00\\x80\\x00\\x00\\x02\\xb1\\xe0`\\x02Z\\xac\\xc17f\\x00\\x02\\tR\\x00\\x94q\\x14\\xc8[\\xc0\\x10\\x19p$\\xd2`lL#@\\x85\\x00\\xb0\\x00\\x8c\\xd2\\x8b\\x92\\x80\\x92\\x00\\xc1\\x08\\t\\xc0\\x14\\x02!D@\\x00\\x80\\x10,\\x04\\x11\\x88$\\x01\\x00X\\x90\\x00)@\\x88\\x90\\xa2\\n\\x10\\x80\\x08\\x10\\x10c\"!\\xe1\\x01\\x00 [ \\x02\\x9c\\x10\\x86\\xb2\\x022\\x04\\x00\\x06\\x83\\x06\\x01\\x00\\x0cP\\x15\\x19@t\\xc2\\x00\\x84\\x03\\x08\\x80.\\xb0\\x07\\x07\\x08\\t\\x80D\\x06\\xd5\\x00\\x83\\x05\\xa8\\x07\\x02Cd\\x04\\x00P\\x81\\x01#\\x0c\\xc8\\xa0\\x802\\x049hb\\x91@\\x03\\x08\\x04\\x80@\\x83E\\x1bD\\x84\\xc1H\\x90\\x00\\x02\\x8a\\x00\\xa2\\x08\\x03`@\\x89B!BP\\x10\\x10$d\\x082D\\xa8\\x02\\x01\\x80A\\x04\\x02\\x04\\xbc$\\x00P\\x00\\x00 X\\x00B\\xa8\\t\\x87\\x00\\xa4\\x03'\n",
      "miner: 0xb636A68F834B4D75aF9EDC5FB0138bB4758eD293\n",
      "mixHash: b'\\xd1b\\x03\\x81tn\\xe1d\\x8aTL\\xf1S\\x8dh\\xae\\r\\xd9\\xa9\\xdd\\x85\\xcbE\\xec\\x83y\\xac\\\\ged\\t'\n",
      "nonce: b'\\x00\\x00\\x00\\x00\\x00\\x00\\x00\\x00'\n",
      "number: 8671050\n",
      "parentHash: b'\\x00`\\xa6\\x86*\\xf8\\x06e\\xc6\\x1f\\x9a\\xdad\\xc5\\xff\\x11u\\x90\\xc7?\\x86\\x07ch\\xf9t\\x9e\\xf8\\xff&(W'\n",
      "receiptsRoot: b'\\x8e\\xca\\xa2\\x16=c\\xaa\\xd7\\t\\x0e\\xff\\x02\\xcf\\xee<,4D\\xf2]\\xe1\\xf6\\xf1\\xe5\\x16\\xfe\\x0cce\\xc1Qa'\n",
      "sha3Uncles: b'\\x1d\\xccM\\xe8\\xde\\xc7]z\\xab\\x85\\xb5g\\xb6\\xcc\\xd4\\x1a\\xd3\\x12E\\x1b\\x94\\x8at\\x13\\xf0\\xa1B\\xfd@\\xd4\\x93G'\n",
      "size: 91556\n",
      "stateRoot: b\"S\\xaa\\xa3\\xe3fz\\x8e\\xe2z\\xe1\\xf4\\x84\\xdb\\xc8bEV\\x99}'G_\\x079l\\x88\\xa2\\x90~\\xa7\\xcbz\"\n",
      "timestamp: 1679065284\n",
      "totalDifficulty: 10790000\n",
      "transactions: [HexBytes('0x53d745c2ff498a0717e1da82b0695d9a5be290e7264bf9a7d77b1deccbbaf537'), HexBytes('0x6fcaa93c1e3b349c818a1257941f4ca5735550776b8602962d778a0302375b6a'), HexBytes('0xc04c812c92dad2f06f61f1a2ad3fb061bd8af451dd1b36f6e30fe4c646182a2b'), HexBytes('0xb02f3a6f763e5f7e0882b35ed0b1f37286a6faea52ffb65102f0c2f0895fef9b'), HexBytes('0x75feae3f0bae47b5dbcc886eda786ef6b7f6812aca6e343fa3494e80806368c1'), HexBytes('0x5995ffaf2af5619dfd2216f7cf9840c0bffb30cc48b180a86c8295825f16e7dd'), HexBytes('0x1ed5b34dbd154fef472e2b28150d7d9c3fa89d2ccf695b46567fefb85ddda46b'), HexBytes('0x5740beddfce24525e252cd74aa2c47000528726405349035e7c0b0d794eb8006'), HexBytes('0x4393bc7fd868b09181d807781b4b52dd7e939c523241d6e97679dc9e20c2f3ad'), HexBytes('0x86b62685d7e61d4c89c23912cab6a67f41fbe889cf75de9ba8f70a85158e135d'), HexBytes('0xc3e8ae3f94ed48cbe4479c1ae93d1572d7ca1c0f2861ca386ca25f1018283fbd'), HexBytes('0x25c1d80a313dec902156759f2ba15423464ab4903283d63be361d04aa40c2148'), HexBytes('0xb6ac3f44bc508f9f46593fb8d97acd11daa17f56d5c376cd53fb14a91a52dc94'), HexBytes('0x3efe37f9d061a161c8ded2c769b95d1fb2cc7667d7ee8f4adb55e58ac7a29723'), HexBytes('0x012d05fc51c50c26f788e1848d286b8e83a083491b6ae5d4d888fba97af338c0'), HexBytes('0xdba21720e46ef14fc940883acc617d84cc549f33689773ac048f7eefdde964f2'), HexBytes('0x01146d990367e89d8e2e5cae6365670ed552c7b00b736f688d6bf0395645352c'), HexBytes('0xdc497f8811d7d42c5f76b7f87b4d8f96d24ee8d3a8e835f664f5959994b5f7b0'), HexBytes('0x8ddc2008a23e05717e77346799d84b2d68f2a937d10fd9abfd1bb728579f69dc'), HexBytes('0x3651e771a3ee0a8e2bb5a020b3c3327d21a1b418ce193890df986f76efa93d76'), HexBytes('0x092a30afd67e1bae8b9446ba07e770a5c6ef39dff34ccb73e2ae6a4e86786844'), HexBytes('0x8a1956bf2fa5600871bf6a5c293f47a1a693c38e9fa0d4166a0bff0859eb9d8c'), HexBytes('0x98931244761a51d51691d37745ef435da0e9edcc80ceaac4df9d85f81ce53404'), HexBytes('0x8d32f0a3bc139d1c9dad605b51a9ab2f7df9c15ff616f7b8ae50c543ae498d35'), HexBytes('0x10797e14c7835f0ed1d421d2856bc38099d41821b08d9446ba558a28f25afcfd'), HexBytes('0xa9c3bd6f6d186a10bc352639e7e234fe7d8669bfec4abb1750d4cc0e7821bc12'), HexBytes('0xfa8d03f16b1381eca90ad3a6b37065f7251a25b0e189ae3e489c020750e5df0c'), HexBytes('0x7ecfc14034e1d98bda113dee5b7c29a1ade7e6ffdf3beaa3776e73e7897c9f3d'), HexBytes('0xfa1114e181fbb7a12040eb30417342be7bd75990578d61890efaf022799c820a'), HexBytes('0x114badd2f0329df55b7cc29975c83ff2f611d562234781dcc48c3e316e6e96c5'), HexBytes('0x4616d05fb84e75c035f5b6553d5900b77023316376d0d74709f3c904e05d14c3'), HexBytes('0xeabe15b9f430c4030975b03822c9da244f22d90dabc59c7f6cf36c58e3ea5add'), HexBytes('0x45f1b7c2a0a9a5e396047713d59ea19ecd03b572e60beb16c851342b3e29210b'), HexBytes('0x2ceca4457a3eff96e0443b8ab65f91266c40fcf839f7ebbde947c8816bf57fbf'), HexBytes('0x26b72749024067c464c364f12be3ebb3024b6500cb7dc67ebc942ce1cfee4f30'), HexBytes('0x4ab70b81897fe09671a942dcb7018e7bac0c9cb25f64e69d65a1831ebdca2ce0'), HexBytes('0xf0f0c1473e79b6b4959c70d7750be62e0a0c8d22aa14bafbdb0c819b52d706f8'), HexBytes('0x3d825633765ea743eb7dedef8ee962241481ddaf7bd0db7c8664a29cf32604a4'), HexBytes('0xb064fc9302bf0d67a59fe16215c11e544b3b6c89f7576235a9d6e4e0edbcf4c8'), HexBytes('0x46a6bb429351c66881bc5aab5ab67a21e305159e6ea4dece74a636b11d1f3652'), HexBytes('0x67ef16f548f45d670dcd019b1f7a7ebb26d5e969d39356b2103b3749ae97f084'), HexBytes('0x98476877ac55ea0e4d575cf4a7191e9f4c50261a270a05b27d3edfbf99255955'), HexBytes('0x1693f335247257d9eec05fd469849c16b821ab81e6e9f453ca58db3e35ac6f4f'), HexBytes('0xe9c1d50b2130505acb51b58e45fedf9284f6069e0f95d440b5a4c775a8d6a51c'), HexBytes('0x288c968ac10ed82dd10b4d8b23c9712b8c72c25e8f0565dd144cbd7c82395bfd'), HexBytes('0x244bf8d199ca8f74e3c506d39abcfffb9a46e2a84dd1eba6af412ec49af78c7a'), HexBytes('0xeef7c4e2567d190ec24d0d436fcdfe072de5415b6bb1d7beef47c185b078dda1'), HexBytes('0x8278b82d393ea419fdc040b492e7b00d5687add49ae79406b8bab74f30bc03d3'), HexBytes('0x61b96a70f525abbb48b90b8bbe4a692045b9b545942e1ed5eaa8b6065b47c4a4'), HexBytes('0x6d17ab3c626d635c6216538c9ea4b9539fcd64d419f40195bca0d6252a5ee7f2'), HexBytes('0xf4a48780123668bf21dc2b3ad31ee54884d6ceb2ad997e72780977bfa33ac002'), HexBytes('0x5c0bb7be812c706777c5593ba323673299e600e0e67d20492904e0620dd74606'), HexBytes('0x9d1de2f3cdc766416f1260cf064e72cf47b7034ecb1421fa7616e871432752da'), HexBytes('0x66f27420d442b2e3b50ede75232b19d9a21f972fd7f768d54f8d84ca0acc664d'), HexBytes('0xa50970c6cc99befca82e38dbe287ca9def445af2a75c543de21fdeab08adb7b5'), HexBytes('0x511d4e67b8ea585606d87d7a3b8291cb659d4348125c6892e41198a28668ecca'), HexBytes('0x0c46236029fab2d53490154213d8d6ac2f1942307b0ce2772ceaefd0d89d242a'), HexBytes('0x180bd8359c810d389d5d9c133bb9e057ba5527e7aba88de2c10b9c06aeec91ee'), HexBytes('0x15a1a3175d821bb00381afaf8016f75b4e0b273d50c6f77ef375225327cbe2b2'), HexBytes('0xf006c072c139ddde9a3b82c7b80ac9cfa0293495f835b817d2e1e8210953abba'), HexBytes('0x1b7152a5c9a049ee9e30b60d2ba83bf079d4d7a1a69ee5f851358824ebabc527'), HexBytes('0x62b1310a87a631bbe65bb3fef795513a2715fd4e659f444dadac0173a55c7040'), HexBytes('0xed412eba96ab258e58c4e651089cb980c30e2ecf61e3c61bcf655ce37539a398'), HexBytes('0x241445e2577337e20e07471d362d4833dffa4b9afbaa50cad7e1883d61e2ccdb'), HexBytes('0xf10bfb6f240536eda79fa25357a7ad8f99559dc6312d4b93d11a8e99f55b62bc'), HexBytes('0x69fff0aba3e95f55272d6f075f63d42c833575ae064c019dc9efbdf072e387bd'), HexBytes('0xcbb2b6d063061ff868c4679687974bc4097480684673cae0a923cfe1224df875'), HexBytes('0x483776fb9f1c1c45c7ceb391b6ea7ab0e4b373ab2e73bf1b5bc3bb80be1bb3e3'), HexBytes('0x98d13eeffe551ab442d2f01274b09bcb8c8f47b8fcedabdf0b0ede4c79529359'), HexBytes('0x2817801a0a1ee75be4c509519b119791403f88755c8d732e9b4f6337eaa40129'), HexBytes('0x9eeda429d223de5fe81cdcc27480e5dc3124b123b8823a7ad566edea3cf9a319'), HexBytes('0x4c6ec891b5306f4b80167a4669218195c1638ba25dfb1b489e8eea45e78448ac'), HexBytes('0x77fbe87f0d60e346699b7d968aeea8149ed29a16565847634322a9ee83f85999'), HexBytes('0xe55ad93b097d72e74c8ac5b6d2f5feed100d526c8d985c285d7e185445654a36'), HexBytes('0xe5ac6f893b9e1d80d63838f66196cedf4088d7841daf37884607e1993289a381'), HexBytes('0x1e2ac853c93495d1773898bbf8615c216d94d51b4b762f594b236b309ebabb63'), HexBytes('0x99141862f62c213bb52e8d6ebb17f04e2a7449a169df004411eb8ecec354e12b'), HexBytes('0xaaf422edd790aba4d9bcb864d53fab45c71074a9075732a7833f164f150bca69'), HexBytes('0x5b4b36d90b454cc118c752cc88663890139fc3b159ecde3fcc5b8504cedeec31'), HexBytes('0x9c6e98ff11cf3a3010db25e9609d6d9baa15162da43adfc583ac43f796c7a73a'), HexBytes('0x9616c58b2ed3b57e79e889ea414027d2d3aed1774368aa28538fde671d58f779'), HexBytes('0xa749898cb7ffbe26be357dce8a924d5a4022dfbbfd3af3bc94b30e62bb081427'), HexBytes('0xbceddb2fabcc96890eeb35d81323f07e2cbd485441cd3efed04c198447516817'), HexBytes('0x8755e36e11cc28f2cfee03600627c386694cf6b3f3cab1b4effcfde03d40aa92'), HexBytes('0xe7ed4b52bab01e427398a2261c21025959d5b036109d58a8c820f3325ae7b7ff')]\n",
      "transactionsRoot: b'\\xaa+\\xc8\\x88\\xe0\\xf1\\x87\\x9b\\x07\\x05\\x17D\\x8f\\x8eZ\\xc2v\\xa6j\\xc6\\\\\\xc5\\x93\\x97b\\xd2\\x98\\xca\\xcf#\\xfe\\xd4'\n",
      "uncles: []\n",
      "withdrawals: [AttributeDict({'address': '0xdc62f9e8c34be08501cdef4ebde0a280f576d762', 'amount': '0x1ad12b', 'index': '0x3a1fd', 'validatorIndex': '0x5df58'}), AttributeDict({'address': '0xdc62f9e8c34be08501cdef4ebde0a280f576d762', 'amount': '0x1afd61', 'index': '0x3a1fe', 'validatorIndex': '0x5df59'}), AttributeDict({'address': '0xdc62f9e8c34be08501cdef4ebde0a280f576d762', 'amount': '0x1a669a', 'index': '0x3a1ff', 'validatorIndex': '0x5df5a'}), AttributeDict({'address': '0xdc62f9e8c34be08501cdef4ebde0a280f576d762', 'amount': '0x1b118d', 'index': '0x3a200', 'validatorIndex': '0x5df5b'}), AttributeDict({'address': '0xdc62f9e8c34be08501cdef4ebde0a280f576d762', 'amount': '0x1baa18', 'index': '0x3a201', 'validatorIndex': '0x5df5c'}), AttributeDict({'address': '0xdc62f9e8c34be08501cdef4ebde0a280f576d762', 'amount': '0x1bcacd', 'index': '0x3a202', 'validatorIndex': '0x5df5d'}), AttributeDict({'address': '0xdc62f9e8c34be08501cdef4ebde0a280f576d762', 'amount': '0x1b655b', 'index': '0x3a203', 'validatorIndex': '0x5df5e'}), AttributeDict({'address': '0xdc62f9e8c34be08501cdef4ebde0a280f576d762', 'amount': '0x1b1ecc', 'index': '0x3a204', 'validatorIndex': '0x5df5f'}), AttributeDict({'address': '0xdc62f9e8c34be08501cdef4ebde0a280f576d762', 'amount': '0x1a8196', 'index': '0x3a205', 'validatorIndex': '0x5df60'}), AttributeDict({'address': '0xdc62f9e8c34be08501cdef4ebde0a280f576d762', 'amount': '0x1a2299', 'index': '0x3a206', 'validatorIndex': '0x5df61'}), AttributeDict({'address': '0xdc62f9e8c34be08501cdef4ebde0a280f576d762', 'amount': '0x1a71d2', 'index': '0x3a207', 'validatorIndex': '0x5df62'}), AttributeDict({'address': '0xdc62f9e8c34be08501cdef4ebde0a280f576d762', 'amount': '0x1af3fe', 'index': '0x3a208', 'validatorIndex': '0x5df63'}), AttributeDict({'address': '0xdc62f9e8c34be08501cdef4ebde0a280f576d762', 'amount': '0x1aeeb2', 'index': '0x3a209', 'validatorIndex': '0x5df64'}), AttributeDict({'address': '0xdc62f9e8c34be08501cdef4ebde0a280f576d762', 'amount': '0x1ad71d', 'index': '0x3a20a', 'validatorIndex': '0x5df65'}), AttributeDict({'address': '0xdc62f9e8c34be08501cdef4ebde0a280f576d762', 'amount': '0x1a2453', 'index': '0x3a20b', 'validatorIndex': '0x5df66'}), AttributeDict({'address': '0xdc62f9e8c34be08501cdef4ebde0a280f576d762', 'amount': '0x1aa5df', 'index': '0x3a20c', 'validatorIndex': '0x5df67'})]\n",
      "withdrawalsRoot: 0x79ec5302a8957a9a8e87f717794b33cfce3964cd602471b243f7f41a95eac20e\n"
     ]
    }
   ],
   "source": [
    "eth_url = \"https://goerli.infura.io/v3/f1f69a04dd7e4cad9bf11c3bd183b8d0\"\n",
    "web3 = Web3(Web3.HTTPProvider(eth_url))\n",
    "\n",
    "height = web3.eth.block_number\n",
    "print(f'block height is : {height}')\n",
    "\n",
    "block_number = int(input(\"enter block number : \"))\n",
    "block = web3.eth.get_block(block_number)\n",
    "print(f'Block {block_number} info:')\n",
    "for key, value in block.items():\n",
    "    print(f'{key}: {value}')"
   ]
  },
  {
   "cell_type": "code",
   "execution_count": 27,
   "id": "c40889fd",
   "metadata": {},
   "outputs": [
    {
     "name": "stdout",
     "output_type": "stream",
     "text": [
      "100000000000000000 0.1\n"
     ]
    }
   ],
   "source": [
    "private_key = '9f4153d46a15ef0f15378dbb501661cc6620eefd824a569cf3b0f165e78ddd77'\n",
    "account_1 = web3.eth.account.privateKeyToAccount(private_key).address\n",
    "balance = web3.eth.get_balance(account_1)\n",
    "balance_eth = web3.fromWei(balance, 'ether')\n",
    "print(balance, balance_eth)"
   ]
  },
  {
   "cell_type": "markdown",
   "id": "c8727517",
   "metadata": {},
   "source": [
    "**Task 4.**"
   ]
  },
  {
   "cell_type": "code",
   "execution_count": 32,
   "id": "ff4b16a7",
   "metadata": {},
   "outputs": [
    {
     "name": "stdout",
     "output_type": "stream",
     "text": [
      "0x35e908966238a1176bb6bd664ee172760e887a6997b8ca6c05b655e91fe70fbc\n"
     ]
    }
   ],
   "source": [
    "nonce = web3.eth.getTransactionCount(account_1)\n",
    "private_key_2 = '91059da8330151a46261370917fbd1f25adfd595cfb96683feb09a83ac486048'\n",
    "account_2 = web3.eth.account.privateKeyToAccount(private_key_2).address\n",
    "\n",
    "tx = {\n",
    "    'nonce':nonce,\n",
    "    'from': account_1,\n",
    "    'to': account_2,\n",
    "    'value': web3.toWei(0.001, 'ether'),\n",
    "    'gas': 300000,\n",
    "    'gasPrice': web3.toWei(100, 'gwei')\n",
    "}\n",
    "\n",
    "signed_tx = web3.eth.account.sign_transaction(tx, private_key)\n",
    "tx_hash = web3.eth.sendRawTransaction(signed_tx.rawTransaction)\n",
    "tx_receipt = web3.eth.wait_for_transaction_receipt(tx_hash)\n",
    "tx_id = tx_receipt.transactionHash.hex()\n",
    "\n",
    "print(tx_id)"
   ]
  },
  {
   "cell_type": "markdown",
   "id": "c7c16f06",
   "metadata": {},
   "source": [
    "**Task 5.**"
   ]
  },
  {
   "cell_type": "markdown",
   "id": "839599f5",
   "metadata": {},
   "source": [
    "//SPDX-License-Identifier: MIT\n",
    "pragma solidity ^0.8.10;\n",
    "\n",
    "contract Add {\n",
    "    uint256 public result;\n",
    "    \n",
    "    function add(uint256 a, uint256 b) public {\n",
    "        result = a + b;\n",
    "    }\n",
    "}"
   ]
  },
  {
   "cell_type": "code",
   "execution_count": 33,
   "id": "bcf7b007",
   "metadata": {},
   "outputs": [
    {
     "data": {
      "text/plain": [
       "1239305096711312104211226698102468731419994853688"
      ]
     },
     "execution_count": 33,
     "metadata": {},
     "output_type": "execute_result"
    }
   ],
   "source": [
    "0xd9145CCE52D386f254917e481eB44e9943F39138"
   ]
  },
  {
   "cell_type": "code",
   "execution_count": null,
   "id": "a552c558",
   "metadata": {},
   "outputs": [],
   "source": []
  }
 ],
 "metadata": {
  "kernelspec": {
   "display_name": "Python 3 (ipykernel)",
   "language": "python",
   "name": "python3"
  },
  "language_info": {
   "codemirror_mode": {
    "name": "ipython",
    "version": 3
   },
   "file_extension": ".py",
   "mimetype": "text/x-python",
   "name": "python",
   "nbconvert_exporter": "python",
   "pygments_lexer": "ipython3",
   "version": "3.10.6"
  }
 },
 "nbformat": 4,
 "nbformat_minor": 5
}
