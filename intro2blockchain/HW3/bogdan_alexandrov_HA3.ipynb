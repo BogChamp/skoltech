{
 "cells": [
  {
   "cell_type": "code",
   "execution_count": 1,
   "id": "cb7ef9e9",
   "metadata": {},
   "outputs": [],
   "source": [
    "from web3 import Web3"
   ]
  },
  {
   "cell_type": "markdown",
   "id": "07a30652",
   "metadata": {},
   "source": [
    "**Task 1.**"
   ]
  },
  {
   "cell_type": "code",
   "execution_count": 4,
   "id": "02657685",
   "metadata": {},
   "outputs": [
    {
     "name": "stdout",
     "output_type": "stream",
     "text": [
      "Enter desired network [mainnet, palm, aurora, ganache]: mainnet\n",
      "You are connected to mainnet!\n"
     ]
    }
   ],
   "source": [
    "network = input(\"Enter desired network [mainnet, palm, aurora, ganache]: \")\n",
    "\n",
    "if network == \"mainnet\":\n",
    "    url = \"https://goerli.infura.io/v3/f1f69a04dd7e4cad9bf11c3bd183b8d0\"\n",
    "elif network == \"palm\":\n",
    "    url = \"https://palm-testnet.infura.io/v3/f1f69a04dd7e4cad9bf11c3bd183b8d0\"\n",
    "elif network == \"aurora\":\n",
    "    url = \"https://near-testnet.infura.io/v3/f1f69a04dd7e4cad9bf11c3bd183b8d0\"\n",
    "elif network == \"ganache\":\n",
    "    url = \"http://127.0.0.1:7545\"\n",
    "else:\n",
    "    raise Exception('wrong network!')\n",
    "\n",
    "web3 = Web3(Web3.HTTPProvider(url))\n",
    "\n",
    "print(f'You are connected to {network}!')"
   ]
  },
  {
   "cell_type": "markdown",
   "id": "6484d90d",
   "metadata": {},
   "source": [
    "**Task 2.**\n",
    "\n",
    "https://goerli.etherscan.io/tx/0x491e0834511b45ed489ddf68f1d01082e048c1958633a2785d8bb48dd7089076"
   ]
  },
  {
   "cell_type": "markdown",
   "id": "ce6bb4aa",
   "metadata": {},
   "source": [
    "**Task 3.**"
   ]
  },
  {
   "cell_type": "code",
   "execution_count": 7,
   "id": "d68c68a8",
   "metadata": {
    "scrolled": false
   },
   "outputs": [
    {
     "name": "stdout",
     "output_type": "stream",
     "text": [
      "block height is : 8675609\n",
      "enter block number : 8675601\n",
      "\n",
      "Block 8675601 info:\n",
      "baseFeePerGas: 12792726037\n",
      "difficulty: 0\n",
      "extraData: b'Nethermind'\n",
      "gasLimit: 30000000\n",
      "gasUsed: 7895385\n",
      "hash: b'\\xcegS\\x9b\\xa0\\xe6\\xad\\xd7\\xb5jD\\x90Q\\xca\\xac\\x02\\x84\\x0b\\xc2\\x17b\\xbd\\xa4mUm\\x98\\x90;\\x01m\\xb7'\n",
      "logsBloom: b'\\x1a\\x04\\x00\\x00\\x10 \\x00\\x00\\x80\\x00\\x04\\x01\\x00\\x00\\x01\\x84\\x01\\x00\\x00 \\x00@\\x08\\x80\\x00\\x00\\x02\\x10\\x00\\x10\\x00\\x01@\\x00\\x00\\x00\\x00\\x02@\\x10\\x00\\x00\\x00\\x00\\t\\x04\\x02\\x00\\x00\\x00\\x80\\x00\"\\x00\\x00\\x00\\x82\\x00\\x00\\x00\\x00 \\x00\\x00 \\x00\\x00\\x00\\x08@@\\x10`\\x00\\x00\\x08 \\x00\\x06\\x80\\x04\\x01\\x00\\x00\\x00\\x00 \\x00\\x80\\x10\\x80\\xa4\\x08\\x00\\x00\\x00\\x00@\\x00\\x00\\x02 \\x00\\x00\\x00@\\x00$\\x00\\x00\\x08 \\x00\\x00\\x00\\x00\\x00 @\\x00\\x00 \\x001\\x02\\x00\\x00\\x92\\x05\\x02  \\x00\\x00\\n\\x08\\x00\\x00\\x00@\\x02\\x00\\x00\\x00\\x00@\\x81\\x00\\x08\\x00\\x02\\x02\\x00\\x10\\x05\\x00\\x00D\\x00\\x00\\x02\\x80\\x00\\x00\\x00\\x00\\x04\\x01\\x00\\x00\\x00B\\x00\\x00\\x01\\x00\\x00\\x00\\x06\\x00\\x80\\x01\\x01\\x00\\x01\\x90\\x01\\x04\\x00\\x00\\x02\\x00\\x03\\x10\\x08\\x02\\x00\\x00\\x04\\x00\\x00\\x00\\x00\\x11\\x05\\t@\\x08\\x00\\x08\\x00\\x00\\x00\\x00\\x00\\t\\x08\\x00`\\x02\\x04\\x82)\\x80\\x80\\x10\\x00`\\x00`$\\x80\\x80\\x00 \\x00\\x00\\x01\\x00\\x04\\x80\\x03\\x00\\x10\\x00\\x10\\x02\\x00\\x04\\x02\\x02\\x00@\\x01\\x00\\x00'\n",
      "miner: 0x000095E79eAC4d76aab57cB2c1f091d553b36ca0\n",
      "mixHash: b'8\\x9a\\x94\\xda\\x99\\x9fge1\\x07\\xa0\\xf38g4UX\\x9c\\xb6\\x05{\\xb9T\\xea\\x9f\\xd5\\xfc;\\xe8\\xa4\\xe9\\xac'\n",
      "nonce: b'\\x00\\x00\\x00\\x00\\x00\\x00\\x00\\x00'\n",
      "number: 8675601\n",
      "parentHash: b'\\xef\\xfa\\xd0\\x06\\x08bu\\xae=\\x8c\\xb4!\\xcazd\\x06\\xd5\\x92S\\xcd\\xee\\xc3\\xc2\\r\\xc5\\xf39\\x01\\x01\\xbc\\xdc\\xe0'\n",
      "receiptsRoot: b'h\\xca\\x8a\\xfe\\xb7\\xed\\x91\\xcf\\xe6\\xacCtD\\x02\\x02\\x83>q\\xfa,\\xc1\\x1e\\xaa\\xd0\\xca\"\\x80\\xbbFU\\'\\x9e'\n",
      "sha3Uncles: b'\\x1d\\xccM\\xe8\\xde\\xc7]z\\xab\\x85\\xb5g\\xb6\\xcc\\xd4\\x1a\\xd3\\x12E\\x1b\\x94\\x8at\\x13\\xf0\\xa1B\\xfd@\\xd4\\x93G'\n",
      "size: 60425\n",
      "stateRoot: b'LW\\x9bEPpma<\\x1d\\x07{\\x90\\xe8$\\x1c\\x0f\\xf2\\xe6\\xb0\\xb6xP\\x15P\\x05xG\\xc2\\x01\\xd4m'\n",
      "timestamp: 1679134680\n",
      "totalDifficulty: 10790000\n",
      "transactions: [HexBytes('0x0acea80827221a7ca021107644f5f6ce8298c2cdc5005ceee266eeaef93738c1'), HexBytes('0xabb81cf0b0df70c42d59d3b7a7a30db650065f42812d38b3c054174b537a133c'), HexBytes('0x55afe05c1b6ebf56ee679c09a4abf9b3582668a2a32e226cd1ee71b57e4a6d52'), HexBytes('0x4601c2557d954d959142fe512232c14b95b82416b96e4f354226d7c58962c288'), HexBytes('0x43a21e92b274e591dd805feb932f8f30e9ca722ace40209054bcd92fd7d58508'), HexBytes('0xb4b993495445c8753885f2e110e88b059ddd33d8c1e4bd6e4ec50b19e8598b21'), HexBytes('0x7329e6555ebd9ee658a66fa51fd9f4099b5bb04171b41c0e9cabd9d0d5aa1f5a'), HexBytes('0x60c62c657e42ea48a2acdd5045bac23e1dd5c96bbc1c8153e5530ffdc2ab4c12'), HexBytes('0x6d12cfe655bf98fa76c906f69a7f92f32b68102505075f5323f751addec24fdd'), HexBytes('0x60e26feb292069621b368374d48b549d6b69c6e1a6111d2f13bc39c6a40f378f'), HexBytes('0x06a8d9bec27c049c56dce88349abfe94372f3c61a540dded98e378daa3a80891'), HexBytes('0x0bbcde6af9f44c34f1002cad545a76d42386b21eacbf361e053d8672e7833e92'), HexBytes('0xfca5df18082bc5fa4f7dcdb2ab52b6ad1e4215cb56956acec0ccf6d779c86646'), HexBytes('0x8fae608a53c32f24eb49fafe8b6fae67c05add995d92068b7b6e3a36ad03415f'), HexBytes('0x0238e94fa126f42173d99032884e3a9088ed7c616138ae186fc9ee33a6f65ddd'), HexBytes('0xebbfbb3ddcdebdf9f98b31ddcd29d0515cb2652b08d21e7ff93e1508d9e05299'), HexBytes('0x9b3debdd3219a9de18a794aa20c27e72de85ac97920ecdaf51941a9a84ceee06'), HexBytes('0x4404c48dca1ad2703c701ebc3ad0b2249daf72339afc1479e490ba8054146da4'), HexBytes('0x5c9886d868e5602d1ff2d334f2e4cd15a76f2c02bbd10fbae06cbf03fd53ee82'), HexBytes('0x23bd71edd0f436817bba35049f82820e85dedb0a02597dfede2e80677110ef84'), HexBytes('0xbe198ccdb878b13ae1bc1804e5d2da57e7e6516819dc7c1f62624896271b3b63'), HexBytes('0xe319e08029a076e7136f16fe2c7ade119b95d42f35df27a05916b53116d62b02'), HexBytes('0x7736fc7ed245b096373c8cc0f3128b7ce63c65e21e14fc4d1c1d170066e58a2c'), HexBytes('0x88d39af25eca4cd50d14f40c6f1cced43bad8c76c619649038606fad716cbacb'), HexBytes('0xe0eb6489418257052218430c42188bebed41563567ffef480d31f3c545000f6c'), HexBytes('0x7d4ddd28f63c8e49fbe9b13bd904fcbea6724ed46d61d9597e4926c2afb83b2e'), HexBytes('0xe4448c35bb3c9f3645df0e0003048c4042fef51b3c46a0fe01676763b8474665'), HexBytes('0xc4c01c72cf128da68e85401c9cbd200a4f6670045fc3cc3c5f4d6678f731c0aa'), HexBytes('0xf5c999d973641ceae3475a0270dea2743c29a0d5e746bd362095542856d79fdd'), HexBytes('0xd00f0858506f57c98513b90da5d385d330900c80dc44705f9c614778101e4373'), HexBytes('0xcabede248f11dc93027ecf91a6b8df9fae33dc0b6f2f058b0c2cff062aede3f1'), HexBytes('0x6cab44080fa0d8604e51f175c3ccaefe2208a159301aacd923c25f35c2278f17'), HexBytes('0xcbc0a183be46eca515df8b012ca4f4b3727079abe0fc49e2290b650d0b05c632'), HexBytes('0xd831fb8939beaff564072c315a3e5e7f8a652d5b1bcc7ee4ff119ba84ed70469'), HexBytes('0x4b5021656754d8e51c63a9af25cbc8c4c4c5c743dd615ea4dfbdc619fe205e3d'), HexBytes('0x41b5cfa80a5edfddd85c4b5e00c0cd376e18661b735021f2efcb67bb735bd91f'), HexBytes('0xddd1b8a5f373e0b256c07102209f0332781034c7bf81f6fad3d8ccd2bb943174')]\n",
      "transactionsRoot: b'c\\xf6\\x1e\\x7f#\\x1a\\xe6\\xfd\\x95\\tm\\x84\\xac\\xdfkeY\\x8c?t\\x15\\xe7Xy\\xd3\\xd9NV&.K\\xe3'\n",
      "uncles: []\n",
      "withdrawals: [AttributeDict({'address': '0xdc62f9e8c34be08501cdef4ebde0a280f576d762', 'amount': '0x1b4c46', 'index': '0x4bdb0', 'validatorIndex': '0x60221'}), AttributeDict({'address': '0xdc62f9e8c34be08501cdef4ebde0a280f576d762', 'amount': '0x1b04f7', 'index': '0x4bdb1', 'validatorIndex': '0x60222'}), AttributeDict({'address': '0xdc62f9e8c34be08501cdef4ebde0a280f576d762', 'amount': '0x1aee87', 'index': '0x4bdb2', 'validatorIndex': '0x60223'}), AttributeDict({'address': '0xdc62f9e8c34be08501cdef4ebde0a280f576d762', 'amount': '0x1bb79f', 'index': '0x4bdb3', 'validatorIndex': '0x60224'}), AttributeDict({'address': '0xdc62f9e8c34be08501cdef4ebde0a280f576d762', 'amount': '0x1a6c77', 'index': '0x4bdb4', 'validatorIndex': '0x60225'}), AttributeDict({'address': '0xdc62f9e8c34be08501cdef4ebde0a280f576d762', 'amount': '0x1b2984', 'index': '0x4bdb5', 'validatorIndex': '0x60226'}), AttributeDict({'address': '0xdc62f9e8c34be08501cdef4ebde0a280f576d762', 'amount': '0x1bb7c5', 'index': '0x4bdb6', 'validatorIndex': '0x60227'}), AttributeDict({'address': '0xdc62f9e8c34be08501cdef4ebde0a280f576d762', 'amount': '0x1ae778', 'index': '0x4bdb7', 'validatorIndex': '0x60228'}), AttributeDict({'address': '0xdc62f9e8c34be08501cdef4ebde0a280f576d762', 'amount': '0x1be083', 'index': '0x4bdb8', 'validatorIndex': '0x60229'}), AttributeDict({'address': '0xdc62f9e8c34be08501cdef4ebde0a280f576d762', 'amount': '0x1b051a', 'index': '0x4bdb9', 'validatorIndex': '0x6022a'}), AttributeDict({'address': '0xdc62f9e8c34be08501cdef4ebde0a280f576d762', 'amount': '0x1ad78b', 'index': '0x4bdba', 'validatorIndex': '0x6022b'}), AttributeDict({'address': '0xdc62f9e8c34be08501cdef4ebde0a280f576d762', 'amount': '0x1b53a5', 'index': '0x4bdbb', 'validatorIndex': '0x6022c'}), AttributeDict({'address': '0xdc62f9e8c34be08501cdef4ebde0a280f576d762', 'amount': '0x1b059d', 'index': '0x4bdbc', 'validatorIndex': '0x6022d'}), AttributeDict({'address': '0xdc62f9e8c34be08501cdef4ebde0a280f576d762', 'amount': '0x1b4fed', 'index': '0x4bdbd', 'validatorIndex': '0x6022e'}), AttributeDict({'address': '0xdc62f9e8c34be08501cdef4ebde0a280f576d762', 'amount': '0x1b2772', 'index': '0x4bdbe', 'validatorIndex': '0x6022f'}), AttributeDict({'address': '0xdc62f9e8c34be08501cdef4ebde0a280f576d762', 'amount': '0x1a287b', 'index': '0x4bdbf', 'validatorIndex': '0x60230'})]\n",
      "withdrawalsRoot: 0x29040edeb1f34c6ecc79160077516c2249b1d22eae5fe14807e68a888914431d\n"
     ]
    }
   ],
   "source": [
    "height = web3.eth.block_number\n",
    "print(f'block height is : {height}')\n",
    "\n",
    "block_number = int(input(\"enter block number : \"))\n",
    "block = web3.eth.get_block(block_number)\n",
    "\n",
    "print()\n",
    "print(f'Block {block_number} info:')\n",
    "for key, value in block.items():\n",
    "    print(f'{key}: {value}')"
   ]
  },
  {
   "cell_type": "code",
   "execution_count": 27,
   "id": "c40889fd",
   "metadata": {},
   "outputs": [
    {
     "name": "stdout",
     "output_type": "stream",
     "text": [
      "100000000000000000 0.1\n"
     ]
    }
   ],
   "source": [
    "private_key = '9f4153d46a15ef0f15378dbb501661cc6620eefd824a569cf3b0f165e78ddd77'\n",
    "account_1 = web3.eth.account.privateKeyToAccount(private_key).address\n",
    "balance = web3.eth.get_balance(account_1)\n",
    "balance_eth = web3.fromWei(balance, 'ether')\n",
    "print(balance, balance_eth)"
   ]
  },
  {
   "cell_type": "markdown",
   "id": "c8727517",
   "metadata": {},
   "source": [
    "**Task 4.**"
   ]
  },
  {
   "cell_type": "code",
   "execution_count": 32,
   "id": "ff4b16a7",
   "metadata": {},
   "outputs": [
    {
     "name": "stdout",
     "output_type": "stream",
     "text": [
      "0x35e908966238a1176bb6bd664ee172760e887a6997b8ca6c05b655e91fe70fbc\n"
     ]
    }
   ],
   "source": [
    "nonce = web3.eth.getTransactionCount(account_1)\n",
    "private_key_2 = '91059da8330151a46261370917fbd1f25adfd595cfb96683feb09a83ac486048'\n",
    "account_2 = web3.eth.account.privateKeyToAccount(private_key_2).address\n",
    "\n",
    "tx = {\n",
    "    'nonce':nonce,\n",
    "    'from': account_1,\n",
    "    'to': account_2,\n",
    "    'value': web3.toWei(0.001, 'ether'),\n",
    "    'gas': 300000,\n",
    "    'gasPrice': web3.toWei(100, 'gwei')\n",
    "}\n",
    "\n",
    "signed_tx = web3.eth.account.sign_transaction(tx, private_key)\n",
    "tx_hash = web3.eth.sendRawTransaction(signed_tx.rawTransaction)\n",
    "tx_receipt = web3.eth.wait_for_transaction_receipt(tx_hash)\n",
    "tx_id = tx_receipt.transactionHash.hex()\n",
    "\n",
    "print(tx_id)"
   ]
  },
  {
   "cell_type": "markdown",
   "id": "c7c16f06",
   "metadata": {},
   "source": [
    "**Task 5.**"
   ]
  },
  {
   "cell_type": "markdown",
   "id": "839599f5",
   "metadata": {},
   "source": [
    "//SPDX-License-Identifier: MIT\n",
    "\n",
    "pragma solidity ^0.8.10;\n",
    "\n",
    "contract Add {\n",
    "    int256 public result;\n",
    "    \n",
    "    function add(int256 number1, int256 number2) public {\n",
    "        result = number1 + number2;\n",
    "    }\n",
    "}\n",
    "\n",
    "\n",
    "Deployed on goerli via Metamask.\n",
    "\n",
    "Transaction link: https://goerli.etherscan.io/tx/0xa3ccc1e2c78da589d91f44528eb631a4912e515c7d68b6266eb62f9c8ec8d2ee"
   ]
  }
 ],
 "metadata": {
  "kernelspec": {
   "display_name": "Python 3 (ipykernel)",
   "language": "python",
   "name": "python3"
  },
  "language_info": {
   "codemirror_mode": {
    "name": "ipython",
    "version": 3
   },
   "file_extension": ".py",
   "mimetype": "text/x-python",
   "name": "python",
   "nbconvert_exporter": "python",
   "pygments_lexer": "ipython3",
   "version": "3.10.6"
  }
 },
 "nbformat": 4,
 "nbformat_minor": 5
}
