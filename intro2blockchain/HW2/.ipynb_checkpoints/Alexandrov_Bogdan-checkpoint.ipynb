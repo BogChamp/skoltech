{
 "cells": [
  {
   "cell_type": "markdown",
   "metadata": {},
   "source": [
    "# HW 2 "
   ]
  },
  {
   "cell_type": "markdown",
   "metadata": {},
   "source": [
    "### Problem 1 (3 points)"
   ]
  },
  {
   "cell_type": "markdown",
   "metadata": {},
   "source": [
    "The ElGamal cryptosystem is based on the complexity of calculating the discrete logarithm for large primes 𝑝. In this task we will ask you to implement your own ElGamal encryption scheme on Python."
   ]
  },
  {
   "cell_type": "markdown",
   "metadata": {},
   "source": [
    "  1. Implement function for generating keys. The function must generate a random prime number (use Fermat primality test). (1 point)\n",
    "  \n",
    "*Note. You can assume that all the numbers are small, for example, less than $2^{32}$.*"
   ]
  },
  {
   "cell_type": "code",
   "execution_count": 1,
   "metadata": {},
   "outputs": [],
   "source": [
    "from numpy.random import randint\n",
    "import numpy as np\n",
    "\n",
    "def gcd(x, y):\n",
    "    while(y):\n",
    "        x, y = y, x % y\n",
    "    return abs(x)\n",
    "\n",
    "\n",
    "def power(a, exp, p):\n",
    "    if exp == 1:\n",
    "        return a % p\n",
    "    elif exp % 2:\n",
    "        return (power(a, exp // 2, p)**2 * a) % p\n",
    "    else:\n",
    "        return power(a, exp // 2, p)**2 % p\n",
    "\n",
    "\n",
    "def fermat_test(n, trials):\n",
    "    if n == 2:\n",
    "        return True\n",
    "\n",
    "    if n % 2 == 0:\n",
    "        return False\n",
    "\n",
    "    for i in range(trials):\n",
    "        a = randint(2, n-2)\n",
    "\n",
    "        if power(a, n-1, n) != 1:\n",
    "            return False\n",
    "    \n",
    "    return True\n",
    "\n",
    "\n",
    "def generate_prime(trials):\n",
    "    is_prime = False\n",
    "    while not is_prime:\n",
    "        prime = randint(2**15, 2**20)\n",
    "        is_prime = fermat_test(prime, trials)\n",
    "\n",
    "    return prime\n",
    "\n",
    "\n",
    "def check_root(n, p):\n",
    "    if gcd(n, p) != 1:\n",
    "        return False\n",
    "    \n",
    "    for exp in range(1, p - 1):\n",
    "        exponent = power(n, exp, p)\n",
    "        if exponent == 1:\n",
    "            return False\n",
    "    \n",
    "    return True\n",
    "\n",
    "\n",
    "def generate_prime_root(p):\n",
    "    is_prime_root = False\n",
    "    number = 2\n",
    "    while not is_prime_root:\n",
    "        number += 1\n",
    "        is_prime_root = check_root(number, p)\n",
    "    \n",
    "    return number\n",
    "\n",
    "        \n",
    "def generate_key(trials=1000):\n",
    "    p = generate_prime(trials)\n",
    "    g = generate_prime_root(p)\n",
    "    x = randint(2, p-1)\n",
    "    y = power(g, x, p)\n",
    "\n",
    "    return (p, g, y), x"
   ]
  },
  {
   "cell_type": "markdown",
   "metadata": {},
   "source": [
    "2. Implement functions that realize the encryption and decryption in ElGamal protocol. (1 point)"
   ]
  },
  {
   "cell_type": "code",
   "execution_count": 4,
   "metadata": {},
   "outputs": [],
   "source": [
    "def inverse(a, n):\n",
    "    if a < 0:\n",
    "        a += n\n",
    "\n",
    "    p_i_2 = 0     \n",
    "    p_i_1 = 1\n",
    "    r_prev = n\n",
    "    r_cur = a\n",
    "\n",
    "    while r_cur != 0:\n",
    "        q = r_prev // r_cur\n",
    "        p_i_2, p_i_1 = p_i_1, p_i_2 - q * p_i_1 \n",
    "        r_prev, r_cur = r_cur, r_prev - q * r_cur\n",
    "\n",
    "    if r_prev > 1:\n",
    "        raise Exception(\"Uninvertible {} by modulus {}\".format(a, n))\n",
    "    if p_i_2 < 0:\n",
    "        p_i_2 = p_i_2 + n\n",
    "\n",
    "    return p_i_2\n",
    "\n",
    "def encrypt(g, y, p, M, k):\n",
    "    a = power(g, k, p)\n",
    "    b = (power(y, k, p) * M) % p\n",
    "    return a, b\n",
    "\n",
    "def decrypt(a, b, x, p):\n",
    "    a_x = power(a, x, p)\n",
    "    M = (b * inverse(a_x, p)) % p\n",
    "    return M"
   ]
  },
  {
   "cell_type": "markdown",
   "metadata": {},
   "source": [
    "3. Encrypte message $M=4$, using open key $(y=8,g=6,p=13)$, private key $(x=3,g=6,p=13)$ and random parameter $K=11$ (1 point)"
   ]
  },
  {
   "cell_type": "code",
   "execution_count": 6,
   "metadata": {},
   "outputs": [
    {
     "name": "stdout",
     "output_type": "stream",
     "text": [
      "Key and encrypted message are 11, 7\n",
      "Decrypted message: 4\n"
     ]
    }
   ],
   "source": [
    "M = 4\n",
    "y = 8\n",
    "x = 3\n",
    "g = 6\n",
    "p = 13\n",
    "K = 11\n",
    "\n",
    "a, b = encrypt(g, y, p, M, K)\n",
    "print(\"Key and encrypted message are {}, {}\".format(a, b))\n",
    "M_decrypt = decrypt(a, b, x, p)\n",
    "print(\"Decrypted message:\", M_decrypt)"
   ]
  },
  {
   "cell_type": "markdown",
   "metadata": {},
   "source": [
    "### Problem 2 (4 points)"
   ]
  },
  {
   "cell_type": "markdown",
   "metadata": {},
   "source": [
    "There are analogues of ElGamal cryptosystems, in which instead of the discrete logarithm problem in multiplicative fields, the discrete logarithm problem in groups of points of elliptic curves over finite fields is used. There is a quickly performed operation here - multiplication of an integer 𝑥 to the point 𝐴 (summing the point to itself an integer number of times). In this task, we will ask you to write python function that returns all group elements of a certain elliptic curve over a finite field and performs the points summation. "
   ]
  },
  {
   "cell_type": "markdown",
   "metadata": {},
   "source": [
    "1. Write a python function that list all points of elliptic curve $y^2=x^3-12x-6$ over $F_{17}$ (1 points)"
   ]
  },
  {
   "cell_type": "code",
   "execution_count": 2,
   "metadata": {},
   "outputs": [],
   "source": [
    "def f(x):\n",
    "    return (x**3 - 12 * x - 6) % 17\n",
    "\n",
    "def find_all_points():\n",
    "    list_of_points = [(np.inf, np.inf)]\n",
    "    for x in range(17):\n",
    "        y_2 = f(x)\n",
    "        for y in range(17//2):\n",
    "            if power(y, 2, 17) == y_2:\n",
    "                list_of_points.append((x, y))\n",
    "                if y:\n",
    "                    list_of_points.append((x, -y))\n",
    "\n",
    "    return list_of_points"
   ]
  },
  {
   "cell_type": "code",
   "execution_count": 5,
   "metadata": {},
   "outputs": [
    {
     "data": {
      "text/plain": [
       "[(inf, inf),\n",
       " (1, 0),\n",
       " (3, 6),\n",
       " (3, -6),\n",
       " (5, 5),\n",
       " (5, -5),\n",
       " (6, 6),\n",
       " (6, -6),\n",
       " (7, 7),\n",
       " (7, -7),\n",
       " (8, 6),\n",
       " (8, -6)]"
      ]
     },
     "execution_count": 5,
     "metadata": {},
     "output_type": "execute_result"
    }
   ],
   "source": [
    "find_all_points()"
   ]
  },
  {
   "cell_type": "markdown",
   "metadata": {},
   "source": [
    "2. Compute the sum of any two points in group above and make sure that result lies within the same group. (0.5 point)"
   ]
  },
  {
   "cell_type": "code",
   "execution_count": 6,
   "metadata": {},
   "outputs": [
    {
     "name": "stdout",
     "output_type": "stream",
     "text": [
      "Sum of (8, -6) and (5, 5) is (8, 6)\n"
     ]
    }
   ],
   "source": [
    "x1, y1 = 8, -6\n",
    "x2, y2 = 5, 5\n",
    "p = 17\n",
    "a = -12\n",
    "b = -6\n",
    "\n",
    "def sum_on_curve(x1, y1, x2, y2, p):\n",
    "    if x1 == np.inf and y1 == np.inf:\n",
    "        return x2, y2\n",
    "    elif x2 == np.inf and y2 == np.inf:\n",
    "        return x1, y1\n",
    "    \n",
    "    assert power(y1, 2, p) == f(x1)\n",
    "    assert power(y2, 2, p) == f(x2)\n",
    "    \n",
    "    if x1 == x2 and y1 == -y2:\n",
    "        return np.inf, np.inf\n",
    "    elif x1 == x2 and y1 == y2:\n",
    "        m = ((3 * x1**2 + a) * inverse(2 * y1, p)) % p\n",
    "    else:\n",
    "        m = ((y2 - y1) * inverse(x2 - x1, p)) % p\n",
    "    \n",
    "    x3 = (m**2 - x1 - x2) % p\n",
    "    y3 = (m * (x1 - x3) - y1) % p\n",
    "    \n",
    "    if 2*x3 > p:\n",
    "        x3 = x3 - p\n",
    "        \n",
    "    if 2*y3 > p:\n",
    "        y3 = y3 - p\n",
    "        \n",
    "    return x3, y3\n",
    "\n",
    "x3, y3 = sum_on_curve(x1, y1, x2, y2, p)\n",
    "\n",
    "assert power(y3, 2, p) == f(x3)\n",
    "\n",
    "print(\"Sum of ({}, {}) and ({}, {}) is ({}, {})\".format(x1, y1, x2, y2, x3, y3))"
   ]
  },
  {
   "cell_type": "markdown",
   "metadata": {},
   "source": [
    "3. For the point (6,6) define whether it generates the whole group or subgroup of points of this elliptic curve. (2 points)"
   ]
  },
  {
   "cell_type": "code",
   "execution_count": 8,
   "metadata": {},
   "outputs": [
    {
     "name": "stdout",
     "output_type": "stream",
     "text": [
      "Order of (6, 6) is: 4\n",
      "(6, 6) generates subgroup of points of elliptic curve\n",
      "Subgroup is: [(6, 6), (1, 0), (6, -6), (inf, inf)]\n"
     ]
    }
   ],
   "source": [
    "order = 1\n",
    "x, y = 6, 6\n",
    "current_x, current_y = x, y\n",
    "generated_points = [(current_x, current_y)]\n",
    "\n",
    "while current_x != np.inf:\n",
    "    order += 1\n",
    "    current_x, current_y = sum_on_curve(current_x, current_y, x, y, p)\n",
    "    generated_points.append((current_x, current_y))\n",
    "\n",
    "print(\"Order of (6, 6) is:\", order)\n",
    "\n",
    "group_order = len(find_all_points())\n",
    "if group_order == order:\n",
    "    print(\"(6, 6) generates whole group of points of elliptic curve\")\n",
    "elif not group_order % order:\n",
    "    print(\"(6, 6) generates subgroup of points of elliptic curve\")\n",
    "    print(\"Subgroup is:\", generated_points)\n",
    "else:\n",
    "    print(\"Something went wrong\")"
   ]
  },
  {
   "cell_type": "markdown",
   "metadata": {},
   "source": [
    "4. Compare the number of points with Hasse’s estimate $|N-(p+1)|\\leq 2{\\sqrt  {p}}$, where $N$ is the number of points on the curve and $p$ is the finite field order. (0.5 point)"
   ]
  },
  {
   "cell_type": "markdown",
   "metadata": {},
   "source": [
    "$$|N-(p+1)|\\leq 2{\\sqrt  {p}} \\to -2\\sqrt{p} \\leq N-(p+1) \\leq 2\\sqrt{p}$$\n",
    "$$p+1-2\\sqrt{p} \\leq N \\leq p+1+2\\sqrt{p}$$\n",
    "\n",
    "As we have p = 17, so we get estimation: $18 - 2\\sqrt{17} \\leq N \\leq 18 + 2 \\sqrt{17}$"
   ]
  },
  {
   "cell_type": "code",
   "execution_count": 9,
   "metadata": {},
   "outputs": [
    {
     "name": "stdout",
     "output_type": "stream",
     "text": [
      "Hasse's etimate on N is 9.753788748764679 <= N <= 26.246211251235323\n",
      "Actual N is: 12\n"
     ]
    }
   ],
   "source": [
    "N = len(find_all_points())\n",
    "left_boundary = p + 1 - 2 * p**0.5\n",
    "right_boundary = p + 1 + 2 * p**0.5\n",
    "print(\"Hasse's etimate on N is {} <= N <= {}\".format(left_boundary, right_boundary))\n",
    "print(\"Actual N is:\", N)"
   ]
  },
  {
   "cell_type": "markdown",
   "metadata": {},
   "source": [
    "As we can see, true number of elliptic curve's points were estimated truly by Hasse's estimate."
   ]
  },
  {
   "cell_type": "markdown",
   "metadata": {},
   "source": [
    "### Problem 3 (3 points)"
   ]
  },
  {
   "cell_type": "markdown",
   "metadata": {},
   "source": [
    "Let us consider the finite field $\\mathbb{Z}_p$ with $p=11$. A secret was shared using $(n,3)$-threshold Shamir secret sharing scheme. $4$ shares are known: $(2;9), (3;10), (6;4), (7;10)$. Reconstruct the polynomial $f(x)$ and the common secret $f(0)$.\n",
    "\n",
    " Note that each share is given in the form $(x_i; f(x_i))$."
   ]
  },
  {
   "cell_type": "markdown",
   "metadata": {},
   "source": [
    "Polynomial in our case looks like $f(x) = ax^2 + bx + c$, because $t = 3$. We know values of this polynomial in 4 points, but for us it is enough to know 3 any points. Thus we have system:\n",
    "$$\\begin{cases} 3^2a + 3b + c = 9a + 3b + c = 10 \\mod 11\\\\\n",
    "6^2a + 6b + c = 3a + 6b + c = 4 \\mod 11\\\\\n",
    "7^2a + 7b + c = 5a + 7b + c = 10 \\mod 11\n",
    "\\end{cases}$$\n",
    "\n",
    "if we will take points $(3;10), (6;4), (7;10)$. Let's multiply last equation by 2, so we get: $-a + 3b + 2c = -2$. Let's solve this system, using Gaussian method.\n",
    "$$\\begin{pmatrix}\n",
    "9 & 3 & 1 &| 10\\\\\n",
    "3 & 6 & 1 &| 4\\\\\n",
    "-1 & 3 & 2 &|-2\n",
    "\\end{pmatrix} \\sim \\begin{pmatrix}\n",
    "0 & -3 & 8 &| -8\\\\\n",
    "0 & 4 & 7 &| -2\\\\\n",
    "-1 & 3 & 2 &| -2\n",
    "\\end{pmatrix} \\sim \\begin{pmatrix}\n",
    "0 & 0 & -6 &| -4\\\\\n",
    "0 & 4 & 7 &| -2\\\\\n",
    "-1 & 3 & 2 &| -2\n",
    "\\end{pmatrix}$$\n",
    "So from last matrix, we derive:\n",
    "$$-6 * c = -4 \\to c = -3\\mod 11$$\n",
    "$$4b + 7c = -2 \\to 4b = -7c - 2 \\to c = c - 6 = -9 = 2 \\mod 11$$\n",
    "$$-a + 3b + 2c = -2 \\to a = 3b + 2c + 2 = 2 \\mod 11$$\n",
    "\n",
    "Thus, the final polynomial is: $f(x) = 2x^2 + 2x + 8$. And common secret equal to $f(0) = 8 \\mod 11$"
   ]
  }
 ],
 "metadata": {
  "kernelspec": {
   "display_name": "Python 3 (ipykernel)",
   "language": "python",
   "name": "python3"
  },
  "language_info": {
   "codemirror_mode": {
    "name": "ipython",
    "version": 3
   },
   "file_extension": ".py",
   "mimetype": "text/x-python",
   "name": "python",
   "nbconvert_exporter": "python",
   "pygments_lexer": "ipython3",
   "version": "3.10.6"
  }
 },
 "nbformat": 4,
 "nbformat_minor": 2
}
