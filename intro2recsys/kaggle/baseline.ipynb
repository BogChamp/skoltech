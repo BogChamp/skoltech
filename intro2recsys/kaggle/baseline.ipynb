{
 "cells": [
  {
   "cell_type": "code",
   "execution_count": 1,
   "metadata": {},
   "outputs": [],
   "source": [
    "import zipfile\n",
    "\n",
    "import numpy as np\n",
    "import pandas as pd\n",
    "from scipy.sparse import diags, csr_matrix, isspmatrix\n",
    "from scipy.sparse.linalg import svds\n",
    "from tqdm import tqdm\n",
    "from sklearn.metrics import ndcg_score\n",
    "from tqdm import tqdm\n",
    "import scipy.sparse as sp\n",
    "from scipy.sparse import vstack\n",
    "from scipy import sparse\n",
    "from scipy.sparse.linalg import spsolve\n",
    "\n",
    "from dataprep import transform_indices, reindex_data, generate_interactions_matrix\n",
    "from evaluation import downvote_seen_items, topn_recommendations\n",
    "from sklearn.metrics.pairwise import cosine_similarity"
   ]
  },
  {
   "cell_type": "markdown",
   "metadata": {},
   "source": [
    "# getting data from Kaggle"
   ]
  },
  {
   "cell_type": "code",
   "execution_count": 2,
   "metadata": {},
   "outputs": [],
   "source": [
    "competition_name = \"skoltech-recommender-systems-challenge-2023\""
   ]
  },
  {
   "cell_type": "code",
   "execution_count": 3,
   "metadata": {},
   "outputs": [
    {
     "name": "stdout",
     "output_type": "stream",
     "text": [
      "Warning: Your Kaggle API key is readable by other users on this system! To fix this, you can run 'chmod 600 /home/bogdan/.kaggle/kaggle.json'\n",
      "skoltech-recommender-systems-challenge-2023.zip: Skipping, found more recently modified local copy (use --force to force download)\n"
     ]
    }
   ],
   "source": [
    "!kaggle competitions download -c {competition_name}"
   ]
  },
  {
   "cell_type": "code",
   "execution_count": 4,
   "metadata": {},
   "outputs": [],
   "source": [
    "with zipfile.ZipFile(\"skoltech-recommender-systems-challenge-2023.zip\",\"r\") as z:\n",
    "    z.extractall(\".\")"
   ]
  },
  {
   "cell_type": "code",
   "execution_count": 5,
   "metadata": {},
   "outputs": [],
   "source": [
    "training_source = pd.read_csv('training')"
   ]
  },
  {
   "cell_type": "code",
   "execution_count": 6,
   "metadata": {},
   "outputs": [],
   "source": [
    "testset_source = pd.read_csv('testset')"
   ]
  },
  {
   "cell_type": "markdown",
   "metadata": {},
   "source": [
    "# Convenience functions"
   ]
  },
  {
   "cell_type": "code",
   "execution_count": 7,
   "metadata": {},
   "outputs": [],
   "source": [
    "def plot_monthly_activity(data, ax=None, label=None, timeid='timestamp'):\n",
    "    return (data\n",
    "        .set_index(pd.to_datetime(data[timeid], unit='s'))\n",
    "        .resample('M').size()\n",
    "        .plot(ax=ax, logy=True, label=label, xlabel='Month',\n",
    "              title='Monthly rating activity', legend=label is not None)\n",
    "    )"
   ]
  },
  {
   "cell_type": "markdown",
   "metadata": {},
   "source": [
    "## data splitting"
   ]
  },
  {
   "cell_type": "code",
   "execution_count": 8,
   "metadata": {},
   "outputs": [],
   "source": [
    "def timepoint_split(data, time_split_q=0.95):\n",
    "    \"\"\"\n",
    "    Split data into training, testset, and holdout datasets based on a timepoint split\n",
    "    and according to the `warm-start` evaluation strategy.\n",
    "\n",
    "    Parameters\n",
    "    ----------\n",
    "    data : pd.DataFrame\n",
    "        The input dataset containing columns `userid`, `movieid`, and `timestamp`.\n",
    "    time_split_q : float, optional\n",
    "        The quantile value used to split the dataset based on the `timestamp` column.\n",
    "        Default is 0.95.\n",
    "\n",
    "    Returns\n",
    "    -------\n",
    "    Tuple[pd.DataFrame, pd.DataFrame, pd.DataFrame]\n",
    "        A tuple of three pandas DataFrames: training, testset, and holdout.\n",
    "        `training` is a subset of `data` used for training the recommender system.\n",
    "        `testset` is a subset of `data` used for generating recommendations for the test users.\n",
    "        `holdout` is a subset excluded from `testset` containing only the most recent interactions for each test user.\n",
    "\n",
    "    Notes\n",
    "    -----\n",
    "    The function splits the input `data` into three subsets: `training`, `testset`, and `holdout`.\n",
    "    The split is performed based on the `timestamp` column of `data`, using `time_split_q` as the quantile value.\n",
    "    The `holdout` dataset contains only the immediate interactions following the fixed timepoint for each test user from the `testset`.\n",
    "    The set of users in `training` is disjoint with the set of users in the `testset`, which implements the `warm-start` scenario.\n",
    "    \"\"\"    \n",
    "    timepoint = data.timestamp.quantile(q=time_split_q, interpolation='nearest')\n",
    "    test_ = data.query('timestamp >= @timepoint')\n",
    "    rest_ = data.drop(test_.index)\n",
    "    holdout_ = (\n",
    "        test_\n",
    "        .sort_values('timestamp')\n",
    "        .drop_duplicates(subset=['userid'], keep='first')\n",
    "    )\n",
    "    # the holdout dataframe contains interactions closest to certain timepoint from the right,\n",
    "    # i.e., the corresponding items are the first in each test user profile after this timepoint\n",
    "    training = rest_.query('userid not in @holdout_.userid')\n",
    "    train_items = training.movieid.unique()\n",
    "    testset_ = rest_.query('userid in @holdout_.userid and movieid in @train_items')\n",
    "    test_users = testset_.userid.unique()\n",
    "    holdout = holdout_.query(\n",
    "        # if user is not in `test_users` then no evluation is possible,\n",
    "        # if item is not in `train_items` it's cold start -> must be excluded\n",
    "        'userid in @test_users and movieid in @train_items'\n",
    "    ).sort_values('userid')\n",
    "    testset = testset_.query(\n",
    "        # make sure testset and holdout contain the same set of users\n",
    "        'userid in @holdout.userid'\n",
    "    ).sort_values('userid')\n",
    "    return training, testset, holdout"
   ]
  },
  {
   "cell_type": "markdown",
   "metadata": {},
   "source": [
    "## kaggle solution format"
   ]
  },
  {
   "cell_type": "code",
   "execution_count": 9,
   "metadata": {},
   "outputs": [],
   "source": [
    "def save_solution(recs_array, useridx, itemidx, filepath):\n",
    "    \"\"\"\n",
    "    Save a solution for Kaggle competition in the required format.\n",
    "\n",
    "    Parameters \n",
    "    ----------\n",
    "    recs_array (numpy.ndarray): Array of recommended items. \n",
    "    useridx (pandas.Index): Test user indices in the original (source) representation. \n",
    "    itemidx (pandas.Index): Mapping from internal to orignial representation of item indices. \n",
    "    filepath (str): Path to save the solution file. \n",
    "\n",
    "    Returns\n",
    "    -------\n",
    "    None: The function saves the solution file in the csv format at the specified path. \n",
    "\n",
    "    Notes\n",
    "    -----\n",
    "    The code creates a dataframe containing user IDs and a list of recommended items for each user.\n",
    "    It then melts the dataframe so that each row contains one recommended item per user.\n",
    "    Finally, it saves the melted dataframe to a file at the specified filepath.\n",
    "    \"\"\"\n",
    "    rec_items = itemidx.take(recs_array).values\n",
    "    solution = pd.DataFrame({\n",
    "        'userid': useridx,\n",
    "        'movieid': [list(recs) for recs in rec_items]\n",
    "    })\n",
    "    sol_melt = solution.set_index('userid')['movieid'].explode().reset_index()\n",
    "    sol_melt.to_csv(filepath, index=False)"
   ]
  },
  {
   "cell_type": "markdown",
   "metadata": {},
   "source": [
    "To submit a solution, you can use he following command directly from a notebook cell:  \n",
    "\n",
    "```\n",
    "!kaggle competitions submit -c {competition_name} -f {filepath} -m 'my new submission'\n",
    "```"
   ]
  },
  {
   "cell_type": "code",
   "execution_count": 10,
   "metadata": {},
   "outputs": [
    {
     "data": {
      "text/plain": [
       "<Axes: title={'center': 'Monthly rating activity'}, xlabel='Month'>"
      ]
     },
     "execution_count": 10,
     "metadata": {},
     "output_type": "execute_result"
    },
    {
     "data": {
      "image/png": "[encoded data removed]",
      "text/plain": [
       "<Figure size 640x480 with 1 Axes>"
      ]
     },
     "metadata": {},
     "output_type": "display_data"
    }
   ],
   "source": [
    "plot_monthly_activity(training_source)\n",
    "plot_monthly_activity(testset_source)"
   ]
  },
  {
   "cell_type": "markdown",
   "metadata": {},
   "source": [
    "# Evaluation setup"
   ]
  },
  {
   "cell_type": "code",
   "execution_count": 11,
   "metadata": {},
   "outputs": [],
   "source": [
    "topn = 20"
   ]
  },
  {
   "cell_type": "code",
   "execution_count": 12,
   "metadata": {},
   "outputs": [],
   "source": [
    "def evaluate(recommended_items, holdout, holdout_description, topn=20):\n",
    "    itemid = holdout_description['items']\n",
    "    holdout_items = holdout[itemid].values\n",
    "    assert recommended_items.shape[0] == len(holdout_items)\n",
    "    hits_mask = recommended_items[:, :topn] == holdout_items.reshape(-1, 1)\n",
    "    # NDCG calculation\n",
    "    n_test_users = recommended_items.shape[0]\n",
    "    hit_rank = np.where(hits_mask)[1] + 1.0\n",
    "    ndcg_pu = 1.0 / np.log2(hit_rank + 1)\n",
    "    ndcg = np.sum(ndcg_pu) / n_test_users\n",
    "    return ndcg"
   ]
  },
  {
   "cell_type": "markdown",
   "metadata": {},
   "source": [
    "# 50 pts baseline"
   ]
  },
  {
   "cell_type": "code",
   "execution_count": 13,
   "metadata": {},
   "outputs": [],
   "source": [
    "def transform_data(train, test, holdout=None, userid='userid', itemid='movieid'):\n",
    "    training, data_index = transform_indices(train, userid, itemid)\n",
    "    testset = reindex_data(test, data_index, fields='items')\n",
    "    if holdout is None:\n",
    "        return training, testset, data_index\n",
    "    holdout = reindex_data(holdout, data_index, fields='items')\n",
    "    assert not holdout['movieid'].eq(-1).any()\n",
    "    return training, testset, holdout, data_index"
   ]
  },
  {
   "cell_type": "code",
   "execution_count": 14,
   "metadata": {},
   "outputs": [],
   "source": [
    "training_, testset_, holdout_ = timepoint_split(training_source)\n",
    "training, testset, holdout, data_index = transform_data(training_, testset_, holdout_)\n",
    "assert not holdout['movieid'].eq(-1).any()"
   ]
  },
  {
   "cell_type": "code",
   "execution_count": 15,
   "metadata": {},
   "outputs": [],
   "source": [
    "data_description = dict(\n",
    "    users = data_index['users'].name,\n",
    "    items = data_index['items'].name,\n",
    "    feedback = 'rating',\n",
    "    n_users = len(data_index['users']),\n",
    "    n_items = len(data_index['items']),\n",
    "    test_users = holdout[data_index['users'].name].values\n",
    ")"
   ]
  },
  {
   "cell_type": "code",
   "execution_count": 16,
   "metadata": {},
   "outputs": [],
   "source": [
    "training_final, testset_final, data_index_source = transform_data(training_source, testset_source)"
   ]
  },
  {
   "cell_type": "code",
   "execution_count": 17,
   "metadata": {},
   "outputs": [],
   "source": [
    "data_description_source = dict(\n",
    "    users = data_index_source['users'].name,\n",
    "    items = data_index_source['items'].name,\n",
    "    feedback = 'rating',\n",
    "    n_users = len(data_index_source['users']),\n",
    "    n_items = len(data_index_source['items']),\n",
    "    test_users = holdout[data_index_source['users'].name].values\n",
    ")"
   ]
  },
  {
   "cell_type": "code",
   "execution_count": 18,
   "metadata": {},
   "outputs": [
    {
     "data": {
      "text/plain": [
       "Int64Index([    55,    133,    136,    213,    539,    604,    718,   1029,\n",
       "              1088,   1179,\n",
       "            ...\n",
       "            282326, 282382, 282402, 282420, 282522, 282663, 282836, 282999,\n",
       "            283047, 283183],\n",
       "           dtype='int64', name='userid', length=2963)"
      ]
     },
     "execution_count": 18,
     "metadata": {},
     "output_type": "execute_result"
    }
   ],
   "source": [
    "test_users_index = pd.Index(\n",
    "    testset_source['userid'].drop_duplicates()\n",
    ")\n",
    "test_users_index"
   ]
  },
  {
   "cell_type": "markdown",
   "metadata": {},
   "source": [
    "### grid-search"
   ]
  },
  {
   "cell_type": "code",
   "execution_count": 19,
   "metadata": {},
   "outputs": [
    {
     "data": {
      "text/plain": [
       "[16, 24, 32, 48, 64, 96, 128, 192, 256, 384, 512, 768]"
      ]
     },
     "execution_count": 19,
     "metadata": {},
     "output_type": "execute_result"
    }
   ],
   "source": [
    "ranks = [b*2**n for n in range(3, 9) for b in [2, 3]]\n",
    "ranks"
   ]
  },
  {
   "cell_type": "code",
   "execution_count": 20,
   "metadata": {},
   "outputs": [],
   "source": [
    "def svd_model_scoring(params, data, data_description):\n",
    "    item_factors = params\n",
    "    source_matrix = generate_interactions_matrix(data, data_description, rebase_users=True)\n",
    "    scores = source_matrix.dot(item_factors) @ item_factors.T\n",
    "    downvote_seen_items(scores, data, data_description)\n",
    "    return scores\n",
    "\n",
    "def svd_grid_search(ranks, training, testset, holdout, data_description, topn=20):\n",
    "    max_rank = max(ranks)\n",
    "    config = {'rank': max_rank}\n",
    "    item_factors = build_svd_model(config, training, data_description)\n",
    "    results = {}\n",
    "    for rank in tqdm(ranks):\n",
    "        item_factors_trunc = item_factors[:, :rank]\n",
    "        scores = svd_model_scoring(item_factors_trunc, testset, data_description)\n",
    "        recs = topn_recommendations(scores, topn=topn)\n",
    "        results[rank] = evaluate(recs, holdout, data_description)\n",
    "    return results\n",
    "\n",
    "def build_svd_model(config, data, data_description):\n",
    "    source_matrix = generate_interactions_matrix(data, data_description, rebase_users=False)\n",
    "    _, _, vt = svds(source_matrix, k=config['rank'], return_singular_vectors='vh')\n",
    "    item_factors = np.ascontiguousarray(vt[::-1, :].T)\n",
    "    return item_factors"
   ]
  },
  {
   "cell_type": "code",
   "execution_count": 17,
   "metadata": {},
   "outputs": [
    {
     "name": "stderr",
     "output_type": "stream",
     "text": [
      "100%|███████████████████████████████████████████| 12/12 [00:07<00:00,  1.69it/s]\n"
     ]
    }
   ],
   "source": [
    "svd_results = svd_grid_search(\n",
    "                ranks, training, testset, holdout, data_description, topn=20)"
   ]
  },
  {
   "cell_type": "code",
   "execution_count": 18,
   "metadata": {},
   "outputs": [
    {
     "data": {
      "text/plain": [
       "{16: 0.030921589302846397,\n",
       " 24: 0.03268729051003208,\n",
       " 32: 0.03266466216338321,\n",
       " 48: 0.03226867641101473,\n",
       " 64: 0.03206589777280486,\n",
       " 96: 0.030405723421413556,\n",
       " 128: 0.030223887572882198,\n",
       " 192: 0.02996487345609762,\n",
       " 256: 0.029769940940728528,\n",
       " 384: 0.03072575416046426,\n",
       " 512: 0.030158848497778726,\n",
       " 768: 0.02414416281876342}"
      ]
     },
     "execution_count": 18,
     "metadata": {},
     "output_type": "execute_result"
    }
   ],
   "source": [
    "svd_results"
   ]
  },
  {
   "cell_type": "markdown",
   "metadata": {},
   "source": [
    "### best model"
   ]
  },
  {
   "cell_type": "code",
   "execution_count": 19,
   "metadata": {},
   "outputs": [
    {
     "data": {
      "text/plain": [
       "<matplotlib.lines.Line2D at 0x7f2ea45631c0>"
      ]
     },
     "execution_count": 19,
     "metadata": {},
     "output_type": "execute_result"
    },
    {
     "data": {
      "image/png": "[encoded data removed]",
      "text/plain": [
       "<Figure size 640x480 with 1 Axes>"
      ]
     },
     "metadata": {},
     "output_type": "display_data"
    }
   ],
   "source": [
    "ax = pd.Series(svd_results).plot()\n",
    "ax.axvline()"
   ]
  },
  {
   "cell_type": "code",
   "execution_count": 20,
   "metadata": {},
   "outputs": [],
   "source": [
    "best_svd_rank = pd.Series(svd_results).idxmax()"
   ]
  },
  {
   "cell_type": "code",
   "execution_count": 23,
   "metadata": {},
   "outputs": [],
   "source": [
    "best_config = {'rank': best_svd_rank}\n",
    "item_factors = build_svd_model(best_config, training_final, data_description_source)\n",
    "scores = svd_model_scoring(item_factors, testset_final, data_description_source)\n",
    "recs = topn_recommendations(scores, topn=topn)"
   ]
  },
  {
   "cell_type": "code",
   "execution_count": 24,
   "metadata": {},
   "outputs": [
    {
     "data": {
      "text/plain": [
       "array([[ 194,  222,  206, ...,  750,  509,  390],\n",
       "       [ 610,  551, 1361, ...,  762,  361,  228],\n",
       "       [  62,  376,  537, ...,  284,  768,  860],\n",
       "       ...,\n",
       "       [ 569,  392,   19, ...,  780,  209, 2489],\n",
       "       [ 983,  965,  973, ..., 1330, 1071, 1520],\n",
       "       [ 671,  410,  667, ...,  229, 1487,  225]])"
      ]
     },
     "execution_count": 24,
     "metadata": {},
     "output_type": "execute_result"
    }
   ],
   "source": [
    "recs"
   ]
  },
  {
   "cell_type": "code",
   "execution_count": 18,
   "metadata": {},
   "outputs": [
    {
     "ename": "NameError",
     "evalue": "name 'recs' is not defined",
     "output_type": "error",
     "traceback": [
      "\u001b[0;31m---------------------------------------------------------------------------\u001b[0m",
      "\u001b[0;31mNameError\u001b[0m                                 Traceback (most recent call last)",
      "Cell \u001b[0;32mIn [18], line 1\u001b[0m\n\u001b[0;32m----> 1\u001b[0m save_solution(\u001b[43mrecs\u001b[49m, test_users_index, data_index_source[\u001b[38;5;124m'\u001b[39m\u001b[38;5;124mitems\u001b[39m\u001b[38;5;124m'\u001b[39m], \u001b[38;5;124m'\u001b[39m\u001b[38;5;124m50pt.csv\u001b[39m\u001b[38;5;124m'\u001b[39m)\n",
      "\u001b[0;31mNameError\u001b[0m: name 'recs' is not defined"
     ]
    }
   ],
   "source": [
    "save_solution(recs, test_users_index, data_index_source['items'], '50pt.csv')"
   ]
  },
  {
   "cell_type": "markdown",
   "metadata": {},
   "source": [
    "# 75 pts baseline"
   ]
  },
  {
   "cell_type": "markdown",
   "metadata": {},
   "source": [
    "### grid-search"
   ]
  },
  {
   "cell_type": "code",
   "execution_count": 21,
   "metadata": {},
   "outputs": [
    {
     "data": {
      "text/plain": [
       "[16, 24, 32, 48, 64, 96, 128, 192, 256, 384, 512, 768]"
      ]
     },
     "execution_count": 21,
     "metadata": {},
     "output_type": "execute_result"
    }
   ],
   "source": [
    "scalings = [0.2, 0.4, 0.6, 0.8, 1]\n",
    "ranks = [b*2**n for n in range(3, 9) for b in [2, 3]]\n",
    "ranks\n",
    "ranks"
   ]
  },
  {
   "cell_type": "code",
   "execution_count": 22,
   "metadata": {},
   "outputs": [],
   "source": [
    "def ssvd_grid_search(ranks, scalings, training, testset, holdout, data_description, topn=20):\n",
    "    max_rank = max(ranks)\n",
    "    config = {'rank': max_rank}\n",
    "    results = {}\n",
    "    for scaling in tqdm(scalings):\n",
    "        config['scaling'] = scaling\n",
    "        item_factors, *rest = build_ssvd_model(config, training, data_description)\n",
    "        for rank in ranks:\n",
    "            item_factors_trunc = item_factors[:, :rank]\n",
    "            scores = ssvd_model_scoring((item_factors_trunc, )+tuple(rest), testset, data_description)\n",
    "            recs = topn_recommendations(scores, topn=topn)\n",
    "            results[(rank, scaling)] = evaluate(recs, holdout, data_description)\n",
    "    return results\n",
    "\n",
    "def build_ssvd_model(config, data, data_description):\n",
    "    source_matrix = generate_interactions_matrix(data, data_description, rebase_users=False)\n",
    "    scaled_matrix, scaling_weights = rescale_matrix(source_matrix, config['scaling'])\n",
    "    _, _, vt = svds(scaled_matrix, k=config['rank'], return_singular_vectors='vh')\n",
    "    item_factors = np.ascontiguousarray(vt[::-1, :].T)\n",
    "    return item_factors, scaling_weights\n",
    "\n",
    "def rescale_matrix(matrix, scaling_factor):\n",
    "    frequencies = matrix.getnnz(axis=0)\n",
    "    scaling_weights = np.power(frequencies, 0.5*(scaling_factor - 1))\n",
    "    return matrix.dot(diags(scaling_weights)), scaling_weights\n",
    "\n",
    "def ssvd_model_scoring(params, data, data_description):\n",
    "    item_factors , scaling_weights = params\n",
    "    source_matrix = generate_interactions_matrix(data, data_description, rebase_users=True)\n",
    "    scores = source_matrix.dot(item_factors) @ item_factors.T\n",
    "    \n",
    "    downvote_seen_items(scores, data, data_description)\n",
    "    return scores"
   ]
  },
  {
   "cell_type": "code",
   "execution_count": null,
   "metadata": {},
   "outputs": [],
   "source": [
    "ssvd_results = ssvd_grid_search(\n",
    "                ranks, scalings, training, testset, holdout, data_description, topn=20)"
   ]
  },
  {
   "cell_type": "markdown",
   "metadata": {},
   "source": [
    "### best model"
   ]
  },
  {
   "cell_type": "code",
   "execution_count": null,
   "metadata": {},
   "outputs": [],
   "source": [
    "ssvd_results"
   ]
  },
  {
   "cell_type": "code",
   "execution_count": 31,
   "metadata": {},
   "outputs": [
    {
     "data": {
      "text/plain": [
       "{(16, 0.2): 0.02596740948070105,\n",
       " (24, 0.2): 0.026063526745838957,\n",
       " (32, 0.2): 0.026953049031973538,\n",
       " (48, 0.2): 0.028340997670290052,\n",
       " (64, 0.2): 0.029905426656168053,\n",
       " (96, 0.2): 0.030859063243602665,\n",
       " (128, 0.2): 0.032470410375677786,\n",
       " (192, 0.2): 0.03370478698716887,\n",
       " (256, 0.2): 0.03504648910998056,\n",
       " (384, 0.2): 0.0373927967277285,\n",
       " (512, 0.2): 0.036793798833682535,\n",
       " (768, 0.2): 0.037659642119809905,\n",
       " (16, 0.4): 0.0283891412884655,\n",
       " (24, 0.4): 0.029943525646962756,\n",
       " (32, 0.4): 0.03030347807987867,\n",
       " (48, 0.4): 0.03231942323575544,\n",
       " (64, 0.4): 0.03310366082123165,\n",
       " (96, 0.4): 0.03369873435017784,\n",
       " (128, 0.4): 0.03606346576711637,\n",
       " (192, 0.4): 0.036246704993122346,\n",
       " (256, 0.4): 0.0373451141535813,\n",
       " (384, 0.4): 0.03816437774381299,\n",
       " (512, 0.4): 0.03575186907124709,\n",
       " (768, 0.4): 0.03482258774408832,\n",
       " (16, 0.6): 0.02895512864097637,\n",
       " (24, 0.6): 0.028735810974807555,\n",
       " (32, 0.6): 0.033829203450473036,\n",
       " (48, 0.6): 0.03369366404851882,\n",
       " (64, 0.6): 0.034761098274177255,\n",
       " (96, 0.6): 0.034766863909286905,\n",
       " (128, 0.6): 0.03538809880295269,\n",
       " (192, 0.6): 0.03503080005231282,\n",
       " (256, 0.6): 0.0331482028155338,\n",
       " (384, 0.6): 0.03223132675714022,\n",
       " (512, 0.6): 0.03208105281388737,\n",
       " (768, 0.6): 0.029682461330522488,\n",
       " (16, 0.8): 0.029779794998041578,\n",
       " (24, 0.8): 0.03457122013376614,\n",
       " (32, 0.8): 0.03315975451373464,\n",
       " (48, 0.8): 0.03280698050490083,\n",
       " (64, 0.8): 0.0334966162074192,\n",
       " (96, 0.8): 0.03430239349246164,\n",
       " (128, 0.8): 0.032743520079502784,\n",
       " (192, 0.8): 0.030804634296400103,\n",
       " (256, 0.8): 0.029003350816577397,\n",
       " (384, 0.8): 0.03278226421460847,\n",
       " (512, 0.8): 0.0315838854884171,\n",
       " (768, 0.8): 0.02607100742098744}"
      ]
     },
     "execution_count": 31,
     "metadata": {},
     "output_type": "execute_result"
    }
   ],
   "source": [
    "ssvd_results"
   ]
  },
  {
   "cell_type": "code",
   "execution_count": 32,
   "metadata": {},
   "outputs": [],
   "source": [
    "best_ssvd_rank = pd.Series(ssvd_results).idxmax()"
   ]
  },
  {
   "cell_type": "code",
   "execution_count": 33,
   "metadata": {},
   "outputs": [
    {
     "data": {
      "text/plain": [
       "(384, 0.4)"
      ]
     },
     "execution_count": 33,
     "metadata": {},
     "output_type": "execute_result"
    }
   ],
   "source": [
    "best_ssvd_rank"
   ]
  },
  {
   "cell_type": "code",
   "execution_count": 50,
   "metadata": {},
   "outputs": [],
   "source": [
    "best_config = {'rank': best_ssvd_rank[0], 'scaling': best_ssvd_rank[0]}\n",
    "ssvd_params = build_ssvd_model(best_config, training_final, data_description_source)\n",
    "sscores = ssvd_model_scoring(ssvd_params, testset_final, data_description_source)\n",
    "srecs = topn_recommendations(sscores, topn=topn)"
   ]
  },
  {
   "cell_type": "code",
   "execution_count": 51,
   "metadata": {},
   "outputs": [],
   "source": [
    "save_solution(srecs, test_users_index, data_index_source['items'], '256041.csv')"
   ]
  },
  {
   "cell_type": "code",
   "execution_count": null,
   "metadata": {},
   "outputs": [],
   "source": []
  }
 ],
 "metadata": {
  "kernelspec": {
   "display_name": "Python 3 (ipykernel)",
   "language": "python",
   "name": "python3"
  },
  "language_info": {
   "codemirror_mode": {
    "name": "ipython",
    "version": 3
   },
   "file_extension": ".py",
   "mimetype": "text/x-python",
   "name": "python",
   "nbconvert_exporter": "python",
   "pygments_lexer": "ipython3",
   "version": "3.10.6"
  }
 },
 "nbformat": 4,
 "nbformat_minor": 2
}
