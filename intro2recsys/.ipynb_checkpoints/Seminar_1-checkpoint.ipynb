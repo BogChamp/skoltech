{
 "cells": [
  {
   "cell_type": "code",
   "execution_count": 1,
   "metadata": {
    "id": "YFI-ui8K6uZN"
   },
   "outputs": [],
   "source": [
    "\n",
    "import numpy as np\n",
    "import pandas as pd\n",
    "import sklearn\n",
    "\n",
    "\n",
    "\n",
    "\n",
    "from sklearn.feature_extraction.text import TfidfVectorizer\n",
    "from sklearn.linear_model import LinearRegression, LogisticRegression\n",
    "from sklearn.metrics.pairwise import cosine_similarity\n",
    "from sklearn.metrics import accuracy_score\n",
    "\n",
    "\n",
    "from tqdm import tqdm\n",
    "import ast"
   ]
  },
  {
   "cell_type": "code",
   "execution_count": 2,
   "metadata": {
    "id": "XuVK3G1BWQFI"
   },
   "outputs": [],
   "source": [
    "def re_index(dataframe, column):\n",
    "  column_uniques = dataframe[column].unique()\n",
    "  indexes = np.arange(len(column_uniques))\n",
    "  item_index_dict = dict(zip(column_uniques, indexes))\n",
    "  index_item_dict = dict(zip( indexes, column_uniques))\n",
    "  return item_index_dict, index_item_dict"
   ]
  },
  {
   "cell_type": "code",
   "execution_count": 3,
   "metadata": {},
   "outputs": [],
   "source": [
    "reviews_cut = pd.read_csv('reviews_cut.csv')"
   ]
  },
  {
   "cell_type": "code",
   "execution_count": 4,
   "metadata": {},
   "outputs": [],
   "source": [
    "anime_cut = pd.read_csv('anime_cut.csv')\n",
    "anime_cut.synopsis = anime_cut.synopsis.fillna(\"\")\n"
   ]
  },
  {
   "cell_type": "code",
   "execution_count": 6,
   "metadata": {},
   "outputs": [
    {
     "data": {
      "text/html": [
       "<div>\n",
       "<style scoped>\n",
       "    .dataframe tbody tr th:only-of-type {\n",
       "        vertical-align: middle;\n",
       "    }\n",
       "\n",
       "    .dataframe tbody tr th {\n",
       "        vertical-align: top;\n",
       "    }\n",
       "\n",
       "    .dataframe thead th {\n",
       "        text-align: right;\n",
       "    }\n",
       "</style>\n",
       "<table border=\"1\" class=\"dataframe\">\n",
       "  <thead>\n",
       "    <tr style=\"text-align: right;\">\n",
       "      <th></th>\n",
       "      <th>uid</th>\n",
       "      <th>profile1</th>\n",
       "      <th>anime_id</th>\n",
       "      <th>text</th>\n",
       "      <th>score</th>\n",
       "      <th>scores</th>\n",
       "      <th>link</th>\n",
       "      <th>favorites_anime</th>\n",
       "      <th>user_id</th>\n",
       "    </tr>\n",
       "  </thead>\n",
       "  <tbody>\n",
       "    <tr>\n",
       "      <th>0</th>\n",
       "      <td>255938</td>\n",
       "      <td>DesolatePsyche</td>\n",
       "      <td>34096</td>\n",
       "      <td>\\n           \\n         \\n           \\n       ...</td>\n",
       "      <td>8</td>\n",
       "      <td>{'Overall': '8', 'Story': '8', 'Animation': '8...</td>\n",
       "      <td>https://myanimelist.net/reviews.php?id=255938</td>\n",
       "      <td>['33352', '25013', '5530', '33674', '1482', '2...</td>\n",
       "      <td>0</td>\n",
       "    </tr>\n",
       "    <tr>\n",
       "      <th>1</th>\n",
       "      <td>259117</td>\n",
       "      <td>baekbeans</td>\n",
       "      <td>34599</td>\n",
       "      <td>\\n           \\n         \\n           \\n       ...</td>\n",
       "      <td>10</td>\n",
       "      <td>{'Overall': '10', 'Story': '10', 'Animation': ...</td>\n",
       "      <td>https://myanimelist.net/reviews.php?id=259117</td>\n",
       "      <td>['11061', '31964', '853', '20583', '918', '925...</td>\n",
       "      <td>1</td>\n",
       "    </tr>\n",
       "    <tr>\n",
       "      <th>2</th>\n",
       "      <td>253664</td>\n",
       "      <td>skrn</td>\n",
       "      <td>28891</td>\n",
       "      <td>\\n           \\n         \\n           \\n       ...</td>\n",
       "      <td>7</td>\n",
       "      <td>{'Overall': '7', 'Story': '7', 'Animation': '9...</td>\n",
       "      <td>https://myanimelist.net/reviews.php?id=253664</td>\n",
       "      <td>['918', '2904', '11741', '17074', '23273', '32...</td>\n",
       "      <td>2</td>\n",
       "    </tr>\n",
       "    <tr>\n",
       "      <th>3</th>\n",
       "      <td>8254</td>\n",
       "      <td>edgewalker00</td>\n",
       "      <td>2904</td>\n",
       "      <td>\\n           \\n         \\n           \\n       ...</td>\n",
       "      <td>9</td>\n",
       "      <td>{'Overall': '9', 'Story': '9', 'Animation': '9...</td>\n",
       "      <td>https://myanimelist.net/reviews.php?id=8254</td>\n",
       "      <td>['5680', '849', '2904', '3588', '37349']</td>\n",
       "      <td>3</td>\n",
       "    </tr>\n",
       "    <tr>\n",
       "      <th>4</th>\n",
       "      <td>291149</td>\n",
       "      <td>aManOfCulture99</td>\n",
       "      <td>4181</td>\n",
       "      <td>\\n           \\n         \\n           \\n       ...</td>\n",
       "      <td>10</td>\n",
       "      <td>{'Overall': '10', 'Story': '10', 'Animation': ...</td>\n",
       "      <td>https://myanimelist.net/reviews.php?id=291149</td>\n",
       "      <td>['4181', '7791', '9617', '5680', '2167', '4382...</td>\n",
       "      <td>4</td>\n",
       "    </tr>\n",
       "    <tr>\n",
       "      <th>...</th>\n",
       "      <td>...</td>\n",
       "      <td>...</td>\n",
       "      <td>...</td>\n",
       "      <td>...</td>\n",
       "      <td>...</td>\n",
       "      <td>...</td>\n",
       "      <td>...</td>\n",
       "      <td>...</td>\n",
       "      <td>...</td>\n",
       "    </tr>\n",
       "    <tr>\n",
       "      <th>192414</th>\n",
       "      <td>240067</td>\n",
       "      <td>Unicorn819</td>\n",
       "      <td>1281</td>\n",
       "      <td>\\n           \\n         \\n           \\n       ...</td>\n",
       "      <td>9</td>\n",
       "      <td>{'Overall': '9', 'Story': '5', 'Animation': '1...</td>\n",
       "      <td>https://myanimelist.net/reviews.php?id=240067</td>\n",
       "      <td>['918', '5114', '31964', '853', '30', '934', '...</td>\n",
       "      <td>12951</td>\n",
       "    </tr>\n",
       "    <tr>\n",
       "      <th>192415</th>\n",
       "      <td>285777</td>\n",
       "      <td>ShizzoSVH</td>\n",
       "      <td>1281</td>\n",
       "      <td>\\n           \\n         \\n           \\n       ...</td>\n",
       "      <td>9</td>\n",
       "      <td>{'Overall': '9', 'Story': '7', 'Animation': '9...</td>\n",
       "      <td>https://myanimelist.net/reviews.php?id=285777</td>\n",
       "      <td>['9253', '6702', '1575', '5114']</td>\n",
       "      <td>27497</td>\n",
       "    </tr>\n",
       "    <tr>\n",
       "      <th>192416</th>\n",
       "      <td>286904</td>\n",
       "      <td>AlluMan96</td>\n",
       "      <td>1281</td>\n",
       "      <td>\\n           \\n         \\n           \\n       ...</td>\n",
       "      <td>3</td>\n",
       "      <td>{'Overall': '3', 'Story': '3', 'Animation': '1...</td>\n",
       "      <td>https://myanimelist.net/reviews.php?id=286904</td>\n",
       "      <td>['11061', '32182', '885', '35120', '949', '200...</td>\n",
       "      <td>19032</td>\n",
       "    </tr>\n",
       "    <tr>\n",
       "      <th>192417</th>\n",
       "      <td>287903</td>\n",
       "      <td>AgentK300</td>\n",
       "      <td>1281</td>\n",
       "      <td>\\n           \\n         \\n           \\n       ...</td>\n",
       "      <td>10</td>\n",
       "      <td>{'Overall': '10', 'Story': '3', 'Animation': '...</td>\n",
       "      <td>https://myanimelist.net/reviews.php?id=287903</td>\n",
       "      <td>[]</td>\n",
       "      <td>27498</td>\n",
       "    </tr>\n",
       "    <tr>\n",
       "      <th>192418</th>\n",
       "      <td>299323</td>\n",
       "      <td>Scarlet012</td>\n",
       "      <td>1281</td>\n",
       "      <td>\\n           \\n         \\n           \\n       ...</td>\n",
       "      <td>9</td>\n",
       "      <td>{'Overall': '9', 'Story': '7', 'Animation': '8...</td>\n",
       "      <td>https://myanimelist.net/reviews.php?id=299323</td>\n",
       "      <td>['11111']</td>\n",
       "      <td>27499</td>\n",
       "    </tr>\n",
       "  </tbody>\n",
       "</table>\n",
       "<p>192419 rows × 9 columns</p>\n",
       "</div>"
      ],
      "text/plain": [
       "           uid         profile1  anime_id  \\\n",
       "0       255938   DesolatePsyche     34096   \n",
       "1       259117        baekbeans     34599   \n",
       "2       253664             skrn     28891   \n",
       "3         8254     edgewalker00      2904   \n",
       "4       291149  aManOfCulture99      4181   \n",
       "...        ...              ...       ...   \n",
       "192414  240067       Unicorn819      1281   \n",
       "192415  285777        ShizzoSVH      1281   \n",
       "192416  286904        AlluMan96      1281   \n",
       "192417  287903        AgentK300      1281   \n",
       "192418  299323       Scarlet012      1281   \n",
       "\n",
       "                                                     text  score  \\\n",
       "0       \\n           \\n         \\n           \\n       ...      8   \n",
       "1       \\n           \\n         \\n           \\n       ...     10   \n",
       "2       \\n           \\n         \\n           \\n       ...      7   \n",
       "3       \\n           \\n         \\n           \\n       ...      9   \n",
       "4       \\n           \\n         \\n           \\n       ...     10   \n",
       "...                                                   ...    ...   \n",
       "192414  \\n           \\n         \\n           \\n       ...      9   \n",
       "192415  \\n           \\n         \\n           \\n       ...      9   \n",
       "192416  \\n           \\n         \\n           \\n       ...      3   \n",
       "192417  \\n           \\n         \\n           \\n       ...     10   \n",
       "192418  \\n           \\n         \\n           \\n       ...      9   \n",
       "\n",
       "                                                   scores  \\\n",
       "0       {'Overall': '8', 'Story': '8', 'Animation': '8...   \n",
       "1       {'Overall': '10', 'Story': '10', 'Animation': ...   \n",
       "2       {'Overall': '7', 'Story': '7', 'Animation': '9...   \n",
       "3       {'Overall': '9', 'Story': '9', 'Animation': '9...   \n",
       "4       {'Overall': '10', 'Story': '10', 'Animation': ...   \n",
       "...                                                   ...   \n",
       "192414  {'Overall': '9', 'Story': '5', 'Animation': '1...   \n",
       "192415  {'Overall': '9', 'Story': '7', 'Animation': '9...   \n",
       "192416  {'Overall': '3', 'Story': '3', 'Animation': '1...   \n",
       "192417  {'Overall': '10', 'Story': '3', 'Animation': '...   \n",
       "192418  {'Overall': '9', 'Story': '7', 'Animation': '8...   \n",
       "\n",
       "                                                 link  \\\n",
       "0       https://myanimelist.net/reviews.php?id=255938   \n",
       "1       https://myanimelist.net/reviews.php?id=259117   \n",
       "2       https://myanimelist.net/reviews.php?id=253664   \n",
       "3         https://myanimelist.net/reviews.php?id=8254   \n",
       "4       https://myanimelist.net/reviews.php?id=291149   \n",
       "...                                               ...   \n",
       "192414  https://myanimelist.net/reviews.php?id=240067   \n",
       "192415  https://myanimelist.net/reviews.php?id=285777   \n",
       "192416  https://myanimelist.net/reviews.php?id=286904   \n",
       "192417  https://myanimelist.net/reviews.php?id=287903   \n",
       "192418  https://myanimelist.net/reviews.php?id=299323   \n",
       "\n",
       "                                          favorites_anime  user_id  \n",
       "0       ['33352', '25013', '5530', '33674', '1482', '2...        0  \n",
       "1       ['11061', '31964', '853', '20583', '918', '925...        1  \n",
       "2       ['918', '2904', '11741', '17074', '23273', '32...        2  \n",
       "3                ['5680', '849', '2904', '3588', '37349']        3  \n",
       "4       ['4181', '7791', '9617', '5680', '2167', '4382...        4  \n",
       "...                                                   ...      ...  \n",
       "192414  ['918', '5114', '31964', '853', '30', '934', '...    12951  \n",
       "192415                   ['9253', '6702', '1575', '5114']    27497  \n",
       "192416  ['11061', '32182', '885', '35120', '949', '200...    19032  \n",
       "192417                                                 []    27498  \n",
       "192418                                          ['11111']    27499  \n",
       "\n",
       "[192419 rows x 9 columns]"
      ]
     },
     "execution_count": 6,
     "metadata": {},
     "output_type": "execute_result"
    }
   ],
   "source": [
    "reviews_cut"
   ]
  },
  {
   "cell_type": "markdown",
   "metadata": {
    "id": "D97CoFjUdjgJ"
   },
   "source": [
    "# Regression model"
   ]
  },
  {
   "cell_type": "markdown",
   "metadata": {
    "id": "qz7dE2lFf5gN"
   },
   "source": [
    "## PURE CONTENT BASED MODELS\n",
    "\n",
    "We will explore application of regression and classification approaches.\n",
    "\n",
    "In regression task (in its straightforward implementation) we want to predict average score based on any parameter (parameters) of anime. Here we will use TFIDF vectors of synopsis of each anime\n",
    "\n",
    "$$\n",
    "S = W * x +W_0\n",
    "$$\n",
    "\n",
    "where $x$ - tfidf vectors $S$ -predicted scores, $W_0$ -bias\n",
    "\n",
    "We have TfIdf vectores and average scores to pursue this task"
   ]
  },
  {
   "cell_type": "code",
   "execution_count": 6,
   "metadata": {
    "id": "E60Q3lM1TSx3"
   },
   "outputs": [],
   "source": [
    "\n",
    "def get_test_pairs(reviews, n_pairs, score_cutoff=5, seed=0):\n",
    "  rs = np.random.RandomState(0)\n",
    "  subset = reviews[reviews_cut.favorites_anime.apply( lambda x : len(x) >0)]\n",
    "\n",
    "  user_favorites = (\n",
    "      subset\n",
    "      .query('score >= @score_cutoff' )\n",
    "      .groupby('user_id')['anime_id']\n",
    "      .apply(list)\n",
    "      # .set_index('user_id')['favorites_anime']\n",
    "      .apply(lambda x: rs.choice(x, n_pairs, replace=False) if len(x)>=n_pairs else [])\n",
    "      .loc[lambda x: x.apply(len) > 0]\n",
    "      .rename('likes')\n",
    "  )\n",
    "  user_negatives = (\n",
    "      subset\n",
    "      .query('score < @score_cutoff and user_id in @user_favorites.index')\n",
    "      .groupby('user_id')['anime_id']\n",
    "      .apply(list)\n",
    "      .apply(lambda x: rs.choice(x, n_pairs, replace=False) if len(x)>=n_pairs else [])\n",
    "      .loc[lambda x: x.apply(len) > 0]\n",
    "      .rename('dislikes')\n",
    "  )\n",
    "  test_pairs = pd.concat([user_favorites, user_negatives], axis=1, join='inner')\n",
    "  return test_pairs"
   ]
  },
  {
   "cell_type": "code",
   "execution_count": 7,
   "metadata": {
    "colab": {
     "base_uri": "https://localhost:8080/",
     "height": 455
    },
    "id": "w0Mexss7EaoQ",
    "outputId": "8dc88449-6c1d-4851-c2af-4922d9363193"
   },
   "outputs": [
    {
     "data": {
      "text/html": [
       "<div>\n",
       "<style scoped>\n",
       "    .dataframe tbody tr th:only-of-type {\n",
       "        vertical-align: middle;\n",
       "    }\n",
       "\n",
       "    .dataframe tbody tr th {\n",
       "        vertical-align: top;\n",
       "    }\n",
       "\n",
       "    .dataframe thead th {\n",
       "        text-align: right;\n",
       "    }\n",
       "</style>\n",
       "<table border=\"1\" class=\"dataframe\">\n",
       "  <thead>\n",
       "    <tr style=\"text-align: right;\">\n",
       "      <th></th>\n",
       "      <th>likes</th>\n",
       "      <th>dislikes</th>\n",
       "    </tr>\n",
       "    <tr>\n",
       "      <th>user_id</th>\n",
       "      <th></th>\n",
       "      <th></th>\n",
       "    </tr>\n",
       "  </thead>\n",
       "  <tbody>\n",
       "    <tr>\n",
       "      <th>6</th>\n",
       "      <td>[28825, 5958, 387]</td>\n",
       "      <td>[32901, 11757, 32281]</td>\n",
       "    </tr>\n",
       "    <tr>\n",
       "      <th>10</th>\n",
       "      <td>[586, 33487, 167]</td>\n",
       "      <td>[3974, 667, 9675]</td>\n",
       "    </tr>\n",
       "    <tr>\n",
       "      <th>13</th>\n",
       "      <td>[33352, 32615, 35557]</td>\n",
       "      <td>[35073, 37349, 33926]</td>\n",
       "    </tr>\n",
       "    <tr>\n",
       "      <th>20</th>\n",
       "      <td>[1575, 11757, 21405]</td>\n",
       "      <td>[2167, 2167, 31404]</td>\n",
       "    </tr>\n",
       "    <tr>\n",
       "      <th>28</th>\n",
       "      <td>[4181, 4177, 4177]</td>\n",
       "      <td>[2158, 2476, 2158]</td>\n",
       "    </tr>\n",
       "    <tr>\n",
       "      <th>...</th>\n",
       "      <td>...</td>\n",
       "      <td>...</td>\n",
       "    </tr>\n",
       "    <tr>\n",
       "      <th>33724</th>\n",
       "      <td>[25519, 1808, 34933]</td>\n",
       "      <td>[19315, 16436, 3287]</td>\n",
       "    </tr>\n",
       "    <tr>\n",
       "      <th>34104</th>\n",
       "      <td>[3958, 4246, 6922]</td>\n",
       "      <td>[9330, 2787, 9331]</td>\n",
       "    </tr>\n",
       "    <tr>\n",
       "      <th>34743</th>\n",
       "      <td>[33487, 35069, 33506]</td>\n",
       "      <td>[34823, 31404, 34350]</td>\n",
       "    </tr>\n",
       "    <tr>\n",
       "      <th>37165</th>\n",
       "      <td>[147, 34497, 39326]</td>\n",
       "      <td>[34823, 34104, 38814]</td>\n",
       "    </tr>\n",
       "    <tr>\n",
       "      <th>38078</th>\n",
       "      <td>[2362, 1765, 2792]</td>\n",
       "      <td>[1585, 2776, 2475]</td>\n",
       "    </tr>\n",
       "  </tbody>\n",
       "</table>\n",
       "<p>1169 rows × 2 columns</p>\n",
       "</div>"
      ],
      "text/plain": [
       "                         likes               dislikes\n",
       "user_id                                              \n",
       "6           [28825, 5958, 387]  [32901, 11757, 32281]\n",
       "10           [586, 33487, 167]      [3974, 667, 9675]\n",
       "13       [33352, 32615, 35557]  [35073, 37349, 33926]\n",
       "20        [1575, 11757, 21405]    [2167, 2167, 31404]\n",
       "28          [4181, 4177, 4177]     [2158, 2476, 2158]\n",
       "...                        ...                    ...\n",
       "33724     [25519, 1808, 34933]   [19315, 16436, 3287]\n",
       "34104       [3958, 4246, 6922]     [9330, 2787, 9331]\n",
       "34743    [33487, 35069, 33506]  [34823, 31404, 34350]\n",
       "37165      [147, 34497, 39326]  [34823, 34104, 38814]\n",
       "38078       [2362, 1765, 2792]     [1585, 2776, 2475]\n",
       "\n",
       "[1169 rows x 2 columns]"
      ]
     },
     "execution_count": 7,
     "metadata": {},
     "output_type": "execute_result"
    }
   ],
   "source": [
    "get_test_pairs(reviews_cut, 3, score_cutoff=5, seed=0)"
   ]
  },
  {
   "cell_type": "code",
   "execution_count": 8,
   "metadata": {
    "id": "QU5IadBOFvVx"
   },
   "outputs": [],
   "source": [
    "def create_anime_train_test(anime, test_pairs):\n",
    "    labels_to_drop = []\n",
    "    anime_scores = get_scores(anime)\n",
    "    for user_id in test_pairs.index:\n",
    "        labels_to_drop.extend(test_pairs.loc[user_id].likes)\n",
    "        labels_to_drop.extend(test_pairs.loc[user_id].dislikes)\n",
    "    labels_to_drop = set(labels_to_drop)\n",
    "    anime_= anime_scores.query('anime_id not in @labels_to_drop')\n",
    "\n",
    "    return anime_"
   ]
  },
  {
   "cell_type": "code",
   "execution_count": 9,
   "metadata": {
    "id": "mnXR7f_tGCUC"
   },
   "outputs": [],
   "source": [
    "def get_scores(anime):\n",
    "    '''\n",
    "    Cleanup/preprocess scores values.\n",
    "    '''\n",
    "    scored_df = (\n",
    "        anime[['anime_id', 'rating', 'synopsis']]\n",
    "        .query('rating > 0')\n",
    "    )\n",
    "    return scored_df\n",
    "\n",
    "anime_scores = get_scores(anime_cut)"
   ]
  },
  {
   "cell_type": "code",
   "execution_count": 10,
   "metadata": {
    "id": "MCyJAnMyF0Gd"
   },
   "outputs": [],
   "source": [
    "test_pairs = get_test_pairs(reviews_cut, 3, score_cutoff=5, seed=0)\n",
    "anime_ = create_anime_train_test(anime_cut, test_pairs)"
   ]
  },
  {
   "cell_type": "code",
   "execution_count": 11,
   "metadata": {},
   "outputs": [
    {
     "data": {
      "text/html": [
       "<div>\n",
       "<style scoped>\n",
       "    .dataframe tbody tr th:only-of-type {\n",
       "        vertical-align: middle;\n",
       "    }\n",
       "\n",
       "    .dataframe tbody tr th {\n",
       "        vertical-align: top;\n",
       "    }\n",
       "\n",
       "    .dataframe thead th {\n",
       "        text-align: right;\n",
       "    }\n",
       "</style>\n",
       "<table border=\"1\" class=\"dataframe\">\n",
       "  <thead>\n",
       "    <tr style=\"text-align: right;\">\n",
       "      <th></th>\n",
       "      <th>anime_id</th>\n",
       "      <th>rating</th>\n",
       "      <th>synopsis</th>\n",
       "    </tr>\n",
       "  </thead>\n",
       "  <tbody>\n",
       "    <tr>\n",
       "      <th>11</th>\n",
       "      <td>34096</td>\n",
       "      <td>8.94</td>\n",
       "      <td>After joining the resistance against the bakuf...</td>\n",
       "    </tr>\n",
       "    <tr>\n",
       "      <th>12</th>\n",
       "      <td>15335</td>\n",
       "      <td>8.95</td>\n",
       "      <td>When Gintoki apprehends a movie pirate at a pr...</td>\n",
       "    </tr>\n",
       "    <tr>\n",
       "      <th>15</th>\n",
       "      <td>15417</td>\n",
       "      <td>8.98</td>\n",
       "      <td>While Gintoki Sakata was away, the Yorozuya fo...</td>\n",
       "    </tr>\n",
       "    <tr>\n",
       "      <th>18</th>\n",
       "      <td>4672</td>\n",
       "      <td>8.06</td>\n",
       "      <td>Mamoru Oshii's first Ghost in the Shell cybers...</td>\n",
       "    </tr>\n",
       "    <tr>\n",
       "      <th>19</th>\n",
       "      <td>8038</td>\n",
       "      <td>7.88</td>\n",
       "      <td>Violinist Kiyora Miki meets with Shinichi Chia...</td>\n",
       "    </tr>\n",
       "    <tr>\n",
       "      <th>...</th>\n",
       "      <td>...</td>\n",
       "      <td>...</td>\n",
       "      <td>...</td>\n",
       "    </tr>\n",
       "    <tr>\n",
       "      <th>16210</th>\n",
       "      <td>36043</td>\n",
       "      <td>7.48</td>\n",
       "      <td>An unaired 11th episode included with the Blu-...</td>\n",
       "    </tr>\n",
       "    <tr>\n",
       "      <th>16211</th>\n",
       "      <td>10075</td>\n",
       "      <td>7.50</td>\n",
       "      <td>All-new animation offered throughout UNIQLO cl...</td>\n",
       "    </tr>\n",
       "    <tr>\n",
       "      <th>16212</th>\n",
       "      <td>35828</td>\n",
       "      <td>7.50</td>\n",
       "      <td>High school student Sora Kashiwagi is accustom...</td>\n",
       "    </tr>\n",
       "    <tr>\n",
       "      <th>16214</th>\n",
       "      <td>33082</td>\n",
       "      <td>7.56</td>\n",
       "      <td>For years, the Niflheim Empire and the kingdom...</td>\n",
       "    </tr>\n",
       "    <tr>\n",
       "      <th>16215</th>\n",
       "      <td>16934</td>\n",
       "      <td>7.56</td>\n",
       "      <td>Although Yuuta Togashi and Rikka Takanashi hav...</td>\n",
       "    </tr>\n",
       "  </tbody>\n",
       "</table>\n",
       "<p>13429 rows × 3 columns</p>\n",
       "</div>"
      ],
      "text/plain": [
       "       anime_id  rating                                           synopsis\n",
       "11        34096    8.94  After joining the resistance against the bakuf...\n",
       "12        15335    8.95  When Gintoki apprehends a movie pirate at a pr...\n",
       "15        15417    8.98  While Gintoki Sakata was away, the Yorozuya fo...\n",
       "18         4672    8.06  Mamoru Oshii's first Ghost in the Shell cybers...\n",
       "19         8038    7.88  Violinist Kiyora Miki meets with Shinichi Chia...\n",
       "...         ...     ...                                                ...\n",
       "16210     36043    7.48  An unaired 11th episode included with the Blu-...\n",
       "16211     10075    7.50  All-new animation offered throughout UNIQLO cl...\n",
       "16212     35828    7.50  High school student Sora Kashiwagi is accustom...\n",
       "16214     33082    7.56  For years, the Niflheim Empire and the kingdom...\n",
       "16215     16934    7.56  Although Yuuta Togashi and Rikka Takanashi hav...\n",
       "\n",
       "[13429 rows x 3 columns]"
      ]
     },
     "execution_count": 11,
     "metadata": {},
     "output_type": "execute_result"
    }
   ],
   "source": [
    "anime_"
   ]
  },
  {
   "cell_type": "code",
   "execution_count": 12,
   "metadata": {
    "id": "Bqwjwe8DLdzr"
   },
   "outputs": [],
   "source": [
    "def build_cb_model(config, trainset, trainset_description):\n",
    "    # create TfIDF matrix\n",
    "    word_vectorizer = TfidfVectorizer(**config['tfidf'])\n",
    "    tfidf_matrix = word_vectorizer.fit_transform(trainset[trainset_description['item_features']])\n",
    "    # fit model\n",
    "    reg = LinearRegression().fit(tfidf_matrix, trainset[trainset_description['feedback']].values)\n",
    "    return reg, word_vectorizer\n",
    "\n",
    "\n",
    "def cb_model_scoring(params, testset, testset_description):\n",
    "    reg, word_vectorizer = params\n",
    "    tf_idf_matrix = word_vectorizer.transform(testset[testset_description['item_features']])\n",
    "    scores = reg.predict(tf_idf_matrix)\n",
    "    return scores"
   ]
  },
  {
   "cell_type": "code",
   "execution_count": 13,
   "metadata": {
    "id": "cXTusBqZLdrX"
   },
   "outputs": [],
   "source": [
    "\n",
    "cb_config = {\n",
    "    \"tfidf\": dict( # TfIDF Vectorizer config\n",
    "        ngram_range = (1, 1),\n",
    "        min_df=5, max_df=0.9,\n",
    "        strip_accents='unicode',\n",
    "        stop_words = 'english',\n",
    "        analyzer = 'word',\n",
    "        use_idf=1,\n",
    "        smooth_idf=1,\n",
    "        sublinear_tf=1\n",
    "    ),\n",
    "}\n",
    "# we also define a general representation of our dataset\n",
    "anime_description = {\n",
    "    'feedback' : \"rating\",\n",
    "    \"items\": \"anime_id\",\n",
    "    \"item_features\": \"synopsis\",}"
   ]
  },
  {
   "cell_type": "code",
   "execution_count": 14,
   "metadata": {
    "id": "AbIQVutcLdpB"
   },
   "outputs": [],
   "source": [
    "\n",
    "\n",
    "cb_params = build_cb_model(cb_config, anime_, anime_description)\n",
    "cb_scores = cb_model_scoring(cb_params, anime_, anime_description)"
   ]
  },
  {
   "cell_type": "code",
   "execution_count": null,
   "metadata": {},
   "outputs": [],
   "source": []
  },
  {
   "cell_type": "markdown",
   "metadata": {
    "id": "om74aDKBeGMN"
   },
   "source": [
    "# A little bit of analysis"
   ]
  },
  {
   "cell_type": "code",
   "execution_count": 15,
   "metadata": {
    "id": "0f8tIiJnLdmL"
   },
   "outputs": [],
   "source": [
    "def top_idx(a, topk):\n",
    "    parted = np.argpartition(a, -topk)[-topk:]\n",
    "    return parted[np.argsort(-a[parted])]"
   ]
  },
  {
   "cell_type": "code",
   "execution_count": 16,
   "metadata": {
    "id": "PFoHIbxRNvi7"
   },
   "outputs": [],
   "source": [
    "def significant_features(params, topn=10, reverse=False):\n",
    "    reg, word_vectorizer = params\n",
    "    features_weights = reg.coef_.squeeze()\n",
    "    if reverse:\n",
    "        features_weights = -features_weights\n",
    "    top_features_idx = top_idx(features_weights, topn)\n",
    "    features = word_vectorizer.get_feature_names()\n",
    "\n",
    "    feature_scores = pd.DataFrame(\n",
    "        zip(np.array(features)[top_features_idx], np.array(features_weights)[top_features_idx]),\n",
    "        columns = ['feature', 'weight']\n",
    "    )\n",
    "    return feature_scores"
   ]
  },
  {
   "cell_type": "code",
   "execution_count": 17,
   "metadata": {
    "colab": {
     "base_uri": "https://localhost:8080/",
     "height": 363
    },
    "id": "xps3UsRELdbn",
    "outputId": "2f7dc9b0-0f10-42f2-9d07-dc2731b6ae86"
   },
   "outputs": [
    {
     "data": {
      "text/html": [
       "<div>\n",
       "<style scoped>\n",
       "    .dataframe tbody tr th:only-of-type {\n",
       "        vertical-align: middle;\n",
       "    }\n",
       "\n",
       "    .dataframe tbody tr th {\n",
       "        vertical-align: top;\n",
       "    }\n",
       "\n",
       "    .dataframe thead th {\n",
       "        text-align: right;\n",
       "    }\n",
       "</style>\n",
       "<table border=\"1\" class=\"dataframe\">\n",
       "  <thead>\n",
       "    <tr style=\"text-align: right;\">\n",
       "      <th></th>\n",
       "      <th>feature</th>\n",
       "      <th>weight</th>\n",
       "    </tr>\n",
       "  </thead>\n",
       "  <tbody>\n",
       "    <tr>\n",
       "      <th>0</th>\n",
       "      <td>ryougi</td>\n",
       "      <td>22.524513</td>\n",
       "    </tr>\n",
       "    <tr>\n",
       "      <th>1</th>\n",
       "      <td>heartfelt</td>\n",
       "      <td>18.450651</td>\n",
       "    </tr>\n",
       "    <tr>\n",
       "      <th>2</th>\n",
       "      <td>musel</td>\n",
       "      <td>16.321100</td>\n",
       "    </tr>\n",
       "    <tr>\n",
       "      <th>3</th>\n",
       "      <td>require</td>\n",
       "      <td>15.896245</td>\n",
       "    </tr>\n",
       "    <tr>\n",
       "      <th>4</th>\n",
       "      <td>abruptly</td>\n",
       "      <td>15.394938</td>\n",
       "    </tr>\n",
       "    <tr>\n",
       "      <th>5</th>\n",
       "      <td>consideration</td>\n",
       "      <td>15.111381</td>\n",
       "    </tr>\n",
       "    <tr>\n",
       "      <th>6</th>\n",
       "      <td>downs</td>\n",
       "      <td>13.478662</td>\n",
       "    </tr>\n",
       "    <tr>\n",
       "      <th>7</th>\n",
       "      <td>loaded</td>\n",
       "      <td>13.141572</td>\n",
       "    </tr>\n",
       "    <tr>\n",
       "      <th>8</th>\n",
       "      <td>responds</td>\n",
       "      <td>12.972698</td>\n",
       "    </tr>\n",
       "    <tr>\n",
       "      <th>9</th>\n",
       "      <td>inexplicable</td>\n",
       "      <td>12.021865</td>\n",
       "    </tr>\n",
       "  </tbody>\n",
       "</table>\n",
       "</div>"
      ],
      "text/plain": [
       "         feature     weight\n",
       "0         ryougi  22.524513\n",
       "1      heartfelt  18.450651\n",
       "2          musel  16.321100\n",
       "3        require  15.896245\n",
       "4       abruptly  15.394938\n",
       "5  consideration  15.111381\n",
       "6          downs  13.478662\n",
       "7         loaded  13.141572\n",
       "8       responds  12.972698\n",
       "9   inexplicable  12.021865"
      ]
     },
     "execution_count": 17,
     "metadata": {},
     "output_type": "execute_result"
    }
   ],
   "source": [
    "significant_features(cb_params)"
   ]
  },
  {
   "cell_type": "code",
   "execution_count": 18,
   "metadata": {
    "colab": {
     "base_uri": "https://localhost:8080/",
     "height": 363
    },
    "id": "HoTaW2hwN7Jq",
    "outputId": "af349aed-c6c3-49f2-d5f2-7f83147ba312"
   },
   "outputs": [
    {
     "data": {
      "text/html": [
       "<div>\n",
       "<style scoped>\n",
       "    .dataframe tbody tr th:only-of-type {\n",
       "        vertical-align: middle;\n",
       "    }\n",
       "\n",
       "    .dataframe tbody tr th {\n",
       "        vertical-align: top;\n",
       "    }\n",
       "\n",
       "    .dataframe thead th {\n",
       "        text-align: right;\n",
       "    }\n",
       "</style>\n",
       "<table border=\"1\" class=\"dataframe\">\n",
       "  <thead>\n",
       "    <tr style=\"text-align: right;\">\n",
       "      <th></th>\n",
       "      <th>feature</th>\n",
       "      <th>weight</th>\n",
       "    </tr>\n",
       "  </thead>\n",
       "  <tbody>\n",
       "    <tr>\n",
       "      <th>0</th>\n",
       "      <td>kokutou</td>\n",
       "      <td>20.606494</td>\n",
       "    </tr>\n",
       "    <tr>\n",
       "      <th>1</th>\n",
       "      <td>mining</td>\n",
       "      <td>18.636703</td>\n",
       "    </tr>\n",
       "    <tr>\n",
       "      <th>2</th>\n",
       "      <td>reinhard</td>\n",
       "      <td>15.107629</td>\n",
       "    </tr>\n",
       "    <tr>\n",
       "      <th>3</th>\n",
       "      <td>acknowledges</td>\n",
       "      <td>12.776116</td>\n",
       "    </tr>\n",
       "    <tr>\n",
       "      <th>4</th>\n",
       "      <td>resonant</td>\n",
       "      <td>12.634090</td>\n",
       "    </tr>\n",
       "    <tr>\n",
       "      <th>5</th>\n",
       "      <td>utmost</td>\n",
       "      <td>12.175836</td>\n",
       "    </tr>\n",
       "    <tr>\n",
       "      <th>6</th>\n",
       "      <td>finest</td>\n",
       "      <td>12.131593</td>\n",
       "    </tr>\n",
       "    <tr>\n",
       "      <th>7</th>\n",
       "      <td>cranston</td>\n",
       "      <td>11.351360</td>\n",
       "    </tr>\n",
       "    <tr>\n",
       "      <th>8</th>\n",
       "      <td>completion</td>\n",
       "      <td>11.182373</td>\n",
       "    </tr>\n",
       "    <tr>\n",
       "      <th>9</th>\n",
       "      <td>chat</td>\n",
       "      <td>11.034316</td>\n",
       "    </tr>\n",
       "  </tbody>\n",
       "</table>\n",
       "</div>"
      ],
      "text/plain": [
       "        feature     weight\n",
       "0       kokutou  20.606494\n",
       "1        mining  18.636703\n",
       "2      reinhard  15.107629\n",
       "3  acknowledges  12.776116\n",
       "4      resonant  12.634090\n",
       "5        utmost  12.175836\n",
       "6        finest  12.131593\n",
       "7      cranston  11.351360\n",
       "8    completion  11.182373\n",
       "9          chat  11.034316"
      ]
     },
     "execution_count": 18,
     "metadata": {},
     "output_type": "execute_result"
    }
   ],
   "source": [
    "significant_features(cb_params, reverse=True)"
   ]
  },
  {
   "cell_type": "code",
   "execution_count": 19,
   "metadata": {
    "id": "cP3L-iCbYvqE"
   },
   "outputs": [],
   "source": [
    "def test_prep(test_pairs, reviews, anime):\n",
    "  user_likes, user_dislikes, user_favs = dict(), dict(), dict()\n",
    "  for i in range(len(test_pairs.reset_index())):\n",
    "    user_id, l, d = test_pairs.reset_index().iloc[i]\n",
    "    user_likes[user_id] = anime[anime.anime_id.isin(l)].drop_duplicates().synopsis.array\n",
    "    user_dislikes[user_id] = anime[anime.anime_id.isin(d)].drop_duplicates().synopsis.array\n",
    "    favs = reviews[reviews.user_id == user_id].favorites_anime \n",
    "    favs = set(favs) - (set(l)|set(d))\n",
    "    favs = ast.literal_eval(list(favs)[0])\n",
    "    if len(anime[anime.anime_id.isin(list(map(int, favs)))].drop_duplicates().synopsis.array )>0:\n",
    "        user_favs[user_id] = anime[anime.anime_id.isin(list(map(int, favs)))].drop_duplicates().synopsis.array\n",
    "    else:\n",
    "        user_favs[user_id] = ['']\n",
    "  return user_likes, user_dislikes, user_favs"
   ]
  },
  {
   "cell_type": "code",
   "execution_count": 20,
   "metadata": {
    "id": "JsreQWZeZ5BA"
   },
   "outputs": [],
   "source": [
    "def cb_model_evaluation(params, test_pairs, reviews, anime):\n",
    "\n",
    "    reg, word_vectorizer = params\n",
    "    \n",
    "    num_checks = 0\n",
    "    numerator  = 0\n",
    "    user_likes, user_dislikes, user_favs = test_prep(test_pairs, reviews_cut, anime_cut)\n",
    "\n",
    "    for user_id in test_pairs.index:\n",
    "\n",
    "        s = 0\n",
    "        tf_idf_likes = word_vectorizer.transform(user_likes[user_id])\n",
    "        tf_idf_dislikes = word_vectorizer.transform(user_dislikes[user_id])\n",
    "        tf_idf_favs = word_vectorizer.transform(user_favs[user_id])\n",
    "\n",
    "        scores_likes = np.array(reg.predict(tf_idf_likes))\n",
    "        scores_likes = np.where(scores_likes>10, 10, scores_likes)\n",
    "\n",
    "        scores_dislikes = np.array(reg.predict(tf_idf_dislikes))\n",
    "        scores_dislikes = np.where(scores_dislikes>10, 10, scores_dislikes)\n",
    "\n",
    "        scores_favs = np.array(reg.predict(tf_idf_favs))\n",
    "        scores_favs = np.where(scores_favs>10, 10, scores_favs)\n",
    "\n",
    "        length = min(len(user_favs[user_id]), len(user_likes[user_id]), len(user_dislikes[user_id]))\n",
    "        \n",
    "        num_checks += length\n",
    "\n",
    "        s += np.sum(np.abs(scores_likes[:length] - scores_favs[:length]) < np.abs(scores_dislikes[:length] - scores_favs[:length]))\n",
    "\n",
    "        \n",
    "\n",
    "        numerator +=s\n",
    "        \n",
    "        \n",
    "\n",
    "    return numerator / num_checks"
   ]
  },
  {
   "cell_type": "code",
   "execution_count": 21,
   "metadata": {
    "colab": {
     "base_uri": "https://localhost:8080/"
    },
    "id": "6UHJrNY0d8t1",
    "outputId": "e8dc4733-5f15-4f09-fba8-ce3946c7e051"
   },
   "outputs": [
    {
     "data": {
      "text/plain": [
       "0.49751434034416825"
      ]
     },
     "execution_count": 21,
     "metadata": {},
     "output_type": "execute_result"
    }
   ],
   "source": [
    "cb_model_evaluation(cb_params, test_pairs, reviews_cut, anime_cut)"
   ]
  },
  {
   "cell_type": "markdown",
   "metadata": {
    "id": "-MCKd6AVOTph"
   },
   "source": [
    "# Classification Task"
   ]
  },
  {
   "cell_type": "markdown",
   "metadata": {
    "id": "cv0mpSaxOTe9"
   },
   "source": [
    "- Your task is to turn regression model into classification model.\n",
    "- Use `LogisitcRegression` class from `sklearn` fro this.\n",
    "- adopt previously derived functions for the new approach.\n",
    "\n",
    "- try using more than 2 classes (i.e., not just binary)"
   ]
  },
  {
   "cell_type": "markdown",
   "metadata": {
    "id": "2IqwiPqpOTXT"
   },
   "source": [
    "In classification task we predict any category (label). Here we will predict whether the  anime can be recommended or not. We will do it in simple way. For example LogReg\n",
    "\n",
    "\n",
    "$$\n",
    "y_{pred} = \\frac{1}{1+e^{W*x +W_0}}\n",
    "$$\n",
    "\n",
    "But first of all we need to label our dataset. Let's take a look at the scores"
   ]
  },
  {
   "cell_type": "code",
   "execution_count": 22,
   "metadata": {
    "colab": {
     "base_uri": "https://localhost:8080/",
     "height": 283
    },
    "id": "HjZu4rYJOfTP",
    "outputId": "c6d5b066-1262-4dd1-f3fa-92e8082ccb1d"
   },
   "outputs": [
    {
     "data": {
      "text/plain": [
       "<AxesSubplot:>"
      ]
     },
     "execution_count": 22,
     "metadata": {},
     "output_type": "execute_result"
    },
    {
     "data": {
      "image/png": "[encoded data removed]",
      "text/plain": [
       "<Figure size 432x288 with 1 Axes>"
      ]
     },
     "metadata": {
      "needs_background": "light"
     },
     "output_type": "display_data"
    }
   ],
   "source": [
    "anime_cut.rating.hist()"
   ]
  },
  {
   "cell_type": "code",
   "execution_count": 23,
   "metadata": {
    "colab": {
     "base_uri": "https://localhost:8080/"
    },
    "id": "7mjpZlG6OhzB",
    "outputId": "c8f1fd71-7728-46c9-ae36-716b65dfcdc1"
   },
   "outputs": [
    {
     "data": {
      "text/plain": [
       "6.346466141732283"
      ]
     },
     "execution_count": 23,
     "metadata": {},
     "output_type": "execute_result"
    }
   ],
   "source": [
    "anime_cut.rating.mean()"
   ]
  },
  {
   "cell_type": "markdown",
   "metadata": {
    "id": "k1OyTb8UOTQM"
   },
   "source": [
    "The histogram shows that the mean of our average score distribution is a little bit disolased.\n",
    "So we can take its mean as a borderline and say, that all the animes with average score < 6.37 are lame,  and all the animes with scores above this value are lit"
   ]
  },
  {
   "cell_type": "code",
   "execution_count": 24,
   "metadata": {
    "id": "tV7_WEO0O1Em"
   },
   "outputs": [],
   "source": [
    "def get_labels(anime):\n",
    "    labeled_df = anime.assign(\n",
    "        recommend = lambda x: x[\"rating\"].apply(lambda x: int(x >= 6.34))\n",
    "    )\n",
    "    return labeled_df"
   ]
  },
  {
   "cell_type": "code",
   "execution_count": 25,
   "metadata": {
    "id": "LXT5wytQlj5y"
   },
   "outputs": [],
   "source": [
    "anime_cl = get_labels(anime_cut)\n"
   ]
  },
  {
   "cell_type": "code",
   "execution_count": 26,
   "metadata": {
    "id": "qDwSbD7TO8we"
   },
   "outputs": [],
   "source": [
    "\n",
    "def build_cb_log_model(config, trainset, trainset_description):\n",
    "    # create TfIDF matrix\n",
    "    word_vectorizer = TfidfVectorizer(**config['tfidf'])\n",
    "    tfidf_matrix = word_vectorizer.fit_transform(trainset[trainset_description['item_features']])\n",
    "    # fit model\n",
    "    reg = LogisticRegression(**config['model_config']).fit(tfidf_matrix, trainset[trainset_description['feedback']].values)\n",
    "    return reg, word_vectorizer"
   ]
  },
  {
   "cell_type": "code",
   "execution_count": 27,
   "metadata": {
    "id": "SAbkP0c_O8tw"
   },
   "outputs": [],
   "source": [
    "cb_log_config = {**cb_config,   **{\"model_config\": dict(class_weight=\"balanced\")} } \n",
    "anime_description['feedback'] = 'recommend' # 0/1 instead of scores\n",
    "\n",
    "cb_log_params = build_cb_log_model(cb_log_config, anime_cl, anime_description)"
   ]
  },
  {
   "cell_type": "code",
   "execution_count": 28,
   "metadata": {
    "colab": {
     "base_uri": "https://localhost:8080/",
     "height": 363
    },
    "id": "beibNHITO8rJ",
    "outputId": "ed0cc8d9-fec1-45f1-f12a-f408bde77c53"
   },
   "outputs": [
    {
     "data": {
      "text/html": [
       "<div>\n",
       "<style scoped>\n",
       "    .dataframe tbody tr th:only-of-type {\n",
       "        vertical-align: middle;\n",
       "    }\n",
       "\n",
       "    .dataframe tbody tr th {\n",
       "        vertical-align: top;\n",
       "    }\n",
       "\n",
       "    .dataframe thead th {\n",
       "        text-align: right;\n",
       "    }\n",
       "</style>\n",
       "<table border=\"1\" class=\"dataframe\">\n",
       "  <thead>\n",
       "    <tr style=\"text-align: right;\">\n",
       "      <th></th>\n",
       "      <th>feature</th>\n",
       "      <th>weight</th>\n",
       "    </tr>\n",
       "  </thead>\n",
       "  <tbody>\n",
       "    <tr>\n",
       "      <th>0</th>\n",
       "      <td>rewrite</td>\n",
       "      <td>5.594816</td>\n",
       "    </tr>\n",
       "    <tr>\n",
       "      <th>1</th>\n",
       "      <td>written</td>\n",
       "      <td>5.262424</td>\n",
       "    </tr>\n",
       "    <tr>\n",
       "      <th>2</th>\n",
       "      <td>mal</td>\n",
       "      <td>4.108984</td>\n",
       "    </tr>\n",
       "    <tr>\n",
       "      <th>3</th>\n",
       "      <td>ann</td>\n",
       "      <td>2.951133</td>\n",
       "    </tr>\n",
       "    <tr>\n",
       "      <th>4</th>\n",
       "      <td>conan</td>\n",
       "      <td>2.500399</td>\n",
       "    </tr>\n",
       "    <tr>\n",
       "      <th>5</th>\n",
       "      <td>idolish7</td>\n",
       "      <td>2.275051</td>\n",
       "    </tr>\n",
       "    <tr>\n",
       "      <th>6</th>\n",
       "      <td>educational</td>\n",
       "      <td>2.266388</td>\n",
       "    </tr>\n",
       "    <tr>\n",
       "      <th>7</th>\n",
       "      <td>bundled</td>\n",
       "      <td>2.103059</td>\n",
       "    </tr>\n",
       "    <tr>\n",
       "      <th>8</th>\n",
       "      <td>volume</td>\n",
       "      <td>2.095529</td>\n",
       "    </tr>\n",
       "    <tr>\n",
       "      <th>9</th>\n",
       "      <td>pokemon</td>\n",
       "      <td>2.082210</td>\n",
       "    </tr>\n",
       "  </tbody>\n",
       "</table>\n",
       "</div>"
      ],
      "text/plain": [
       "       feature    weight\n",
       "0      rewrite  5.594816\n",
       "1      written  5.262424\n",
       "2          mal  4.108984\n",
       "3          ann  2.951133\n",
       "4        conan  2.500399\n",
       "5     idolish7  2.275051\n",
       "6  educational  2.266388\n",
       "7      bundled  2.103059\n",
       "8       volume  2.095529\n",
       "9      pokemon  2.082210"
      ]
     },
     "execution_count": 28,
     "metadata": {},
     "output_type": "execute_result"
    }
   ],
   "source": [
    "significant_features(cb_log_params)"
   ]
  },
  {
   "cell_type": "code",
   "execution_count": 29,
   "metadata": {
    "colab": {
     "base_uri": "https://localhost:8080/",
     "height": 363
    },
    "id": "B_tITwbOO8oY",
    "outputId": "680a7b8d-651c-4564-b814-14b21416546b"
   },
   "outputs": [
    {
     "data": {
      "text/html": [
       "<div>\n",
       "<style scoped>\n",
       "    .dataframe tbody tr th:only-of-type {\n",
       "        vertical-align: middle;\n",
       "    }\n",
       "\n",
       "    .dataframe tbody tr th {\n",
       "        vertical-align: top;\n",
       "    }\n",
       "\n",
       "    .dataframe thead th {\n",
       "        text-align: right;\n",
       "    }\n",
       "</style>\n",
       "<table border=\"1\" class=\"dataframe\">\n",
       "  <thead>\n",
       "    <tr style=\"text-align: right;\">\n",
       "      <th></th>\n",
       "      <th>feature</th>\n",
       "      <th>weight</th>\n",
       "    </tr>\n",
       "  </thead>\n",
       "  <tbody>\n",
       "    <tr>\n",
       "      <th>0</th>\n",
       "      <td>song</td>\n",
       "      <td>2.764867</td>\n",
       "    </tr>\n",
       "    <tr>\n",
       "      <th>1</th>\n",
       "      <td>anidb</td>\n",
       "      <td>2.445911</td>\n",
       "    </tr>\n",
       "    <tr>\n",
       "      <th>2</th>\n",
       "      <td>video</td>\n",
       "      <td>2.338374</td>\n",
       "    </tr>\n",
       "    <tr>\n",
       "      <th>3</th>\n",
       "      <td>commercial</td>\n",
       "      <td>2.280726</td>\n",
       "    </tr>\n",
       "    <tr>\n",
       "      <th>4</th>\n",
       "      <td>animation</td>\n",
       "      <td>2.164543</td>\n",
       "    </tr>\n",
       "    <tr>\n",
       "      <th>5</th>\n",
       "      <td>minna</td>\n",
       "      <td>2.006023</td>\n",
       "    </tr>\n",
       "    <tr>\n",
       "      <th>6</th>\n",
       "      <td>news</td>\n",
       "      <td>1.987061</td>\n",
       "    </tr>\n",
       "    <tr>\n",
       "      <th>7</th>\n",
       "      <td>korean</td>\n",
       "      <td>1.888858</td>\n",
       "    </tr>\n",
       "    <tr>\n",
       "      <th>8</th>\n",
       "      <td>kitty</td>\n",
       "      <td>1.865318</td>\n",
       "    </tr>\n",
       "    <tr>\n",
       "      <th>9</th>\n",
       "      <td>prefecture</td>\n",
       "      <td>1.782623</td>\n",
       "    </tr>\n",
       "  </tbody>\n",
       "</table>\n",
       "</div>"
      ],
      "text/plain": [
       "      feature    weight\n",
       "0        song  2.764867\n",
       "1       anidb  2.445911\n",
       "2       video  2.338374\n",
       "3  commercial  2.280726\n",
       "4   animation  2.164543\n",
       "5       minna  2.006023\n",
       "6        news  1.987061\n",
       "7      korean  1.888858\n",
       "8       kitty  1.865318\n",
       "9  prefecture  1.782623"
      ]
     },
     "execution_count": 29,
     "metadata": {},
     "output_type": "execute_result"
    }
   ],
   "source": [
    "significant_features(cb_log_params, reverse=True)"
   ]
  },
  {
   "cell_type": "code",
   "execution_count": 30,
   "metadata": {
    "id": "DU0mLZ-6Q_IE"
   },
   "outputs": [],
   "source": [
    "cb_log_scores = cb_model_scoring(cb_log_params, anime_cl, anime_description)"
   ]
  },
  {
   "cell_type": "code",
   "execution_count": 31,
   "metadata": {
    "colab": {
     "base_uri": "https://localhost:8080/",
     "height": 262
    },
    "id": "_ZW0aVUsRDXb",
    "outputId": "4ffdd82a-ccbc-4691-aa32-de70f1dae558"
   },
   "outputs": [
    {
     "data": {
      "image/png": "[encoded data removed]",
      "text/plain": [
       "<Figure size 432x288 with 1 Axes>"
      ]
     },
     "metadata": {
      "needs_background": "light"
     },
     "output_type": "display_data"
    }
   ],
   "source": [
    "pd.Series(cb_log_scores).value_counts().plot.bar();\n"
   ]
  },
  {
   "cell_type": "code",
   "execution_count": 32,
   "metadata": {
    "id": "9IZp2xJyO8kA"
   },
   "outputs": [],
   "source": [
    "def cb_log_model_evaluation(params, test_pairs, reviews, anime):\n",
    "\n",
    "    reg, word_vectorizer = params\n",
    "    \n",
    "    num_checks = 0\n",
    "    numerator  = 0\n",
    "    user_likes, user_dislikes, user_favs = test_prep(test_pairs, reviews_cut, anime)\n",
    "\n",
    "    for user_id in test_pairs.index:\n",
    "\n",
    "        s = 0\n",
    "        tf_idf_likes = word_vectorizer.transform(user_likes[user_id])\n",
    "        tf_idf_dislikes = word_vectorizer.transform(user_dislikes[user_id])\n",
    "        tf_idf_favs = word_vectorizer.transform(user_favs[user_id])\n",
    "\n",
    "        scores_likes = np.array(reg.predict_proba(tf_idf_likes))[:,1]\n",
    "        scores_likes = np.where(scores_likes>10, 10, scores_likes)\n",
    "\n",
    "        scores_dislikes = np.array(reg.predict_proba(tf_idf_dislikes))[:,1]\n",
    "        scores_dislikes = np.where(scores_dislikes>10, 10, scores_dislikes)\n",
    "\n",
    "        scores_favs = np.array(reg.predict_proba(tf_idf_favs))[:,1]\n",
    "        scores_favs = np.where(scores_favs>10, 10, scores_favs)\n",
    "\n",
    "        length = min(len(user_favs[user_id]), len(user_likes[user_id]), len(user_dislikes[user_id]))\n",
    "        #\n",
    "        num_checks += length\n",
    "\n",
    "        s += np.sum(np.abs(scores_likes[:length] - scores_favs[:length]) < np.abs(scores_dislikes[:length] - scores_favs[:length]))\n",
    "\n",
    "        \n",
    "\n",
    "        numerator +=s\n",
    "        \n",
    "        \n",
    "\n",
    "    return numerator / num_checks"
   ]
  },
  {
   "cell_type": "code",
   "execution_count": 33,
   "metadata": {
    "colab": {
     "base_uri": "https://localhost:8080/"
    },
    "id": "K4AOtfJFQP9x",
    "outputId": "ec9250af-8968-4d29-fded-8bbed9fab915"
   },
   "outputs": [
    {
     "data": {
      "text/plain": [
       "0.5667304015296367"
      ]
     },
     "execution_count": 33,
     "metadata": {},
     "output_type": "execute_result"
    }
   ],
   "source": [
    "cb_log_model_evaluation(cb_log_params, test_pairs, reviews_cut, anime_cl)"
   ]
  },
  {
   "cell_type": "markdown",
   "metadata": {
    "id": "omzbcLvoY9-H"
   },
   "source": [
    "# Cosine similarity"
   ]
  },
  {
   "cell_type": "markdown",
   "metadata": {
    "id": "8TtGzITjftru"
   },
   "source": [
    "## USER PROFILE\n",
    "\n",
    "Let's have user $u_{i}$, who gave ratings $r_{i,j}$ to each anime $a_{j}$. (In our case $a_{j}$ is TFiDF representation of the current anime) So user profile vector will be the following:\n",
    "\n",
    "$$\n",
    "u_{i} = \\frac{\\sum_{j} (r_{i,j} \\times a_{j})}{\\sum_{j} r_{i,j}}\n",
    "$$"
   ]
  },
  {
   "cell_type": "code",
   "execution_count": 34,
   "metadata": {
    "id": "76vRtYci0j4W"
   },
   "outputs": [],
   "source": [
    "def user_profiles(tf_idf, test_pairs, reviews, anime):\n",
    "    aid_index_dict, index_aid_dict = re_index(anime, 'anime_id')\n",
    "    \n",
    "    user_profile = dict()\n",
    "    for i in test_pairs.index:\n",
    "      vec = 0\n",
    "      denom = 0\n",
    "      user_history = reviews[reviews.user_id == i][[ \"anime_id\", \"score\"]]\n",
    "      for ind in range(len(user_history)):\n",
    "        \n",
    "        anime_id, score = user_history.iloc[ind]\n",
    "        if (anime_id not in test_pairs[test_pairs.index ==i].likes) and (anime_id not in test_pairs[test_pairs.index ==i].dislikes):\n",
    "          vec += tf_idf[aid_index_dict[anime_id]] *score\n",
    "          denom += score\n",
    "      user_profile[i] = vec/denom\n",
    "    return user_profile"
   ]
  },
  {
   "cell_type": "code",
   "execution_count": 35,
   "metadata": {
    "id": "I-sA4590aQZ5"
   },
   "outputs": [],
   "source": [
    "def build_sim_model(config, trainset, trainset_description):\n",
    "    word_vectorizer = TfidfVectorizer(**config['tfidf'])\n",
    "    tfidf_matrix = word_vectorizer.fit_transform(trainset[trainset_description['item_features']])\n",
    "    users_profiles = user_profiles(tfidf_matrix, config['test_pairs'], config[\"reviews\"], config[\"anime\"])\n",
    "\n",
    "    return word_vectorizer,  users_profiles"
   ]
  },
  {
   "cell_type": "code",
   "execution_count": 36,
   "metadata": {
    "id": "QGHtFF-lB7NC"
   },
   "outputs": [],
   "source": [
    "\n",
    "sim_config = {\n",
    "    \"tfidf\": dict(\n",
    "        ngram_range = (1, 1),\n",
    "        min_df=5, max_df=0.9,\n",
    "        strip_accents='unicode',\n",
    "        stop_words = 'english',\n",
    "        analyzer = 'word',\n",
    "        use_idf=1,\n",
    "        smooth_idf=1,\n",
    "        sublinear_tf=1\n",
    "    ),\n",
    "    \"reviews\" :  reviews_cut,\n",
    "    \"anime\" : anime_cut,\n",
    "    'test_pairs' : test_pairs\n",
    "}\n",
    "\n",
    "\n",
    "anime_description = {\n",
    "    'feedback' : \"rating\",\n",
    "    \"items\": \"anime_id\",\n",
    "    \"item_features\": \"synopsis\",}"
   ]
  },
  {
   "cell_type": "code",
   "execution_count": 37,
   "metadata": {
    "colab": {
     "base_uri": "https://localhost:8080/"
    },
    "id": "QUREf_ytB7Jz",
    "outputId": "c0964ad3-aaca-4d2c-a3af-60a50f502396"
   },
   "outputs": [],
   "source": [
    "params = build_sim_model(sim_config, anime_cut, anime_description)"
   ]
  },
  {
   "cell_type": "code",
   "execution_count": 38,
   "metadata": {
    "id": "WiwY-mnRDv0m"
   },
   "outputs": [],
   "source": [
    "def sim_model_scoring(params, test_pairs, anime, reviews):\n",
    "    word_vectorizer,  users_profiles = params\n",
    "    \n",
    "    \n",
    "    m = len(test_pairs)\n",
    "\n",
    "    numerator  = 0\n",
    "    user_likes, user_dislikes, user_favs = test_prep(test_pairs, reviews_cut, anime)\n",
    "    for user_id in users_profiles.keys():\n",
    "        \n",
    "\n",
    "        s =0\n",
    "\n",
    "        \n",
    "        like = test_pairs[test_pairs.index ==user_id].likes\n",
    "        likes_text = anime[anime.anime_id.isin(like.values[0])].synopsis.tolist()\n",
    "        \n",
    "        if (len(likes_text) == 0):\n",
    "          likes_text = ['']\n",
    "        # print(like)\n",
    "        dislike = test_pairs[test_pairs.index ==user_id].dislikes\n",
    "        \n",
    "        dislikes_text = anime[anime.anime_id.isin(dislike.values[0])].synopsis.tolist()\n",
    "        if (len(dislikes_text) == 0):\n",
    "          dislikes_text = ['']\n",
    "        n = min(len(likes_text), len(dislikes_text))\n",
    "      \n",
    "        s =0\n",
    "        \n",
    "        tf_idf_matrix_like = word_vectorizer.transform(likes_text)\n",
    "        tf_idf_matrix_dislike = word_vectorizer.transform(dislikes_text)\n",
    "\n",
    "        cs_like = cosine_similarity(users_profiles[user_id], tf_idf_matrix_like).flatten()[:n]\n",
    "        cs_dislike = cosine_similarity(users_profiles[user_id], tf_idf_matrix_dislike).flatten()[:n]\n",
    "        # print(cs_like, cs_dislike)\n",
    "        s+= sum(cs_like >= cs_dislike)\n",
    "        # print(s)\n",
    "\n",
    "        numerator +=s\n",
    "\n",
    "    return numerator / (n*m)\n"
   ]
  },
  {
   "cell_type": "code",
   "execution_count": 39,
   "metadata": {
    "colab": {
     "base_uri": "https://localhost:8080/"
    },
    "id": "OIFFX7VNKuhV",
    "outputId": "776187c3-3b9d-4e51-d85a-63daf1cd43c8"
   },
   "outputs": [
    {
     "data": {
      "text/plain": [
       "0.7770173937838608"
      ]
     },
     "execution_count": 39,
     "metadata": {},
     "output_type": "execute_result"
    }
   ],
   "source": [
    "sim_model_scoring(params, test_pairs, anime_cut, reviews_cut)"
   ]
  },
  {
   "cell_type": "code",
   "execution_count": null,
   "metadata": {
    "id": "22H7Y0LmZ_1F"
   },
   "outputs": [],
   "source": [
    " "
   ]
  }
 ],
 "metadata": {
  "colab": {
   "provenance": []
  },
  "kernelspec": {
   "display_name": "Python 3 (ipykernel)",
   "language": "python",
   "name": "python3"
  },
  "language_info": {
   "codemirror_mode": {
    "name": "ipython",
    "version": 3
   },
   "file_extension": ".py",
   "mimetype": "text/x-python",
   "name": "python",
   "nbconvert_exporter": "python",
   "pygments_lexer": "ipython3",
   "version": "3.10.6"
  }
 },
 "nbformat": 4,
 "nbformat_minor": 1
}
