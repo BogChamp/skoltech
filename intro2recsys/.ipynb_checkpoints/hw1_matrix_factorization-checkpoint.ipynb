{
 "cells": [
  {
   "cell_type": "markdown",
   "metadata": {
    "id": "OH0OmsmhPuvk"
   },
   "source": [
    "# Federated collaborative filtering "
   ]
  },
  {
   "cell_type": "markdown",
   "metadata": {
    "id": "tfajZToNP8Ux"
   },
   "source": [
    "Your task is to implement federated collaborative filterng model for privacy-preserving personalized recommendation system.  \n",
    "In the Federated Learning paradigm, a master machine learning model is distributed to user clients, the clients use their locally stored data and model for both inference and calculating model updates. The model updates are sent back and aggregated on the server to update the master\n",
    "model then redistributed to the clients. In this paradigm, the user data never leaves the client, greatly enhancing the user’ privacy, in contrast to the traditional paradigm of collecting, storing and processing user data on a backend server beyond the user’s control. The federated updates to the model are based on a gradient approach. \n",
    "\n",
    "Specifically, the method defines three core components as below.\n",
    "1. All the item factor vectors $y_i, i = 1, ... , M$ are updated on the server and then distributed to each client $u$.\n",
    "2. The user factor vectors $x_u, u = 1, ... , N$ are updated locally on the client $u$, using the user $u$’s own data and the $y_i, i = 1, ... , M$ from the server.\n",
    "3. The updates through the gradients $\\delta y_{ui}$ are calculated for the item $i$ on each client $u$ and transmitted to the server where the gradients are aggregated to update $y_i$.\n",
    "\n",
    "The cost function optimizing across all users $u$ and the items $i$ over the confidence levels $c_{ui}$ is then given as\n",
    "\n",
    "$$J = \\sum_u \\sum_i c_{ui}(p_{ui} - x_u^T y_i)^2 + \\lambda (\\sum_u||x_u||^2 + \\sum_i ||y_i||^2),$$\n",
    "with a regularization parameter $\\lambda$,\n",
    "where \n",
    "$$p_{ui} = \\begin{cases}  \n",
    "1 & r_{ui} > 0,\\\\\n",
    "0 & r_{ui} = 0\n",
    "\\end{cases}$$\n",
    " $$c_{ui} = 1 + \\alpha r_{ui}$$\n",
    "\n",
    "User factors are updated by directly solving an equation\n",
    "\n",
    "$$ \\frac{\\partial J(x_u)}{\\partial x_u} = 0 $$\n",
    "Thus, we obtain the solution\n",
    "$$ x_u = (YC^uY^T + \\lambda I)^{-1}YC^up(u),$$\n",
    "where $ C^u \\in \\mathbb{R}^{N \\times N}$ is a diagonal matrix with $C_{ii}^u = c_{ui}$ and $p(u) \\in \\mathbb{R}^{N \\times 1}$ contains the $p_{ui}$ values for the user $u$.\n",
    "\n",
    "Item factors are updated on the master server as\n",
    "\n",
    "$$ y_i = y_i - \\gamma \\frac{\\partial J}{\\partial y_i},$$\n",
    "\n",
    "where gamma is gain parameter.\n",
    "\n",
    "$$ \\frac{\\partial J}{\\partial y_i} = -2 \\sum_u f(u,i) +2 \\lambda y_i, $$\n",
    "where \n",
    "$$ f(u,i) = \\left[ c_{ui}(p_{ui} - x_u^T y_i)\\right]x_u.$$\n",
    "\n",
    "To familiarise yourself with the method, read the paper https://arxiv.org/pdf/1901.09888.pdf\n"
   ]
  },
  {
   "cell_type": "code",
   "execution_count": 1,
   "metadata": {
    "id": "ko6DPW-jTzP1"
   },
   "outputs": [],
   "source": [
    "#!pip install ipypb"
   ]
  },
  {
   "cell_type": "code",
   "execution_count": 2,
   "metadata": {
    "id": "ft1dYl4jD6hM"
   },
   "outputs": [],
   "source": [
    "#!pip install --upgrade git+https://github.com/evfro/polara.git@develop#egg=polara"
   ]
  },
  {
   "cell_type": "code",
   "execution_count": 3,
   "metadata": {
    "id": "7RSs4X4klJtV"
   },
   "outputs": [],
   "source": [
    "from scipy.sparse import csr_matrix\n",
    "from ipypb import irange"
   ]
  },
  {
   "cell_type": "code",
   "execution_count": 4,
   "metadata": {
    "id": "1ODpvLJFvoWs"
   },
   "outputs": [],
   "source": [
    "import pandas as pd\n",
    "import numpy as np\n",
    "from tqdm import tqdm\n",
    "import matplotlib.pyplot as plt\n",
    "from polara import get_movielens_data\n",
    "from polara.evaluation.pipelines import random_grid, find_optimal_config"
   ]
  },
  {
   "cell_type": "code",
   "execution_count": 5,
   "metadata": {},
   "outputs": [],
   "source": [
    "from polara.preprocessing.dataframes import leave_one_out, reindex\n",
    "\n",
    "from dataprep import transform_indices, verify_time_split\n",
    "from evaluation import topn_recommendations, model_evaluate, downvote_seen_items"
   ]
  },
  {
   "cell_type": "markdown",
   "metadata": {
    "id": "EXj3bZZJ-Loh"
   },
   "source": [
    "## Download dataset"
   ]
  },
  {
   "cell_type": "markdown",
   "metadata": {
    "id": "cf7wCfY1R4bq"
   },
   "source": [
    "For this task we will use popular MovieLens dataset."
   ]
  },
  {
   "cell_type": "code",
   "execution_count": 6,
   "metadata": {
    "colab": {
     "base_uri": "https://localhost:8080/",
     "height": 206
    },
    "id": "zLvfeClL6mJB",
    "outputId": "a6b3ddfb-a520-4637-fddc-72367e6d67c8"
   },
   "outputs": [
    {
     "data": {
      "text/html": [
       "<div>\n",
       "<style scoped>\n",
       "    .dataframe tbody tr th:only-of-type {\n",
       "        vertical-align: middle;\n",
       "    }\n",
       "\n",
       "    .dataframe tbody tr th {\n",
       "        vertical-align: top;\n",
       "    }\n",
       "\n",
       "    .dataframe thead th {\n",
       "        text-align: right;\n",
       "    }\n",
       "</style>\n",
       "<table border=\"1\" class=\"dataframe\">\n",
       "  <thead>\n",
       "    <tr style=\"text-align: right;\">\n",
       "      <th></th>\n",
       "      <th>userid</th>\n",
       "      <th>movieid</th>\n",
       "      <th>rating</th>\n",
       "      <th>timestamp</th>\n",
       "    </tr>\n",
       "  </thead>\n",
       "  <tbody>\n",
       "    <tr>\n",
       "      <th>0</th>\n",
       "      <td>1</td>\n",
       "      <td>1193</td>\n",
       "      <td>5</td>\n",
       "      <td>978300760</td>\n",
       "    </tr>\n",
       "    <tr>\n",
       "      <th>1</th>\n",
       "      <td>1</td>\n",
       "      <td>661</td>\n",
       "      <td>3</td>\n",
       "      <td>978302109</td>\n",
       "    </tr>\n",
       "    <tr>\n",
       "      <th>2</th>\n",
       "      <td>1</td>\n",
       "      <td>914</td>\n",
       "      <td>3</td>\n",
       "      <td>978301968</td>\n",
       "    </tr>\n",
       "    <tr>\n",
       "      <th>3</th>\n",
       "      <td>1</td>\n",
       "      <td>3408</td>\n",
       "      <td>4</td>\n",
       "      <td>978300275</td>\n",
       "    </tr>\n",
       "    <tr>\n",
       "      <th>4</th>\n",
       "      <td>1</td>\n",
       "      <td>2355</td>\n",
       "      <td>5</td>\n",
       "      <td>978824291</td>\n",
       "    </tr>\n",
       "  </tbody>\n",
       "</table>\n",
       "</div>"
      ],
      "text/plain": [
       "   userid  movieid  rating  timestamp\n",
       "0       1     1193       5  978300760\n",
       "1       1      661       3  978302109\n",
       "2       1      914       3  978301968\n",
       "3       1     3408       4  978300275\n",
       "4       1     2355       5  978824291"
      ]
     },
     "execution_count": 6,
     "metadata": {},
     "output_type": "execute_result"
    }
   ],
   "source": [
    "data = get_movielens_data(\n",
    "    get_genres=False, # we won't need genres\n",
    "    split_genres=False,\n",
    "    include_time=True\n",
    ")\n",
    "\n",
    "data.head()"
   ]
  },
  {
   "cell_type": "markdown",
   "metadata": {
    "id": "HHRaWsXP_GPC"
   },
   "source": [
    "# 1. Preprocess data  (5 pts)\n",
    "Do the preprocessing, including data split and index transformation. You are recommended to use functions from the seminar on evaluation."
   ]
  },
  {
   "cell_type": "markdown",
   "metadata": {
    "id": "4f1g4Odt_UoJ"
   },
   "source": [
    "## Data split \n"
   ]
  },
  {
   "cell_type": "markdown",
   "metadata": {
    "id": "z5LcFapySKc0"
   },
   "source": [
    "Split data to train/validation/test datasets, using leave-last-out scheme for holdout sampling."
   ]
  },
  {
   "cell_type": "code",
   "execution_count": 7,
   "metadata": {
    "id": "RW6LYUI3-ef8"
   },
   "outputs": [],
   "source": [
    "def leave_last_out(data, userid='userid', timeid='timestamp'):\n",
    "    remaining, holdout = leave_one_out(data, target=timeid, random_state=0, sample_top=True)\n",
    "    return remaining, holdout"
   ]
  },
  {
   "cell_type": "code",
   "execution_count": 8,
   "metadata": {
    "id": "4K-ZiiSy-emy"
   },
   "outputs": [],
   "source": [
    "training_, holdout_ = leave_last_out(data)"
   ]
  },
  {
   "cell_type": "code",
   "execution_count": 9,
   "metadata": {
    "id": "87GBkzkFE9tP"
   },
   "outputs": [],
   "source": [
    "training_, holdout_val_ = leave_last_out(training_)"
   ]
  },
  {
   "cell_type": "markdown",
   "metadata": {
    "id": "Gadtku-HEyNc"
   },
   "source": [
    "## Transform index"
   ]
  },
  {
   "cell_type": "markdown",
   "metadata": {
    "id": "ma9Q5lmLT6m8"
   },
   "source": [
    "Transform index in train dataset and reindex validation and test datasets."
   ]
  },
  {
   "cell_type": "code",
   "execution_count": 10,
   "metadata": {
    "id": "lj-gZZhbBX6S"
   },
   "outputs": [],
   "source": [
    "def transform_indices(data, users, items):\n",
    "    data_index = {}\n",
    "    for entity, field in zip(['users', 'items'], [users, items]):\n",
    "        new_index, data_index[entity] = to_numeric_id(data, field)\n",
    "        data = data.assign(**{f'{field}': new_index}) # makes a copy of dataset!\n",
    "    return data, data_index\n",
    "\n",
    "def to_numeric_id(data, field):\n",
    "    idx_data = data[field].astype(\"category\")\n",
    "    idx = idx_data.cat.codes\n",
    "    idx_map = idx_data.cat.categories.rename(field)\n",
    "    return idx, idx_map\n",
    "\n",
    "def reindex_data(data, data_index, fields=None):\n",
    "    if fields is None:\n",
    "        fields = data_index.keys()\n",
    "    if isinstance(fields, str): # handle single field provided as a string\n",
    "        fields = [fields]\n",
    "    for field in fields:\n",
    "        entity_name = data_index[field].name\n",
    "        new_index = data_index[field].get_indexer(data[entity_name])\n",
    "        data = data.assign(**{f'{entity_name}': new_index}) # makes a copy of dataset!\n",
    "    return data"
   ]
  },
  {
   "cell_type": "code",
   "execution_count": 11,
   "metadata": {
    "id": "Hc3CZyn_BTYx"
   },
   "outputs": [],
   "source": [
    "train_data, data_index = transform_indices(training_, 'userid', 'movieid')"
   ]
  },
  {
   "cell_type": "code",
   "execution_count": 12,
   "metadata": {
    "id": "qMdKuyEGAr5F"
   },
   "outputs": [],
   "source": [
    "test_data = reindex_data(holdout_, data_index)\n",
    "val_data = reindex_data(holdout_val_, data_index)"
   ]
  },
  {
   "cell_type": "code",
   "execution_count": 13,
   "metadata": {
    "id": "uYvEO_M6EpAF"
   },
   "outputs": [],
   "source": [
    "test_data = test_data.query('movieid >= 0')"
   ]
  },
  {
   "cell_type": "code",
   "execution_count": 14,
   "metadata": {
    "id": "x0ogqRXRUH9B"
   },
   "outputs": [],
   "source": [
    "# sorting data by user id for correct evaluation\n",
    "test_data = test_data.sort_values('userid') \n",
    "val_data = val_data.sort_values('userid')"
   ]
  },
  {
   "cell_type": "code",
   "execution_count": 158,
   "metadata": {
    "id": "Wyq-iQVDDc46"
   },
   "outputs": [],
   "source": [
    "data_description = dict(\n",
    "    users = data_index['users'].name, # user field\n",
    "    items = data_index['items'].name, # item field\n",
    "    test_users = test_data[data_index['users'].name].values,\n",
    "    holdout_items = test_data[data_index['items'].name].values,\n",
    "    val_users = val_data[data_index['users'].name].values,\n",
    "    holdout_val_items = val_data[data_index['items'].name].values,\n",
    "    n_users = train_data[data_index['users'].name].nunique(), \n",
    "    n_items = train_data[data_index['items'].name].nunique()\n",
    ")"
   ]
  },
  {
   "cell_type": "markdown",
   "metadata": {
    "id": "c-rSjRwXJ-ho"
   },
   "source": [
    "# 2. Building/training a recommender model (20 pts)"
   ]
  },
  {
   "cell_type": "markdown",
   "metadata": {
    "id": "xiV9vYw3lLZs"
   },
   "source": [
    "## Preparing data in matrix form\n",
    "\n",
    "Complete the function to obtain sparse matrix from training data."
   ]
  },
  {
   "cell_type": "code",
   "execution_count": 16,
   "metadata": {
    "id": "W0fU9QH-lLZw"
   },
   "outputs": [],
   "source": [
    "def matrix_from_observations(data, userid, itemid, feedback=None, shape=None, dtype=None):\n",
    "    '''Return sparse matrix, obtained from training data'''\n",
    "    useridx = data[userid]\n",
    "    itemidx = data[itemid]\n",
    "    values = data[feedback]\n",
    "    return csr_matrix((values, (useridx, itemidx)), dtype=dtype)  "
   ]
  },
  {
   "cell_type": "code",
   "execution_count": 17,
   "metadata": {
    "id": "xI6LhSx3lLZ1"
   },
   "outputs": [
    {
     "data": {
      "text/plain": [
       "<6040x3703 sparse matrix of type '<class 'numpy.int64'>'\n",
       "\twith 988129 stored elements in Compressed Sparse Row format>"
      ]
     },
     "execution_count": 17,
     "metadata": {},
     "output_type": "execute_result"
    }
   ],
   "source": [
    "data_matrix = matrix_from_observations(train_data, userid='userid', itemid='movieid', feedback='rating')\n",
    "data_matrix"
   ]
  },
  {
   "cell_type": "code",
   "execution_count": 18,
   "metadata": {},
   "outputs": [
    {
     "data": {
      "text/plain": [
       "array([5, 5, 4, ..., 4, 4, 5])"
      ]
     },
     "execution_count": 18,
     "metadata": {},
     "output_type": "execute_result"
    }
   ],
   "source": [
    "data_matrix.data"
   ]
  },
  {
   "cell_type": "code",
   "execution_count": 19,
   "metadata": {},
   "outputs": [
    {
     "data": {
      "text/plain": [
       "array([   0,  144,  253, ..., 3490, 3505, 3572], dtype=int32)"
      ]
     },
     "execution_count": 19,
     "metadata": {},
     "output_type": "execute_result"
    }
   ],
   "source": [
    "data_matrix.indices"
   ]
  },
  {
   "cell_type": "code",
   "execution_count": 20,
   "metadata": {},
   "outputs": [
    {
     "data": {
      "text/plain": [
       "array([     0,     51,    178, ..., 987669, 987790, 988129], dtype=int32)"
      ]
     },
     "execution_count": 20,
     "metadata": {},
     "output_type": "execute_result"
    }
   ],
   "source": [
    "data_matrix.indptr"
   ]
  },
  {
   "cell_type": "code",
   "execution_count": 21,
   "metadata": {},
   "outputs": [
    {
     "data": {
      "text/plain": [
       "(6040, 3703)"
      ]
     },
     "execution_count": 21,
     "metadata": {},
     "output_type": "execute_result"
    }
   ],
   "source": [
    "data_matrix.shape"
   ]
  },
  {
   "cell_type": "markdown",
   "metadata": {
    "id": "elBFTTH_lLZ2"
   },
   "source": [
    "## The model"
   ]
  },
  {
   "cell_type": "code",
   "execution_count": 22,
   "metadata": {
    "id": "xGV3lDg9lLZ3"
   },
   "outputs": [],
   "source": [
    "n_users = data_description['n_users']\n",
    "n_items = data_description['n_items']\n",
    "n_factors = 50\n",
    "seed = 42"
   ]
  },
  {
   "cell_type": "code",
   "execution_count": 23,
   "metadata": {
    "id": "Me_sOssulLZ5"
   },
   "outputs": [],
   "source": [
    "# initialization of user and item factors\n",
    "random_state = np.random.RandomState(seed)\n",
    "user_factors = random_state.normal(0, 0.01, size=(n_users, n_factors))\n",
    "item_factors = random_state.normal(0, 0.01, size=(n_items, n_factors))"
   ]
  },
  {
   "cell_type": "markdown",
   "metadata": {
    "id": "J7PSlpMJlLZ9"
   },
   "source": [
    "## Server side\n",
    "\n",
    "Complete the functions to update item factors.\n"
   ]
  },
  {
   "cell_type": "code",
   "execution_count": 24,
   "metadata": {
    "id": "hPIxVQ9olLZ9"
   },
   "outputs": [],
   "source": [
    "def update_global_model(matrix, X, Y, regularization, gain, alpha, n_iter):\n",
    "    gradient = np.zeros_like(Y)\n",
    "    for _ in range(n_iter):\n",
    "        gradient += item_factor_update(matrix, X, Y, regularization, alpha)\n",
    "    Y -= gain * gradient # update Y\n",
    "\n",
    "\n",
    "def item_factor_update(matrix, X, Y, regularization, alpha, n_iter=4):\n",
    "    '''Update item factor vectors'''\n",
    "    n_users , _ = X.shape\n",
    "    grad = 2 * regularization * Y # initialize gradient as a regularization term\n",
    "    for u in range(n_users):\n",
    "        grad += fetch_neg_client_grad(matrix, X, Y, u, alpha) # add calculated gradient for a user\n",
    "    return grad\n",
    "    \n",
    "\n",
    "def fetch_neg_client_grad(matrix, X, Y, u, alpha):\n",
    "    '''\n",
    "    Fetches for entire item collection at once\n",
    "    f(u, i) = c_ui * (p_ui - yi^T xu) xu\n",
    "    f(u, Y) = C_u *  (p_u  -   Y xu ) xu^T = - (Y xu + (Cu-1)*(Yxu - pu)) xu^T\n",
    "    '''\n",
    "    indptr = matrix.indptr # get indptr from sparse matrix\n",
    "    inds = matrix.indices # get indices from sparse matrix\n",
    "    r = matrix.data # get ratings\n",
    "    \n",
    "    ru = np.zeros((matrix.shape[1],))\n",
    "    for i in range(indptr[u], indptr[u + 1]):\n",
    "        ru[inds[i]] = r[i]\n",
    "    Cu_ = alpha * ru\n",
    "    pu = np.zeros_like(ru)\n",
    "    pu[ru > 0] = 1\n",
    "    \n",
    "    xu = X[u] # get user's vector  \n",
    "    # print(f'xu: {xu.shape}, Y: {Y.shape}, Cu_: {Cu_.shape}, pu: {pu.shape}')\n",
    "    user_neg_grad_val = (Y @ xu - pu + Cu_ * (Y @ xu - pu)).reshape((-1, 1)) @ xu.reshape((1, -1)) # get negative gradient values for user \n",
    "    return 2 * user_neg_grad_val # negative gradient values for user"
   ]
  },
  {
   "cell_type": "code",
   "execution_count": 25,
   "metadata": {},
   "outputs": [],
   "source": [
    "from scipy.sparse import csr_matrix"
   ]
  },
  {
   "cell_type": "code",
   "execution_count": 26,
   "metadata": {},
   "outputs": [],
   "source": [
    "data = np.array([1, 2, 3, 4, 5, 6])\n",
    "indices = np.array([0, 2, 2, 0, 1, 2])\n",
    "indptr = np.array([0, 2, 3, 6])\n",
    "mtx = csr_matrix((data, indices, indptr), shape=(3, 3))"
   ]
  },
  {
   "cell_type": "code",
   "execution_count": 27,
   "metadata": {},
   "outputs": [
    {
     "data": {
      "text/plain": [
       "array([0., 0., 0.])"
      ]
     },
     "execution_count": 27,
     "metadata": {},
     "output_type": "execute_result"
    }
   ],
   "source": [
    "ru = np.zeros((3,))\n",
    "ru"
   ]
  },
  {
   "cell_type": "code",
   "execution_count": 28,
   "metadata": {},
   "outputs": [
    {
     "data": {
      "text/plain": [
       "array([4., 5., 6.])"
      ]
     },
     "execution_count": 28,
     "metadata": {},
     "output_type": "execute_result"
    }
   ],
   "source": [
    "u = 2\n",
    "for i in range(indptr[u], indptr[u + 1]):\n",
    "    ru[indices[i]] = data[i]\n",
    "    \n",
    "ru"
   ]
  },
  {
   "cell_type": "markdown",
   "metadata": {
    "id": "BLyNcNyglLaB"
   },
   "source": [
    "## Client side\n",
    "\n",
    "Complete the functions to update user factors."
   ]
  },
  {
   "cell_type": "code",
   "execution_count": 29,
   "metadata": {
    "id": "zLoh5lDwlLaB"
   },
   "outputs": [],
   "source": [
    "def update_local_models(matrix, X, Y, regularization, alpha):\n",
    "    n_users, n_factors = X.shape\n",
    "    YtY = Y.T @ Y + regularization * np.eye(n_factors)\n",
    "    for u in range(n_users): # to imitate locally updating on the client side\n",
    "        # print(X[u].shape)\n",
    "        X[u] = user_factor_update(Y, YtY, matrix, u, alpha) # each client does independently\n",
    "\n",
    "\n",
    "def user_factor_update(Y, YtY, matrix, u, alpha):\n",
    "    '''\n",
    "    Return the solution of equation\n",
    "    Xu = (YtCuY + regularization * I)^-1 (YtCuPu)\n",
    "    '''\n",
    "    A, b = solve_linear_equation(Y, YtY, matrix, u, alpha)\n",
    "    return np.linalg.inv(A) @ b\n",
    "\n",
    "\n",
    "def solve_linear_equation(Y, YtY, matrix, u, alpha):\n",
    "    '''\n",
    "    Return A = YtCuY + regularization * I and b = YtCuPu\n",
    "    to use it later for solving the equation\n",
    "    Xu = (YtCuY + regularization * I)^-1 (YtCuPu)\n",
    "\n",
    "    Following identity might be helpful\n",
    "    YtCuY + regularization * I = YtY + regularization * I + Yt(Cu-I)Y\n",
    "    '''\n",
    "    indptr = matrix.indptr # get indptr from sparse matrix \n",
    "    inds = matrix.indices # get indices from sparse matrix\n",
    "    r = matrix.data # get ratings \n",
    "    \n",
    "    #############################################################Ynnz = ... # get rated items factors \n",
    "    ru = np.zeros((matrix.shape[1],))\n",
    "    for i in range(indptr[u], indptr[u + 1]):\n",
    "        ru[inds[i]] = r[i]\n",
    "    Cu_ = alpha * ru\n",
    "    pu = np.zeros_like(ru)\n",
    "    pu[ru > 0] = 1\n",
    "    # print(f'YtY: {YtY.shape}, Cu_: {Cu_.shape}, Y: {Y.shape}, pu: {pu.shape}')\n",
    "    \n",
    "    A = YtY + (Y.T * Cu_) @ Y # accumulate YtCuY + regularization * I in A\n",
    "    b = Y.T @ pu + Y.T @ (Cu_ * pu) # accumulate YtCuPu in b\n",
    "    # print('b:', b.shape)\n",
    "    return A, b  "
   ]
  },
  {
   "cell_type": "markdown",
   "metadata": {
    "id": "4AvisiIdlLaE"
   },
   "source": [
    "## Model Training\n",
    "Complete the function to build model. Choose the hyper-parameters and store it in config. Train your model on chosen hyper-parameters."
   ]
  },
  {
   "cell_type": "code",
   "execution_count": 77,
   "metadata": {
    "id": "VmublXbnlLaH"
   },
   "outputs": [],
   "source": [
    "def build_model(model_config, trainset, trainset_description):\n",
    "    n_factors = model_config['n_factors']\n",
    "    n_epochs = model_config['n_epochs']\n",
    "    regularization = model_config['regularization']\n",
    "    gain = model_config['gain']\n",
    "    alpha = model_config['alpha']\n",
    "    n_iter = model_config['n_iter']\n",
    "    # seed = model_config['seed']\n",
    "    \n",
    "    train_matrix = trainset # get sparse matrix\n",
    "    random_state = np.random.RandomState(42)\n",
    "    user_factors = random_state.normal(0, 0.01, size=(n_users, n_factors)) # initialize user factors\n",
    "    item_factors = random_state.normal(0, 0.01, size=(n_items, n_factors)) # initialize user factors\n",
    "    \n",
    "\n",
    "    for epoch in tqdm(range(n_epochs)):\n",
    "        \n",
    "        update_global_model(train_matrix, user_factors, item_factors, regularization, gain, alpha, n_iter)\n",
    "        #print('updated_global')\n",
    "        update_local_models(train_matrix, user_factors, item_factors, regularization, alpha)\n",
    "        # in each epoch update global model and then update local models\n",
    "            \n",
    "    return user_factors, item_factors"
   ]
  },
  {
   "cell_type": "code",
   "execution_count": 55,
   "metadata": {
    "id": "wvWK56jAlXK0"
   },
   "outputs": [],
   "source": [
    "# create config with the following hyper parameters:\n",
    "# seed, n_factors, regularization, gain, alpha, n_epochs, n_iter.\n",
    "config = {'seed':42,\n",
    "          'n_factors':50,\n",
    "          'regularization':1.0,\n",
    "          'gain':0.05,\n",
    "          'alpha':1.0,\n",
    "          'n_epochs':20,\n",
    "          'n_iter':5}"
   ]
  },
  {
   "cell_type": "code",
   "execution_count": 36,
   "metadata": {
    "id": "d4prUYPFlLaI"
   },
   "outputs": [
    {
     "name": "stderr",
     "output_type": "stream",
     "text": [
      "100%|██████████| 20/20 [07:46<00:00, 23.31s/it]\n"
     ]
    }
   ],
   "source": [
    "params= build_model(config, data_matrix, data_description) "
   ]
  },
  {
   "cell_type": "markdown",
   "metadata": {
    "id": "Gczc3SRolMj2"
   },
   "source": [
    "# 3. Evaluation (5 pts)\n",
    "\n",
    "Complete the functions to predict relevance scores. Using predcted scores generate top-n recommendations. Evaluate quality of recommendations and report HR@5 and MRR@5 etrics. Remember that we don't want to recommend items from the user's history. You are recommended to use functions from the previous seminars."
   ]
  },
  {
   "cell_type": "code",
   "execution_count": 37,
   "metadata": {
    "id": "qd6eGwAZR0-0"
   },
   "outputs": [],
   "source": [
    "topn = 5"
   ]
  },
  {
   "cell_type": "code",
   "execution_count": 38,
   "metadata": {},
   "outputs": [
    {
     "data": {
      "text/plain": [
       "{'users': 'userid',\n",
       " 'items': 'movieid',\n",
       " 'test_users': array([   0,    1,    2, ..., 6037, 6038, 6039]),\n",
       " 'holdout_items': array([  47, 1419, 1899, ..., 1093, 1161, 1130]),\n",
       " 'val_users': array([   0,    1,    2, ..., 6037, 6038, 6039]),\n",
       " 'holdout_val_items': array([1438,  420,  101, ..., 2493,  861,  155]),\n",
       " 'n_users': 6040,\n",
       " 'n_items': 3703}"
      ]
     },
     "execution_count": 38,
     "metadata": {},
     "output_type": "execute_result"
    }
   ],
   "source": [
    "data_description"
   ]
  },
  {
   "cell_type": "code",
   "execution_count": 149,
   "metadata": {
    "id": "rrdPK2uElMj5"
   },
   "outputs": [],
   "source": [
    "# Complete model scoring function to predict relevance scores for test user-item pairs.\n",
    "def model_scoring(model_params, testset, testset_description):\n",
    "    user_factors, item_factors = model_params # get user and item factros\n",
    "    test_user_factors = user_factors[testset_description['test_users']] # get user factros for test users\n",
    "    # print(test_user_factors.shape, item_factors.shape)\n",
    "    \n",
    "    \n",
    "    scores = test_user_factors @ item_factors.T # get scores \n",
    "    # print(len(testset_description['test_users']), scores.shape)\n",
    "    downvote_seen_items(scores, testset, testset_description)\n",
    "    # np.delete(scores, 1811)\n",
    "    # np.delete(scores, 45)\n",
    "    return scores\n"
   ]
  },
  {
   "cell_type": "code",
   "execution_count": 40,
   "metadata": {
    "id": "B52qdo9dn0lk"
   },
   "outputs": [],
   "source": [
    "# Complete model recommendations function to generate top-n recommendations using predcted scores.\n",
    "def model_recom_func(model_scores, topn=5):\n",
    "    recommendations = topn_recommendations(model_scores, topn)\n",
    "    return recommendations"
   ]
  },
  {
   "cell_type": "code",
   "execution_count": 41,
   "metadata": {
    "id": "JwMrJffjlMj4"
   },
   "outputs": [],
   "source": [
    "# Complete function to evaluate quality of recommendations\n",
    "def evaluate_func(model_recoms, holdout, holdout_description, topn=5):\n",
    "    hr, mrr, _ = model_evaluate(model_recoms, holdout, holdout_description, topn)\n",
    "    \n",
    "    return hr, mrr"
   ]
  },
  {
   "cell_type": "markdown",
   "metadata": {
    "id": "_-u1a1EklMj8"
   },
   "source": [
    "## Evaluate model"
   ]
  },
  {
   "cell_type": "code",
   "execution_count": 159,
   "metadata": {
    "id": "qePo0RPJgZuF"
   },
   "outputs": [],
   "source": [
    "userid = data_description['users']\n",
    "seen_idx_mask = train_data[userid].isin(data_description['test_users'])\n",
    "testset = train_data[seen_idx_mask]"
   ]
  },
  {
   "cell_type": "code",
   "execution_count": 44,
   "metadata": {
    "id": "jVZ024YL63At"
   },
   "outputs": [],
   "source": [
    "test_scores = model_scoring(params, testset, data_description) # get scores"
   ]
  },
  {
   "cell_type": "code",
   "execution_count": 45,
   "metadata": {},
   "outputs": [],
   "source": [
    "recoms = model_recom_func(test_scores) # get recommended items"
   ]
  },
  {
   "cell_type": "code",
   "execution_count": 46,
   "metadata": {},
   "outputs": [
    {
     "name": "stdout",
     "output_type": "stream",
     "text": [
      "HR@5 = 0.0291\n",
      "MRR@5 = 0.0147\n"
     ]
    }
   ],
   "source": [
    "hr, mrr = evaluate_func(recoms, test_data, data_description) # get metrics\n",
    "print(f'HR@{topn} = {hr:.4f}')\n",
    "print(f'MRR@{topn} = {mrr:.4f}')"
   ]
  },
  {
   "cell_type": "markdown",
   "metadata": {
    "id": "K9uyF_hNlMj9"
   },
   "source": [
    "# Quick check"
   ]
  },
  {
   "cell_type": "markdown",
   "metadata": {
    "id": "dyVFXYPaa4Ez"
   },
   "source": [
    "Compare your model with one or two baselines and report the results. You can use code from previous seminars. "
   ]
  },
  {
   "cell_type": "code",
   "execution_count": null,
   "metadata": {},
   "outputs": [],
   "source": []
  },
  {
   "cell_type": "code",
   "execution_count": null,
   "metadata": {
    "id": "u5YC-DgsxVmb"
   },
   "outputs": [],
   "source": [
    "..."
   ]
  },
  {
   "cell_type": "markdown",
   "metadata": {
    "id": "gC1tDoCRphSn"
   },
   "source": [
    "# 4. Hyper-parameter selection (5 pts)"
   ]
  },
  {
   "cell_type": "markdown",
   "metadata": {
    "id": "67Nl3qEePGRI"
   },
   "source": [
    "Complete the function to tune hyper-parameters of your model to provide the best quality. Train the model with the best hyper-parameters and report HR and MRR on test dataset."
   ]
  },
  {
   "cell_type": "code",
   "execution_count": 98,
   "metadata": {
    "id": "h3lJ-FtzZdR7"
   },
   "outputs": [],
   "source": [
    "# you are free to change hp values\n",
    "params_dict = dict(n_factors = [10, 20, 50, 100],\n",
    "                  regularization = np.linspace(1, 5, 5).astype(int),\n",
    "                  gain = np.logspace(-4, -2, 5),\n",
    "                  alpha = np.linspace(1, 5, 5).astype(int),\n",
    "                  n_epochs = [10, 15, 20, 25],\n",
    "                  n_iter = np.linspace(4, 20, 5).astype(int))"
   ]
  },
  {
   "cell_type": "code",
   "execution_count": 99,
   "metadata": {
    "id": "WK8C2t5auWHS"
   },
   "outputs": [],
   "source": [
    "param_grid, param_names = random_grid(params_dict, n=30)"
   ]
  },
  {
   "cell_type": "code",
   "execution_count": 116,
   "metadata": {},
   "outputs": [
    {
     "data": {
      "text/plain": [
       "30"
      ]
     },
     "execution_count": 116,
     "metadata": {},
     "output_type": "execute_result"
    }
   ],
   "source": [
    "len(param_grid)"
   ]
  },
  {
   "cell_type": "code",
   "execution_count": 121,
   "metadata": {
    "id": "DiDxZxgBCfJ4"
   },
   "outputs": [],
   "source": [
    "def hp_selection(data, description, param_grid, param_names, testset, test_data):\n",
    "    ''' Return best HR value and best set of hyperparameters '''\n",
    "    data_matrix = matrix_from_observations(data, userid='userid', itemid='movieid', feedback='rating')\n",
    "    best_hr = 0\n",
    "    best_params = None\n",
    "    for parameter_model in tqdm(param_grid):\n",
    "        # print(parameter_model)\n",
    "        # print(param_names)\n",
    "        configuration = dict(zip(param_names, parameter_model))\n",
    "        # print(configuration)\n",
    "        model_params = build_model(configuration, data_matrix, data_description) \n",
    "        hr, mrr = evaluate_func(model_recom_func(model_scoring(model_params, testset, data_description)), test_data, data_description)\n",
    "        print(f'hr: {hr}, mrr: {mrr}, params: {configuration}')\n",
    "        if hr > best_hr:\n",
    "            best_hr = hr\n",
    "            best_params = configuration\n",
    "    return best_hr, best_params"
   ]
  },
  {
   "cell_type": "code",
   "execution_count": 122,
   "metadata": {
    "id": "FcGdB4EQIEJz"
   },
   "outputs": [
    {
     "name": "stderr",
     "output_type": "stream",
     "text": [
      "100%|██████████| 25/25 [08:23<00:00, 20.16s/it]\n",
      "  3%|▎         | 1/30 [08:24<4:03:44, 504.28s/it]"
     ]
    },
    {
     "name": "stdout",
     "output_type": "stream",
     "text": [
      "hr: 0.02302086783703213, mrr: 0.010293143424975159, params: {'n_factors': 50, 'regularization': 5, 'gain': 0.01, 'alpha': 4, 'n_epochs': 25, 'n_iter': 4}\n"
     ]
    },
    {
     "name": "stderr",
     "output_type": "stream",
     "text": [
      "100%|██████████| 15/15 [17:14<00:00, 68.98s/it]\n",
      "  7%|▋         | 2/30 [25:39<6:21:01, 816.49s/it]"
     ]
    },
    {
     "name": "stdout",
     "output_type": "stream",
     "text": [
      "hr: 0.03428287512421332, mrr: 0.015725405763497846, params: {'n_factors': 50, 'regularization': 2, 'gain': 0.0031622776601683794, 'alpha': 1, 'n_epochs': 15, 'n_iter': 20}\n"
     ]
    },
    {
     "name": "stderr",
     "output_type": "stream",
     "text": [
      "100%|██████████| 15/15 [04:06<00:00, 16.44s/it]\n",
      " 10%|█         | 3/30 [29:46<4:10:21, 556.36s/it]"
     ]
    },
    {
     "name": "stdout",
     "output_type": "stream",
     "text": [
      "hr: 0.02070221927790659, mrr: 0.010894887931986308, params: {'n_factors': 10, 'regularization': 1, 'gain': 0.01, 'alpha': 5, 'n_epochs': 15, 'n_iter': 12}\n"
     ]
    },
    {
     "name": "stderr",
     "output_type": "stream",
     "text": [
      "100%|██████████| 10/10 [01:09<00:00,  6.99s/it]\n",
      " 13%|█▎        | 4/30 [30:56<2:37:54, 364.41s/it]"
     ]
    },
    {
     "name": "stdout",
     "output_type": "stream",
     "text": [
      "hr: 0.033620404107320305, mrr: 0.016517610687865742, params: {'n_factors': 10, 'regularization': 3, 'gain': 0.0001, 'alpha': 5, 'n_epochs': 10, 'n_iter': 4}\n"
     ]
    },
    {
     "name": "stderr",
     "output_type": "stream",
     "text": [
      "100%|██████████| 10/10 [06:00<00:00, 36.06s/it]\n",
      " 17%|█▋        | 5/30 [36:57<2:31:18, 363.15s/it]"
     ]
    },
    {
     "name": "stdout",
     "output_type": "stream",
     "text": [
      "hr: 0.04289499834382246, mrr: 0.02090648117478194, params: {'n_factors': 20, 'regularization': 3, 'gain': 0.0001, 'alpha': 1, 'n_epochs': 10, 'n_iter': 20}\n"
     ]
    },
    {
     "name": "stderr",
     "output_type": "stream",
     "text": [
      "100%|██████████| 15/15 [05:47<00:00, 23.16s/it]\n",
      " 20%|██        | 6/30 [42:44<2:23:09, 357.89s/it]"
     ]
    },
    {
     "name": "stdout",
     "output_type": "stream",
     "text": [
      "hr: 0.03097052003974826, mrr: 0.014386662250193222, params: {'n_factors': 20, 'regularization': 2, 'gain': 0.0031622776601683794, 'alpha': 1, 'n_epochs': 15, 'n_iter': 12}\n"
     ]
    },
    {
     "name": "stderr",
     "output_type": "stream",
     "text": [
      "100%|██████████| 20/20 [12:03<00:00, 36.18s/it]\n",
      " 23%|██▎       | 7/30 [54:48<3:03:03, 477.55s/it]"
     ]
    },
    {
     "name": "stdout",
     "output_type": "stream",
     "text": [
      "hr: 0.02533951639615767, mrr: 0.012280556475654191, params: {'n_factors': 20, 'regularization': 1, 'gain': 0.01, 'alpha': 2, 'n_epochs': 20, 'n_iter': 20}\n"
     ]
    },
    {
     "name": "stderr",
     "output_type": "stream",
     "text": [
      "100%|██████████| 10/10 [09:23<00:00, 56.34s/it]\n",
      " 27%|██▋       | 8/30 [1:04:12<3:05:09, 504.99s/it]"
     ]
    },
    {
     "name": "stdout",
     "output_type": "stream",
     "text": [
      "hr: 0.03345478635309705, mrr: 0.015932427956276914, params: {'n_factors': 50, 'regularization': 2, 'gain': 0.0031622776601683794, 'alpha': 2, 'n_epochs': 10, 'n_iter': 16}\n"
     ]
    },
    {
     "name": "stderr",
     "output_type": "stream",
     "text": [
      "100%|██████████| 15/15 [05:16<00:00, 21.11s/it]\n",
      " 30%|███       | 9/30 [1:09:29<2:36:10, 446.19s/it]"
     ]
    },
    {
     "name": "stdout",
     "output_type": "stream",
     "text": [
      "hr: 0.03212984431931103, mrr: 0.015430054101799711, params: {'n_factors': 10, 'regularization': 3, 'gain': 0.001, 'alpha': 1, 'n_epochs': 15, 'n_iter': 16}\n"
     ]
    },
    {
     "name": "stderr",
     "output_type": "stream",
     "text": [
      "100%|██████████| 10/10 [07:27<00:00, 44.78s/it]\n",
      " 33%|███▎      | 10/30 [1:16:57<2:28:55, 446.79s/it]"
     ]
    },
    {
     "name": "stdout",
     "output_type": "stream",
     "text": [
      "hr: 0.04123882080158993, mrr: 0.018822457767472673, params: {'n_factors': 50, 'regularization': 3, 'gain': 0.0001, 'alpha': 3, 'n_epochs': 10, 'n_iter': 12}\n"
     ]
    },
    {
     "name": "stderr",
     "output_type": "stream",
     "text": [
      "100%|██████████| 15/15 [15:58<00:00, 63.90s/it]\n",
      " 37%|███▋      | 11/30 [1:32:56<3:11:06, 603.49s/it]"
     ]
    },
    {
     "name": "stdout",
     "output_type": "stream",
     "text": [
      "hr: 0.03130175554819477, mrr: 0.014800706635751355, params: {'n_factors': 100, 'regularization': 5, 'gain': 0.01, 'alpha': 1, 'n_epochs': 15, 'n_iter': 8}\n"
     ]
    },
    {
     "name": "stderr",
     "output_type": "stream",
     "text": [
      "100%|██████████| 10/10 [03:51<00:00, 23.19s/it]\n",
      " 40%|████      | 12/30 [1:36:48<2:27:09, 490.54s/it]"
     ]
    },
    {
     "name": "stdout",
     "output_type": "stream",
     "text": [
      "hr: 0.03196422656508778, mrr: 0.01514574362371646, params: {'n_factors': 20, 'regularization': 1, 'gain': 0.0031622776601683794, 'alpha': 2, 'n_epochs': 10, 'n_iter': 12}\n"
     ]
    },
    {
     "name": "stderr",
     "output_type": "stream",
     "text": [
      "100%|██████████| 10/10 [10:35<00:00, 63.54s/it]\n",
      " 43%|████▎     | 13/30 [1:47:24<2:31:27, 534.54s/it]"
     ]
    },
    {
     "name": "stdout",
     "output_type": "stream",
     "text": [
      "hr: 0.031136137793971515, mrr: 0.01570056310036436, params: {'n_factors': 100, 'regularization': 3, 'gain': 0.01, 'alpha': 1, 'n_epochs': 10, 'n_iter': 8}\n"
     ]
    },
    {
     "name": "stderr",
     "output_type": "stream",
     "text": [
      "100%|██████████| 20/20 [05:32<00:00, 16.63s/it]\n",
      " 47%|████▋     | 14/30 [1:52:57<2:06:18, 473.65s/it]"
     ]
    },
    {
     "name": "stdout",
     "output_type": "stream",
     "text": [
      "hr: 0.040576349784696916, mrr: 0.019244783040741967, params: {'n_factors': 20, 'regularization': 1, 'gain': 0.0001, 'alpha': 3, 'n_epochs': 20, 'n_iter': 8}\n"
     ]
    },
    {
     "name": "stderr",
     "output_type": "stream",
     "text": [
      "100%|██████████| 20/20 [03:55<00:00, 11.76s/it]\n",
      " 50%|█████     | 15/30 [1:56:52<1:40:27, 401.83s/it]"
     ]
    },
    {
     "name": "stdout",
     "output_type": "stream",
     "text": [
      "hr: 0.027658164955283206, mrr: 0.01394225460969416, params: {'n_factors': 10, 'regularization': 2, 'gain': 0.0031622776601683794, 'alpha': 2, 'n_epochs': 20, 'n_iter': 8}\n"
     ]
    },
    {
     "name": "stderr",
     "output_type": "stream",
     "text": [
      "100%|██████████| 25/25 [13:28<00:00, 32.32s/it]\n",
      " 53%|█████▎    | 16/30 [2:10:21<2:02:18, 524.20s/it]"
     ]
    },
    {
     "name": "stdout",
     "output_type": "stream",
     "text": [
      "hr: 0.03776084796290162, mrr: 0.018182069117809427, params: {'n_factors': 50, 'regularization': 3, 'gain': 0.0001, 'alpha': 4, 'n_epochs': 25, 'n_iter': 8}\n"
     ]
    },
    {
     "name": "stderr",
     "output_type": "stream",
     "text": [
      "100%|██████████| 20/20 [10:45<00:00, 32.27s/it]\n",
      " 57%|█████▋    | 17/30 [2:21:06<2:01:29, 560.72s/it]"
     ]
    },
    {
     "name": "stdout",
     "output_type": "stream",
     "text": [
      "hr: 0.03378602186154356, mrr: 0.01580269404880203, params: {'n_factors': 50, 'regularization': 1, 'gain': 0.00031622776601683794, 'alpha': 5, 'n_epochs': 20, 'n_iter': 8}\n"
     ]
    },
    {
     "name": "stderr",
     "output_type": "stream",
     "text": [
      "100%|██████████| 10/10 [06:52<00:00, 41.22s/it]\n",
      " 60%|██████    | 18/30 [2:27:59<1:43:14, 516.21s/it]"
     ]
    },
    {
     "name": "stdout",
     "output_type": "stream",
     "text": [
      "hr: 0.04819476647896655, mrr: 0.02417191122888374, params: {'n_factors': 100, 'regularization': 4, 'gain': 0.0001, 'alpha': 1, 'n_epochs': 10, 'n_iter': 4}\n"
     ]
    },
    {
     "name": "stderr",
     "output_type": "stream",
     "text": [
      "100%|██████████| 15/15 [11:09<00:00, 44.61s/it]\n",
      " 63%|██████▎   | 19/30 [2:39:08<1:43:04, 562.22s/it]"
     ]
    },
    {
     "name": "stdout",
     "output_type": "stream",
     "text": [
      "hr: 0.03229546207353428, mrr: 0.014952522910456, params: {'n_factors': 50, 'regularization': 2, 'gain': 0.0031622776601683794, 'alpha': 4, 'n_epochs': 15, 'n_iter': 12}\n"
     ]
    },
    {
     "name": "stderr",
     "output_type": "stream",
     "text": [
      "100%|██████████| 10/10 [14:19<00:00, 85.95s/it]\n",
      " 67%|██████▋   | 20/30 [2:53:28<1:48:35, 651.57s/it]"
     ]
    },
    {
     "name": "stdout",
     "output_type": "stream",
     "text": [
      "hr: 0.046538588936734016, mrr: 0.023664016782599093, params: {'n_factors': 100, 'regularization': 5, 'gain': 0.001, 'alpha': 1, 'n_epochs': 10, 'n_iter': 12}\n"
     ]
    },
    {
     "name": "stderr",
     "output_type": "stream",
     "text": [
      "100%|██████████| 25/25 [54:35<00:00, 131.01s/it]\n",
      " 70%|███████   | 21/30 [3:48:04<3:35:52, 1439.19s/it]"
     ]
    },
    {
     "name": "stdout",
     "output_type": "stream",
     "text": [
      "hr: 0.028983106989069227, mrr: 0.014397703433808105, params: {'n_factors': 100, 'regularization': 4, 'gain': 0.0031622776601683794, 'alpha': 1, 'n_epochs': 25, 'n_iter': 20}\n"
     ]
    },
    {
     "name": "stderr",
     "output_type": "stream",
     "text": [
      "100%|██████████| 25/25 [18:33<00:00, 44.55s/it]\n",
      " 73%|███████▎  | 22/30 [4:06:38<2:58:52, 1341.62s/it]"
     ]
    },
    {
     "name": "stdout",
     "output_type": "stream",
     "text": [
      "hr: 0.025670751904604175, mrr: 0.011758860549850944, params: {'n_factors': 50, 'regularization': 5, 'gain': 0.01, 'alpha': 1, 'n_epochs': 25, 'n_iter': 12}\n"
     ]
    },
    {
     "name": "stderr",
     "output_type": "stream",
     "text": [
      "100%|██████████| 15/15 [07:29<00:00, 29.94s/it]\n",
      " 77%|███████▋  | 23/30 [4:14:07<2:05:17, 1073.87s/it]"
     ]
    },
    {
     "name": "stdout",
     "output_type": "stream",
     "text": [
      "hr: 0.024511427625041403, mrr: 0.010853483493430495, params: {'n_factors': 20, 'regularization': 2, 'gain': 0.00031622776601683794, 'alpha': 3, 'n_epochs': 15, 'n_iter': 16}\n"
     ]
    },
    {
     "name": "stderr",
     "output_type": "stream",
     "text": [
      "100%|██████████| 15/15 [01:44<00:00,  6.99s/it]\n",
      " 80%|████████  | 24/30 [4:15:52<1:18:19, 783.21s/it] "
     ]
    },
    {
     "name": "stdout",
     "output_type": "stream",
     "text": [
      "hr: 0.03279231533620404, mrr: 0.015460417356740641, params: {'n_factors': 10, 'regularization': 3, 'gain': 0.0001, 'alpha': 3, 'n_epochs': 15, 'n_iter': 4}\n"
     ]
    },
    {
     "name": "stderr",
     "output_type": "stream",
     "text": [
      "100%|██████████| 10/10 [18:07<00:00, 108.75s/it]\n",
      " 83%|████████▎ | 25/30 [4:34:00<1:12:53, 874.60s/it]"
     ]
    },
    {
     "name": "stdout",
     "output_type": "stream",
     "text": [
      "hr: 0.04438555813183173, mrr: 0.021381252070221932, params: {'n_factors': 100, 'regularization': 1, 'gain': 0.001, 'alpha': 1, 'n_epochs': 10, 'n_iter': 16}\n"
     ]
    },
    {
     "name": "stderr",
     "output_type": "stream",
     "text": [
      "100%|██████████| 25/25 [17:11<00:00, 41.28s/it]\n",
      " 87%|████████▋ | 26/30 [4:51:12<1:01:27, 921.90s/it]"
     ]
    },
    {
     "name": "stdout",
     "output_type": "stream",
     "text": [
      "hr: 0.03941702550513415, mrr: 0.018253836811306174, params: {'n_factors': 100, 'regularization': 2, 'gain': 0.0001, 'alpha': 5, 'n_epochs': 25, 'n_iter': 4}\n"
     ]
    },
    {
     "name": "stderr",
     "output_type": "stream",
     "text": [
      "100%|██████████| 10/10 [03:52<00:00, 23.25s/it]\n",
      " 90%|█████████ | 27/30 [4:55:05<35:45, 715.14s/it]  "
     ]
    },
    {
     "name": "stdout",
     "output_type": "stream",
     "text": [
      "hr: 0.035607817157999336, mrr: 0.0178342718339406, params: {'n_factors': 20, 'regularization': 4, 'gain': 0.001, 'alpha': 1, 'n_epochs': 10, 'n_iter': 12}\n"
     ]
    },
    {
     "name": "stderr",
     "output_type": "stream",
     "text": [
      "100%|██████████| 20/20 [23:03<00:00, 69.17s/it]\n",
      " 93%|█████████▎| 28/30 [5:18:09<30:31, 915.73s/it]"
     ]
    },
    {
     "name": "stdout",
     "output_type": "stream",
     "text": [
      "hr: 0.03345478635309705, mrr: 0.016578337197747598, params: {'n_factors': 50, 'regularization': 5, 'gain': 0.001, 'alpha': 1, 'n_epochs': 20, 'n_iter': 20}\n"
     ]
    },
    {
     "name": "stderr",
     "output_type": "stream",
     "text": [
      "100%|██████████| 25/25 [54:31<00:00, 130.86s/it]\n",
      " 97%|█████████▋| 29/30 [6:12:40<27:02, 1622.57s/it]"
     ]
    },
    {
     "name": "stdout",
     "output_type": "stream",
     "text": [
      "hr: 0.044551175886054985, mrr: 0.02169316550734239, params: {'n_factors': 100, 'regularization': 2, 'gain': 0.001, 'alpha': 1, 'n_epochs': 25, 'n_iter': 20}\n"
     ]
    },
    {
     "name": "stderr",
     "output_type": "stream",
     "text": [
      "100%|██████████| 20/20 [05:32<00:00, 16.63s/it]\n",
      "100%|██████████| 30/30 [6:18:13<00:00, 756.46s/it] "
     ]
    },
    {
     "name": "stdout",
     "output_type": "stream",
     "text": [
      "hr: 0.03875455448824114, mrr: 0.01871480622722756, params: {'n_factors': 20, 'regularization': 5, 'gain': 0.0001, 'alpha': 2, 'n_epochs': 20, 'n_iter': 8}\n"
     ]
    },
    {
     "name": "stderr",
     "output_type": "stream",
     "text": [
      "\n"
     ]
    }
   ],
   "source": [
    "best_hr, best_params = hp_selection(train_data, data_description, param_grid, param_names, testset, test_data)"
   ]
  },
  {
   "cell_type": "code",
   "execution_count": 125,
   "metadata": {},
   "outputs": [
    {
     "data": {
      "text/plain": [
       "{'n_factors': 100,\n",
       " 'regularization': 4,\n",
       " 'gain': 0.0001,\n",
       " 'alpha': 1,\n",
       " 'n_epochs': 10,\n",
       " 'n_iter': 4}"
      ]
     },
     "execution_count": 125,
     "metadata": {},
     "output_type": "execute_result"
    }
   ],
   "source": [
    "best_params"
   ]
  },
  {
   "cell_type": "code",
   "execution_count": 150,
   "metadata": {},
   "outputs": [],
   "source": [
    "hp_description = dict(\n",
    "    users = data_index['users'].name, # user field\n",
    "    items = data_index['items'].name, # item field\n",
    "    test_users = val_data[data_index['users'].name].values,\n",
    "    holdout_items = val_data[data_index['items'].name].values,\n",
    "    val_users = val_data[data_index['users'].name].values,\n",
    "    holdout_val_items = val_data[data_index['items'].name].values,\n",
    "    n_users = train_data[data_index['users'].name].nunique(), \n",
    "    n_items = train_data[data_index['items'].name].nunique()\n",
    ")\n",
    "\n",
    "userid_hp = data_description['users']\n",
    "seen_idx_mask_hp = train_data[userid_hp].isin(hp_description['test_users'])\n",
    "testset_hp = train_data[seen_idx_mask_hp]"
   ]
  },
  {
   "cell_type": "code",
   "execution_count": 151,
   "metadata": {},
   "outputs": [
    {
     "name": "stderr",
     "output_type": "stream",
     "text": [
      "100%|██████████| 10/10 [07:13<00:00, 43.32s/it]\n"
     ]
    }
   ],
   "source": [
    "best_config = build_model(best_params, data_matrix, hp_description)"
   ]
  },
  {
   "cell_type": "code",
   "execution_count": 153,
   "metadata": {},
   "outputs": [],
   "source": [
    "best_model_scores = model_scoring(best_config, testset_hp, hp_description)"
   ]
  },
  {
   "cell_type": "code",
   "execution_count": 154,
   "metadata": {},
   "outputs": [],
   "source": [
    "best_model_recoms = model_recom_func(best_model_scores)"
   ]
  },
  {
   "cell_type": "code",
   "execution_count": 155,
   "metadata": {
    "id": "awIFVI1xcV--"
   },
   "outputs": [
    {
     "name": "stdout",
     "output_type": "stream",
     "text": [
      "HR@5 = 0.0545\n",
      "MRR@5 = 0.0273\n"
     ]
    }
   ],
   "source": [
    "# Train the model with the best hyper-parameters and report HR and MRR on test dataset.\n",
    "hr, mrr = evaluate_func(best_model_recoms, val_data, hp_description)\n",
    "print(f'HR@{topn} = {hr:.4f}')\n",
    "print(f'MRR@{topn} = {mrr:.4f}')"
   ]
  },
  {
   "cell_type": "markdown",
   "metadata": {
    "id": "wknmnyX8dddN"
   },
   "source": [
    "# 5. Analysis (5 pts) \n",
    "\n",
    "Examine how the loss function, $||X||$ and $||Y||$ change during the training. Complete the function to obtain the history of losses values, $||X||$ and $||Y||$ for every epoch. Use best hyper-parameters for model config. Plot the graphs and discuss the results."
   ]
  },
  {
   "cell_type": "code",
   "execution_count": 162,
   "metadata": {
    "id": "nZZqPDUtcT-Y"
   },
   "outputs": [],
   "source": [
    "def model_analysis(model_config, trainset, trainset_description):\n",
    "\n",
    "    n_factors = model_config['n_factors']\n",
    "    n_epochs = model_config['n_epochs']\n",
    "    regularization = model_config['regularization']\n",
    "    gain = model_config['gain']\n",
    "    alpha = model_config['alpha']\n",
    "    n_iter = model_config['n_iter']\n",
    "    # seed = model_config['seed']\n",
    "    X_norms = []\n",
    "    Y_norms = []\n",
    "    losses = []\n",
    "    \n",
    "    train_matrix = data_matrix = matrix_from_observations(trainset, userid='userid', itemid='movieid', feedback='rating') # get sparse matrix\n",
    "    random_state = np.random.RandomState(42)\n",
    "    user_factors = random_state.normal(0, 0.01, size=(n_users, n_factors)) # initialize user factors\n",
    "    item_factors = random_state.normal(0, 0.01, size=(n_items, n_factors)) # initialize user factors\n",
    "    \n",
    "\n",
    "    for epoch in tqdm(range(n_epochs)):\n",
    "        \n",
    "        update_global_model(train_matrix, user_factors, item_factors, regularization, gain, alpha, n_iter)\n",
    "        #print('updated_global')\n",
    "        update_local_models(train_matrix, user_factors, item_factors, regularization, alpha)\n",
    "        loss = 0\n",
    "        for u in range(n_users):\n",
    "            \n",
    "            indptr = train_matrix.indptr # get indptr from sparse matrix \n",
    "            inds = train_matrix.indices # get indices from sparse matrix\n",
    "            r = train_matrix.data # get ratings \n",
    "\n",
    "            ru = np.zeros((train_matrix.shape[1],))\n",
    "            for i in range(indptr[u], indptr[u + 1]):\n",
    "                ru[inds[i]] = r[i]\n",
    "            Cu_ = alpha * ru\n",
    "            pu = np.zeros_like(ru)\n",
    "            pu[ru > 0] = 1\n",
    "            loss += ((pu - user_factors[u] @ item_factors.T) ** 2).sum() + (Cu_ * (pu - user_factors[u] @ item_factors.T) ** 2).sum()\n",
    "        \n",
    "    \n",
    "    \n",
    "        X_norms.append(np.linalg.norm(user_factors, 'fro'))\n",
    "        Y_norms.append(np.linalg.norm(item_factors, 'fro'))\n",
    "        losses.append(regularization * (np.linalg.norm(user_factors, 'fro') + np.linalg.norm(item_factors, 'fro')) + \n",
    "                      loss)\n",
    "        # in each epoch update global model and then update local models\n",
    "            \n",
    "    return X_norms, Y_norms, losses"
   ]
  },
  {
   "cell_type": "code",
   "execution_count": 163,
   "metadata": {
    "id": "pwVRCq9Lc8cn"
   },
   "outputs": [
    {
     "name": "stderr",
     "output_type": "stream",
     "text": [
      "100%|██████████| 10/10 [07:26<00:00, 44.63s/it]\n"
     ]
    }
   ],
   "source": [
    "X_norms, Y_norms, losses = model_analysis(best_params, train_data, data_description)"
   ]
  },
  {
   "cell_type": "code",
   "execution_count": 165,
   "metadata": {
    "id": "cxV6mSMyDFZG"
   },
   "outputs": [
    {
     "data": {
      "image/png": "[encoded data removed]",
      "text/plain": [
       "<Figure size 640x480 with 3 Axes>"
      ]
     },
     "metadata": {},
     "output_type": "display_data"
    }
   ],
   "source": [
    "# Plot the graphs and discuss the results.\n",
    "t = range(1, best_params['n_epochs'] + 1)\n",
    "\n",
    "ax1 = plt.subplot(311)\n",
    "plt.plot(t, X_norms)\n",
    "plt.title('X norm')\n",
    "# share x only\n",
    "ax2 = plt.subplot(312, sharex=ax1)\n",
    "plt.plot(t, Y_norms)\n",
    "plt.title('Y norm')\n",
    "# make these tick labels invisible\n",
    "\n",
    "# share x and y\n",
    "ax3 = plt.subplot(313, sharex=ax1)\n",
    "plt.plot(t, losses)\n",
    "plt.title('Loss')\n",
    "# plt.xlim(0.01, 5.0)\n",
    "plt.show()"
   ]
  },
  {
   "cell_type": "code",
   "execution_count": 169,
   "metadata": {},
   "outputs": [
    {
     "data": {
      "image/png": "[encoded data removed]",
      "text/plain": [
       "<Figure size 640x480 with 1 Axes>"
      ]
     },
     "metadata": {},
     "output_type": "display_data"
    }
   ],
   "source": [
    "plt.semilogy(t, losses)\n",
    "plt.show()\n"
   ]
  },
  {
   "cell_type": "markdown",
   "metadata": {},
   "source": [
    "After 5 epochs error doesn't change much. The most interesting behaviour is norm of X - it grows and after 2nd epoch starts to decrease steadily. "
   ]
  },
  {
   "cell_type": "markdown",
   "metadata": {
    "id": "18cbYM8m3FR9"
   },
   "source": [
    "What is the time complexity of the federated collaborative filterng with gradient descent? "
   ]
  },
  {
   "cell_type": "code",
   "execution_count": null,
   "metadata": {
    "id": "PkfLyJ0edHNA"
   },
   "outputs": [],
   "source": []
  }
 ],
 "metadata": {
  "colab": {
   "machine_shape": "hm",
   "provenance": [],
   "toc_visible": true
  },
  "gpuClass": "standard",
  "kernelspec": {
   "display_name": "Python 3 (ipykernel)",
   "language": "python",
   "name": "python3"
  },
  "language_info": {
   "codemirror_mode": {
    "name": "ipython",
    "version": 3
   },
   "file_extension": ".py",
   "mimetype": "text/x-python",
   "name": "python",
   "nbconvert_exporter": "python",
   "pygments_lexer": "ipython3",
   "version": "3.10.6"
  },
  "vscode": {
   "interpreter": {
    "hash": "e025b153e33aa81a0e992b189257a765aa323b0bbee28383c4811da07608d179"
   }
  }
 },
 "nbformat": 4,
 "nbformat_minor": 1
}
