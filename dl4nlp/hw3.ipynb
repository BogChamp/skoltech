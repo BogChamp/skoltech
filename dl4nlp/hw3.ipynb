{
  "metadata": {
    "kernelspec": {
      "language": "python",
      "display_name": "Python 3",
      "name": "python3"
    },
    "language_info": {
      "name": "python",
      "version": "3.10.10",
      "mimetype": "text/x-python",
      "codemirror_mode": {
        "name": "ipython",
        "version": 3
      },
      "pygments_lexer": "ipython3",
      "nbconvert_exporter": "python",
      "file_extension": ".py"
    },
    "colab": {
      "provenance": []
    },
    "widgets": {
      "application/vnd.jupyter.widget-state+json": {
        "64f86329462b471fbcba01c58d65b3f2": {
          "model_module": "@jupyter-widgets/controls",
          "model_name": "HBoxModel",
          "model_module_version": "1.5.0",
          "state": {
            "_dom_classes": [],
            "_model_module": "@jupyter-widgets/controls",
            "_model_module_version": "1.5.0",
            "_model_name": "HBoxModel",
            "_view_count": null,
            "_view_module": "@jupyter-widgets/controls",
            "_view_module_version": "1.5.0",
            "_view_name": "HBoxView",
            "box_style": "",
            "children": [
              "IPY_MODEL_f0812934dc02443e952e433670789d63",
              "IPY_MODEL_9f12f581dd7c4f72853b06f82e061c19",
              "IPY_MODEL_4c9d2565791d4c8994b057139f6a9685"
            ],
            "layout": "IPY_MODEL_20396ef134f34c608b981730d6eed917"
          }
        },
        "f0812934dc02443e952e433670789d63": {
          "model_module": "@jupyter-widgets/controls",
          "model_name": "HTMLModel",
          "model_module_version": "1.5.0",
          "state": {
            "_dom_classes": [],
            "_model_module": "@jupyter-widgets/controls",
            "_model_module_version": "1.5.0",
            "_model_name": "HTMLModel",
            "_view_count": null,
            "_view_module": "@jupyter-widgets/controls",
            "_view_module_version": "1.5.0",
            "_view_name": "HTMLView",
            "description": "",
            "description_tooltip": null,
            "layout": "IPY_MODEL_2e5edd8381774bbcaa02289b6e2a2fda",
            "placeholder": "​",
            "style": "IPY_MODEL_194a33200f874dbfa8a67c5b41ca8e5e",
            "value": "Downloading pytorch_model.bin: 100%"
          }
        },
        "9f12f581dd7c4f72853b06f82e061c19": {
          "model_module": "@jupyter-widgets/controls",
          "model_name": "FloatProgressModel",
          "model_module_version": "1.5.0",
          "state": {
            "_dom_classes": [],
            "_model_module": "@jupyter-widgets/controls",
            "_model_module_version": "1.5.0",
            "_model_name": "FloatProgressModel",
            "_view_count": null,
            "_view_module": "@jupyter-widgets/controls",
            "_view_module_version": "1.5.0",
            "_view_name": "ProgressView",
            "bar_style": "success",
            "description": "",
            "description_tooltip": null,
            "layout": "IPY_MODEL_27430825f3174b8bb248e1f00ea65053",
            "max": 891737400,
            "min": 0,
            "orientation": "horizontal",
            "style": "IPY_MODEL_3cce5518af9a4f1a8be895c1aa985631",
            "value": 891737400
          }
        },
        "4c9d2565791d4c8994b057139f6a9685": {
          "model_module": "@jupyter-widgets/controls",
          "model_name": "HTMLModel",
          "model_module_version": "1.5.0",
          "state": {
            "_dom_classes": [],
            "_model_module": "@jupyter-widgets/controls",
            "_model_module_version": "1.5.0",
            "_model_name": "HTMLModel",
            "_view_count": null,
            "_view_module": "@jupyter-widgets/controls",
            "_view_module_version": "1.5.0",
            "_view_name": "HTMLView",
            "description": "",
            "description_tooltip": null,
            "layout": "IPY_MODEL_0cc063dd676d4f22a5e5cc388decce58",
            "placeholder": "​",
            "style": "IPY_MODEL_d2eb4d199c564f43bc3e28006a61b7bf",
            "value": " 892M/892M [00:13&lt;00:00, 91.3MB/s]"
          }
        },
        "20396ef134f34c608b981730d6eed917": {
          "model_module": "@jupyter-widgets/base",
          "model_name": "LayoutModel",
          "model_module_version": "1.2.0",
          "state": {
            "_model_module": "@jupyter-widgets/base",
            "_model_module_version": "1.2.0",
            "_model_name": "LayoutModel",
            "_view_count": null,
            "_view_module": "@jupyter-widgets/base",
            "_view_module_version": "1.2.0",
            "_view_name": "LayoutView",
            "align_content": null,
            "align_items": null,
            "align_self": null,
            "border": null,
            "bottom": null,
            "display": null,
            "flex": null,
            "flex_flow": null,
            "grid_area": null,
            "grid_auto_columns": null,
            "grid_auto_flow": null,
            "grid_auto_rows": null,
            "grid_column": null,
            "grid_gap": null,
            "grid_row": null,
            "grid_template_areas": null,
            "grid_template_columns": null,
            "grid_template_rows": null,
            "height": null,
            "justify_content": null,
            "justify_items": null,
            "left": null,
            "margin": null,
            "max_height": null,
            "max_width": null,
            "min_height": null,
            "min_width": null,
            "object_fit": null,
            "object_position": null,
            "order": null,
            "overflow": null,
            "overflow_x": null,
            "overflow_y": null,
            "padding": null,
            "right": null,
            "top": null,
            "visibility": null,
            "width": null
          }
        },
        "2e5edd8381774bbcaa02289b6e2a2fda": {
          "model_module": "@jupyter-widgets/base",
          "model_name": "LayoutModel",
          "model_module_version": "1.2.0",
          "state": {
            "_model_module": "@jupyter-widgets/base",
            "_model_module_version": "1.2.0",
            "_model_name": "LayoutModel",
            "_view_count": null,
            "_view_module": "@jupyter-widgets/base",
            "_view_module_version": "1.2.0",
            "_view_name": "LayoutView",
            "align_content": null,
            "align_items": null,
            "align_self": null,
            "border": null,
            "bottom": null,
            "display": null,
            "flex": null,
            "flex_flow": null,
            "grid_area": null,
            "grid_auto_columns": null,
            "grid_auto_flow": null,
            "grid_auto_rows": null,
            "grid_column": null,
            "grid_gap": null,
            "grid_row": null,
            "grid_template_areas": null,
            "grid_template_columns": null,
            "grid_template_rows": null,
            "height": null,
            "justify_content": null,
            "justify_items": null,
            "left": null,
            "margin": null,
            "max_height": null,
            "max_width": null,
            "min_height": null,
            "min_width": null,
            "object_fit": null,
            "object_position": null,
            "order": null,
            "overflow": null,
            "overflow_x": null,
            "overflow_y": null,
            "padding": null,
            "right": null,
            "top": null,
            "visibility": null,
            "width": null
          }
        },
        "194a33200f874dbfa8a67c5b41ca8e5e": {
          "model_module": "@jupyter-widgets/controls",
          "model_name": "DescriptionStyleModel",
          "model_module_version": "1.5.0",
          "state": {
            "_model_module": "@jupyter-widgets/controls",
            "_model_module_version": "1.5.0",
            "_model_name": "DescriptionStyleModel",
            "_view_count": null,
            "_view_module": "@jupyter-widgets/base",
            "_view_module_version": "1.2.0",
            "_view_name": "StyleView",
            "description_width": ""
          }
        },
        "27430825f3174b8bb248e1f00ea65053": {
          "model_module": "@jupyter-widgets/base",
          "model_name": "LayoutModel",
          "model_module_version": "1.2.0",
          "state": {
            "_model_module": "@jupyter-widgets/base",
            "_model_module_version": "1.2.0",
            "_model_name": "LayoutModel",
            "_view_count": null,
            "_view_module": "@jupyter-widgets/base",
            "_view_module_version": "1.2.0",
            "_view_name": "LayoutView",
            "align_content": null,
            "align_items": null,
            "align_self": null,
            "border": null,
            "bottom": null,
            "display": null,
            "flex": null,
            "flex_flow": null,
            "grid_area": null,
            "grid_auto_columns": null,
            "grid_auto_flow": null,
            "grid_auto_rows": null,
            "grid_column": null,
            "grid_gap": null,
            "grid_row": null,
            "grid_template_areas": null,
            "grid_template_columns": null,
            "grid_template_rows": null,
            "height": null,
            "justify_content": null,
            "justify_items": null,
            "left": null,
            "margin": null,
            "max_height": null,
            "max_width": null,
            "min_height": null,
            "min_width": null,
            "object_fit": null,
            "object_position": null,
            "order": null,
            "overflow": null,
            "overflow_x": null,
            "overflow_y": null,
            "padding": null,
            "right": null,
            "top": null,
            "visibility": null,
            "width": null
          }
        },
        "3cce5518af9a4f1a8be895c1aa985631": {
          "model_module": "@jupyter-widgets/controls",
          "model_name": "ProgressStyleModel",
          "model_module_version": "1.5.0",
          "state": {
            "_model_module": "@jupyter-widgets/controls",
            "_model_module_version": "1.5.0",
            "_model_name": "ProgressStyleModel",
            "_view_count": null,
            "_view_module": "@jupyter-widgets/base",
            "_view_module_version": "1.2.0",
            "_view_name": "StyleView",
            "bar_color": null,
            "description_width": ""
          }
        },
        "0cc063dd676d4f22a5e5cc388decce58": {
          "model_module": "@jupyter-widgets/base",
          "model_name": "LayoutModel",
          "model_module_version": "1.2.0",
          "state": {
            "_model_module": "@jupyter-widgets/base",
            "_model_module_version": "1.2.0",
            "_model_name": "LayoutModel",
            "_view_count": null,
            "_view_module": "@jupyter-widgets/base",
            "_view_module_version": "1.2.0",
            "_view_name": "LayoutView",
            "align_content": null,
            "align_items": null,
            "align_self": null,
            "border": null,
            "bottom": null,
            "display": null,
            "flex": null,
            "flex_flow": null,
            "grid_area": null,
            "grid_auto_columns": null,
            "grid_auto_flow": null,
            "grid_auto_rows": null,
            "grid_column": null,
            "grid_gap": null,
            "grid_row": null,
            "grid_template_areas": null,
            "grid_template_columns": null,
            "grid_template_rows": null,
            "height": null,
            "justify_content": null,
            "justify_items": null,
            "left": null,
            "margin": null,
            "max_height": null,
            "max_width": null,
            "min_height": null,
            "min_width": null,
            "object_fit": null,
            "object_position": null,
            "order": null,
            "overflow": null,
            "overflow_x": null,
            "overflow_y": null,
            "padding": null,
            "right": null,
            "top": null,
            "visibility": null,
            "width": null
          }
        },
        "d2eb4d199c564f43bc3e28006a61b7bf": {
          "model_module": "@jupyter-widgets/controls",
          "model_name": "DescriptionStyleModel",
          "model_module_version": "1.5.0",
          "state": {
            "_model_module": "@jupyter-widgets/controls",
            "_model_module_version": "1.5.0",
            "_model_name": "DescriptionStyleModel",
            "_view_count": null,
            "_view_module": "@jupyter-widgets/base",
            "_view_module_version": "1.2.0",
            "_view_name": "StyleView",
            "description_width": ""
          }
        }
      }
    }
  },
  "nbformat_minor": 0,
  "nbformat": 4,
  "cells": [
    {
      "cell_type": "markdown",
      "source": [
        "# 1. Information about the submission"
      ],
      "metadata": {
        "id": "FwNzH4V2BLfm"
      }
    },
    {
      "cell_type": "markdown",
      "source": [
        "## 1.1 Name and number of the assignment"
      ],
      "metadata": {
        "id": "9HvKiKSnBLfq"
      }
    },
    {
      "cell_type": "markdown",
      "source": [
        "Assignment 3. Text Detoxification."
      ],
      "metadata": {
        "id": "VxD_ESBbBLfr"
      }
    },
    {
      "cell_type": "markdown",
      "source": [
        "## 1.2 Student name"
      ],
      "metadata": {
        "id": "MkE6X0o8BLfr"
      }
    },
    {
      "cell_type": "markdown",
      "source": [
        "Bogdan Alexandrov"
      ],
      "metadata": {
        "id": "Ou32IGTzBLfr"
      }
    },
    {
      "cell_type": "markdown",
      "source": [
        "## 1.3 Codalab user ID"
      ],
      "metadata": {
        "id": "yfIzZTWBBLfs"
      }
    },
    {
      "cell_type": "markdown",
      "source": [
        "bogchamp"
      ],
      "metadata": {
        "id": "MIVLqASYBLfs"
      }
    },
    {
      "cell_type": "markdown",
      "source": [
        "## 1.4 Additional comments"
      ],
      "metadata": {
        "id": "icn58jcwBLfs"
      }
    },
    {
      "cell_type": "markdown",
      "source": [
        "***Enter here** any additional comments which you would like to communicate to a TA who is going to grade this work not related to the content of your submission.*"
      ],
      "metadata": {
        "id": "8z73NHO_BLft"
      }
    },
    {
      "cell_type": "markdown",
      "source": [
        "# 2. Technical Report"
      ],
      "metadata": {
        "id": "VLdrLn_tBLft"
      }
    },
    {
      "cell_type": "markdown",
      "source": [
        "*Use Section 2 to describe results of your experiments as you would do writing a paper about your results. DO NOT insert code in this part. Only insert plots and tables summarizing results as needed. Use formulas if needed do described your methodology. The code is provided in Section 3.*"
      ],
      "metadata": {
        "id": "iMjpFLTEBLft"
      }
    },
    {
      "cell_type": "markdown",
      "source": [
        "## 2.1 Methodology "
      ],
      "metadata": {
        "id": "sclU42mGBLfu"
      }
    },
    {
      "cell_type": "markdown",
      "source": [
        "For solving this problem I used T5 model, which is very popular model for solving such kind of tasks. As base model I used \"sberbank-ai/ruT5-base\", trained on russian corpus of texts. None additional preprocessing was performed, as augmentations I used random deletion of words and and random swap.\n",
        "\n",
        "As optimizer used Adam with standart parameters, number of epochs - 5.\n"
      ],
      "metadata": {
        "id": "8ht5qUO7BLfu"
      }
    },
    {
      "cell_type": "markdown",
      "source": [
        "## 2.2 Discussion of results"
      ],
      "metadata": {
        "id": "EWh5sC6DBLfv"
      }
    },
    {
      "cell_type": "markdown",
      "source": [
        "***Enter here** a discussion of results and a summary of the experiment. Here we want to see the final table with comparison of the baseline and all tried approaches you decided to report. Even if some method did not bring you to the top of the leaderboard, you should nevertheless indicate this result and a discussion, why, in your opinion, some approach worked and another failed. Interesting findings in the discussion will be a plus.*\n",
        "\n",
        "Method | Score \n",
        "--- | --- \n",
        "Baseline | 0.41 \n",
        "My T5 | 0.48\n",
        "My T5 with augments | 0.467\n",
        "\n",
        "As we can see, simple T5 can beat baseline, if we train it more than 3 epochs(less will give worth result). Also only models pretrained on russian corpus should be used, otherwise score will be low(about 0.18 for t5-base). Augmentations didn't give me any improves. Probably, they don't really suit to this problem, or we need to change hyperparameters of augmentations. The only thing I found - the more epochs I train model, the bigger become score.\n"
      ],
      "metadata": {
        "id": "yg2Lc4tDBLfv"
      }
    },
    {
      "cell_type": "markdown",
      "source": [
        "# 3. Code"
      ],
      "metadata": {
        "id": "KIgA3OS7BLfw"
      }
    },
    {
      "cell_type": "markdown",
      "source": [
        "*Enter here all code used to produce your results submitted to Codalab. Add some comments and subsections to navigate though your solution.*\n",
        "\n",
        "*In this part you are expected to develop yourself a solution of the task and provide a reproducible code:*\n",
        "- *Using Python 3;*\n",
        "- *Contains code for installation of all dependencies;*\n",
        "- *Contains code for downloading of all the datasets used*;\n",
        "- *Contains the code for reproducing your results (in other words, if a tester downloads your notebook she should be able to run cell-by-cell the code and obtain your experimental results as described in the methodology section)*.\n",
        "\n",
        "\n",
        "*As a result, you code will be graded according to these criteria:*\n",
        "- ***Readability**: your code should be well-structured preferably with indicated parts of your approach (Preprocessing, Model training, Evaluation, etc.).*\n",
        "- ***Reproducibility**: your code should be reproduced without any mistakes with “Run all” mode (obtaining experimental part).*\n"
      ],
      "metadata": {
        "id": "yfSPb-ABBLfw"
      }
    },
    {
      "cell_type": "markdown",
      "source": [
        "## 3.1 Requirements"
      ],
      "metadata": {
        "id": "MrF-N2i4BLfx"
      }
    },
    {
      "cell_type": "code",
      "source": [
        "!pip install gdown -q\n",
        "!pip install transformers sequential sentencepiece datasets -q\n",
        "!pip install --upgrade accelerate -q"
      ],
      "metadata": {
        "execution": {
          "iopub.status.busy": "2023-05-15T10:37:16.776518Z",
          "iopub.execute_input": "2023-05-15T10:37:16.776895Z",
          "iopub.status.idle": "2023-05-15T10:37:42.812085Z",
          "shell.execute_reply.started": "2023-05-15T10:37:16.776867Z",
          "shell.execute_reply": "2023-05-15T10:37:42.810727Z"
        },
        "trusted": true,
        "colab": {
          "base_uri": "https://localhost:8080/"
        },
        "id": "5hXrTmejBLfx",
        "outputId": "b38b3b03-7b3a-406d-c9d7-8fcb682eb4b8"
      },
      "execution_count": null,
      "outputs": [
        {
          "output_type": "stream",
          "name": "stdout",
          "text": [
            "\u001b[?25l     \u001b[90m━━━━━━━━━━━━━━━━━━━━━━━━━━━━━━━━━━━━━━━━\u001b[0m \u001b[32m0.0/219.1 kB\u001b[0m \u001b[31m?\u001b[0m eta \u001b[36m-:--:--\u001b[0m\r\u001b[2K     \u001b[90m━━━━━━━━━━━━━━━━━━━━━━━━━━━━━━━━━━━━━━━\u001b[0m \u001b[32m219.1/219.1 kB\u001b[0m \u001b[31m8.4 MB/s\u001b[0m eta \u001b[36m0:00:00\u001b[0m\n",
            "\u001b[?25h"
          ]
        }
      ]
    },
    {
      "cell_type": "code",
      "source": [
        "import numpy as np\n",
        "import torch\n",
        "from tqdm import tqdm\n",
        "import gc\n",
        "from sklearn.model_selection import train_test_split\n",
        "from torch.utils.data import Dataset as torchDataset\n",
        "from torch.utils.data import DataLoader\n",
        "from datasets import Dataset\n",
        "from transformers import T5Tokenizer, T5ForConditionalGeneration, DataCollatorForSeq2Seq, Seq2SeqTrainingArguments, Seq2SeqTrainer\n",
        "import random"
      ],
      "metadata": {
        "execution": {
          "iopub.status.busy": "2023-05-15T10:39:29.199841Z",
          "iopub.execute_input": "2023-05-15T10:39:29.200250Z",
          "iopub.status.idle": "2023-05-15T10:39:43.935446Z",
          "shell.execute_reply.started": "2023-05-15T10:39:29.200216Z",
          "shell.execute_reply": "2023-05-15T10:39:43.934446Z"
        },
        "trusted": true,
        "id": "_iynScNIBLfz"
      },
      "execution_count": null,
      "outputs": []
    },
    {
      "cell_type": "markdown",
      "source": [
        "## 3.2 Download the data"
      ],
      "metadata": {
        "id": "VW3K0CfABLf0"
      }
    },
    {
      "cell_type": "code",
      "source": [
        "! wget https://raw.githubusercontent.com/s-nlp/russe_detox_2022/main/data/input/train.tsv -q\n",
        "! wget https://raw.githubusercontent.com/s-nlp/russe_detox_2022/main/data/input/test.tsv -q\n",
        "! wget https://raw.githubusercontent.com/s-nlp/russe_detox_2022/main/data/input/dev.tsv -q"
      ],
      "metadata": {
        "execution": {
          "iopub.status.busy": "2023-05-15T10:39:43.937272Z",
          "iopub.execute_input": "2023-05-15T10:39:43.937657Z",
          "iopub.status.idle": "2023-05-15T10:39:47.327660Z",
          "shell.execute_reply.started": "2023-05-15T10:39:43.937629Z",
          "shell.execute_reply": "2023-05-15T10:39:47.326129Z"
        },
        "trusted": true,
        "id": "VK8DAOIEBLf0"
      },
      "execution_count": null,
      "outputs": []
    },
    {
      "cell_type": "markdown",
      "source": [
        "## 3.3 Preprocessing "
      ],
      "metadata": {
        "id": "A-ffKE4WBLf1"
      }
    },
    {
      "cell_type": "code",
      "source": [
        "import pandas as pd\n",
        "\n",
        "train = pd.read_csv('train.tsv', sep='\\t', index_col=0)\n",
        "train.head()"
      ],
      "metadata": {
        "execution": {
          "iopub.status.busy": "2023-05-15T10:39:47.329494Z",
          "iopub.execute_input": "2023-05-15T10:39:47.329858Z",
          "iopub.status.idle": "2023-05-15T10:39:47.417137Z",
          "shell.execute_reply.started": "2023-05-15T10:39:47.329825Z",
          "shell.execute_reply": "2023-05-15T10:39:47.416131Z"
        },
        "trusted": true,
        "colab": {
          "base_uri": "https://localhost:8080/",
          "height": 316
        },
        "id": "uy0ReEUUBLf1",
        "outputId": "17a0e280-57eb-4c26-8f41-4d8ba6af0854"
      },
      "execution_count": null,
      "outputs": [
        {
          "output_type": "execute_result",
          "data": {
            "text/plain": [
              "                                           toxic_comment  \\\n",
              "index                                                      \n",
              "0      и,чё,блядь где этот херой был до этого со свои...   \n",
              "1                         О, а есть деанон этого петуха?   \n",
              "2       херну всякую пишут,из-за этого лайка.долбоебизм.   \n",
              "3                      из за таких пидоров мы и страдаем   \n",
              "4                        гондон путинский он а не артист   \n",
              "\n",
              "                                        neutral_comment1  \\\n",
              "index                                                      \n",
              "0      Ну и где этот герой был,со своими доказательст...   \n",
              "1                                       О, а есть деанон   \n",
              "2                 Чушь всякую пишут, из- за этого лайка.   \n",
              "3                 из за таких плохих людей мы и страдаем   \n",
              "4                         Человек Путина он, а не артист   \n",
              "\n",
              "                                        neutral_comment2  \\\n",
              "index                                                      \n",
              "0      Где этот герой был до этого со своими доказате...   \n",
              "1                                                    NaN   \n",
              "2                 Ерунду всякую пишут,из-за этого лайка.   \n",
              "3                        Из-за таких людей мы и страдаем   \n",
              "4                                                    NaN   \n",
              "\n",
              "                                        neutral_comment3  \n",
              "index                                                     \n",
              "0      и,где этот герой был до этого со своими доказа...  \n",
              "1                                                    NaN  \n",
              "2                                                    NaN  \n",
              "3                       из за таких как он мы и страдаем  \n",
              "4                                                    NaN  "
            ],
            "text/html": [
              "\n",
              "  <div id=\"df-d6f8c57c-0f8f-4b15-bb48-49095cbe5203\">\n",
              "    <div class=\"colab-df-container\">\n",
              "      <div>\n",
              "<style scoped>\n",
              "    .dataframe tbody tr th:only-of-type {\n",
              "        vertical-align: middle;\n",
              "    }\n",
              "\n",
              "    .dataframe tbody tr th {\n",
              "        vertical-align: top;\n",
              "    }\n",
              "\n",
              "    .dataframe thead th {\n",
              "        text-align: right;\n",
              "    }\n",
              "</style>\n",
              "<table border=\"1\" class=\"dataframe\">\n",
              "  <thead>\n",
              "    <tr style=\"text-align: right;\">\n",
              "      <th></th>\n",
              "      <th>toxic_comment</th>\n",
              "      <th>neutral_comment1</th>\n",
              "      <th>neutral_comment2</th>\n",
              "      <th>neutral_comment3</th>\n",
              "    </tr>\n",
              "    <tr>\n",
              "      <th>index</th>\n",
              "      <th></th>\n",
              "      <th></th>\n",
              "      <th></th>\n",
              "      <th></th>\n",
              "    </tr>\n",
              "  </thead>\n",
              "  <tbody>\n",
              "    <tr>\n",
              "      <th>0</th>\n",
              "      <td>и,чё,блядь где этот херой был до этого со свои...</td>\n",
              "      <td>Ну и где этот герой был,со своими доказательст...</td>\n",
              "      <td>Где этот герой был до этого со своими доказате...</td>\n",
              "      <td>и,где этот герой был до этого со своими доказа...</td>\n",
              "    </tr>\n",
              "    <tr>\n",
              "      <th>1</th>\n",
              "      <td>О, а есть деанон этого петуха?</td>\n",
              "      <td>О, а есть деанон</td>\n",
              "      <td>NaN</td>\n",
              "      <td>NaN</td>\n",
              "    </tr>\n",
              "    <tr>\n",
              "      <th>2</th>\n",
              "      <td>херну всякую пишут,из-за этого лайка.долбоебизм.</td>\n",
              "      <td>Чушь всякую пишут, из- за этого лайка.</td>\n",
              "      <td>Ерунду всякую пишут,из-за этого лайка.</td>\n",
              "      <td>NaN</td>\n",
              "    </tr>\n",
              "    <tr>\n",
              "      <th>3</th>\n",
              "      <td>из за таких пидоров мы и страдаем</td>\n",
              "      <td>из за таких плохих людей мы и страдаем</td>\n",
              "      <td>Из-за таких людей мы и страдаем</td>\n",
              "      <td>из за таких как он мы и страдаем</td>\n",
              "    </tr>\n",
              "    <tr>\n",
              "      <th>4</th>\n",
              "      <td>гондон путинский он а не артист</td>\n",
              "      <td>Человек Путина он, а не артист</td>\n",
              "      <td>NaN</td>\n",
              "      <td>NaN</td>\n",
              "    </tr>\n",
              "  </tbody>\n",
              "</table>\n",
              "</div>\n",
              "      <button class=\"colab-df-convert\" onclick=\"convertToInteractive('df-d6f8c57c-0f8f-4b15-bb48-49095cbe5203')\"\n",
              "              title=\"Convert this dataframe to an interactive table.\"\n",
              "              style=\"display:none;\">\n",
              "        \n",
              "  <svg xmlns=\"http://www.w3.org/2000/svg\" height=\"24px\"viewBox=\"0 0 24 24\"\n",
              "       width=\"24px\">\n",
              "    <path d=\"M0 0h24v24H0V0z\" fill=\"none\"/>\n",
              "    <path d=\"M18.56 5.44l.94 2.06.94-2.06 2.06-.94-2.06-.94-.94-2.06-.94 2.06-2.06.94zm-11 1L8.5 8.5l.94-2.06 2.06-.94-2.06-.94L8.5 2.5l-.94 2.06-2.06.94zm10 10l.94 2.06.94-2.06 2.06-.94-2.06-.94-.94-2.06-.94 2.06-2.06.94z\"/><path d=\"M17.41 7.96l-1.37-1.37c-.4-.4-.92-.59-1.43-.59-.52 0-1.04.2-1.43.59L10.3 9.45l-7.72 7.72c-.78.78-.78 2.05 0 2.83L4 21.41c.39.39.9.59 1.41.59.51 0 1.02-.2 1.41-.59l7.78-7.78 2.81-2.81c.8-.78.8-2.07 0-2.86zM5.41 20L4 18.59l7.72-7.72 1.47 1.35L5.41 20z\"/>\n",
              "  </svg>\n",
              "      </button>\n",
              "      \n",
              "  <style>\n",
              "    .colab-df-container {\n",
              "      display:flex;\n",
              "      flex-wrap:wrap;\n",
              "      gap: 12px;\n",
              "    }\n",
              "\n",
              "    .colab-df-convert {\n",
              "      background-color: #E8F0FE;\n",
              "      border: none;\n",
              "      border-radius: 50%;\n",
              "      cursor: pointer;\n",
              "      display: none;\n",
              "      fill: #1967D2;\n",
              "      height: 32px;\n",
              "      padding: 0 0 0 0;\n",
              "      width: 32px;\n",
              "    }\n",
              "\n",
              "    .colab-df-convert:hover {\n",
              "      background-color: #E2EBFA;\n",
              "      box-shadow: 0px 1px 2px rgba(60, 64, 67, 0.3), 0px 1px 3px 1px rgba(60, 64, 67, 0.15);\n",
              "      fill: #174EA6;\n",
              "    }\n",
              "\n",
              "    [theme=dark] .colab-df-convert {\n",
              "      background-color: #3B4455;\n",
              "      fill: #D2E3FC;\n",
              "    }\n",
              "\n",
              "    [theme=dark] .colab-df-convert:hover {\n",
              "      background-color: #434B5C;\n",
              "      box-shadow: 0px 1px 3px 1px rgba(0, 0, 0, 0.15);\n",
              "      filter: drop-shadow(0px 1px 2px rgba(0, 0, 0, 0.3));\n",
              "      fill: #FFFFFF;\n",
              "    }\n",
              "  </style>\n",
              "\n",
              "      <script>\n",
              "        const buttonEl =\n",
              "          document.querySelector('#df-d6f8c57c-0f8f-4b15-bb48-49095cbe5203 button.colab-df-convert');\n",
              "        buttonEl.style.display =\n",
              "          google.colab.kernel.accessAllowed ? 'block' : 'none';\n",
              "\n",
              "        async function convertToInteractive(key) {\n",
              "          const element = document.querySelector('#df-d6f8c57c-0f8f-4b15-bb48-49095cbe5203');\n",
              "          const dataTable =\n",
              "            await google.colab.kernel.invokeFunction('convertToInteractive',\n",
              "                                                     [key], {});\n",
              "          if (!dataTable) return;\n",
              "\n",
              "          const docLinkHtml = 'Like what you see? Visit the ' +\n",
              "            '<a target=\"_blank\" href=https://colab.research.google.com/notebooks/data_table.ipynb>data table notebook</a>'\n",
              "            + ' to learn more about interactive tables.';\n",
              "          element.innerHTML = '';\n",
              "          dataTable['output_type'] = 'display_data';\n",
              "          await google.colab.output.renderOutput(dataTable, element);\n",
              "          const docLink = document.createElement('div');\n",
              "          docLink.innerHTML = docLinkHtml;\n",
              "          element.appendChild(docLink);\n",
              "        }\n",
              "      </script>\n",
              "    </div>\n",
              "  </div>\n",
              "  "
            ]
          },
          "metadata": {},
          "execution_count": 4
        }
      ]
    },
    {
      "cell_type": "code",
      "source": [
        "dev = pd.read_csv('dev.tsv', sep='\\t')\n",
        "dev.head()"
      ],
      "metadata": {
        "execution": {
          "iopub.status.busy": "2023-05-15T10:39:47.419473Z",
          "iopub.execute_input": "2023-05-15T10:39:47.419769Z",
          "iopub.status.idle": "2023-05-15T10:39:47.439010Z",
          "shell.execute_reply.started": "2023-05-15T10:39:47.419745Z",
          "shell.execute_reply": "2023-05-15T10:39:47.438007Z"
        },
        "trusted": true,
        "colab": {
          "base_uri": "https://localhost:8080/",
          "height": 302
        },
        "id": "x5rLawx-BLf1",
        "outputId": "eac072be-c7b8-441a-a61d-e8fd3d8af271"
      },
      "execution_count": null,
      "outputs": [
        {
          "output_type": "execute_result",
          "data": {
            "text/plain": [
              "                                       toxic_comment  \\\n",
              "0  пиздеж! температуры горения хватит чтобы её ра...   \n",
              "1           а ты чмо там был.ты вообще служил.гандон   \n",
              "2                пиздабол ---- а сам где кормишься ?   \n",
              "3  этому сайту я давно не доверяю, пишут разную х...   \n",
              "4  у меня сегодня подобный звонок был. достали го...   \n",
              "\n",
              "                                    neutral_comment1  \\\n",
              "0  Враньё! Температуры горения хватит чтобы ее ра...   \n",
              "1                    А ты там был? Ты вообще служил?   \n",
              "2                              а сам где кормишься ?   \n",
              "3  Этому сайту давно не доверяю, пишут всякую ерунду   \n",
              "4       у меня сегодня подобный звонок был. Достали.   \n",
              "\n",
              "                                    neutral_comment2  \\\n",
              "0  неправда,температуры горения хватит чтобы расп...   \n",
              "1                                                NaN   \n",
              "2                                                NaN   \n",
              "3                                                NaN   \n",
              "4         У меня сегодня подобный звонок был,надоели   \n",
              "\n",
              "                                    neutral_comment3  \n",
              "0  Враньё! Температуры горения хватит на чтобы её...  \n",
              "1                                                NaN  \n",
              "2                                                NaN  \n",
              "3                                                NaN  \n",
              "4                                                NaN  "
            ],
            "text/html": [
              "\n",
              "  <div id=\"df-135965ef-62c2-4e21-b33b-1d00f29a491b\">\n",
              "    <div class=\"colab-df-container\">\n",
              "      <div>\n",
              "<style scoped>\n",
              "    .dataframe tbody tr th:only-of-type {\n",
              "        vertical-align: middle;\n",
              "    }\n",
              "\n",
              "    .dataframe tbody tr th {\n",
              "        vertical-align: top;\n",
              "    }\n",
              "\n",
              "    .dataframe thead th {\n",
              "        text-align: right;\n",
              "    }\n",
              "</style>\n",
              "<table border=\"1\" class=\"dataframe\">\n",
              "  <thead>\n",
              "    <tr style=\"text-align: right;\">\n",
              "      <th></th>\n",
              "      <th>toxic_comment</th>\n",
              "      <th>neutral_comment1</th>\n",
              "      <th>neutral_comment2</th>\n",
              "      <th>neutral_comment3</th>\n",
              "    </tr>\n",
              "  </thead>\n",
              "  <tbody>\n",
              "    <tr>\n",
              "      <th>0</th>\n",
              "      <td>пиздеж! температуры горения хватит чтобы её ра...</td>\n",
              "      <td>Враньё! Температуры горения хватит чтобы ее ра...</td>\n",
              "      <td>неправда,температуры горения хватит чтобы расп...</td>\n",
              "      <td>Враньё! Температуры горения хватит на чтобы её...</td>\n",
              "    </tr>\n",
              "    <tr>\n",
              "      <th>1</th>\n",
              "      <td>а ты чмо там был.ты вообще служил.гандон</td>\n",
              "      <td>А ты там был? Ты вообще служил?</td>\n",
              "      <td>NaN</td>\n",
              "      <td>NaN</td>\n",
              "    </tr>\n",
              "    <tr>\n",
              "      <th>2</th>\n",
              "      <td>пиздабол ---- а сам где кормишься ?</td>\n",
              "      <td>а сам где кормишься ?</td>\n",
              "      <td>NaN</td>\n",
              "      <td>NaN</td>\n",
              "    </tr>\n",
              "    <tr>\n",
              "      <th>3</th>\n",
              "      <td>этому сайту я давно не доверяю, пишут разную х...</td>\n",
              "      <td>Этому сайту давно не доверяю, пишут всякую ерунду</td>\n",
              "      <td>NaN</td>\n",
              "      <td>NaN</td>\n",
              "    </tr>\n",
              "    <tr>\n",
              "      <th>4</th>\n",
              "      <td>у меня сегодня подобный звонок был. достали го...</td>\n",
              "      <td>у меня сегодня подобный звонок был. Достали.</td>\n",
              "      <td>У меня сегодня подобный звонок был,надоели</td>\n",
              "      <td>NaN</td>\n",
              "    </tr>\n",
              "  </tbody>\n",
              "</table>\n",
              "</div>\n",
              "      <button class=\"colab-df-convert\" onclick=\"convertToInteractive('df-135965ef-62c2-4e21-b33b-1d00f29a491b')\"\n",
              "              title=\"Convert this dataframe to an interactive table.\"\n",
              "              style=\"display:none;\">\n",
              "        \n",
              "  <svg xmlns=\"http://www.w3.org/2000/svg\" height=\"24px\"viewBox=\"0 0 24 24\"\n",
              "       width=\"24px\">\n",
              "    <path d=\"M0 0h24v24H0V0z\" fill=\"none\"/>\n",
              "    <path d=\"M18.56 5.44l.94 2.06.94-2.06 2.06-.94-2.06-.94-.94-2.06-.94 2.06-2.06.94zm-11 1L8.5 8.5l.94-2.06 2.06-.94-2.06-.94L8.5 2.5l-.94 2.06-2.06.94zm10 10l.94 2.06.94-2.06 2.06-.94-2.06-.94-.94-2.06-.94 2.06-2.06.94z\"/><path d=\"M17.41 7.96l-1.37-1.37c-.4-.4-.92-.59-1.43-.59-.52 0-1.04.2-1.43.59L10.3 9.45l-7.72 7.72c-.78.78-.78 2.05 0 2.83L4 21.41c.39.39.9.59 1.41.59.51 0 1.02-.2 1.41-.59l7.78-7.78 2.81-2.81c.8-.78.8-2.07 0-2.86zM5.41 20L4 18.59l7.72-7.72 1.47 1.35L5.41 20z\"/>\n",
              "  </svg>\n",
              "      </button>\n",
              "      \n",
              "  <style>\n",
              "    .colab-df-container {\n",
              "      display:flex;\n",
              "      flex-wrap:wrap;\n",
              "      gap: 12px;\n",
              "    }\n",
              "\n",
              "    .colab-df-convert {\n",
              "      background-color: #E8F0FE;\n",
              "      border: none;\n",
              "      border-radius: 50%;\n",
              "      cursor: pointer;\n",
              "      display: none;\n",
              "      fill: #1967D2;\n",
              "      height: 32px;\n",
              "      padding: 0 0 0 0;\n",
              "      width: 32px;\n",
              "    }\n",
              "\n",
              "    .colab-df-convert:hover {\n",
              "      background-color: #E2EBFA;\n",
              "      box-shadow: 0px 1px 2px rgba(60, 64, 67, 0.3), 0px 1px 3px 1px rgba(60, 64, 67, 0.15);\n",
              "      fill: #174EA6;\n",
              "    }\n",
              "\n",
              "    [theme=dark] .colab-df-convert {\n",
              "      background-color: #3B4455;\n",
              "      fill: #D2E3FC;\n",
              "    }\n",
              "\n",
              "    [theme=dark] .colab-df-convert:hover {\n",
              "      background-color: #434B5C;\n",
              "      box-shadow: 0px 1px 3px 1px rgba(0, 0, 0, 0.15);\n",
              "      filter: drop-shadow(0px 1px 2px rgba(0, 0, 0, 0.3));\n",
              "      fill: #FFFFFF;\n",
              "    }\n",
              "  </style>\n",
              "\n",
              "      <script>\n",
              "        const buttonEl =\n",
              "          document.querySelector('#df-135965ef-62c2-4e21-b33b-1d00f29a491b button.colab-df-convert');\n",
              "        buttonEl.style.display =\n",
              "          google.colab.kernel.accessAllowed ? 'block' : 'none';\n",
              "\n",
              "        async function convertToInteractive(key) {\n",
              "          const element = document.querySelector('#df-135965ef-62c2-4e21-b33b-1d00f29a491b');\n",
              "          const dataTable =\n",
              "            await google.colab.kernel.invokeFunction('convertToInteractive',\n",
              "                                                     [key], {});\n",
              "          if (!dataTable) return;\n",
              "\n",
              "          const docLinkHtml = 'Like what you see? Visit the ' +\n",
              "            '<a target=\"_blank\" href=https://colab.research.google.com/notebooks/data_table.ipynb>data table notebook</a>'\n",
              "            + ' to learn more about interactive tables.';\n",
              "          element.innerHTML = '';\n",
              "          dataTable['output_type'] = 'display_data';\n",
              "          await google.colab.output.renderOutput(dataTable, element);\n",
              "          const docLink = document.createElement('div');\n",
              "          docLink.innerHTML = docLinkHtml;\n",
              "          element.appendChild(docLink);\n",
              "        }\n",
              "      </script>\n",
              "    </div>\n",
              "  </div>\n",
              "  "
            ]
          },
          "metadata": {},
          "execution_count": 5
        }
      ]
    },
    {
      "cell_type": "code",
      "source": [
        "test = pd.read_csv('test.tsv', sep='\\t')\n",
        "test.head()"
      ],
      "metadata": {
        "execution": {
          "iopub.status.busy": "2023-05-15T10:39:47.440467Z",
          "iopub.execute_input": "2023-05-15T10:39:47.440797Z",
          "iopub.status.idle": "2023-05-15T10:39:47.459565Z",
          "shell.execute_reply.started": "2023-05-15T10:39:47.440770Z",
          "shell.execute_reply": "2023-05-15T10:39:47.458204Z"
        },
        "trusted": true,
        "colab": {
          "base_uri": "https://localhost:8080/",
          "height": 206
        },
        "id": "4whvkhRKBLf2",
        "outputId": "b81df854-12be-4cf3-a436-37b87bf12a69"
      },
      "execution_count": null,
      "outputs": [
        {
          "output_type": "execute_result",
          "data": {
            "text/plain": [
              "                                       toxic_comment\n",
              "0                       какой дебил эту придумывает \n",
              "1  В такой ситуации виноваты пидарасы из Ростелек...\n",
              "2  актёр может и не плохой,но как человек - хуйло...\n",
              "3      мочите всех кто нарушает общественный порядок\n",
              "4               такие же твари и привели этих тварей"
            ],
            "text/html": [
              "\n",
              "  <div id=\"df-f84815e7-b38b-4c58-b40a-07cab0a6875f\">\n",
              "    <div class=\"colab-df-container\">\n",
              "      <div>\n",
              "<style scoped>\n",
              "    .dataframe tbody tr th:only-of-type {\n",
              "        vertical-align: middle;\n",
              "    }\n",
              "\n",
              "    .dataframe tbody tr th {\n",
              "        vertical-align: top;\n",
              "    }\n",
              "\n",
              "    .dataframe thead th {\n",
              "        text-align: right;\n",
              "    }\n",
              "</style>\n",
              "<table border=\"1\" class=\"dataframe\">\n",
              "  <thead>\n",
              "    <tr style=\"text-align: right;\">\n",
              "      <th></th>\n",
              "      <th>toxic_comment</th>\n",
              "    </tr>\n",
              "  </thead>\n",
              "  <tbody>\n",
              "    <tr>\n",
              "      <th>0</th>\n",
              "      <td>какой дебил эту придумывает</td>\n",
              "    </tr>\n",
              "    <tr>\n",
              "      <th>1</th>\n",
              "      <td>В такой ситуации виноваты пидарасы из Ростелек...</td>\n",
              "    </tr>\n",
              "    <tr>\n",
              "      <th>2</th>\n",
              "      <td>актёр может и не плохой,но как человек - хуйло...</td>\n",
              "    </tr>\n",
              "    <tr>\n",
              "      <th>3</th>\n",
              "      <td>мочите всех кто нарушает общественный порядок</td>\n",
              "    </tr>\n",
              "    <tr>\n",
              "      <th>4</th>\n",
              "      <td>такие же твари и привели этих тварей</td>\n",
              "    </tr>\n",
              "  </tbody>\n",
              "</table>\n",
              "</div>\n",
              "      <button class=\"colab-df-convert\" onclick=\"convertToInteractive('df-f84815e7-b38b-4c58-b40a-07cab0a6875f')\"\n",
              "              title=\"Convert this dataframe to an interactive table.\"\n",
              "              style=\"display:none;\">\n",
              "        \n",
              "  <svg xmlns=\"http://www.w3.org/2000/svg\" height=\"24px\"viewBox=\"0 0 24 24\"\n",
              "       width=\"24px\">\n",
              "    <path d=\"M0 0h24v24H0V0z\" fill=\"none\"/>\n",
              "    <path d=\"M18.56 5.44l.94 2.06.94-2.06 2.06-.94-2.06-.94-.94-2.06-.94 2.06-2.06.94zm-11 1L8.5 8.5l.94-2.06 2.06-.94-2.06-.94L8.5 2.5l-.94 2.06-2.06.94zm10 10l.94 2.06.94-2.06 2.06-.94-2.06-.94-.94-2.06-.94 2.06-2.06.94z\"/><path d=\"M17.41 7.96l-1.37-1.37c-.4-.4-.92-.59-1.43-.59-.52 0-1.04.2-1.43.59L10.3 9.45l-7.72 7.72c-.78.78-.78 2.05 0 2.83L4 21.41c.39.39.9.59 1.41.59.51 0 1.02-.2 1.41-.59l7.78-7.78 2.81-2.81c.8-.78.8-2.07 0-2.86zM5.41 20L4 18.59l7.72-7.72 1.47 1.35L5.41 20z\"/>\n",
              "  </svg>\n",
              "      </button>\n",
              "      \n",
              "  <style>\n",
              "    .colab-df-container {\n",
              "      display:flex;\n",
              "      flex-wrap:wrap;\n",
              "      gap: 12px;\n",
              "    }\n",
              "\n",
              "    .colab-df-convert {\n",
              "      background-color: #E8F0FE;\n",
              "      border: none;\n",
              "      border-radius: 50%;\n",
              "      cursor: pointer;\n",
              "      display: none;\n",
              "      fill: #1967D2;\n",
              "      height: 32px;\n",
              "      padding: 0 0 0 0;\n",
              "      width: 32px;\n",
              "    }\n",
              "\n",
              "    .colab-df-convert:hover {\n",
              "      background-color: #E2EBFA;\n",
              "      box-shadow: 0px 1px 2px rgba(60, 64, 67, 0.3), 0px 1px 3px 1px rgba(60, 64, 67, 0.15);\n",
              "      fill: #174EA6;\n",
              "    }\n",
              "\n",
              "    [theme=dark] .colab-df-convert {\n",
              "      background-color: #3B4455;\n",
              "      fill: #D2E3FC;\n",
              "    }\n",
              "\n",
              "    [theme=dark] .colab-df-convert:hover {\n",
              "      background-color: #434B5C;\n",
              "      box-shadow: 0px 1px 3px 1px rgba(0, 0, 0, 0.15);\n",
              "      filter: drop-shadow(0px 1px 2px rgba(0, 0, 0, 0.3));\n",
              "      fill: #FFFFFF;\n",
              "    }\n",
              "  </style>\n",
              "\n",
              "      <script>\n",
              "        const buttonEl =\n",
              "          document.querySelector('#df-f84815e7-b38b-4c58-b40a-07cab0a6875f button.colab-df-convert');\n",
              "        buttonEl.style.display =\n",
              "          google.colab.kernel.accessAllowed ? 'block' : 'none';\n",
              "\n",
              "        async function convertToInteractive(key) {\n",
              "          const element = document.querySelector('#df-f84815e7-b38b-4c58-b40a-07cab0a6875f');\n",
              "          const dataTable =\n",
              "            await google.colab.kernel.invokeFunction('convertToInteractive',\n",
              "                                                     [key], {});\n",
              "          if (!dataTable) return;\n",
              "\n",
              "          const docLinkHtml = 'Like what you see? Visit the ' +\n",
              "            '<a target=\"_blank\" href=https://colab.research.google.com/notebooks/data_table.ipynb>data table notebook</a>'\n",
              "            + ' to learn more about interactive tables.';\n",
              "          element.innerHTML = '';\n",
              "          dataTable['output_type'] = 'display_data';\n",
              "          await google.colab.output.renderOutput(dataTable, element);\n",
              "          const docLink = document.createElement('div');\n",
              "          docLink.innerHTML = docLinkHtml;\n",
              "          element.appendChild(docLink);\n",
              "        }\n",
              "      </script>\n",
              "    </div>\n",
              "  </div>\n",
              "  "
            ]
          },
          "metadata": {},
          "execution_count": 6
        }
      ]
    },
    {
      "cell_type": "code",
      "source": [
        "df_train_toxic = []\n",
        "df_train_neutral = []\n",
        "\n",
        "for index, row in train.iterrows():\n",
        "    references = row[['neutral_comment1', 'neutral_comment2', 'neutral_comment3']].tolist()\n",
        "    \n",
        "    for reference in references:\n",
        "\n",
        "        if not (reference is np.nan):\n",
        "            df_train_toxic.append(row['toxic_comment'])\n",
        "            df_train_neutral.append(reference)\n",
        "        else:\n",
        "            break"
      ],
      "metadata": {
        "execution": {
          "iopub.status.busy": "2023-05-15T10:39:55.144364Z",
          "iopub.execute_input": "2023-05-15T10:39:55.144793Z",
          "iopub.status.idle": "2023-05-15T10:39:59.203878Z",
          "shell.execute_reply.started": "2023-05-15T10:39:55.144759Z",
          "shell.execute_reply": "2023-05-15T10:39:59.202892Z"
        },
        "trusted": true,
        "id": "CCJPa_HhBLf3"
      },
      "execution_count": null,
      "outputs": []
    },
    {
      "cell_type": "code",
      "source": [
        "df = pd.DataFrame({\n",
        "    'toxic_comment': df_train_toxic,\n",
        "    'neutral_comment1': df_train_neutral\n",
        "})\n",
        "\n",
        "train = df.sample(frac=1)"
      ],
      "metadata": {
        "execution": {
          "iopub.status.busy": "2023-05-15T10:40:00.450326Z",
          "iopub.execute_input": "2023-05-15T10:40:00.450721Z",
          "iopub.status.idle": "2023-05-15T10:40:00.462416Z",
          "shell.execute_reply.started": "2023-05-15T10:40:00.450690Z",
          "shell.execute_reply": "2023-05-15T10:40:00.461211Z"
        },
        "trusted": true,
        "id": "bxwFpmREBLf3"
      },
      "execution_count": null,
      "outputs": []
    },
    {
      "cell_type": "code",
      "source": [
        "df_train_toxic = []\n",
        "df_train_neutral = []\n",
        "\n",
        "for index, row in dev.iterrows():\n",
        "    references = row[['neutral_comment1', 'neutral_comment2', 'neutral_comment3']].tolist()\n",
        "    \n",
        "    for reference in references:\n",
        "\n",
        "        if not (reference is np.nan):\n",
        "            df_train_toxic.append(row['toxic_comment'])\n",
        "            df_train_neutral.append(reference)\n",
        "        else:\n",
        "            break"
      ],
      "metadata": {
        "execution": {
          "iopub.status.busy": "2023-05-15T10:40:01.726500Z",
          "iopub.execute_input": "2023-05-15T10:40:01.726883Z",
          "iopub.status.idle": "2023-05-15T10:40:02.199948Z",
          "shell.execute_reply.started": "2023-05-15T10:40:01.726853Z",
          "shell.execute_reply": "2023-05-15T10:40:02.198576Z"
        },
        "trusted": true,
        "id": "-nYqbzazBLf3"
      },
      "execution_count": null,
      "outputs": []
    },
    {
      "cell_type": "code",
      "source": [
        "df = pd.DataFrame({\n",
        "    'toxic_comment': df_train_toxic,\n",
        "    'neutral_comment1': df_train_neutral\n",
        "})\n",
        "\n",
        "dev = df"
      ],
      "metadata": {
        "execution": {
          "iopub.status.busy": "2023-05-15T10:40:03.095861Z",
          "iopub.execute_input": "2023-05-15T10:40:03.096277Z",
          "iopub.status.idle": "2023-05-15T10:40:03.102676Z",
          "shell.execute_reply.started": "2023-05-15T10:40:03.096231Z",
          "shell.execute_reply": "2023-05-15T10:40:03.101574Z"
        },
        "trusted": true,
        "id": "ieH_RuBjBLf4"
      },
      "execution_count": null,
      "outputs": []
    },
    {
      "cell_type": "markdown",
      "source": [
        "## 3.4 Dataset prepairing"
      ],
      "metadata": {
        "id": "AmwmLfvpBLf4"
      }
    },
    {
      "cell_type": "code",
      "source": [
        "tokenizer = T5Tokenizer.from_pretrained(\"sberbank-ai/ruT5-base\")"
      ],
      "metadata": {
        "execution": {
          "iopub.status.busy": "2023-05-15T10:40:11.877545Z",
          "iopub.execute_input": "2023-05-15T10:40:11.877931Z",
          "iopub.status.idle": "2023-05-15T10:40:13.416893Z",
          "shell.execute_reply.started": "2023-05-15T10:40:11.877902Z",
          "shell.execute_reply": "2023-05-15T10:40:13.415932Z"
        },
        "trusted": true,
        "id": "WF1S2FlOBLf4"
      },
      "execution_count": null,
      "outputs": []
    },
    {
      "cell_type": "code",
      "source": [
        "max_source_length = 128\n",
        "max_target_length = 128\n",
        "\n",
        "data_config = {'add_special_tokens':True,\n",
        "                'max_length': max_source_length,\n",
        "                'truncation':True,\n",
        "                'return_token_type_ids':False,\n",
        "                'padding':'max_length',\n",
        "                'return_attention_mask':True,\n",
        "                'return_tensors':'pt',\n",
        "                'verbose':False}\n",
        "\n",
        "target_config = {'add_special_tokens':True,\n",
        "                'max_length': max_target_length,\n",
        "                'truncation':True,\n",
        "                'return_token_type_ids':False,\n",
        "                'padding':'max_length',\n",
        "                'return_attention_mask':True,\n",
        "                'return_tensors':'pt',\n",
        "                'verbose':False}"
      ],
      "metadata": {
        "execution": {
          "iopub.status.busy": "2023-05-15T10:40:26.457354Z",
          "iopub.execute_input": "2023-05-15T10:40:26.457778Z",
          "iopub.status.idle": "2023-05-15T10:40:26.464992Z",
          "shell.execute_reply.started": "2023-05-15T10:40:26.457745Z",
          "shell.execute_reply": "2023-05-15T10:40:26.463756Z"
        },
        "trusted": true,
        "id": "uQQ2AFXeBLf5"
      },
      "execution_count": null,
      "outputs": []
    },
    {
      "cell_type": "code",
      "source": [
        "def random_deletion(sentence, p=0.3):\n",
        "    \"\"\"Randomly delete words from the sentence with a given probability\"\"\"\n",
        "    words = sentence.split()\n",
        "    new_sentence = [word for word in words if random.uniform(0, 1) > p]\n",
        "    return ' '.join(new_sentence)\n",
        "\n",
        "def random_swap(sentence, n=2):\n",
        "    \"\"\"Randomly swap two adjacent words in the sentence\"\"\"\n",
        "    words = sentence.split()\n",
        "    new_sentence = sentence.split()\n",
        "    for i in range(n):\n",
        "        if len(words) > 1:\n",
        "            idx_1, idx_2 = random.sample(range(len(words)-1), 2)\n",
        "            new_sentence[idx_1], new_sentence[idx_2] = new_sentence[idx_2], new_sentence[idx_1]\n",
        "    return ' '.join(new_sentence)\n",
        "\n",
        "def apply_augmentation(sentence_tokenized, attention_mask, p=0.125):\n",
        "    apply_deletion = np.random.binomial(1, p, size=1)\n",
        "    apply_swap = np.random.binomial(1, p, size=1)\n",
        "    \n",
        "    if not (apply_deletion[0] or apply_swap[0]):\n",
        "        return sentence_tokenized, attention_mask\n",
        "        \n",
        "    sentence = tokenizer.decode(sentence_tokenized, skip_special_tokens=True)\n",
        "\n",
        "    if apply_deletion[0]:\n",
        "        sentence = random_deletion(sentence)\n",
        "    if apply_swap[0]:\n",
        "        sentence = random_deletion(sentence)\n",
        "    sentence = tokenizer(sentence, **data_config)\n",
        "\n",
        "    return sentence.input_ids.squeeze(), sentence.attention_mask.squeeze()\n",
        "\n",
        "class T5Dataset(torchDataset):\n",
        "    def __init__(self, data, tokenizer, data_config, target_config, do_augmentation=False):\n",
        "        super().__init__()\n",
        "        self.source_tokens = tokenizer(data.toxic_comment.to_list(), **data_config)\n",
        "        self.target_tokens = tokenizer(data.neutral_comment1.to_list(), **target_config)\n",
        "        self.length = len(self.source_tokens['input_ids'])\n",
        "        self.do_augmentation = do_augmentation\n",
        "\n",
        "    def __len__(self):\n",
        "        return self.length\n",
        "\n",
        "    def __getitem__(self, index):\n",
        "        input_ids = self.source_tokens['input_ids'][index]\n",
        "        attention_mask = self.source_tokens['attention_mask'][index]\n",
        "        label = self.target_tokens['input_ids'][index]\n",
        "        if self.do_augmentation:\n",
        "            input_ids, attention_mask = apply_augmentation(input_ids, attention_mask)\n",
        "        \n",
        "        return {\n",
        "          'input_ids':input_ids,\n",
        "          'attention_mask':attention_mask,\n",
        "          'labels': label\n",
        "        }"
      ],
      "metadata": {
        "execution": {
          "iopub.status.busy": "2023-05-15T10:40:26.740422Z",
          "iopub.execute_input": "2023-05-15T10:40:26.741568Z",
          "iopub.status.idle": "2023-05-15T10:40:26.757978Z",
          "shell.execute_reply.started": "2023-05-15T10:40:26.741515Z",
          "shell.execute_reply": "2023-05-15T10:40:26.756742Z"
        },
        "trusted": true,
        "id": "Akx3V57cBLf5"
      },
      "execution_count": null,
      "outputs": []
    },
    {
      "cell_type": "code",
      "source": [
        "train_dataset = T5Dataset(train, tokenizer, data_config, target_config, do_augmentation=False)\n",
        "val_dataset = T5Dataset(dev, tokenizer, data_config, target_config)"
      ],
      "metadata": {
        "execution": {
          "iopub.status.busy": "2023-05-15T10:40:28.106913Z",
          "iopub.execute_input": "2023-05-15T10:40:28.107353Z",
          "iopub.status.idle": "2023-05-15T10:40:33.976566Z",
          "shell.execute_reply.started": "2023-05-15T10:40:28.107320Z",
          "shell.execute_reply": "2023-05-15T10:40:33.975441Z"
        },
        "trusted": true,
        "id": "W7VsdhfMBLf6"
      },
      "execution_count": null,
      "outputs": []
    },
    {
      "cell_type": "markdown",
      "source": [
        "## 3.5 Model preparing"
      ],
      "metadata": {
        "id": "Q_LxfIk7BLf6"
      }
    },
    {
      "cell_type": "code",
      "source": [
        "num_epochs = 5\n",
        "batch_size = 16\n",
        "\n",
        "args = Seq2SeqTrainingArguments(\n",
        "    output_dir=\"output\",\n",
        "    evaluation_strategy = \"steps\",\n",
        "    learning_rate=3e-5,\n",
        "    per_device_train_batch_size=batch_size,\n",
        "    per_device_eval_batch_size=batch_size,\n",
        "    num_train_epochs=num_epochs,\n",
        "    weight_decay=0.01,\n",
        "    save_strategy='no',\n",
        "    report_to='none',\n",
        "    logging_strategy='steps',\n",
        "    logging_steps=500,\n",
        "    metric_for_best_model='loss',\n",
        "    skip_memory_metrics = False,\n",
        "    dataloader_num_workers = 2\n",
        ")"
      ],
      "metadata": {
        "execution": {
          "iopub.status.busy": "2023-05-15T10:40:41.315230Z",
          "iopub.execute_input": "2023-05-15T10:40:41.315992Z",
          "iopub.status.idle": "2023-05-15T10:40:41.324875Z",
          "shell.execute_reply.started": "2023-05-15T10:40:41.315953Z",
          "shell.execute_reply": "2023-05-15T10:40:41.323978Z"
        },
        "trusted": true,
        "id": "4rInn5wdBLf6"
      },
      "execution_count": null,
      "outputs": []
    },
    {
      "cell_type": "code",
      "source": [
        "model = T5ForConditionalGeneration.from_pretrained(\"sberbank-ai/ruT5-base\")\n",
        "data_collator = DataCollatorForSeq2Seq(tokenizer, model=model)\n",
        "\n",
        "trainer = Seq2SeqTrainer(\n",
        "    model,\n",
        "    args,\n",
        "    train_dataset=train_dataset,\n",
        "    eval_dataset=val_dataset,\n",
        "    data_collator=data_collator,\n",
        "    tokenizer=tokenizer\n",
        ")"
      ],
      "metadata": {
        "execution": {
          "iopub.status.busy": "2023-05-15T10:40:44.699771Z",
          "iopub.execute_input": "2023-05-15T10:40:44.700181Z",
          "iopub.status.idle": "2023-05-15T10:41:11.058797Z",
          "shell.execute_reply.started": "2023-05-15T10:40:44.700145Z",
          "shell.execute_reply": "2023-05-15T10:41:11.057746Z"
        },
        "trusted": true,
        "colab": {
          "base_uri": "https://localhost:8080/",
          "height": 49,
          "referenced_widgets": [
            "64f86329462b471fbcba01c58d65b3f2",
            "f0812934dc02443e952e433670789d63",
            "9f12f581dd7c4f72853b06f82e061c19",
            "4c9d2565791d4c8994b057139f6a9685",
            "20396ef134f34c608b981730d6eed917",
            "2e5edd8381774bbcaa02289b6e2a2fda",
            "194a33200f874dbfa8a67c5b41ca8e5e",
            "27430825f3174b8bb248e1f00ea65053",
            "3cce5518af9a4f1a8be895c1aa985631",
            "0cc063dd676d4f22a5e5cc388decce58",
            "d2eb4d199c564f43bc3e28006a61b7bf"
          ]
        },
        "id": "o42T4fBDBLf7",
        "outputId": "e4f67a82-fab4-4d6f-8ca8-d0d75a1cd54d"
      },
      "execution_count": null,
      "outputs": [
        {
          "output_type": "display_data",
          "data": {
            "text/plain": [
              "Downloading pytorch_model.bin:   0%|          | 0.00/892M [00:00<?, ?B/s]"
            ],
            "application/vnd.jupyter.widget-view+json": {
              "version_major": 2,
              "version_minor": 0,
              "model_id": "64f86329462b471fbcba01c58d65b3f2"
            }
          },
          "metadata": {}
        }
      ]
    },
    {
      "cell_type": "markdown",
      "source": [
        "## 3.6 Model training & evaluation"
      ],
      "metadata": {
        "id": "h1fqthYnBLf7"
      }
    },
    {
      "cell_type": "code",
      "source": [
        "trainer.train()\n",
        "gc.collect()\n",
        "torch.cuda.empty_cache()"
      ],
      "metadata": {
        "execution": {
          "iopub.status.busy": "2023-05-04T20:15:14.115781Z",
          "iopub.execute_input": "2023-05-04T20:15:14.116141Z",
          "iopub.status.idle": "2023-05-04T20:52:11.423065Z",
          "shell.execute_reply.started": "2023-05-04T20:15:14.116092Z",
          "shell.execute_reply": "2023-05-04T20:52:11.421893Z"
        },
        "trusted": true,
        "id": "9nREIXNwBLgP",
        "outputId": "683518f0-d116-4f7b-fc41-e9d1ae65ed7c"
      },
      "execution_count": null,
      "outputs": [
        {
          "name": "stderr",
          "text": "/opt/conda/lib/python3.10/site-packages/transformers/optimization.py:391: FutureWarning: This implementation of AdamW is deprecated and will be removed in a future version. Use the PyTorch implementation torch.optim.AdamW instead, or set `no_deprecation_warning=True` to disable this warning\n  warnings.warn(\n",
          "output_type": "stream"
        },
        {
          "output_type": "display_data",
          "data": {
            "text/plain": "<IPython.core.display.HTML object>",
            "text/html": "\n    <div>\n      \n      <progress value='3470' max='3470' style='width:300px; height:20px; vertical-align: middle;'></progress>\n      [3470/3470 36:55, Epoch 5/5]\n    </div>\n    <table border=\"1\" class=\"dataframe\">\n  <thead>\n <tr style=\"text-align: left;\">\n      <th>Step</th>\n      <th>Training Loss</th>\n      <th>Validation Loss</th>\n    </tr>\n  </thead>\n  <tbody>\n    <tr>\n      <td>500</td>\n      <td>0.533800</td>\n      <td>0.168199</td>\n    </tr>\n    <tr>\n      <td>1000</td>\n      <td>0.199900</td>\n      <td>0.150606</td>\n    </tr>\n    <tr>\n      <td>1500</td>\n      <td>0.178900</td>\n      <td>0.148834</td>\n    </tr>\n    <tr>\n      <td>2000</td>\n      <td>0.164900</td>\n      <td>0.145411</td>\n    </tr>\n    <tr>\n      <td>2500</td>\n      <td>0.159400</td>\n      <td>0.144393</td>\n    </tr>\n    <tr>\n      <td>3000</td>\n      <td>0.149800</td>\n      <td>0.142716</td>\n    </tr>\n  </tbody>\n</table><p>"
          },
          "metadata": {}
        }
      ]
    },
    {
      "cell_type": "code",
      "source": [
        "trainer.evaluate()"
      ],
      "metadata": {
        "execution": {
          "iopub.status.busy": "2023-05-04T20:52:11.425359Z",
          "iopub.execute_input": "2023-05-04T20:52:11.426067Z",
          "iopub.status.idle": "2023-05-04T20:52:20.532179Z",
          "shell.execute_reply.started": "2023-05-04T20:52:11.426029Z",
          "shell.execute_reply": "2023-05-04T20:52:20.531237Z"
        },
        "trusted": true,
        "id": "f1rY_H8KBLgP",
        "outputId": "d48b7f59-ed6a-4970-f4fe-27c2ff1c98a9"
      },
      "execution_count": null,
      "outputs": [
        {
          "output_type": "display_data",
          "data": {
            "text/plain": "<IPython.core.display.HTML object>",
            "text/html": "\n    <div>\n      \n      <progress value='50' max='50' style='width:300px; height:20px; vertical-align: middle;'></progress>\n      [50/50 00:07]\n    </div>\n    "
          },
          "metadata": {}
        },
        {
          "execution_count": 108,
          "output_type": "execute_result",
          "data": {
            "text/plain": "{'eval_loss': 0.14310555160045624,\n 'eval_runtime': 8.0501,\n 'eval_samples_per_second': 99.377,\n 'eval_steps_per_second': 6.211,\n 'epoch': 5.0,\n 'eval_mem_cpu_alloc_delta': 0,\n 'eval_mem_gpu_alloc_delta': 0,\n 'eval_mem_cpu_peaked_delta': 69632,\n 'eval_mem_gpu_peaked_delta': 851252736}"
          },
          "metadata": {}
        }
      ]
    },
    {
      "cell_type": "markdown",
      "source": [
        "## 3.7 Model inference"
      ],
      "metadata": {
        "id": "Locs5nv_BLgP"
      }
    },
    {
      "cell_type": "code",
      "source": [
        "def paraphrase(\n",
        "    text,\n",
        "    model,\n",
        "    tokenizer,\n",
        "    n=None,\n",
        "    max_length=\"auto\",\n",
        "    beams=5,\n",
        "):\n",
        "    texts = [text] if isinstance(text, str) else text\n",
        "    inputs = tokenizer(texts, return_tensors=\"pt\", padding=True)[\"input_ids\"].to(\n",
        "        model.device\n",
        "    )\n",
        "\n",
        "    if max_length == \"auto\":\n",
        "        max_length = inputs.shape[1] + 10\n",
        "\n",
        "    result = model.generate(\n",
        "        inputs,\n",
        "        num_return_sequences=n or 1,\n",
        "        do_sample=False,\n",
        "        temperature=1.0,\n",
        "        repetition_penalty=10.0,\n",
        "        max_length=max_length,\n",
        "        min_length=int(0.5 * max_length),\n",
        "        num_beams=beams,\n",
        "        # forced_bos_token_id=tokenizer.lang_code_to_id[tokenizer.tgt_lang],\n",
        "    )\n",
        "    texts = [tokenizer.decode(r, skip_special_tokens=True) for r in result]\n",
        "\n",
        "    if not n and isinstance(text, str):\n",
        "        return texts[0]\n",
        "    return texts[0]"
      ],
      "metadata": {
        "execution": {
          "iopub.status.busy": "2023-05-04T20:52:20.533848Z",
          "iopub.execute_input": "2023-05-04T20:52:20.534220Z",
          "iopub.status.idle": "2023-05-04T20:52:20.542086Z",
          "shell.execute_reply.started": "2023-05-04T20:52:20.534186Z",
          "shell.execute_reply": "2023-05-04T20:52:20.541193Z"
        },
        "trusted": true,
        "id": "5vRw9sW6BLgP"
      },
      "execution_count": null,
      "outputs": []
    },
    {
      "cell_type": "code",
      "source": [
        "preds = []\n",
        "for text in tqdm(dev.toxic_comment):\n",
        "    preds.append(paraphrase(text, model, tokenizer))"
      ],
      "metadata": {
        "execution": {
          "iopub.status.busy": "2023-05-04T21:16:24.751985Z",
          "iopub.execute_input": "2023-05-04T21:16:24.752809Z",
          "iopub.status.idle": "2023-05-04T21:20:48.609526Z",
          "shell.execute_reply.started": "2023-05-04T21:16:24.752776Z",
          "shell.execute_reply": "2023-05-04T21:20:48.608439Z"
        },
        "trusted": true,
        "id": "oRPhuvW9BLgQ",
        "outputId": "0d2bd945-34cc-4998-84e8-b49372bb2f8b"
      },
      "execution_count": null,
      "outputs": [
        {
          "name": "stderr",
          "text": "100%|██████████| 800/800 [04:23<00:00,  3.03it/s]\n",
          "output_type": "stream"
        }
      ]
    },
    {
      "cell_type": "code",
      "source": [
        "with open(f\"predictions.txt\", \"w\") as f:\n",
        "    f.write(\"\\n\".join(preds))"
      ],
      "metadata": {
        "execution": {
          "iopub.status.busy": "2023-05-04T21:20:48.611568Z",
          "iopub.execute_input": "2023-05-04T21:20:48.611940Z",
          "iopub.status.idle": "2023-05-04T21:20:48.618758Z",
          "shell.execute_reply.started": "2023-05-04T21:20:48.611906Z",
          "shell.execute_reply": "2023-05-04T21:20:48.617787Z"
        },
        "trusted": true,
        "id": "Fh41otAUBLgQ"
      },
      "execution_count": null,
      "outputs": []
    },
    {
      "cell_type": "code",
      "source": [
        "preds[:10]"
      ],
      "metadata": {
        "execution": {
          "iopub.status.busy": "2023-05-04T21:16:10.807737Z",
          "iopub.execute_input": "2023-05-04T21:16:10.808161Z",
          "iopub.status.idle": "2023-05-04T21:16:10.814421Z",
          "shell.execute_reply.started": "2023-05-04T21:16:10.808110Z",
          "shell.execute_reply": "2023-05-04T21:16:10.813521Z"
        },
        "trusted": true,
        "id": "owQQ7SsHBLgQ",
        "outputId": "6b957134-59e7-4fa5-aeb2-3ed4c0423848"
      },
      "execution_count": null,
      "outputs": [
        {
          "execution_count": 124,
          "output_type": "execute_result",
          "data": {
            "text/plain": "['Кто эту придумывает? Он её придумывает',\n 'В такой ситуации виноваты люди из Ростелекома у которых даже кошка может купить фильм с пульта',\n 'актёр может и не плохой,но как человек - плохое.',\n 'мочите всех кто нарушает общественный порядок.',\n 'Такие же люди и привели этих людей.',\n 'А зачем тогда ты здесь это писал?',\n 'Главный повар из Миннеаполиса сварщик из бейрута президент минска из d',\n 'Начни со своих нехороших людей.',\n 'Дайте уже пожить создать семью отдал 35 лет жизни,кормил власти 30 лет мой отец 60 лет хватит',\n 'А ты что 41 год помнишь? Сколько ей денег заплатили, чтобы она такую чушь несла.']"
          },
          "metadata": {}
        }
      ]
    },
    {
      "cell_type": "code",
      "source": [
        "test['neutral_comment'] = preds"
      ],
      "metadata": {
        "execution": {
          "iopub.status.busy": "2023-05-04T21:06:43.185053Z",
          "iopub.execute_input": "2023-05-04T21:06:43.185674Z",
          "iopub.status.idle": "2023-05-04T21:06:43.193217Z",
          "shell.execute_reply.started": "2023-05-04T21:06:43.185639Z",
          "shell.execute_reply": "2023-05-04T21:06:43.192185Z"
        },
        "trusted": true,
        "id": "OgVWvWOuBLgQ"
      },
      "execution_count": null,
      "outputs": []
    },
    {
      "cell_type": "code",
      "source": [
        "test.to_csv('pred.csv')"
      ],
      "metadata": {
        "execution": {
          "iopub.status.busy": "2023-05-04T21:07:06.249511Z",
          "iopub.execute_input": "2023-05-04T21:07:06.249887Z",
          "iopub.status.idle": "2023-05-04T21:07:06.265013Z",
          "shell.execute_reply.started": "2023-05-04T21:07:06.249857Z",
          "shell.execute_reply": "2023-05-04T21:07:06.264175Z"
        },
        "trusted": true,
        "id": "ff38G5wNBLgR"
      },
      "execution_count": null,
      "outputs": []
    }
  ]
}