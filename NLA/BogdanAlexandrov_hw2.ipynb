{
  "cells": [
    {
      "cell_type": "markdown",
      "metadata": {
        "id": "7YdqwWkHrWl-"
      },
      "source": [
        "# Problem Set 2 (93 points)"
      ]
    },
    {
      "cell_type": "markdown",
      "metadata": {
        "id": "OIRScpR8roDI"
      },
      "source": [
        "## Important information\n",
        "1.  We provide signatures of the functions that you have to implement. Make sure you follow the signatures defined, otherwise your coding solutions will not be graded.\n",
        "\n",
        "2.  Please submit the single Jupyter Notebook file, where only Python and Markdown/$\\\\LaTeX$ are used. Any hand-written solutions inserted by photos or in any other way **are prohibitive and will not be graded**. If you will have any questions about using Markdown, ask them!\n",
        "3.  The works will be checked for **plagiarism**. The score will be divided by the number of similar works."
      ]
    },
    {
      "cell_type": "markdown",
      "metadata": {
        "id": "UeU6nZR4uxdq"
      },
      "source": [
        "## Submatrices (bonus).\n",
        "\n",
        "\n",
        "Let $U$ be an $n \\times r$ orthogonal matrix, $n \\geq r$. It is well known, that such matrix has $r \\times r$ non-singular submatrix $\\hat{U}$. To measure ``non-singularity'' of this submatrix one can use the minimal singular value, or the norm of the inverse $\\Vert \\hat{U}^{-1} \\Vert.$\n",
        "\n",
        "Suppose we select the submatrix that has the smallest possible norm of the inverse among all $r \\times r$ submatrices of $U$. What is the maximal value of such norm? Mathematically, we need to estimate\n",
        "\n",
        "$$t(n, r) = \\max_U \\min_{\\hat{U}} \\Vert \\hat{U}^{-1} \\Vert_2.$$\n",
        "\n",
        "Is it true that $t(n, r) \\leq \\sqrt{n}$?\n",
        "\n",
        "\n"
      ]
    },
    {
      "cell_type": "markdown",
      "metadata": {
        "id": "kwVN4-v2rtMp"
      },
      "source": [
        "# Problem 1 (QR algorithm) (22 pts)"
      ]
    },
    {
      "cell_type": "markdown",
      "metadata": {
        "id": "UTufw3WgsQCJ"
      },
      "source": [
        "One of the way to find eigenvalues for real matrix $A$ of size $(n,n)$ is **QR algorithm**. Each iteration of the algorithm consists of two main steps:\n",
        "\n",
        "1. Compute QR decompostion $A_k = Q_kR_k$\n",
        "2. Compute new matrix $A_{k+1} = R_kQ_k$\n",
        "\n",
        "$A_0 = A$\n",
        "\n",
        "From lecture materials you have seen that algorithm complexity in general is $O(Nn^3)$ ($N$ - number of iterations). But we can make an improvement by transforming matrix to **Upper Hessenberg form** ([link](https://en.wikipedia.org/wiki/Hessenberg_matrix)) before running the algorithm. \n",
        "\n",
        "The good property of Hessenberg matrix is preservation of its structure during QR algorithm iteration. In other words, if $A_{k}$ is Hessenberg matrix, then $A_{k+1}$ will also be a Hessenberg matrix. We can use this property to reduce complexity of each iteration. Since we need only to zero first lower subdiagonal for QR factorization (first step in each iteration) we can use **Givens rotations** $O(n^2)$ instead of **Householder reflections** $O(n^3)$. Now, the last question is how to obtain Hessenberg matrix - use Householder reflections. Since it is done only once (initialization stage), complexity of algorithm will not be increased.\n",
        "\n",
        "Final algorithm:\n",
        "\n",
        "I. **Initialization**\n",
        "\n",
        "> - Transform original matrix $A$ to Hessenberg form $H_0 = U^TAU$ using Householder reflections.\n",
        "\n",
        "II. **Loop**\n",
        "\n",
        "> **for** k in range(**N**):\n",
        "> -  Compute QR using Givens rotation: such matrices $Q_k,R_k$ that $H_k = Q_kR_k$\n",
        "\n",
        "> - Update matrix $H_{k+1} = R_k Q_k$\n",
        "\n"
      ]
    },
    {
      "cell_type": "markdown",
      "metadata": {
        "id": "yF_T3dA0mt3T"
      },
      "source": [
        "## What do you need to do:\n",
        "### Theoretical part\n",
        "<!-- 1. For real square metrices $Q,A,\\hat{A}$ prove that if we have relation $A = Q^T\\hat{A}Q$ ($Q$ - orthogonal matrix) then eigenvalues of $A$ and $\\hat{A}$ are equal. **(3 pts)**\n",
        "2. Suppose we factorize real square matrix $A = Q^TTQ$, where $Q$ is orthogonal and $T$ is upper/lower triangular matrix. Describe the easiest way to find eigenvalues of $A$. **(2 pts)** -->\n",
        "1. Show that Hessenberg matrix preserves its structure under QR algorithm: if $A_k$ hessenberg matrix then $A_{k+1}$ hessenberg as well. **(5 pts)**\n",
        "\n",
        "2. **(Bonus task)** For real square matrix $A$, which all leading minors are nondegenerate, prove that QR algorithm converges to upper triangular matrix: $\\lim\\limits_{k\\rightarrow \\infty} A_k = T$, where $T$ - upper triangular matrix.\n",
        "\n",
        "### Practical part\n",
        "\n",
        "1. Implement function **Hessenberg_Transform** which takes a real square matrix $A$ and returns transformed matrix in Hessenberg form $H$ (use householder reflections). **(5 pts)**\n",
        "\n",
        "2. Implement function **QR_givens** which takes a real square matrix in Hessenberg form $H$ and returns QR factorization: matrices $Q$ and $R$. **(5 pts)**\n",
        "\n",
        "3. Implement function **QR_algorithm**, which takes a real square matrix $A$ and returns $H_{N}$ - the result of $N$ iterations of QR algorithm. Use previously implemented **Hessenberg_Transform** to get Hessenberg form of matrix $A$, and  **QR_givens** to make QR factorization on each iteration. **(2 pts)**\n",
        "\n",
        "4. Varing parameter $n$ generate random matrix of size $(n,n)$ and measure the computation time of **QR_algorithm** function. Plot observed data: computation time versus $n$. Use logarithmic scale for both axes. Explain obtained results.**(3 pts)**\n",
        "\n",
        "5. Compare eigenvalues computed using your implemented algorithm and standard numpy functionality for some random matrix. Try different number of iterations for the algorithm. Explain results. **(2 pts)**"
      ]
    },
    {
      "cell_type": "markdown",
      "metadata": {
        "id": "jo7DXTGlHCtb"
      },
      "source": [
        "### Theoretical proofs\n",
        "\n",
        "1. We have $A_k$ matrix:\n",
        "  $A_k = Q_k R_k$. Since $A_k$ is hessenberg matrix, we can use Givens rotations to transform it to upper triangular. We need (n-1) such matrices beacuse we need to make zeros all elements under diagonal of matrix.\\\n",
        "  So, we have $G_1 G_2 \\ldots G_{n-1} A_k = R_k \\to A_k = (G_1 G_2 \\ldots G_{n-1})^* R_k = Q_kR_k, Q_k = (G_1 G_2 \\ldots G_{n-1})^*$.\\\n",
        "  Now, $A_{k+1} = R_k (G_1 G_2 \\ldots G_{n-1})^* = R_k G_{n-1}^* \\ldots G_2^* G_1^*$. Givens matrices are rotation matrices, so if $G$ rotate axes, corresponding to $i$ and $j$ on angle $\\alpha$, then $G^*$ rotate those axes on angle $-\\alpha$, in other words rotate it back.\n",
        "    Using $G_i^k = \\begin{pmatrix}\n",
        "    0 & \\ldots & 0 & 0 & \\ldots\\\\\n",
        "    \\vdots & \\ldots & \\cos\\alpha & -\\sin\\alpha & \\ldots\\\\\n",
        "    \\vdots & \\ldots & \\sin\\alpha & \\cos\\alpha & \\ldots\\\\\n",
        "    0 & \\ldots & 0 & 0 & \\ldots\n",
        "    \\end{pmatrix}$,(cosines are on diagonal, on i-th and (i+1)-th columns) where $\\cos \\alpha  = \\frac{a_{ii}^k}{\\sqrt{|a_{ii}^k|^2 + |a_{i(i+1)}^k|^2}}, \\sin\\alpha = \\frac{-a_{i(i+1)}^k}{\\sqrt{|a_{ii}^k|^2 + |a_{i(i+1)}^k|^2}}$, we make zero of $a_{i(i+1)}^k$.\\\n",
        "    $G_i^{k*} = \\begin{pmatrix}\n",
        "    0 & \\ldots & 0 & 0 & \\ldots\\\\\n",
        "    \\vdots & \\ldots & \\cos\\alpha & \\sin\\alpha & \\ldots\\\\\n",
        "    \\vdots & \\ldots & -\\sin\\alpha & \\cos\\alpha & \\ldots\\\\\n",
        "    0 & \\ldots & 0 & 0 & \\ldots\n",
        "    \\end{pmatrix}$. Multiplying $R_k G_{n-1}^*$, we get elements $r_{ij}^k, i,j = 1,\\ldots (n-2)$ preserved, thus elements $r_{n, j}, n > j+1$ stays zero. Then, we have $R_k G_{n-1}^*G_{n-2}^*$, where zeros on $n-1$-th row, where $n-1 > j + 1$ preserved, and last row doesn't change. And so on. Beacuse of it we have $A_{k+1} = R_k G_{n-1}^* \\ldots G_2^* G_1^*$ - hessenberg matrix."
      ]
    },
    {
      "cell_type": "code",
      "execution_count": 17,
      "metadata": {
        "id": "fDmZd2M10l3e"
      },
      "outputs": [],
      "source": [
        "import numpy as np\n",
        "import time\n",
        "import matplotlib.pyplot as plt\n",
        "from scipy import linalg as la"
      ]
    },
    {
      "cell_type": "code",
      "execution_count": null,
      "metadata": {
        "id": "mW_6vkzZenqD"
      },
      "outputs": [],
      "source": [
        "def Hessenberg_Transform(A):\n",
        "    A_copy = A.copy()\n",
        "    for i in range(1, A_copy.shape[1]-1):\n",
        "        vec = A_copy[i:,i-1]\n",
        "        vec_norm = np.linalg.norm(vec)\n",
        "        z = vec.copy()\n",
        "        z[0] -= vec_norm\n",
        "        norm = np.linalg.norm(z)\n",
        "        if norm > 1e-15:\n",
        "            z = z / norm\n",
        "        P = np.eye(A_copy.shape[0])\n",
        "        P[i:,i:] -= 2 * np.outer(z, z)\n",
        "        A_copy = P @ A_copy @ P\n",
        "    H = A_copy\n",
        "    return H"
      ]
    },
    {
      "cell_type": "code",
      "execution_count": null,
      "metadata": {
        "id": "ZIIEZphhvvPP"
      },
      "outputs": [],
      "source": [
        "def QR_givens(H):\n",
        "    Q = np.eye(H.shape[0])\n",
        "    R = H.copy()\n",
        "\n",
        "    for i in range(H.shape[1]-1):\n",
        "        hi = R[i,i]\n",
        "        hj = R[i+1,i]\n",
        "        cos = hi / np.sqrt(hi**2 + hj**2)\n",
        "        sin = -hj / np.sqrt(hi**2 + hj**2)\n",
        "\n",
        "        Q[i], Q[i+1] = Q[i] * cos - Q[i+1] * sin, Q[i] * sin + Q[i+1] * cos\n",
        "        R[i], R[i+1] = R[i] * cos - R[i+1] * sin, R[i] * sin + R[i+1] * cos \n",
        "\n",
        "    return Q.T,R"
      ]
    },
    {
      "cell_type": "code",
      "execution_count": null,
      "metadata": {
        "id": "_z1nw6kTwDu6"
      },
      "outputs": [],
      "source": [
        "def QR_algorithm(A, N_iterations):\n",
        "    H = Hessenberg_Transform(A)\n",
        "    for i in range(N_iterations):\n",
        "        Q,R = QR_givens(H)\n",
        "        H = R @ Q\n",
        "    return H"
      ]
    },
    {
      "cell_type": "code",
      "execution_count": null,
      "metadata": {
        "id": "gDdB_aHzpvDV"
      },
      "outputs": [],
      "source": [
        "n_ = {50:[], 100:[], 150:[]}\n",
        "time_ = {50:[], 100:[], 150:[]}\n",
        "N_iter = [50, 100, 150]\n",
        "for n_iter in N_iter:\n",
        "    for n in range(4,100,4):\n",
        "        matrix = np.random.uniform(100,-100,(n,n))\n",
        "        start = time.time()\n",
        "        QR_algorithm(matrix, n_iter)\n",
        "        end = time.time()\n",
        "        n_[n_iter].append(n)\n",
        "        time_[n_iter].append(end-start)"
      ]
    },
    {
      "cell_type": "code",
      "execution_count": null,
      "metadata": {
        "colab": {
          "base_uri": "https://localhost:8080/",
          "height": 595
        },
        "id": "OGpz5cnnpvDV",
        "outputId": "deaf61a6-6b73-4602-8b78-b1a54e63e1e6"
      },
      "outputs": [
        {
          "data": {
            "image/png": "[encoded data removed]",
            "text/plain": [
              "<Figure size 1152x720 with 1 Axes>"
            ]
          },
          "metadata": {
            "needs_background": "light"
          },
          "output_type": "display_data"
        }
      ],
      "source": [
        "plt.plot(n_[50], time_[50], label='50 ierations')\n",
        "plt.plot(n_[100], time_[100], label='100 ierations')\n",
        "plt.plot(n_[150], time_[150], label='150 ierations')\n",
        "plt.legend()\n",
        "plt.yscale('log')\n",
        "plt.xscale('log')\n",
        "plt.show()"
      ]
    },
    {
      "cell_type": "markdown",
      "metadata": {
        "id": "CgSu_sJmpvDX"
      },
      "source": [
        "On this plot $log(time) = a*log(n) + c$, cause graph is linear. So we have dependence like $O(time) = O(n^a)$."
      ]
    },
    {
      "cell_type": "code",
      "execution_count": null,
      "metadata": {
        "id": "5SbNs6P5pvDX"
      },
      "outputs": [],
      "source": [
        "matrix = np.random.uniform(100,-100,(20,20))\n",
        "matrix = matrix.T @ matrix\n",
        "true_eigvals, _ = np.linalg.eig(matrix)\n",
        "\n",
        "H1 = QR_algorithm(matrix, 5)\n",
        "Q1, R1 = QR_givens(H1)\n",
        "my_eigvals1 = R1.diagonal()\n",
        "\n",
        "H2 = QR_algorithm(matrix, 10)\n",
        "Q2, R2 = QR_givens(H2)\n",
        "my_eigvals2 = R2.diagonal()\n",
        "\n",
        "H3 = QR_algorithm(matrix, 50)\n",
        "Q3, R3 = QR_givens(H3)\n",
        "my_eigvals3 = R3.diagonal()\n",
        "\n",
        "H4 = QR_algorithm(matrix, 100)\n",
        "Q4, R4 = QR_givens(H4)\n",
        "my_eigvals4 = R4.diagonal()"
      ]
    },
    {
      "cell_type": "code",
      "execution_count": null,
      "metadata": {
        "colab": {
          "base_uri": "https://localhost:8080/"
        },
        "id": "FSiB4wjWpvDY",
        "outputId": "450291fe-75fb-41d1-f5ed-bed1c0c1ab89"
      },
      "outputs": [
        {
          "name": "stdout",
          "output_type": "stream",
          "text": [
            "[2.19769370e+05 1.87825439e+05 1.74602402e+05 1.35833756e+05\n",
            " 1.22968565e+05 1.01033027e+05 8.15061563e+04 6.72394038e+04\n",
            " 6.03805186e+04 5.16032995e+04 4.55158361e+04 4.08442957e+04\n",
            " 2.74887932e+04 2.44855407e+04 1.38116604e+04 1.14533391e+04\n",
            " 3.64551527e+03 9.84983612e+02 3.62528710e+02 7.67784548e+00]\n",
            "[2.18133581e+05 1.56115005e+05 1.56736071e+05 9.81043404e+04\n",
            " 1.07486507e+05 1.05528823e+05 8.80200789e+04 6.22977307e+04\n",
            " 6.03634693e+04 3.47568662e+04 4.84370397e+04 4.57058855e+04\n",
            " 2.91738235e+04 2.72788789e+04 2.88137038e+04 1.06335962e+04\n",
            " 4.06306794e+03 9.84763401e+02 3.62610342e+02 7.67784548e+00]\n",
            "[2.19550860e+05 1.84489025e+05 1.39762893e+05 1.64798676e+05\n",
            " 1.14342197e+05 1.06553297e+05 7.32614703e+04 7.10442547e+04\n",
            " 4.74371589e+04 5.74353209e+04 4.61739142e+04 3.17513863e+04\n",
            " 4.09627769e+04 2.68077319e+04 1.37696290e+04 1.15054668e+04\n",
            " 3.64551967e+03 9.84983602e+02 3.62528714e+02 7.67784548e+00]\n",
            "[2.19769369e+05 1.87823157e+05 1.74604522e+05 1.35833397e+05\n",
            " 1.22968887e+05 1.01033031e+05 8.15061562e+04 6.71700009e+04\n",
            " 6.04429032e+04 5.16023545e+04 4.55122617e+04 4.08482537e+04\n",
            " 2.74882702e+04 2.44860066e+04 1.38116604e+04 1.14533391e+04\n",
            " 3.64551527e+03 9.84983612e+02 3.62528710e+02 7.67784548e+00]\n",
            "[2.19769370e+05 1.87825437e+05 1.74602403e+05 1.35833756e+05\n",
            " 1.22968565e+05 1.01033027e+05 8.15061563e+04 6.72394023e+04\n",
            " 6.03805200e+04 5.16032995e+04 4.55158360e+04 4.08442958e+04\n",
            " 2.74887932e+04 2.44855407e+04 1.38116604e+04 1.14533391e+04\n",
            " 3.64551527e+03 9.84983612e+02 3.62528710e+02 7.67784548e+00]\n"
          ]
        }
      ],
      "source": [
        "print(true_eigvals)\n",
        "print(R1.diagonal())\n",
        "print(R2.diagonal())\n",
        "print(R3.diagonal())\n",
        "print(R4.diagonal())"
      ]
    },
    {
      "cell_type": "code",
      "execution_count": null,
      "metadata": {
        "colab": {
          "base_uri": "https://localhost:8080/"
        },
        "id": "hTkm-DM3iSgr",
        "outputId": "64ebb06a-ab2d-4973-9d73-5cabe10d6de2"
      },
      "outputs": [
        {
          "name": "stdout",
          "output_type": "stream",
          "text": [
            "[-1.63578814e+03 -3.17104342e+04 -1.78663305e+04 -3.77294157e+04\n",
            " -1.54820580e+04  4.49579615e+03  6.51392261e+03 -4.94167312e+03\n",
            " -1.70493068e+01 -1.68464333e+04  2.92120362e+03  4.86158981e+03\n",
            "  1.68503032e+03  2.79333825e+03  1.50020434e+04 -8.19742883e+02\n",
            "  4.17552672e+02 -2.20211002e-01  8.16322150e-02 -1.11972653e-11]\n",
            "[-2.18509786e+02 -3.33641399e+03 -3.48395083e+04  2.89649198e+04\n",
            " -8.62636835e+03  5.52026956e+03 -8.24468601e+03  3.80485085e+03\n",
            " -1.29433597e+04  5.83202135e+03  6.58078097e+02 -9.09290943e+03\n",
            "  1.34739837e+04  2.32219122e+03 -4.20314880e+01  5.21277338e+01\n",
            "  4.39840907e-03 -1.01164546e-05  3.72454531e-06 -1.11972653e-11]\n",
            "[-7.21130695e-04 -2.28203368e+00  2.12086822e+00 -3.59632654e-01\n",
            "  3.21939395e-01  3.51937098e-03 -7.46299775e-05 -6.94028953e+01\n",
            "  6.23845216e+01 -9.45033567e-01 -3.57435432e+00  3.95805996e+00\n",
            " -5.23026730e-01  4.65892986e-01 -2.00944778e-05  1.66633054e-05\n",
            " -8.18545232e-12 -1.20508048e-11 -1.54614099e-11 -1.11972653e-11]\n",
            "[-1.74622983e-10 -1.54203508e-03  1.43347520e-03 -1.72008586e-05\n",
            "  1.55716843e-05  5.82076609e-11  1.74622983e-10 -1.48972355e-03\n",
            "  1.33776110e-03 -3.34988727e-06 -8.44920069e-05  7.84718504e-05\n",
            " -4.94315100e-06  4.40310760e-06 -4.54747351e-11 -2.72848411e-11\n",
            " -8.18545232e-12 -1.20508048e-11 -1.54614099e-11 -1.11972653e-11]\n"
          ]
        }
      ],
      "source": [
        "print(R1.diagonal() - true_eigvals)\n",
        "print(R2.diagonal() - true_eigvals)\n",
        "print(R3.diagonal() - true_eigvals)\n",
        "print(R4.diagonal() - true_eigvals)"
      ]
    },
    {
      "cell_type": "markdown",
      "metadata": {
        "id": "Eyv6-9thpvDa"
      },
      "source": [
        "As we can see, the more iterations we do, more similar eigenvalues of H to true eigenvalue"
      ]
    },
    {
      "cell_type": "markdown",
      "metadata": {
        "id": "0CzvluMS3Kys"
      },
      "source": [
        "# Problem 2 (Stochastic trace estimation) (30 pts) "
      ]
    },
    {
      "cell_type": "markdown",
      "metadata": {
        "id": "qFFd6Gfpw_SK"
      },
      "source": [
        "In this problem we consider stochastic estimation of trace for implicitly-defined matrices.\n",
        "\n",
        "Impicitly-defined matrices are such that matrix-vector multiplication is easy to perform, but matrix entries are not easy to obtain (examples are given by integral kernels, products of sparse matrices, products of a set of circulants, low-rank matrices given in a compressed form, etc).\n",
        "\n",
        "In such cases it is often possible to approximate trace with $k\\ll N$ matrix-vector products, where $N$ is the size of matrix.\n",
        "\n",
        "One popular way to obtain stochastic estimate is Hutchinson algorithm."
      ]
    },
    {
      "cell_type": "markdown",
      "metadata": {
        "id": "5h9q64EeRD9t"
      },
      "source": [
        "## Hutchinson algorithm\n",
        "Let $u$ be a random vector from $\\mathbb{R}^{n}$ with independent identicaly distributed entries $u_i$ each having zero mean and variance $\\sigma^2$.\n",
        "\n",
        "Let $B$ be a symmetric matrix from $\\mathbb{R}^{n\\times n}$.\n",
        "\n",
        "Hutchinson algorithm is roughly as follows:\n",
        "\n",
        "    trace_estimate = 0\n",
        "    for i=1:N do\n",
        "        u = random_vector\n",
        "        trace_estimate += (u,Bu)\n",
        "    end do\n",
        "    trace_estimate /= N\n",
        "\n",
        "So Hutchinson algorithm uses empirical mean $u^\\top B u$ as a trace estimation. Below we ask you to find properties of this estimator."
      ]
    },
    {
      "cell_type": "markdown",
      "metadata": {
        "id": "VgHOv00abY_0"
      },
      "source": [
        "**Subproblem 1 (5 pts)**"
      ]
    },
    {
      "cell_type": "markdown",
      "metadata": {
        "id": "3C5hsAIZReDq"
      },
      "source": [
        "1. Show that $\\mathbb{E}\\left[u^\\top B u\\right] = \\sigma^2 \\text{tr} B$, where $\\mathbb{E}\\left[\\cdot\\right]$ denotes average wrt $u$."
      ]
    },
    {
      "cell_type": "markdown",
      "metadata": {
        "id": "M_zvcJIIpvDb"
      },
      "source": [
        "$\\mathbb{E}[u^\\top Bu] = \\mathbb{E}[\\sum\\limits_{i,j=1}^nb_{ij}u_iu_j] = \\mathbb{E}[\\sum\\limits_{i=1}^nb_{ii}u_i^2 + \\sum\\limits_{i \\neq j}^nb_{ij}u_iu_j] = \\sum\\limits_{i=1}^nb_{ii}\\mathbb{E}[u_i^2] + \\mathbb{E}[\\sum\\limits_{i \\neq j}^nb_{ij}u_iu_j] = \\mathbb{E}[u_1^2]\\sum\\limits_{i=1}^nb_{ii} + \\sum\\limits_{i \\neq j}^nb_{ij}\\mathbb{E}[u_iu_j]$\\\n",
        "$\\mathbb{E}[u_iu_j] = \\mathbb{E}[u_i]\\mathbb{E}[u_j] = 0$, since $u_i$ and $u_j$ independent.\\\n",
        "$\\sigma^2 = var(u_i) = \\mathbb{E}[u_i^2] - (\\mathbb{E}[u_i])^2 = \\mathbb{E}[u_i^2]\\ \\forall i$\\\n",
        "Thus we have $\\mathbb{E}[u^\\top Bu] = \\mathbb{E}[u_1^2]\\sum\\limits_{i=1}^nb_{ii} + \\sum\\limits_{i \\neq j}^nb_{ij}\\mathbb{E}[u_iu_j] = \\sigma^2 trB$\n"
      ]
    },
    {
      "cell_type": "markdown",
      "metadata": {
        "id": "YLIKOSDTSLRC"
      },
      "source": [
        "2. Show that $\\text{var}\\left[u^\\top B u\\right] = 2\\sigma^4 \\sum_{i\\neq j}B_{ij}^2 + \\left(\\mathbb{E}\\left[u^4\\right] - \\sigma^4\\right)\\sum_{i}B_{ii}^2$, where $\\text{var}$ denotes [variance](https://en.wikipedia.org/wiki/Variance)."
      ]
    },
    {
      "cell_type": "markdown",
      "metadata": {
        "id": "SEvF25sypvDc"
      },
      "source": [
        "var $[u^\\top B u] = \\mathbb{E}[\\sum\\limits_{i,j=1}^nb_{ij}u_iu_j]^2 - (\\mathbb{E}[\\sum\\limits_{i,j=1}^nb_{ij}u_iu_j])^2$\\\n",
        "$\\mathbb{E}[\\sum\\limits_{i,j=1}^nb_{ij}u_iu_j]^2 = \\mathbb{E}[\\sum\\limits_{i,j,k,l=1}^nb_{ij}b_{kl}u_iu_ju_ku_l] = \\mathbb{E}[\\sum\\limits_{i\\neq j\\neq k\\neq l}^nb_{ij}b_{kl}u_iu_ju_ku_l] + 2\\mathbb{E}[\\sum\\limits_{i\\neq k\\neq l}^nb_{ii}b_{kl}u_i^2u_ku_l] + \\mathbb{E}[\\sum\\limits_{i\\neq j\\neq l}^nb_{ij}b_{il}u_i^2u_ju_l] + 2\\mathbb{E}[\\sum\\limits_{i\\neq j\\neq k}^nb_{ij}b_{ki}u_i^2u_ju_k] + \\mathbb{E}[\\sum\\limits_{j\\neq i\\neq k}^nb_{ij}b_{kj}u_j^2u_iu_k] + \\mathbb{E}[\\sum\\limits_{i\\neq j}^nb_{ii}b_{jj}u_i^2u_j^2] + \\mathbb{E}[\\sum\\limits_{i\\neq j}^nb_{ij}b_{ji}u_i^2u_j^2] + \\mathbb{E}[\\sum\\limits_{i\\neq j}^nb_{ij}^2u_i^2u_j^2] + 2\\mathbb{E}[\\sum\\limits_{i\\neq j}^nb_{ii}b_{ij}u_i^3u_j] + 2\\mathbb{E}[\\sum\\limits_{i\\neq j}^nb_{ii}b_{ji}u_i^3u_j] + \\mathbb{E}[\\sum\\limits_{i}^nb_{ii}^2u_i^4]$\\\n",
        "$\\mathbb{E}[u_iu_ju_ku_l] =\\mathbb{E}[u_i]\\mathbb{E}[u_j]\\mathbb{E}[u_k]\\mathbb{E}[u_l]=0, \\mathbb{E}[u_i^2u_ku_l]=\\mathbb{E}[u_i^2]\\mathbb{E}[u_k]\\mathbb{E}[u_l]=0, \\mathbb{E}[u_i^3u_j]=\\mathbb{E}[u_i^3]\\mathbb{E}[u_j]=0$\\\n",
        "$\\mathbb{E}[u_i^2u_j^2] = \\mathbb{E}[u_i^2]\\mathbb{E}[u_j^2]=\\sigma^4$ Thus we have:\\\n",
        "$\\mathbb{E}[\\sum\\limits_{i,j=1}^nb_{ij}u_iu_j]^2 = \\sigma^4 (\\sum\\limits_{i\\neq j}^nb_{ii}b_{jj} + \\sum\\limits_{i\\neq j}^nb_{ij}b_{ji} + \\sum\\limits_{i\\neq j}^nb_{ij}^2) + \\mathbb{E}[u^4]\\sum\\limits_{i}^nb_{ii}^2 = \\sigma^4 (\\sum\\limits_{i\\neq j}^nb_{ii}b_{jj} + 2\\sum\\limits_{i\\neq j}^nb_{ij}^2) + \\mathbb{E}[u^4]\\sum\\limits_{i}^nb_{ii}^2$ due to symmetric matrix B\\\n",
        "$(\\mathbb{E}[\\sum\\limits_{i,j=1}^nb_{ij}u_iu_j])^2 = (\\sigma^2trB)^2 = \\sigma^4\\sum\\limits_i^n b_{ii}^2 + \\sigma^4\\sum\\limits_{i\\neq j}^n b_{ii}b_{jj}$\\\n",
        "So finally:\\\n",
        "var $[u^\\top B u] = \\sigma^4 (\\sum\\limits_{i\\neq j}^nb_{ii}b_{jj} + 2\\sum\\limits_{i\\neq j}^nb_{ij}^2) + \\mathbb{E}[u^4]\\sum\\limits_{i}^nb_{ii}^2 - \\sigma^4\\sum\\limits_i^n b_{ii}^2 - \\sigma^4\\sum\\limits_{i\\neq j}^n b_{ii}b_{jj} = 2\\sigma^4\\sum\\limits_{i\\neq j}^nb_{ij}^2 + (\\mathbb{E}[u^4] - \\sigma^4)\\sum\\limits_i^n b_{ii}^2$"
      ]
    },
    {
      "cell_type": "markdown",
      "metadata": {
        "id": "vymc7lvsSpqC"
      },
      "source": [
        "3. Find the variance for the case when:\n",
        "\n",
        "  a. each $u_{i}\\sim \\mathcal{N}(0, \\sigma^2)$, i.e., for normally distributed with zero mean and variance $\\sigma^2$;\n",
        "\n",
        "  b. each $u_{i}$ follows [Rademacher distribution](https://en.wikipedia.org/wiki/Rademacher_distribution);"
      ]
    },
    {
      "cell_type": "markdown",
      "metadata": {
        "id": "IMZjEsEJpvDd"
      },
      "source": [
        "a. $\\mathbb{E}[u^4] = 3\\sigma^4 \\to var[u^\\top Bu] = 2\\sigma^4 \\sum_{i\\neq j}B_{ij}^2 + \\left(3\\sigma^4 - \\sigma^4\\right)\\sum_{i}B_{ii}^2 = 2\\sigma^4 \\sum_{i\\neq j}B_{ij}^2 + 2\\sigma^4\\sum_{i}B_{ii}^2 = 2\\sigma^4 \\sum_{i,j}B_{ij}^2 = 2\\sigma^4 \\|B\\|_F^2$\n",
        "\n",
        "b. $\\mathbb{E}[u] = 0, var[u] = \\mathbb{E}[u^2] = 1$. u takes values -1 or +1, so $u^4$ will always be 1 and thus: $\\mathbb{E}[u^4]=1$.\\\n",
        "$var[u^\\top Bu] = 2 \\sum_{i\\neq j}B_{ij}^2 + \\left(1 - 1\\right)\\sum_{i}B_{ii}^2 = 2 \\sum_{i\\neq j}B_{ij}^2$"
      ]
    },
    {
      "cell_type": "markdown",
      "metadata": {
        "id": "_g6jeeJBmiAI"
      },
      "source": [
        "4. Why variance matters.\n",
        "  \n",
        "  Let $z_1, \\dots, z_N$ are independent identicaly distributed samples of random variable with mean $\\mu$ and variance $\\sigma^2$ and $\\hat{\\mu} = \\frac{1}{N}\\sum_{i=1}^{N} z_{i}$ is a standard Monte Carlo extimator for mean.\n",
        "\n",
        "  a. Show that $\\mathbb{E}\\left[\\hat{\\mu}\\right] = \\mu$ and $\\text{var}\\left[\\hat{\\mu}\\right] = \\sigma^2 \\big/ N$.\n",
        "\n",
        "  b. Use [Chebyshev inequality](https://en.wikipedia.org/wiki/Chebyshev%27s_inequality) to find the number of samples $N$ you need to use to guarante that estimate $\\hat{\\mu}$ deviates from $\\mu$ on $\\epsilon\\ll 1$ with probability at most $\\delta\\ll 1$."
      ]
    },
    {
      "cell_type": "markdown",
      "metadata": {
        "id": "nSdDo19WpvDd"
      },
      "source": [
        "a. $\\mathbb{E}[\\hat{\\mu}] = \\mathbb{E}[\\frac{1}{N}\\sum_{i=1}^{N} z_{i}] = \\frac{1}{N}\\sum_{i=1}^{N}\\mathbb{E}[z_i] = \\frac{1}{N}\\sum_{i=1}^{N} \\mu = \\mu$\n",
        "\n",
        "$var[\\hat{\\mu}] = var[\\frac{1}{N}\\sum_{i=1}^{N} z_{i}] = \\frac{1}{N^2}\\sum_{i=1}^{N}var[z_i]$ due to independentness. $\\frac{1}{N^2}\\sum_{i=1}^{N}var[z_i] = \\frac{1}{N^2}\\sum_{i=1}^{N}\\sigma^2 = \\frac{\\sigma^2}{N}$\n",
        "\n",
        "b. $\\mathbb{P}[|\\hat{\\mu}-\\mu| \\geq \\epsilon] \\leq \\frac{\\sigma^2}{N\\epsilon^2} \\leq \\delta \\to N \\geq \\frac{\\sigma^2 }{\\delta \\epsilon^2}$"
      ]
    },
    {
      "cell_type": "markdown",
      "metadata": {
        "id": "dVGZe5pFoWRF"
      },
      "source": [
        "5. Does the variance of the estimator matters?\n",
        "\n",
        "  a. Adapt bounds from _Subproblem 1 point 4.b_ for Hutchinson algorithm with normal and Rademacher distributions.\n",
        "\n",
        "  b. Empirically evaluate variances from _Subproblem 1 point 2_ using several sparse, low-rank and circulant matrices.\n",
        "\n",
        "  c. Comment on practicality of Chebyshev bounds. What is the number of iterations you need to perform to achieve reasonably small error with reasonably large probability according to this bound?"
      ]
    },
    {
      "cell_type": "markdown",
      "metadata": {
        "id": "Ku7GNXEwpvDf"
      },
      "source": [
        "a. For normal distribution $\\mathbb{P}[|\\frac{1}{N}\\sum_{i=1}^{N} u_i^\\top Bu_i-\\sigma^2 \\text{tr} B| \\geq \\epsilon] \\leq \\frac{1}{N \\epsilon^2} 2\\sigma^4 \\|B\\|_F^2 \\leq \\delta \\to N \\geq \\frac{2\\sigma^4 \\|B\\|_F^2}{\\epsilon^2\\delta}$\\\n",
        "For Rademacher: $N \\geq \\frac{2 \\sum_{i\\neq j}B_{ij}^2}{\\delta \\epsilon^2}$"
      ]
    },
    {
      "cell_type": "code",
      "execution_count": 19,
      "metadata": {
        "id": "B7uffdHApvDf"
      },
      "outputs": [],
      "source": [
        "from scipy.sparse import random\n",
        "from scipy.linalg import circulant\n",
        "from scipy.sparse.linalg import svds, norm"
      ]
    },
    {
      "cell_type": "code",
      "execution_count": 31,
      "metadata": {
        "id": "6qES4MTGpvDf"
      },
      "outputs": [],
      "source": [
        "def gen_circ(size):\n",
        "    n = np.random.uniform(-100,100, size)\n",
        "    return circulant(n)\n",
        "\n",
        "def gen_low_rank(size):\n",
        "    matrix = np.random.uniform(-100,100,(size,size))\n",
        "    u, s, vt = svds(matrix, k=10)\n",
        "    \n",
        "    return u @ np.diag(s) @ vt\n",
        "\n",
        "def gen_sparse(size):\n",
        "    return random(size, size)"
      ]
    },
    {
      "cell_type": "markdown",
      "metadata": {
        "id": "VAAPPTTBy-ZT"
      },
      "source": [
        "Sparse:"
      ]
    },
    {
      "cell_type": "code",
      "execution_count": 53,
      "metadata": {
        "colab": {
          "base_uri": "https://localhost:8080/"
        },
        "id": "hLAFlOqsJ2Ae",
        "outputId": "a126cfb7-4e09-423b-cb4a-691d2181342c"
      },
      "outputs": [
        {
          "name": "stdout",
          "output_type": "stream",
          "text": [
            "estimated var:5.251188303879849, teoretical:71.20391281238318\n"
          ]
        }
      ],
      "source": [
        "sparse1 = gen_sparse(100)\n",
        "var1 = 2*(norm(sparse1)**2 - (sparse1.diagonal()**2).sum())\n",
        "U = np.random.binomial(1, 0.5, (50, sparse1.shape[0]))\n",
        "U = 2 * U - 1\n",
        "stat = ((U @ sparse1) * U).sum(axis=1)\n",
        "var = np.std(stat, ddof=1)\n",
        "print('estimated var:{}, teoretical:{}'.format(var , var1 ))"
      ]
    },
    {
      "cell_type": "code",
      "execution_count": 54,
      "metadata": {
        "colab": {
          "base_uri": "https://localhost:8080/"
        },
        "id": "FxcF_zhENFGd",
        "outputId": "4e4a213f-719a-4b7d-af81-22f67ca621cc"
      },
      "outputs": [
        {
          "name": "stdout",
          "output_type": "stream",
          "text": [
            "estimated var:4.804832920964546, teoretical:254.57134038490602\n"
          ]
        }
      ],
      "source": [
        "sparse2 = gen_sparse(200)\n",
        "U = np.random.uniform(0,1,(100, 200))\n",
        "stat = ((U @ sparse2) * U).sum(axis=1)\n",
        "var = np.std(stat, ddof=1)\n",
        "print('estimated var:{}, teoretical:{}'.format(var, 2*norm(sparse2)**2 ))"
      ]
    },
    {
      "cell_type": "markdown",
      "metadata": {
        "id": "F37mbt4czDQ6"
      },
      "source": [
        "Circular:"
      ]
    },
    {
      "cell_type": "code",
      "execution_count": 50,
      "metadata": {
        "colab": {
          "base_uri": "https://localhost:8080/"
        },
        "id": "RcXDKQzpOqDg",
        "outputId": "d0027705-268c-47fe-d42c-5bd86983d231"
      },
      "outputs": [
        {
          "name": "stdout",
          "output_type": "stream",
          "text": [
            "estimated var:907.4566916244155, teoretical:17132261.23617485\n"
          ]
        }
      ],
      "source": [
        "circ1 = gen_circ(50)\n",
        "U = np.random.uniform(0,1,(200, 50))\n",
        "stat = ((U @ circ1) * U).sum(axis=1)\n",
        "var = np.std(stat, ddof=1)\n",
        "print('estimated var:{}, teoretical:{}'.format(var, 2*np.linalg.norm(circ1)**2))"
      ]
    },
    {
      "cell_type": "code",
      "execution_count": 51,
      "metadata": {
        "colab": {
          "base_uri": "https://localhost:8080/"
        },
        "id": "69YuhWWUOqUQ",
        "outputId": "75e3268e-c558-412b-e7ce-92b1e0f6e37b"
      },
      "outputs": [
        {
          "name": "stdout",
          "output_type": "stream",
          "text": [
            "estimated var:424.33709198201564, teoretical:65217074.41498079\n"
          ]
        }
      ],
      "source": [
        "circ2 = gen_circ(100)\n",
        "U = np.random.uniform(0,1,(300, 100))\n",
        "stat = ((U @ circ2) * U).sum(axis=1)\n",
        "var = np.std(stat, ddof=1)\n",
        "print('estimated var:{}, teoretical:{}'.format(var, 2*np.linalg.norm(circ2)**2))"
      ]
    },
    {
      "cell_type": "markdown",
      "metadata": {
        "id": "AGXN9C25zHKK"
      },
      "source": [
        "Low-rank:"
      ]
    },
    {
      "cell_type": "code",
      "execution_count": 47,
      "metadata": {
        "colab": {
          "base_uri": "https://localhost:8080/"
        },
        "id": "0cIjacTIzGbH",
        "outputId": "ffa34a8c-b24c-4d49-bd21-12626ca14add"
      },
      "outputs": [
        {
          "name": "stdout",
          "output_type": "stream",
          "text": [
            "estimated var:2170.0005213018835, teoretical:8678186.018641118\n"
          ]
        }
      ],
      "source": [
        "lr1 = gen_low_rank(50)\n",
        "var1 = 2*(np.linalg.norm(lr1)**2 - (lr1.diagonal()**2).sum())\n",
        "U = np.random.binomial(1, 0.5, (300, lr1.shape[0]))\n",
        "U = 2 * U - 1\n",
        "stat = ((U @ lr1) * U).sum(axis=1)\n",
        "var = np.std(stat, ddof=1)\n",
        "print('estimated var:{}, teoretical:{}'.format(var , var1 ))"
      ]
    },
    {
      "cell_type": "code",
      "execution_count": 52,
      "metadata": {
        "colab": {
          "base_uri": "https://localhost:8080/"
        },
        "id": "liR3EfVQzGko",
        "outputId": "d61338f6-a9f7-4aaa-d2cc-5bcfeb32473e"
      },
      "outputs": [
        {
          "name": "stdout",
          "output_type": "stream",
          "text": [
            "estimated var:739.4661993105211, teoretical:20777685.049208827\n"
          ]
        }
      ],
      "source": [
        "lr2 = gen_low_rank(100)\n",
        "U = np.random.uniform(0,1,(300, lr2.shape[0]))\n",
        "stat = ((U @ lr2) * U).sum(axis=1)\n",
        "var = np.std(stat, ddof=1)\n",
        "print('estimated var:{}, teoretical:{}'.format(var, 2*np.linalg.norm(lr2)**2))"
      ]
    },
    {
      "cell_type": "markdown",
      "metadata": {
        "id": "51zPTu-k6l6p"
      },
      "source": [
        "As we can see, variance is much less than theoretical, so my conclusion is that Chebyshev bounds too big, we can use about $2*size\\_of\\_matrix$ iterations to get resonable result. "
      ]
    },
    {
      "cell_type": "markdown",
      "metadata": {
        "id": "68qybAGKFlTT"
      },
      "source": [
        "**Subproblem 2 (5 pts)**"
      ]
    },
    {
      "cell_type": "markdown",
      "metadata": {
        "id": "x1PGkyusGAvH"
      },
      "source": [
        "  1. Implement Hutchinson algorithm for normal and Rademacher distributions."
      ]
    },
    {
      "cell_type": "code",
      "execution_count": 57,
      "metadata": {
        "id": "S6BRmelFpvDh"
      },
      "outputs": [],
      "source": [
        "def normal_hutch(B, iters):\n",
        "    trace_estimate = 0\n",
        "    for i in range(iters):\n",
        "        u = np.random.normal(0, 1, B.shape[0])\n",
        "        trace_estimate += np.dot((B @ u), u)\n",
        "    trace_estimate /= iters\n",
        "    return trace_estimate\n",
        "\n",
        "def rademacher_hutch(B, iters):\n",
        "    trace_estimate = 0\n",
        "    for i in range(iters):\n",
        "        u = np.random.binomial(1, 0.5, B.shape[0])\n",
        "        u = 2 * u - 1\n",
        "        trace_estimate += np.dot((B @ u), u)\n",
        "    trace_estimate /= iters\n",
        "    return trace_estimate"
      ]
    },
    {
      "cell_type": "markdown",
      "metadata": {
        "id": "JGYWRk5aFoY7"
      },
      "source": [
        "2. Evaluate your algorithm on several matrices on your choice."
      ]
    },
    {
      "cell_type": "code",
      "execution_count": null,
      "metadata": {
        "id": "uNjTPYO9pvDh"
      },
      "outputs": [],
      "source": [
        "matrix1 = np.array([[5,6,7,2,1],[14,11,34,23,46],[56,12,36,86,54],[55,0,4,26,64],[97,31,56,78,34]])\n",
        "\n",
        "matrix2 = np.random.uniform(-10,10,(100,100))\n",
        "\n",
        "matrix3 = np.random.normal(0,1,(50,50))"
      ]
    },
    {
      "cell_type": "code",
      "execution_count": null,
      "metadata": {
        "id": "JAR1f0rkpvDi",
        "outputId": "abbfb0a8-aa73-4a87-89e1-4fda07fe019d"
      },
      "outputs": [
        {
          "name": "stdout",
          "output_type": "stream",
          "text": [
            "normal_dist:113.68674740102942, rademach_dist:117.36, true:112\n"
          ]
        }
      ],
      "source": [
        "nh1 = normal_hutch(matrix1, 200)\n",
        "rh1 = rademacher_hutch(matrix1, 200)\n",
        "tr1 = matrix1.diagonal().sum()\n",
        "print(\"normal_dist:{}, rademach_dist:{}, true:{}\".format(nh1, rh1, tr1))"
      ]
    },
    {
      "cell_type": "code",
      "execution_count": null,
      "metadata": {
        "id": "q5kk3YK1pvDi",
        "outputId": "94684593-93b5-453e-a3ae-90efac57cfe6"
      },
      "outputs": [
        {
          "name": "stdout",
          "output_type": "stream",
          "text": [
            "normal_dist:-86.49151310357367, rademach_dist:-111.42083900904018, true:-83.00425388154918\n"
          ]
        }
      ],
      "source": [
        "nh2 = normal_hutch(matrix2, 300)\n",
        "rh2 = rademacher_hutch(matrix2, 300)\n",
        "tr2 = matrix2.diagonal().sum()\n",
        "print(\"normal_dist:{}, rademach_dist:{}, true:{}\".format(nh2, rh2, tr2))"
      ]
    },
    {
      "cell_type": "code",
      "execution_count": null,
      "metadata": {
        "id": "k16J3Op4pvDj",
        "outputId": "19e30b23-5de9-4181-b338-e828466a4c0e"
      },
      "outputs": [
        {
          "name": "stdout",
          "output_type": "stream",
          "text": [
            "normal_dist:-6.594494307305615, rademach_dist:-5.652604929639599, true:-7.275387405803152\n"
          ]
        }
      ],
      "source": [
        "nh3 = normal_hutch(matrix3, 300)\n",
        "rh3 = rademacher_hutch(matrix3, 300)\n",
        "tr3 = matrix3.diagonal().sum()\n",
        "print(\"normal_dist:{}, rademach_dist:{}, true:{}\".format(nh3, rh3, tr3))"
      ]
    },
    {
      "cell_type": "markdown",
      "metadata": {
        "id": "pIL61RpEFqnJ"
      },
      "source": [
        "**Subproblem 3 (5 pts)**"
      ]
    },
    {
      "cell_type": "markdown",
      "metadata": {
        "id": "hzBjryHu4EhR"
      },
      "source": [
        "Is it possible to obtain better bound? Here we study how to do that for simplified case."
      ]
    },
    {
      "cell_type": "markdown",
      "metadata": {
        "id": "ihVhxbSuFxPL"
      },
      "source": [
        "Let $A$ be the $N\\times N$ matrix with all entries equal one, i.e., $A_{ij}=1$. We consider variant of Hutchinson algorithm with standard normal variables, i.e., $u_{i} \\sim \\mathcal{N}(0, 1)$.\n"
      ]
    },
    {
      "cell_type": "markdown",
      "metadata": {
        "id": "2guyMtm5Fz8U"
      },
      "source": [
        "1. Show that $u^\\top A u \\big/ N$ has [chi-squared distribution](https://en.wikipedia.org/wiki/Chi-squared_distribution)."
      ]
    },
    {
      "cell_type": "markdown",
      "metadata": {
        "id": "ZvPFawFMpvDk"
      },
      "source": [
        "$u^\\top A u /N = \\sum\\limits_{i,j=1}^N u_{i}u_j / N  = (\\sum_i\\frac{u_i}{\\sqrt N})^2$\\\n",
        "We have: $\\mathbb{E}[\\sum_i\\frac{u_i}{\\sqrt N}] = \\sum_i\\frac{\\mathbb{E}[u_i]}{\\sqrt N} = 0$, $var[\\sum_i\\frac{u_i}{\\sqrt N}] = \\frac{1}{N} \\sum_ivar[u_i] = 1$. \n",
        "\n",
        "Thus $\\sum_i\\frac{u_i}{\\sqrt N}$ distributed as $N(0,1)$, so it's square distributed as chi-square with 1 degree of freedom."
      ]
    },
    {
      "cell_type": "markdown",
      "metadata": {
        "id": "v483XTyCF4Ks"
      },
      "source": [
        "2. Suppose that Hutchinson algorithm is applied for $M$ iteration. Show that $\\sum_{i=1}^{M}u_i^\\top A u_i \\big/ N$ has $\\chi^2(M)$ distribution (chi-squared distribution with $M$ degrees of freedom)."
      ]
    },
    {
      "cell_type": "markdown",
      "metadata": {
        "id": "w8e6OvAopvDl"
      },
      "source": [
        "Every $u_i^\\top Au_i$ has chi-squared distribution with 1 degree of freedom. Sum of chi-squared distributed random variables with freedom degrees $k_1,k_2, \\ldots, k_r$ has chi-square distribution with freedom degree equal to $k_1+k_2+\\ldots+k_r$. So, $\\sum_{i=1}^{M}u_i^\\top A u_i \\big/ N$ has distribution $\\chi^2(1+1+\\ldots+1)=\\chi^2(M)$"
      ]
    },
    {
      "cell_type": "markdown",
      "metadata": {
        "id": "Yru4LU68F6JT"
      },
      "source": [
        "3. Let $M\\geq50$, $G_{M} = \\sum_{i=1}^{M}u_i^\\top A u_i \\big/ N$ and suppose that $\\chi^2(M)$ has approximately normal distribution. Under this assumptions show that there exists small $\\delta$ such that $\\text{Pr}\\left(\\left|G_{M} - \\text{tr}(A)\\right| \\leq \\epsilon \\text{tr}(A)\\right) \\geq 1 - \\delta $."
      ]
    },
    {
      "cell_type": "markdown",
      "metadata": {
        "id": "G5WRow5YpvDm"
      },
      "source": [
        "We know that $\\mathbb{E}[G_M] = \\mathbb{E}[\\sum_{i=1}^{M}u_i^\\top A u_i \\big/ N] = \\sum_{i=1}^{M}\\mathbb{E}[u_i^\\top A u_i] / N = M * 1 * tr(A) / N =\\frac{M}{N}  tr(A) = M$.\n",
        "\n",
        "$\\text{Pr}\\left(\\left|G_{M} - \\text{tr}(A)\\right| \\geq \\epsilon \\text{tr}(A)\\right) \\leq var(G_M) / \\epsilon^2\\text{tr}(A)^2 \\simeq 2*M / \\epsilon^2\\text{tr}(A)^2 = 2*M / \\epsilon^2N^2$\n",
        "\n",
        "$\\text{Pr}\\left(\\left|G_{M} - \\text{tr}(A)\\right| \\leq \\epsilon \\text{tr}(A)\\right) = 1 - \\text{Pr}\\left(\\left|G_{M} - \\text{tr}(A)\\right| > \\epsilon \\text{tr}(A)\\right) \\geq 1 - var(G_M) / \\epsilon^2\\text{tr}(A)^2 = 1 -  2*M / \\epsilon^2N^2$. Thus we can take $\\delta  = 2*M / \\epsilon^2N^2$, so such $\\delta$ exists."
      ]
    },
    {
      "cell_type": "markdown",
      "metadata": {
        "id": "gCfoFxTiyplo"
      },
      "source": [
        "It is possible to generalize bound from Subproblem 3 point 3 and the result can be found in the paper by Avron and Toledo (2010)."
      ]
    },
    {
      "cell_type": "markdown",
      "metadata": {
        "id": "0WhI2bbzM7Df"
      },
      "source": [
        "---\n",
        "\n",
        "Another similar bound that we state without a proof involves Frobenius norm.\n",
        "\n",
        "For Hutchinson estimate with $l$ steps denoted $T_l$, $\\delta \\in (0, 1/2]$ for fixed constants $c$ and $C$\n",
        "\n",
        "\\begin{equation}\n",
        "  \\text{Pr}\\left(\\left|T_{l} - \\text{tr}(A)\\right|\\leq C \\sqrt{\\frac{\\log(1/\\delta)}{l}}\\left\\|A\\right\\|_{F}\\right) \\geq 1 - \\delta.\n",
        "\\end{equation}"
      ]
    },
    {
      "cell_type": "markdown",
      "metadata": {
        "id": "woLFVgFGP9Xk"
      },
      "source": [
        "## Improved Hutchinson algorithms"
      ]
    },
    {
      "cell_type": "markdown",
      "metadata": {
        "id": "0NwxTEP6eyFp"
      },
      "source": [
        "There are a lot of improved version of Hutchinson algorithms.\n",
        "\n",
        "One fruitful idea is to represent the matrix $A$ as a sum $A = A_1 + A_2$ in such a way that $A_1$ has easy-to-compute trace and $\\left\\|A_2\\right\\|_F^2 \\ll \\left\\|A_1\\right\\|_F^2$ or $\\text{tr}(A_2) \\ll \\text{tr}(A_1)$ if both $A_1$ and $A_2$ are spd matrices.\n",
        "\n",
        "If this splitting is possible to construct, one has smaller one-sample variance or better $(\\epsilon, \\delta)$-estimator.\n",
        "\n",
        "Below we ask you to prove simple theoretical result on the systematic construction of such splittings."
      ]
    },
    {
      "cell_type": "markdown",
      "metadata": {
        "id": "pTGLQf-WFN1B"
      },
      "source": [
        "**Subproblem 4 (5 pts)**"
      ]
    },
    {
      "cell_type": "markdown",
      "metadata": {
        "id": "oNdbqNpnFNiT"
      },
      "source": [
        "Let $A\\in\\mathbb{R}^{N\\times N}$ be symmetric positive definite matrix and $Q\\in\\mathbb{R}^{N\\times k}$ contains $k$ eigenvalues corresponding to top $k$ eigenvalues, i.e., $\\lambda_1 \\leq \\lambda_2\\leq\\dots\\leq \\lambda_k\\leq\\lambda_{k+1}\\leq \\dots \\leq \\lambda_{N}$ eigenvalues are ordered and $Q_{\\star 1}, \\dots Q_{\\star k}$ are eigenvectors with eigenvalues $\\lambda_{N-k},\\dots,\\lambda_{N}$."
      ]
    },
    {
      "cell_type": "markdown",
      "metadata": {
        "id": "3L0H9ZGmKVU4"
      },
      "source": [
        "1. Show that $\\text{tr}\\left(A\\right) = \\text{tr}\\left(Q^T A Q\\right) + \\text{tr}\\left((I - QQ^T)A (I - QQ^T)\\right)$.\n",
        "\n",
        "---\n",
        "\n"
      ]
    },
    {
      "cell_type": "markdown",
      "metadata": {
        "id": "besmTw5-pvDr"
      },
      "source": [
        "Q formed by orthonormal eigenvectors, so $Q^\\top Q = I_k$, $I_k$ - identity matrix of size k.\n",
        "$$\\text{tr}\\left(Q^T A Q\\right) + \\text{tr}\\left((I - QQ^T)A (I - QQ^T)\\right) = tr(A Q Q^T) + tr(A (I - QQ^T)(I - QQ^T)) = tr(A(QQ^T+(I - QQ^T)(I - QQ^T))) = tr(A(QQ^T+I-2QQ^T+QQ^TQQ^T)) = tr(A(I-QQ^T+QI_kQ^T)) = tr(A(I-QQ^T+QQ^T)) = tr(A)$$"
      ]
    },
    {
      "cell_type": "markdown",
      "metadata": {
        "id": "rQoaw5ejFM22"
      },
      "source": [
        "2. Show that $\\left\\|(I - QQ^T)A (I - QQ^T)\\right\\|_{F} \\leq \\frac{1}{\\sqrt{k}}\\text{tr}\\left(A\\right)$."
      ]
    },
    {
      "cell_type": "markdown",
      "metadata": {
        "id": "BBhIlQz5pvDr"
      },
      "source": [
        "Let's note, that $Q^TAQ$ is best k-rank approximation of A. And because of $\\lambda_{N-k} \\leq \\lambda_{j}, j=N-k+1,\\ldots N \\to \\lambda_{N-k} \\leq \\frac{\\sum_{i=N-k+1}^N\\lambda_i}{k} \\leq \\frac{1}{k}tr(A)$\\\n",
        "Thus we have:\n",
        "$$\\|(I - QQ^T)A (I - QQ^T)\\|_F = \\sqrt{tr(((I - QQ^T)A (I - QQ^T))^T(I - QQ^T)A (I - QQ^T))} = \\sqrt{tr((A-Q^TAQ)^T(A - Q^TAQ))} = \\|A-Q^TAQ\\|_F = \\sqrt{\\sum_{i=1}^{N-k}\\lambda_i^2} \\leq \\sqrt{\\lambda_{N-k}\\sum_{i=1}^{N-k}\\lambda_i} \\leq \\sqrt{\\frac{1}{k}tr(A)*tr(A)} = \\frac{1}{\\sqrt{k}}tr(A)$$"
      ]
    },
    {
      "cell_type": "markdown",
      "metadata": {
        "id": "eQlENLuRLCBh"
      },
      "source": [
        "3. Show that for any spd matrix $\\left\\|A\\right\\|_{F} \\leq \\text{tr}(A)$."
      ]
    },
    {
      "cell_type": "markdown",
      "metadata": {
        "id": "HypXK_iApvDr"
      },
      "source": [
        "$\\|A\\|_F = \\|Q\\Sigma Q^T\\|_F = \\|\\Sigma\\|_F = \\sqrt{\\sum_i^N \\lambda_i^2} \\leq \\sum_i^N \\lambda_i = tr(A)$, because all eigenvalues of spd matrix A are non-negative."
      ]
    },
    {
      "cell_type": "markdown",
      "metadata": {
        "id": "Tjd_crvCOV7u"
      },
      "source": [
        "4. Use 2. and 3. and the bound for Hutchinson algorithm with Frobenius norm above to show that if $k \\simeq 1/\\epsilon$ one only needs $l\\simeq 1/\\epsilon$ steps in place of $1/\\epsilon^2$ for a given tolerance."
      ]
    },
    {
      "cell_type": "markdown",
      "metadata": {
        "id": "CCg4wxJzpvDs"
      },
      "source": [
        "For $Q^TAQ$ we compute trace with complexity $O(k) = O(1/\\epsilon)$\n",
        "\n",
        "For second matrix:\n",
        "$ 1 - \\delta \\leq \\text{Pr}\\left(\\left|T_{l} - \\text{tr}((I - QQ^T)A (I - QQ^T))\\right|\\leq C \\sqrt{\\frac{\\log(1/\\delta)}{l}}\\left\\|(I - QQ^T)A (I - QQ^T)\\right\\|_{F}\\right) \\leq Pr\\left( \\left|T_{l} - \\text{tr}((I - QQ^T)A (I - QQ^T))\\right|\\leq C \\sqrt{\\frac{\\log(1/\\delta)}{l}}\\frac{1}{\\sqrt k}tr(A) = C \\sqrt{\\frac{\\log(1/\\delta)}{lk}}tr(A)\\right) $\n",
        "\n",
        "So if $k \\simeq 1/\\epsilon$ and we need tolerance $\\epsilon$, we take $kl \\simeq 1/\\epsilon^2 \\to l \\simeq 1/\\epsilon$ steps, in place of $1/\\epsilon^2$"
      ]
    },
    {
      "cell_type": "markdown",
      "metadata": {
        "id": "yJWyFEirPSCr"
      },
      "source": [
        "The simple analysis above suggests the following improved Hutchinson algorithm:\n",
        "\n",
        "    trace_estimate = 0\n",
        "    Q = []\n",
        "    for i=1:m/3 do\n",
        "        u = random_vector\n",
        "        Q = [Q, u] # stack vectors\n",
        "    end do\n",
        "    Q = orthonormal basis for columns of AQ\n",
        "    tr_1 = trace(Q^T A Q) # compute exactly\n",
        "    tr_2 = approximate tr(I - QQ^T)A(I - QQ^T) with Hutchinson algorithm m/3 steps\n",
        "    tr = tr_1 + tr_2\n",
        "\n",
        "\n",
        "Observe that we substituted true eigenvalues with orthonormal basis. You may consider this a one-sweep power estimation of eigenvalues."
      ]
    },
    {
      "cell_type": "markdown",
      "metadata": {
        "id": "yF4ETwahQnJo"
      },
      "source": [
        "**Subproblem 5 (5 pts)**"
      ]
    },
    {
      "cell_type": "markdown",
      "metadata": {
        "id": "LNZdCBUzQ7R5"
      },
      "source": [
        "1. Implement improved Hutchinson algorithm. Note that the \"algorithm\" above is rather sketchy. Make sure to introduce improvements where needed."
      ]
    },
    {
      "cell_type": "code",
      "execution_count": 55,
      "metadata": {
        "id": "qseTiUSNpvDt"
      },
      "outputs": [],
      "source": [
        "def improved_hutch(A, m):\n",
        "    trace_estimate = 0\n",
        "    Q = np.array([])\n",
        "    for i in range(m//3):\n",
        "        u = np.random.normal(0,1,(A.shape[0],1))\n",
        "        if len(Q) == 0:\n",
        "            Q = u\n",
        "        else:\n",
        "            Q = np.hstack((Q,u))\n",
        "    Q, _ = np.linalg.qr(A @ Q)\n",
        "    tr_1 = np.trace(Q.T @ A @ Q) \n",
        "    tr_2 = normal_hutch((np.eye(A.shape[0]) - Q @ Q.T) @ A @ (np.eye(A.shape[0]) - Q @ Q.T), m//3) \n",
        "    tr = tr_1 + tr_2\n",
        "    return tr"
      ]
    },
    {
      "cell_type": "markdown",
      "metadata": {
        "id": "96ELk5qrRA4M"
      },
      "source": [
        "2. Evaluate you algorithm on several matrices on your choice."
      ]
    },
    {
      "cell_type": "code",
      "execution_count": 63,
      "metadata": {
        "colab": {
          "base_uri": "https://localhost:8080/"
        },
        "id": "zUd7Mm56pvDu",
        "outputId": "e056b9ae-faa3-4503-c015-1fd6afce685f"
      },
      "outputs": [
        {
          "name": "stdout",
          "output_type": "stream",
          "text": [
            "true:-21.289614413198926, estimated:-21.289614413199\n"
          ]
        }
      ],
      "source": [
        "matrix = np.random.uniform(-10,10, (100,100))\n",
        "tr1 = np.trace(matrix)\n",
        "tr2 = improved_hutch(matrix, 300)\n",
        "\n",
        "print(\"true:{}, estimated:{}\".format(tr1, tr2))"
      ]
    },
    {
      "cell_type": "code",
      "execution_count": 64,
      "metadata": {
        "colab": {
          "base_uri": "https://localhost:8080/"
        },
        "id": "Zpk-zL2qpvDv",
        "outputId": "7ea34199-f7af-402f-ab7b-92e17430beb1"
      },
      "outputs": [
        {
          "name": "stdout",
          "output_type": "stream",
          "text": [
            "true:212.95953907717254, estimated:212.95953907717245\n"
          ]
        }
      ],
      "source": [
        "matrix = np.random.normal(5,12, (50,50))\n",
        "tr1 = np.trace(matrix)\n",
        "tr2 = improved_hutch(matrix, 300)\n",
        "\n",
        "print(\"true:{}, estimated:{}\".format(tr1, tr2))"
      ]
    },
    {
      "cell_type": "code",
      "execution_count": 65,
      "metadata": {
        "colab": {
          "base_uri": "https://localhost:8080/"
        },
        "id": "-iaP_NlIpvDv",
        "outputId": "ab2f2176-b556-4c85-d903-592f58d13029"
      },
      "outputs": [
        {
          "name": "stdout",
          "output_type": "stream",
          "text": [
            "true:5268.846289398334, estimated:5203.804612459733\n"
          ]
        }
      ],
      "source": [
        "matrix = gen_circ(200)\n",
        "tr1 = np.trace(matrix)\n",
        "tr2 = improved_hutch(matrix, 400)\n",
        "\n",
        "print(\"true:{}, estimated:{}\".format(tr1, tr2))"
      ]
    },
    {
      "cell_type": "markdown",
      "metadata": {
        "id": "91Fi_NhTRRgO"
      },
      "source": [
        "## Comparison of Hutchinson and improved Hutchinson algorithms"
      ]
    },
    {
      "cell_type": "markdown",
      "metadata": {
        "id": "jxC1FEI7RVhv"
      },
      "source": [
        "**Subproblem 6 (5 pts)**"
      ]
    },
    {
      "cell_type": "markdown",
      "metadata": {
        "id": "DIOKzFX-RXdR"
      },
      "source": [
        "Produce plots y-axis = relative trace error estimation, x-axis = number of matrix-vector products for original Hutchinson algorithm and for the improved version for the following cases:"
      ]
    },
    {
      "cell_type": "markdown",
      "metadata": {
        "id": "KTj02b_UR0Nb"
      },
      "source": [
        "1. Random matrices on your choise. Suggestions: [randn](https://numpy.org/doc/stable/reference/random/generated/numpy.random.randn.html), [random sparse](https://docs.scipy.org/doc/scipy/reference/generated/scipy.sparse.random.html)."
      ]
    },
    {
      "cell_type": "code",
      "execution_count": 66,
      "metadata": {
        "id": "nhlD94vZpvDy"
      },
      "outputs": [],
      "source": [
        "def compare(matrix, number):\n",
        "    ers_hutch = []\n",
        "    ers_imphutch = []\n",
        "    true_tr = np.trace(matrix)\n",
        "\n",
        "    \n",
        "    for i in number:\n",
        "        trh = normal_hutch(matrix, i)\n",
        "        ers_hutch.append(abs(trh - true_tr))\n",
        "\n",
        "        trim = improved_hutch(matrix, i)\n",
        "        ers_imphutch.append(abs(trim - true_tr))\n",
        "    \n",
        "    return ers_hutch, ers_imphutch"
      ]
    },
    {
      "cell_type": "code",
      "execution_count": 69,
      "metadata": {
        "id": "n2PFL2mspvDy"
      },
      "outputs": [],
      "source": [
        "matrix1 = np.random.randn(200,200)\n",
        "matrix2 = random(200,200)\n",
        "number = [i for i in range(10,400, 20)]\n",
        "\n",
        "ers_hutch1, ers_imphutch1 = compare(matrix1, number)\n",
        "ers_hutch2, ers_imphutch2 = compare(matrix2.A, number)"
      ]
    },
    {
      "cell_type": "code",
      "execution_count": 70,
      "metadata": {
        "colab": {
          "base_uri": "https://localhost:8080/",
          "height": 281
        },
        "id": "j5gql46JpvDz",
        "outputId": "b4b4e324-51f9-46e0-dc33-1cbf6bfc0ec8"
      },
      "outputs": [
        {
          "data": {
            "image/png": "[encoded data removed]",
            "text/plain": [
              "<Figure size 432x288 with 1 Axes>"
            ]
          },
          "metadata": {
            "needs_background": "light"
          },
          "output_type": "display_data"
        }
      ],
      "source": [
        "plt.plot(number, ers_hutch1, label=\"hutch\")\n",
        "plt.plot(number, ers_imphutch1, label=\"hutch_improved\")\n",
        "plt.legend()\n",
        "plt.title('Randn')\n",
        "plt.show()"
      ]
    },
    {
      "cell_type": "code",
      "execution_count": 71,
      "metadata": {
        "colab": {
          "base_uri": "https://localhost:8080/",
          "height": 281
        },
        "id": "D9v1NH2fpvDz",
        "outputId": "557d01d1-6434-42d1-ee26-aa1d2ee1bc35"
      },
      "outputs": [
        {
          "data": {
            "image/png": "[encoded data removed]",
            "text/plain": [
              "<Figure size 432x288 with 1 Axes>"
            ]
          },
          "metadata": {
            "needs_background": "light"
          },
          "output_type": "display_data"
        }
      ],
      "source": [
        "plt.plot(number, ers_hutch2, label=\"hutch\")\n",
        "plt.plot(number, ers_imphutch2, label=\"hutch_improved\")\n",
        "plt.legend()\n",
        "plt.title('Sparse')\n",
        "plt.show()"
      ]
    },
    {
      "cell_type": "markdown",
      "metadata": {
        "id": "OekedwEcSJVa"
      },
      "source": [
        "2. For random spd matrices with eigenvalues $\\lambda_i = i^{-\\alpha}$ for several $\\alpha$, i.e., for matrices with fast- and slow-decaying spectrum."
      ]
    },
    {
      "cell_type": "code",
      "execution_count": 80,
      "metadata": {
        "id": "gx4SD8I7pvD0"
      },
      "outputs": [],
      "source": [
        "diag1 = np.diagflat([i**(-1) for i in range(1,201)])\n",
        "diag2 = np.diagflat([i**(-0.001) for i in range(1,201)])\n",
        "diag3 = np.diagflat([i**(-3) for i in range(1,201)])\n",
        "Q, _ = np.linalg.qr(np.random.uniform(100,-100,(200,200)))\n",
        "spd1 = Q @ diag1 @ Q.T\n",
        "spd2 = Q @ diag2 @ Q.T\n",
        "spd3 = Q @ diag3 @ Q.T\n",
        "\n",
        "ers_hutch1, ers_imphutch1 = compare(spd1, number)\n",
        "ers_hutch2, ers_imphutch2 = compare(spd2, number)\n",
        "ers_hutch3, ers_imphutch3 = compare(spd3, number)"
      ]
    },
    {
      "cell_type": "code",
      "execution_count": 81,
      "metadata": {
        "colab": {
          "base_uri": "https://localhost:8080/",
          "height": 281
        },
        "id": "GvWUHsvzpvD0",
        "outputId": "ba45420c-56b6-4c6d-95f1-87b586941d87"
      },
      "outputs": [
        {
          "data": {
            "image/png": "[encoded data removed]",
            "text/plain": [
              "<Figure size 432x288 with 1 Axes>"
            ]
          },
          "metadata": {
            "needs_background": "light"
          },
          "output_type": "display_data"
        }
      ],
      "source": [
        "plt.plot(number, ers_hutch1, label=\"hutch\")\n",
        "plt.plot(number, ers_imphutch1, label=\"hutch_improved\")\n",
        "plt.legend()\n",
        "plt.title('a = 1')\n",
        "plt.show()"
      ]
    },
    {
      "cell_type": "code",
      "execution_count": 82,
      "metadata": {
        "colab": {
          "base_uri": "https://localhost:8080/",
          "height": 281
        },
        "id": "tXh9HTlJpvD0",
        "outputId": "2d4ea936-0039-496d-e6b4-28c165e281f9"
      },
      "outputs": [
        {
          "data": {
            "image/png": "[encoded data removed]",
            "text/plain": [
              "<Figure size 432x288 with 1 Axes>"
            ]
          },
          "metadata": {
            "needs_background": "light"
          },
          "output_type": "display_data"
        }
      ],
      "source": [
        "plt.plot(number, ers_hutch2, label=\"hutch\")\n",
        "plt.plot(number, ers_imphutch2, label=\"hutch_improved\")\n",
        "plt.legend()\n",
        "plt.title('a = 0.001')\n",
        "plt.show()"
      ]
    },
    {
      "cell_type": "code",
      "execution_count": 83,
      "metadata": {
        "colab": {
          "base_uri": "https://localhost:8080/",
          "height": 281
        },
        "id": "o_Tv6N46pvD0",
        "outputId": "b6d8bc61-b529-4ac7-ca72-69b6d2d8e9f6"
      },
      "outputs": [
        {
          "data": {
            "image/png": "[encoded data removed]",
            "text/plain": [
              "<Figure size 432x288 with 1 Axes>"
            ]
          },
          "metadata": {
            "needs_background": "light"
          },
          "output_type": "display_data"
        }
      ],
      "source": [
        "plt.plot(number, ers_hutch1, label=\"hutch\")\n",
        "plt.plot(number, ers_imphutch1, label=\"hutch_improved\")\n",
        "plt.legend()\n",
        "plt.title('a = 3')\n",
        "plt.show()"
      ]
    },
    {
      "cell_type": "markdown",
      "metadata": {
        "id": "oVaJoXyoSYeB"
      },
      "source": [
        "3. Summarize your observations."
      ]
    },
    {
      "cell_type": "markdown",
      "metadata": {
        "id": "StDCk-bnpvD2"
      },
      "source": [
        "As we can see on plots, improved Hutchinson algorithm converges faster to true trace of matrix. Also, both algorithms works better with sparse and fast decaying spectrum matrices.\n",
        "\n",
        "There are some difficlties to estimate trace of low-decay spectrum matrices, as we can see on plot."
      ]
    },
    {
      "cell_type": "markdown",
      "metadata": {
        "id": "Dnjw_vPL3SBY"
      },
      "source": [
        "# Problem 3 (Universal adversarial attacks) (18 pts) "
      ]
    },
    {
      "cell_type": "markdown",
      "metadata": {
        "id": "gjOyTA_dm526"
      },
      "source": [
        "## Intro\n",
        "\n",
        "Suppose we have some classification model $f: X \\to Y$ which takes vector $x \\in \\mathbb{R^n}$ and output some label $y$. It appears that deep neural networks are valunable to small imperceptible perturbations called adversarial attacks. Formally, an adversarial attack is the verctor $\\varepsilon \\in \\mathbb{R^n}$ that leads to misclassification: $y(x) \\neq y(x + \\varepsilon)$.\n",
        "\n",
        "<img src=\"https://openai.com/content/images/2017/02/adversarial_img_1.png\" style=\"display=block; margin:auto\">\n",
        "\n",
        "However, it was shown that there exist universal adversarial perturbations: $\\varepsilon \\in \\mathbb{R^n}$ that leads to misclassification $y(x) \\neq y(x + \\varepsilon)$ for most of inputs.\n",
        "\n",
        "The hypetesis is that perturbation of a hidden layer caused by an attack will propagate further in the network changing predicted label of x.\n",
        "\n",
        "Let $f_i$ be the output of $i$-s hidden layer, then\n",
        "$$f_i(x + \\varepsilon) - f_i(x) \\approx J_i(x)\\varepsilon$$\n",
        "So, to find attack we need to solve the folliwing optimization problem\n",
        "$$\n",
        "\\max_{\\|\\varepsilon\\|_p = 1} \\sum\\limits_{x \\in \\text{batch}}\\|J_i(x)\\varepsilon\\|_q^q\n",
        "$$\n",
        "\n",
        "## Problem discription\n",
        "\n",
        "+ Obtain fixed point iteration to solve the problem above using first order optimality condition. **(5 pts)**\n",
        "+ Suppose additionally that $\\varepsilon$ should be sparse: $\\|\\varepsilon\\|_0 \\leq k$. Correct the algorithm above using additional truncation operator. **(5 pts)**\n",
        "+ Implement algorithms 1 and 2. Find universal perturbations on CIFAR dataset using random batch of size 64. Report fooling rate depending on hyperparameters **(8 pts)**\n",
        "$$\n",
        "\\text{FoolingRate} = \\frac{1}{N}\\sum\\limits_{i = 1}^N \\mathbb{1}[y(x + \\varepsilon) \\neq y(x)]\n",
        "$$\n",
        "\n"
      ]
    },
    {
      "cell_type": "markdown",
      "metadata": {
        "id": "2uD_XCI9U3YL"
      },
      "source": [
        "Let $X_b$ - set of butch's elements. Let's name $$J_i(X_b) = \\begin{pmatrix} J_i(x_1) \\\\\n",
        "J_i(x_2) \\\\\n",
        "\\vdots \\\\\n",
        "J_i(x_b)\n",
        "\\end{pmatrix}$$\n",
        "It's cleare, that this matrix constructed by stacking outputs of i-th layer of every element in a batch. And as we can notice:\n",
        "\n",
        "$$J_i(X_b) \\epsilon = \\begin{pmatrix} J_i(x_1) \\epsilon \\\\\n",
        "J_i(x_2) \\epsilon \\\\\n",
        "\\vdots\\\\\n",
        "J_i(x_b)\\epsilon\n",
        "\\end{pmatrix}$$\n",
        "\n",
        "\n",
        "So this formulas eqiuvalent :\n",
        "$\\max_\\limits{\\|\\epsilon\\|_p = 1} \\sum\\limits_{x \\in \\text{batch}}\\|J_i(x)\\epsilon\\|_q^q = \\max_\\limits{\\|\\epsilon\\|_p = 1} \\|J_i(X_b)\\epsilon\\|_q^q$\\\n",
        "We know that $\\max x^p \\iff \\max x$, where p > 0. So we will maximize: $\\| J_i (X_b)\\epsilon\\|_q$\n",
        "\n",
        "$$ \\max_{\\|\\epsilon\\|_p = 1} \\|J_i (X_b)\\epsilon\\|_q = \\max_{\\epsilon \\neq 0} \\frac{\\|J_i (X_b)\\epsilon\\|_q}{\\|\\epsilon\\|_p}$$\n",
        "\n",
        "First order optimality condition:\n",
        "$$\\frac{\\partial }{\\partial \\epsilon_i} \\frac{\\|J_i (X_b)\\epsilon\\|_q}{\\|\\epsilon\\|_p} = 0$$\n",
        "\n",
        "So we need to derive derivative. Let's look at denominator:\n",
        "$$ \\frac{\\partial }{\\partial \\epsilon_i} \\| J_i (X_b)\\epsilon \\|_q = \\frac{\\partial }{\\partial \\epsilon_i} (\\| J_i (X_b)\\epsilon \\|_q^q)^{1/q}) = \\frac{1}{q} \\| J_i (X_b)\\epsilon \\|_q^{1 - q} \\frac{\\partial }{\\partial \\epsilon_i} \\|J_i (X_b)\\epsilon \\|_q^q$$\n",
        "\n",
        "$$\\frac{\\partial }{\\partial \\epsilon_i} \\| J_i (X_b)\\epsilon \\|_q^q = q \\sum_n \\left| \\sum_m (J_i (X_b))_{nm} \\epsilon_m \\right| ^{q - 1} \\sign \\left(\\sum_m (J_i (X_b))_{nm} \\epsilon_m \\right) (J_i (X_b))_{ni} = (q*(J_i (X_b))^T\\psi_q(J_i (X_b)\\epsilon))_i$$\n",
        "\n",
        "$$\\frac{\\partial }{\\partial \\epsilon_i} \\| J_i (X_b)\\epsilon \\|_q =  \\| J_i (X_b)\\epsilon \\|_q^{1 - q}((J_i (X_b))^T\\psi_q(J_i (X_b)\\epsilon))_i$$\n",
        "where used: $\\psi_q(x) = \\sign(x) |x|^{q - 1}$\n",
        "$$\\frac{\\partial }{\\partial x_k} \\| x \\|_p = \\| x \\|_p^{1 - p}(\\psi_p(x))_k$$\n",
        "\n",
        "$$\\frac{\\partial }{\\partial \\epsilon_k} \\frac{\\|J_i (X_b)\\epsilon\\|_q}{\\|\\epsilon\\|_p} = \\frac{\\| J_i (X_b)\\epsilon \\|_q^{1 - q}((J_i (X_b))^T\\psi_q(J_i (X_b)\\epsilon))_k}{\\| \\epsilon \\|_p} - \\frac{\\| J_i (X_b)\\epsilon \\|_q \\| \\epsilon \\|_p^{1 - p}(\\psi_p(\\epsilon))_k}{\\| \\epsilon \\|_p^2}$$\n",
        "In vector form:\n",
        "$$\\frac{\\| J_i (X_b)\\epsilon \\|_q^{1 - q}(J_i (X_b))^T\\psi_q(J_i (X_b)\\epsilon)}{\\| \\epsilon \\|_p} = \\frac{\\| J_i (X_b)\\epsilon \\|_q \\| \\epsilon \\|_p^{1 - p}\\psi_p(\\epsilon)}{\\| \\epsilon \\|_p^2}$$ \n",
        "$$\\| \\epsilon \\|_p^{p} \\| J_i (X_b)\\epsilon \\|_q^{- q}(J_i (X_b))^T\\psi_q(J_i (X_b)\\epsilon) = \\psi_p(\\epsilon)$$\n",
        "Take $p' = \\frac{p}{p - 1}$, $(p' - 1)(p - 1) = 1$.\n",
        "$$\\psi_{p'}(\\psi_p(ϵ)) = \\psi_{p'}(|\\epsilon|^{p - 1}\\sign(\\epsilon)) = ||\\epsilon^{(p-1)}|\\sign(\\epsilon)|^{(p'-1)} \\sign(|\\epsilon|^{p - 1}\\sign(\\epsilon)) = |\\epsilon|^{(p-1)(p'-1)} \\sign(\\epsilon) = |\\epsilon|\\sign(\\epsilon) = ϵ$$\n",
        "Result:\n",
        "$$\\epsilon = \\psi_{p'}(\\| \\epsilon \\|_p^{p} \\| J_i (X_b)\\epsilon \\|_q^{- q}(J_i (X_b))^T\\psi_q(J_i (X_b)\\epsilon)) = \\| \\epsilon \\|_p^{p(p' - 1)} \\| J_i (X_b)\\epsilon \\|_q^{-q(p' - 1)}\\psi_{p'}((J_i (X_b))^T\\psi_q(J_i (X_b)\\epsilon))$$\n",
        "Algo: \n",
        "1) Build $J_i(X_b)$\\\n",
        "2) Take some random $\\epsilon$. Do $\\epsilon \\rightarrow \\frac{\\epsilon}{\\| \\epsilon \\|_p}$\\\n",
        "3) Until convergence, do: $ɛ_{k + 1} = \\| \\hat J ɛ_k \\|_q^{-q(p' - 1)}\\psi_{p'}((J_i(X_b))^T\\psi_q(J_i(X_b) ɛ_k)), \\quad \\epsilon_{k + 1} \\rightarrow \\frac{\\epsilon_{k + 1}}{\\| \\epsilon_{k + 1} \\|_p}$\\\n",
        "4) Return $\\varepsilon_k$ \n",
        "\n"
      ]
    },
    {
      "cell_type": "code",
      "execution_count": 1,
      "metadata": {
        "id": "A5bnjKKj3Hm5"
      },
      "outputs": [],
      "source": [
        "import torch\n",
        "import torch.nn as nn\n",
        "import requests\n",
        "from torch import autograd"
      ]
    },
    {
      "cell_type": "code",
      "execution_count": 3,
      "metadata": {
        "id": "VUFsGCfM5eOX"
      },
      "outputs": [],
      "source": [
        "def download_file_from_google_drive(id, destination):\n",
        "    URL = \"https://docs.google.com/uc?export=download\"\n",
        "\n",
        "    session = requests.Session()\n",
        "\n",
        "    response = session.get(URL, params = { 'id' : id }, stream = True)\n",
        "    token = get_confirm_token(response)\n",
        "\n",
        "    if token:\n",
        "        params = { 'id' : id, 'confirm' : token }\n",
        "        response = session.get(URL, params = params, stream = True)\n",
        "\n",
        "    save_response_content(response, destination)\n",
        "\n",
        "\n",
        "def get_confirm_token(response):\n",
        "    for key, value in response.cookies.items():\n",
        "        if key.startswith('download_warning'):\n",
        "            return value\n",
        "\n",
        "    return None\n",
        "\n",
        "\n",
        "def save_response_content(response, destination):\n",
        "    CHUNK_SIZE = 32768\n",
        "\n",
        "    with open(destination, \"wb\") as f:\n",
        "        for chunk in response.iter_content(CHUNK_SIZE):\n",
        "            if chunk: # filter out keep-alive new chunks\n",
        "                f.write(chunk)"
      ]
    },
    {
      "cell_type": "code",
      "execution_count": 4,
      "metadata": {
        "id": "mVGCX5UDm1ld"
      },
      "outputs": [],
      "source": [
        "class CifarNet(nn.Module):\n",
        "    def __init__(self):\n",
        "        super(CifarNet, self).__init__()\n",
        "        self.conv1 = nn.Conv2d(3, 64, kernel_size=3)\n",
        "        self.conv2 = nn.Conv2d(64, 64, kernel_size=3)\n",
        "        self.conv3 = nn.Conv2d(64, 128, kernel_size=3)\n",
        "        self.conv4 = nn.Conv2d(128, 128, kernel_size=3)\n",
        "\n",
        "        self.pool = nn.MaxPool2d(2, 2)\n",
        "\n",
        "        self.relu = nn.ReLU(inplace=True)\n",
        "        self.fc1 = nn.Linear(3200, 256)\n",
        "        \n",
        "        self.dropout = nn.Dropout(0.5)\n",
        "        \n",
        "        self.fc2 = nn.Linear(256, 256)\n",
        "        self.fc3 = nn.Linear(256, 10)\n",
        "\n",
        "    def forward(self, x):\n",
        "        x = self.relu(self.conv1(x))\n",
        "        x = self.relu(self.conv2(x))\n",
        "        x = self.pool(x)\n",
        "\n",
        "        x = self.relu(self.conv3(x))\n",
        "        x = self.relu(self.conv4(x))\n",
        "        x = self.pool(x)\n",
        "\n",
        "        x = x.view(-1, 3200)\n",
        "        x = self.relu(self.fc1(x))\n",
        "        x = self.dropout(x)\n",
        "        \n",
        "        x = self.relu(self.fc2(x))\n",
        "        x = self.fc3(x)\n",
        "\n",
        "        return x"
      ]
    },
    {
      "cell_type": "code",
      "execution_count": 5,
      "metadata": {
        "colab": {
          "base_uri": "https://localhost:8080/"
        },
        "id": "YJ87b3t732Mw",
        "outputId": "c0ddb5d0-cfc3-48d8-d69e-0fa4ad684096"
      },
      "outputs": [
        {
          "data": {
            "text/plain": [
              "<All keys matched successfully>"
            ]
          },
          "execution_count": 5,
          "metadata": {},
          "output_type": "execute_result"
        }
      ],
      "source": [
        "device = \"cuda:0\" if torch.cuda.is_available() else \"cpu\"\n",
        "\n",
        "file_id = \"1qrNvr3eLYjvbkVg5jY2sYA2rqK9XkTXs\"\n",
        "download_file_from_google_drive(file_id, \"./cifar_checkpoint.pth\")\n",
        "\n",
        "model = CifarNet().to(device)\n",
        "model.load_state_dict(torch.load(\"./cifar_checkpoint.pth\", map_location=\"cpu\"))"
      ]
    },
    {
      "cell_type": "code",
      "execution_count": 6,
      "metadata": {
        "colab": {
          "base_uri": "https://localhost:8080/"
        },
        "id": "BO03LEdS3TTr",
        "outputId": "9b7f6dba-0321-4755-f4d4-9058be381528"
      },
      "outputs": [
        {
          "name": "stdout",
          "output_type": "stream",
          "text": [
            "Files already downloaded and verified\n",
            "Files already downloaded and verified\n"
          ]
        }
      ],
      "source": [
        "import torchvision\n",
        "import torchvision.transforms as transforms\n",
        "\n",
        "\n",
        "transform = transforms.Compose(\n",
        "    [transforms.ToTensor(),\n",
        "     transforms.Normalize((0.5, 0.5, 0.5), (0.5, 0.5, 0.5))])\n",
        "\n",
        "batch_size = 64\n",
        "\n",
        "trainset = torchvision.datasets.CIFAR10(root='./data', train=True,\n",
        "                                        download=True, transform=transform)\n",
        "trainloader = torch.utils.data.DataLoader(trainset, batch_size=batch_size,\n",
        "                                          shuffle=True, num_workers=2)\n",
        "\n",
        "testset = torchvision.datasets.CIFAR10(root='./data', train=False,\n",
        "                                       download=True, transform=transform)\n",
        "testloader = torch.utils.data.DataLoader(testset, batch_size=batch_size,\n",
        "                                         shuffle=False, num_workers=2)\n",
        "\n",
        "classes = ('plane', 'car', 'bird', 'cat',\n",
        "           'deer', 'dog', 'frog', 'horse', 'ship', 'truck')"
      ]
    },
    {
      "cell_type": "code",
      "execution_count": 13,
      "metadata": {
        "colab": {
          "base_uri": "https://localhost:8080/"
        },
        "id": "59DYnuL2Yby-",
        "outputId": "3f3fcc54-f8b4-49f8-b37b-a75ea1aebf73"
      },
      "outputs": [
        {
          "name": "stdout",
          "output_type": "stream",
          "text": [
            "Accuracy of the network on the 10000 test images: 67 %\n"
          ]
        }
      ],
      "source": [
        "matched = 0\n",
        "total = 0\n",
        "\n",
        "with torch.no_grad():\n",
        "    for images, labels in testloader:\n",
        "        outputs = model(images)\n",
        "        _, predicted = torch.max(outputs.data, 1)\n",
        "        total += labels.size(0)\n",
        "        matched += (predicted == labels).sum().item()\n",
        "\n",
        "print(f'Accuracy of the network on the 10000 test images: {100 * matched // total} %')"
      ]
    },
    {
      "cell_type": "code",
      "execution_count": 29,
      "metadata": {
        "id": "dMy4l4zZfJ-S"
      },
      "outputs": [],
      "source": [
        "def truncation(x, k):\n",
        "    eps = x.reshape(-1)\n",
        "    ind = torch.argsort(torch.abs(eps), dim=-1)[-k:]\n",
        "    res = torch.zeros(x.reshape(-1).shape)\n",
        "    res[ind] = eps[ind]\n",
        "    return res.reshape(x.shape)\n",
        "\n",
        "\n",
        "def psi(x, p=2):\n",
        "    return torch.sign(x) * torch.abs(x) ** (p - 1) \n",
        "\n",
        "\n",
        "def power_method(p, q, k, model, images):\n",
        "    model.eval()\n",
        "    x = torch.rand(3, 32, 32)\n",
        "    x /= torch.linalg.norm(x.flatten(), ord=p)\n",
        "\n",
        "    if p == torch.inf:\n",
        "        p_1 = 1\n",
        "    elif p == 1:\n",
        "        p_1 = torch.inf\n",
        "    else:\n",
        "        p_1 = p / (p - 1)\n",
        "\n",
        "    for i in range(10):\n",
        "      x = torch.stack((x, x) * (batch_size // 2))\n",
        "      _, Jx = autograd.functional.jvp(model, images, x)\n",
        "      s = torch.linalg.norm(Jx.flatten(), ord=q)\n",
        "      _, x = autograd.functional.vjp(model, images, psi(Jx, q))\n",
        "\n",
        "      x = x.sum(dim=0)\n",
        "      x = psi(x, p_1) * (s ** (q * p_1 - 1))\n",
        "      x = truncation(x, k)\n",
        "      x /= torch.linalg.norm(x.flatten(), ord=p)\n",
        "    return x"
      ]
    },
    {
      "cell_type": "code",
      "execution_count": 31,
      "metadata": {
        "id": "NmesVfBhfWfJ"
      },
      "outputs": [],
      "source": [
        "from tqdm.notebook import tqdm\n",
        "\n",
        "\n",
        "def adversarial_attack(p, q, k):\n",
        "    fools = 0\n",
        "    total = 0\n",
        "    images, _ = next(iter(trainloader))\n",
        "    noise = power_method(p, q, k, model, images)\n",
        "    with torch.no_grad():\n",
        "        for images, labels in tqdm(testloader):\n",
        "            outputs = model(images)\n",
        "            _, pred = torch.max(outputs.data, 1)\n",
        "            \n",
        "            adv_attack = images + noise\n",
        "            adv_attack = torch.tensor(adv_attack, dtype=torch.float, device=device)\n",
        "            _, adv_pred = torch.max(model(adv_attack).data, 1)\n",
        "\n",
        "            total += labels.size(0)\n",
        "            fools += (adv_pred != pred).sum().item()\n",
        "\n",
        "    print(f'Fool rate: {100 * fools // total} %')"
      ]
    },
    {
      "cell_type": "code",
      "execution_count": 32,
      "metadata": {
        "colab": {
          "base_uri": "https://localhost:8080/",
          "height": 121,
          "referenced_widgets": [
            "2317a0dac00e45fd970bb1fa41300399",
            "30549dc29426488381207bc50394d7ec",
            "292c3845d4f74b879cd7183d2d1b534b",
            "85ae0e7262754f27ad1d989208e5588f",
            "ce4d1b2a07844af7a064acad5bb48d18",
            "871e13ece27e40d6a68e173860cc7b99",
            "62b343fa6330436e9fa29f17155fa9b7",
            "cb2f2b3ed7074669a6b3b25e4bb153e4",
            "2e5e4474d9f543d3bd54d3bd3aa9d17c",
            "b0a6f6b24acb45adbec2b7278ef0327d",
            "59b97f27c7b4403fb9e75598637fcb52"
          ]
        },
        "id": "d4CFI83Ei5mI",
        "outputId": "cfea0b7f-10e2-4957-b914-04a0d762f74c"
      },
      "outputs": [
        {
          "data": {
            "application/vnd.jupyter.widget-view+json": {
              "model_id": "2317a0dac00e45fd970bb1fa41300399",
              "version_major": 2,
              "version_minor": 0
            },
            "text/plain": [
              "  0%|          | 0/157 [00:00<?, ?it/s]"
            ]
          },
          "metadata": {},
          "output_type": "display_data"
        },
        {
          "name": "stderr",
          "output_type": "stream",
          "text": [
            "<ipython-input-31-35fb6b795ec2>:15: UserWarning: To copy construct from a tensor, it is recommended to use sourceTensor.clone().detach() or sourceTensor.clone().detach().requires_grad_(True), rather than torch.tensor(sourceTensor).\n",
            "  adv_attack = torch.tensor(adv_attack, dtype=torch.float, device=device)\n"
          ]
        },
        {
          "name": "stdout",
          "output_type": "stream",
          "text": [
            "Fool rate: 89 %\n"
          ]
        }
      ],
      "source": [
        "adversarial_attack(3, 8, 1000)"
      ]
    },
    {
      "cell_type": "code",
      "execution_count": 33,
      "metadata": {
        "colab": {
          "base_uri": "https://localhost:8080/",
          "height": 121,
          "referenced_widgets": [
            "495b8a6d09c54026a3dd11dd22c5e6fc",
            "a67815194cd140e99ff371e21b917204",
            "a323fe681c084227bb56f22a0bed4908",
            "24482638f555450da0b457e1df2da988",
            "7278ece17e904638a87832ef521efe6f",
            "70edea405ba14d41a3e0b92bb4ebeef9",
            "aa141e36f15b4a79b62036b750c8bcbf",
            "45293bb73041470eb91508c74d577229",
            "01476ee5cdbb49b09f1e359fd7c864dd",
            "5146123519af4d9bb767f8be39785a01",
            "df42d242f063470db4727ae8b26b3796"
          ]
        },
        "id": "3h-Oi0OJmG64",
        "outputId": "2d6d8bbe-b348-4a51-cd72-52287c42ed93"
      },
      "outputs": [
        {
          "data": {
            "application/vnd.jupyter.widget-view+json": {
              "model_id": "495b8a6d09c54026a3dd11dd22c5e6fc",
              "version_major": 2,
              "version_minor": 0
            },
            "text/plain": [
              "  0%|          | 0/157 [00:00<?, ?it/s]"
            ]
          },
          "metadata": {},
          "output_type": "display_data"
        },
        {
          "name": "stderr",
          "output_type": "stream",
          "text": [
            "<ipython-input-31-35fb6b795ec2>:15: UserWarning: To copy construct from a tensor, it is recommended to use sourceTensor.clone().detach() or sourceTensor.clone().detach().requires_grad_(True), rather than torch.tensor(sourceTensor).\n",
            "  adv_attack = torch.tensor(adv_attack, dtype=torch.float, device=device)\n"
          ]
        },
        {
          "name": "stdout",
          "output_type": "stream",
          "text": [
            "Fool rate: 85 %\n"
          ]
        }
      ],
      "source": [
        "adversarial_attack(torch.inf, 10, 1500)"
      ]
    },
    {
      "cell_type": "code",
      "execution_count": 34,
      "metadata": {
        "colab": {
          "base_uri": "https://localhost:8080/",
          "height": 121,
          "referenced_widgets": [
            "11f255222fb749b19c01a364219a4876",
            "8878acef08764f1595498251641abd28",
            "17395f2c8f9e4948abdb1afed9aa78cd",
            "e5e8e51f2a6b44f392e13a49b7ec73ed",
            "5f5d9198151643ee8bc651585b3d5595",
            "0a62efec83f84305a511bf55c9959fa1",
            "2572e440fbd64072b431853571fa9275",
            "f5009651b2d8462680b2b8f3c34642d9",
            "d5043ad5bd844c939405fbf927f409f9",
            "2da5050ec8ae4a6b93c465e8bb6eea5c",
            "c19f7f6f4d6b44cf9b1e3419cdb7f352"
          ]
        },
        "id": "EJJtL5KWxc77",
        "outputId": "4d03a0fa-2e3a-4be7-fc3d-ececfdfd5021"
      },
      "outputs": [
        {
          "data": {
            "application/vnd.jupyter.widget-view+json": {
              "model_id": "11f255222fb749b19c01a364219a4876",
              "version_major": 2,
              "version_minor": 0
            },
            "text/plain": [
              "  0%|          | 0/157 [00:00<?, ?it/s]"
            ]
          },
          "metadata": {},
          "output_type": "display_data"
        },
        {
          "name": "stderr",
          "output_type": "stream",
          "text": [
            "<ipython-input-31-35fb6b795ec2>:15: UserWarning: To copy construct from a tensor, it is recommended to use sourceTensor.clone().detach() or sourceTensor.clone().detach().requires_grad_(True), rather than torch.tensor(sourceTensor).\n",
            "  adv_attack = torch.tensor(adv_attack, dtype=torch.float, device=device)\n"
          ]
        },
        {
          "name": "stdout",
          "output_type": "stream",
          "text": [
            "Fool rate: 89 %\n"
          ]
        }
      ],
      "source": [
        "adversarial_attack(10, 5, 200)"
      ]
    },
    {
      "cell_type": "code",
      "execution_count": 36,
      "metadata": {
        "colab": {
          "base_uri": "https://localhost:8080/",
          "height": 121,
          "referenced_widgets": [
            "100a6f21bdd34140943b5c8457f2476d",
            "b536252d0ee94823ba2fcb1962f09328",
            "5ec0c3683c744634bc95f0fa1a37d20c",
            "5c73dd26df68469092b381f8dee3fff6",
            "68e12b031ab84dc7be08afd16f5eb81b",
            "a650ce77125e48f787ab326ad890d111",
            "228a1df9eb254a83aef54824861b979d",
            "72c2207207e44490926a3f40cb5a19d6",
            "b398cf5462324549947660d3a7909d2b",
            "faa8dfd626c14cbdb3d5562213ea4dd1",
            "8da736b4d3b04cbe80468be1dc5d1edf"
          ]
        },
        "id": "X2PUrmr8yvMu",
        "outputId": "356982ee-2269-4c81-e1b4-7882f7dd3cd1"
      },
      "outputs": [
        {
          "data": {
            "application/vnd.jupyter.widget-view+json": {
              "model_id": "100a6f21bdd34140943b5c8457f2476d",
              "version_major": 2,
              "version_minor": 0
            },
            "text/plain": [
              "  0%|          | 0/157 [00:00<?, ?it/s]"
            ]
          },
          "metadata": {},
          "output_type": "display_data"
        },
        {
          "name": "stderr",
          "output_type": "stream",
          "text": [
            "<ipython-input-31-35fb6b795ec2>:15: UserWarning: To copy construct from a tensor, it is recommended to use sourceTensor.clone().detach() or sourceTensor.clone().detach().requires_grad_(True), rather than torch.tensor(sourceTensor).\n",
            "  adv_attack = torch.tensor(adv_attack, dtype=torch.float, device=device)\n"
          ]
        },
        {
          "name": "stdout",
          "output_type": "stream",
          "text": [
            "Fool rate: 10 %\n"
          ]
        }
      ],
      "source": [
        "adversarial_attack(2, 2, 2000)"
      ]
    },
    {
      "cell_type": "code",
      "execution_count": 37,
      "metadata": {
        "colab": {
          "base_uri": "https://localhost:8080/",
          "height": 121,
          "referenced_widgets": [
            "8a629c47072d49839a5f55a21e3726a1",
            "de439939cc7b4d8281e1c17eadb9cc91",
            "a00969a9b72c45298599c0b9c641745e",
            "36cdc6127e11431a9ef4749dede2599b",
            "1c2d94c3e02c40808e1908bea3f43554",
            "3307e4546e8b4d02b06bc7bbb3fdb5ce",
            "fb7d4c87065d4e289396068bcd6e8cfe",
            "cda615e10c234092a7efdf7407d20ae4",
            "dde2c8cbe0604e11a07143f861f90f8b",
            "5427d68c34d64a47a10a6a4345cd15ea",
            "ae23217da46d48a1a6a1410a88b0927e"
          ]
        },
        "id": "p5eQ4ALD2FhV",
        "outputId": "7885d443-b5a5-4a9d-80eb-9ed07c8db935"
      },
      "outputs": [
        {
          "data": {
            "application/vnd.jupyter.widget-view+json": {
              "model_id": "8a629c47072d49839a5f55a21e3726a1",
              "version_major": 2,
              "version_minor": 0
            },
            "text/plain": [
              "  0%|          | 0/157 [00:00<?, ?it/s]"
            ]
          },
          "metadata": {},
          "output_type": "display_data"
        },
        {
          "name": "stderr",
          "output_type": "stream",
          "text": [
            "<ipython-input-31-35fb6b795ec2>:15: UserWarning: To copy construct from a tensor, it is recommended to use sourceTensor.clone().detach() or sourceTensor.clone().detach().requires_grad_(True), rather than torch.tensor(sourceTensor).\n",
            "  adv_attack = torch.tensor(adv_attack, dtype=torch.float, device=device)\n"
          ]
        },
        {
          "name": "stdout",
          "output_type": "stream",
          "text": [
            "Fool rate: 89 %\n"
          ]
        }
      ],
      "source": [
        "adversarial_attack(4, 7, 50)"
      ]
    },
    {
      "cell_type": "code",
      "execution_count": 38,
      "metadata": {
        "colab": {
          "base_uri": "https://localhost:8080/",
          "height": 121,
          "referenced_widgets": [
            "2abb2a3a29ee4d7c85325d41e753235e",
            "3888ffd434f74acfae9accc8c8e7082c",
            "0ddc9d9a0fa447a989c7cfcc036245bf",
            "10b65262df01415c93b96cbe632c9093",
            "e586ee091ed041718840a768b7aa5eb5",
            "da91422d313b4f448543621633d1f445",
            "51f2f1f0c75d49fc8ec442e2021ce7b2",
            "da73c91ca408490b94a9eaf12f1f780c",
            "a0df327971044ab8a6ed451a52ff1bb2",
            "969704eeaf8e4b229bac84f8169eb3c6",
            "5b8674c85e00410c887a9ca853011904"
          ]
        },
        "id": "sayWlnED3FaM",
        "outputId": "9016bc09-6016-45d4-d4cc-01806e783bf5"
      },
      "outputs": [
        {
          "data": {
            "application/vnd.jupyter.widget-view+json": {
              "model_id": "2abb2a3a29ee4d7c85325d41e753235e",
              "version_major": 2,
              "version_minor": 0
            },
            "text/plain": [
              "  0%|          | 0/157 [00:00<?, ?it/s]"
            ]
          },
          "metadata": {},
          "output_type": "display_data"
        },
        {
          "name": "stderr",
          "output_type": "stream",
          "text": [
            "<ipython-input-31-35fb6b795ec2>:15: UserWarning: To copy construct from a tensor, it is recommended to use sourceTensor.clone().detach() or sourceTensor.clone().detach().requires_grad_(True), rather than torch.tensor(sourceTensor).\n",
            "  adv_attack = torch.tensor(adv_attack, dtype=torch.float, device=device)\n"
          ]
        },
        {
          "name": "stdout",
          "output_type": "stream",
          "text": [
            "Fool rate: 89 %\n"
          ]
        }
      ],
      "source": [
        "adversarial_attack(torch.inf, 20, 700)"
      ]
    },
    {
      "cell_type": "markdown",
      "metadata": {
        "id": "17Ipdn6u3T_n"
      },
      "source": [
        "# Problem 4 (Image restoration) (23 pts) "
      ]
    },
    {
      "cell_type": "markdown",
      "metadata": {
        "id": "15lKpTklxWzn"
      },
      "source": [
        "Image restoration is the task where we need to eliminate blurring and some random noise to get ideal image. Practically, images obtained in real life could be represented in following way:\n",
        "\n",
        "$$g = f * h + n$$\n",
        "\n",
        "where $g$ - obtained image of size $(N,N)$, $h$ - blur kernel of size $(3,3)$, $n$ - an additive zero-mean Gaussian white noise, and $f$ - ideal image (deblurred and denoised). In our work we will use gaussian blur kernel with window size 3:\n",
        "\n",
        "$$h = \\frac{1}{16}\\begin{pmatrix}1 & 2 & 1\\\\ 2 & 4 & 2\\\\ 1 & 2 & 1\\end{pmatrix}$$\n",
        "\n",
        "Here $f*h$ is a 2-d convolution of ideal image with blur kernel, which could be rewritten in matrix format:\n",
        "\n",
        "$$f * h = H \\mathrm{vec}(f)$$\n",
        "\n",
        "where $H$ - block Toeplitz with Toeplitz blocks matrix which corresponds to 2-d convolution with kernel $h$, $\\mathrm{vec}(\\cdot)$ - operation of vectorization.\n",
        "\n",
        "So, let us write the task of finding $f$ as optimization problem:\n",
        "\n",
        "$$\\min\\limits_{f,u} \\|H\\mathrm{vec}(f) - \\mathrm{vec}(g)\\|_2^2 + \\alpha_1\\|\\mathrm{vec}(f-u)\\|_2^2 + \\alpha_2\\|u\\|_{\\mathrm{TV}}$$\n",
        "where $\\|u\\|_{\\mathrm{TV}} = \\sum\\limits_{1\\leq j,k\\leq N-1}\\|\\nabla u_{j,k}\\|_2 = \\sum\\limits_{1\\leq j,k\\leq N-1}\\sqrt{(u_{j+1,k}-u_{j,k})^2 + (u_{j,k+1}-u_{j,k})^2}$ here we calculate gradients (pixel differences) along **x** and **y** image dimensions.\n",
        "\n",
        "One can notice that problem could be splitted on two:\n",
        "\n",
        "$$\\min\\limits_{u}\\min\\limits_f \\{\\|H\\mathrm{vec}(f) - \\mathrm{vec}(g)\\|_2^2 + \\alpha_1\\|\\mathrm{vec}(f-u)\\|_2^2\\} + \\alpha_2\\|u\\|_{\\mathrm{TV}}$$\n",
        "\n",
        "To find the solution we will use iterative method:\n",
        "\n",
        "$$\\begin{cases}\n",
        "f^{(i)} = \\arg\\min\\limits_f \\|H\\mathrm{vec}(f) - \\mathrm{vec}(g)\\|_2^2 + \\alpha_1\\|\\mathrm{vec}(f-u^{(i-1)})\\|_2^2 & (a)\\\\\n",
        "u^{(i)} = \\arg\\min\\limits_u \\alpha_1\\|\\mathrm{vec}(f^{(i)}-u)\\|_2^2 + \\alpha_2\\|u\\|_{\\mathrm{TV}} & (b)\n",
        "\\end{cases}$$\n",
        "\n",
        "Taking matrix derivative over the minimization functional in subproblem **(a)** we get the system:\n",
        "\n",
        "$$(H^TH + \\alpha_1I)\\mathrm{vec}(f) = H^T\\mathrm{vec}(g)+\\alpha_1\\mathrm{vec}(u^{(i-1)})$$\n",
        "\n",
        "This system can be solved by conjugate gradient method. Also, taking into account that $H$ is block Toeplitz with Toeplitz blocks (BTTB), we can make fast matrix by vector multiplication.\n",
        "\n",
        "The subproblem **(b)** could be solved by using any kind of solver of your choice.\n",
        "\n",
        "**So, your task is to:**\n",
        "\n",
        "1. Implement creation and fast matrix by vector multiplication for matrix $H$ **(6 pts)**\n",
        "2. Implement solver for subproblem **(a)** based on conjugate gradient descent using fast matrix by vector multiplication for $H$. **(8 pts)**\n",
        "3. Implement some solver for subproblem **(b)** **(3 pts)**\n",
        "4. Implement iterative solver for the total problem using solvers for subproblems **(a)** and **(b)** **(3 pts)**\n",
        "5. Blur (use defined blurring kernel) given image and add gaussian noise with zero mean and some variance (up to you). Try to restore the image, compare the result with the original one. Make a conclusion. **(3 pts)**\n"
      ]
    },
    {
      "cell_type": "code",
      "execution_count": 84,
      "metadata": {
        "id": "E5xcKgO_IFzl"
      },
      "outputs": [],
      "source": [
        "from PIL import Image, ImageOps"
      ]
    },
    {
      "cell_type": "code",
      "execution_count": 85,
      "metadata": {
        "colab": {
          "base_uri": "https://localhost:8080/"
        },
        "id": "xHG1axfvIGA-",
        "outputId": "9d9debf8-4a32-4695-93f1-33883a2b8228"
      },
      "outputs": [
        {
          "name": "stdout",
          "output_type": "stream",
          "text": [
            "--2022-12-11 16:37:23--  https://github.com/oseledets/nla2022/blob/main/hw2/lena.png?raw=true\n",
            "Resolving github.com (github.com)... 140.82.112.4\n",
            "Connecting to github.com (github.com)|140.82.112.4|:443... connected.\n",
            "HTTP request sent, awaiting response... 302 Found\n",
            "Location: https://github.com/oseledets/nla2022/raw/main/hw2/lena.png [following]\n",
            "--2022-12-11 16:37:23--  https://github.com/oseledets/nla2022/raw/main/hw2/lena.png\n",
            "Reusing existing connection to github.com:443.\n",
            "HTTP request sent, awaiting response... 302 Found\n",
            "Location: https://raw.githubusercontent.com/oseledets/nla2022/main/hw2/lena.png [following]\n",
            "--2022-12-11 16:37:23--  https://raw.githubusercontent.com/oseledets/nla2022/main/hw2/lena.png\n",
            "Resolving raw.githubusercontent.com (raw.githubusercontent.com)... 185.199.108.133, 185.199.109.133, 185.199.110.133, ...\n",
            "Connecting to raw.githubusercontent.com (raw.githubusercontent.com)|185.199.108.133|:443... connected.\n",
            "HTTP request sent, awaiting response... 200 OK\n",
            "Length: 20329 (20K) [image/png]\n",
            "Saving to: ‘/lena.png’\n",
            "\n",
            "/lena.png           100%[===================>]  19.85K  --.-KB/s    in 0.001s  \n",
            "\n",
            "2022-12-11 16:37:23 (37.9 MB/s) - ‘/lena.png’ saved [20329/20329]\n",
            "\n"
          ]
        }
      ],
      "source": [
        "!wget --no-check-certificate \\\n",
        "    \"https://github.com/oseledets/nla2022/blob/main/hw2/lena.png?raw=true\" \\\n",
        "    -O \"/lena.png\""
      ]
    },
    {
      "cell_type": "code",
      "execution_count": 86,
      "metadata": {
        "colab": {
          "base_uri": "https://localhost:8080/",
          "height": 217
        },
        "id": "3WfJP5i9IGI0",
        "outputId": "1ef6f549-4c3e-4870-8ee3-f8a7d20b6fad"
      },
      "outputs": [
        {
          "data": {
            "image/png": "[encoded data removed]",
            "text/plain": [
              "<PIL.Image.Image image mode=L size=200x200 at 0x7F3A37A34D00>"
            ]
          },
          "execution_count": 86,
          "metadata": {},
          "output_type": "execute_result"
        }
      ],
      "source": [
        "orig_image = ImageOps.grayscale(Image.open(\"/lena.png\"))\n",
        "orig_image"
      ]
    },
    {
      "cell_type": "markdown",
      "metadata": {
        "id": "vyQIUoLvKnQI"
      },
      "source": [
        "  1."
      ]
    },
    {
      "cell_type": "code",
      "execution_count": 91,
      "metadata": {
        "id": "0BeA1uV3iuju"
      },
      "outputs": [],
      "source": [
        "def get_H(h,f):\n",
        "    matrix = []\n",
        "    size = h.shape[0]\n",
        "    center = size // 2\n",
        "    for i in range(2 * f.shape[0] - 1):\n",
        "        if i < f.shape[0]:\n",
        "            if size >= center + i + 1:\n",
        "                column = h[size - center - i - 1, :center+1]\n",
        "                column = np.pad(column[::-1], (0, f.shape[0] - center - 1), mode='constant')\n",
        "                row = h[size - center - i - 1, center+1:]\n",
        "                row = np.pad(row, (0, f.shape[0] - center - 1), mode='constant')\n",
        "                col = np.concatenate((column, row[::-1]))\n",
        "                if len(matrix) == 0:\n",
        "                    matrix = col.reshape(-1,1)\n",
        "                else:\n",
        "                    matrix = np.hstack((matrix, col.reshape(-1,1)))\n",
        "            else:\n",
        "                matrix = np.hstack((matrix, np.zeros(( 2 * f.shape[0] - 1, 1))))\n",
        "        else:\n",
        "            if i  >= 2 * f.shape[0] - size + center:\n",
        "                column = h[center+ 2 * f.shape[0] - i - 1, :center+1]\n",
        "                column = np.pad(column[::-1], (0, f.shape[0] - center - 1), mode='constant')\n",
        "                row = h[center+ 2 * f.shape[0] - i - 1, center+1:]\n",
        "                row = np.pad(row, (0, f.shape[0] - center - 1), mode='constant')\n",
        "                col = np.concatenate((column, row[::-1]))\n",
        "                matrix = np.hstack((matrix, col.reshape(-1,1)))\n",
        "            else:\n",
        "                matrix = np.hstack((matrix, np.zeros(( 2 * f.shape[0] - 1, 1))))\n",
        "        \n",
        "    return matrix"
      ]
    },
    {
      "cell_type": "code",
      "execution_count": 168,
      "metadata": {
        "id": "qxb4TT33NWCG"
      },
      "outputs": [],
      "source": [
        "def matvec(t, f):\n",
        "    return np.fft.ifft2(np.fft.fft2(t) * np.fft.fft2(f, s=(2*f.shape[0]-1, 2*f.shape[0]-1))).real[:f.shape[0], :f.shape[1]]"
      ]
    },
    {
      "cell_type": "code",
      "execution_count": 169,
      "metadata": {
        "id": "szoKSRInpvD7"
      },
      "outputs": [],
      "source": [
        "h = np.array([[1,2,1],[2,4,2],[1,2,1]])\n",
        "h = h / h.sum()\n",
        "img = np.array(orig_image)"
      ]
    },
    {
      "cell_type": "code",
      "execution_count": 170,
      "metadata": {
        "colab": {
          "base_uri": "https://localhost:8080/",
          "height": 286
        },
        "id": "qMIoLRwOD84N",
        "outputId": "0687a423-4a14-48c4-d25b-0fecf2a05900"
      },
      "outputs": [
        {
          "data": {
            "text/plain": [
              "<matplotlib.image.AxesImage at 0x7f3a2b6c4bb0>"
            ]
          },
          "execution_count": 170,
          "metadata": {},
          "output_type": "execute_result"
        },
        {
          "data": {
            "image/png": "[encoded data removed]",
            "text/plain": [
              "<Figure size 432x288 with 1 Axes>"
            ]
          },
          "metadata": {
            "needs_background": "light"
          },
          "output_type": "display_data"
        }
      ],
      "source": [
        "tmp = get_H(h, img)\n",
        "bl = matvec(tmp, img)\n",
        "plt.imshow(bl, cmap=\"gray\")"
      ]
    },
    {
      "cell_type": "markdown",
      "metadata": {
        "id": "rTsZLkPfswM6"
      },
      "source": [
        "  2."
      ]
    },
    {
      "cell_type": "code",
      "execution_count": 221,
      "metadata": {
        "id": "vKNRgjkOIVJw"
      },
      "outputs": [],
      "source": [
        "def Ax(h, f, a):\n",
        "    return matvec(h, matvec(h,f)) + a * f"
      ]
    },
    {
      "cell_type": "code",
      "execution_count": 222,
      "metadata": {
        "id": "WbF2l6wNLzGp"
      },
      "outputs": [],
      "source": [
        "def b(h, g, a, u):\n",
        "    return matvec(h, g) + a * u"
      ]
    },
    {
      "cell_type": "code",
      "execution_count": 223,
      "metadata": {
        "id": "EodQGCl0svXR"
      },
      "outputs": [],
      "source": [
        "def solver1(h, a, g, u):\n",
        "    f = np.random.uniform(0,255, g.shape)\n",
        "    r = b(h, g, a, u) - Ax(h, f, a)\n",
        "    p = r\n",
        "    while np.linalg.norm(b(h, g, a, u) - Ax(h, f, a)) > 1:\n",
        "        r_old_dot = (r * r).sum()\n",
        "        Ap = Ax(h, p, a)\n",
        "        alpha = r_old_dot / (Ap * p).sum()\n",
        "        f = f + alpha * p\n",
        "        r_new = r - alpha * Ap\n",
        "        beta = (r_new * r_new).sum() / r_old_dot\n",
        "        r = r_new\n",
        "        p = r + beta * p\n",
        "    return f"
      ]
    },
    {
      "cell_type": "markdown",
      "metadata": {
        "id": "4kIyFpt_twKA"
      },
      "source": [
        "3."
      ]
    },
    {
      "cell_type": "code",
      "execution_count": 224,
      "metadata": {
        "id": "YXjPOdCEtvYe"
      },
      "outputs": [],
      "source": [
        "import cvxpy as cp"
      ]
    },
    {
      "cell_type": "code",
      "execution_count": 225,
      "metadata": {
        "id": "MnhoYr7ht40V"
      },
      "outputs": [],
      "source": [
        "def solver2(f, a1, a2):\n",
        "    u = cp.Variable(f.shape)\n",
        "    minimize = cp.Minimize(a1*cp.sum_squares(f-u) + a2*cp.tv(u))  \n",
        "    cp.Problem(minimize).solve(solver=cp.SCS, max_iters=1500)\n",
        "    return u.value"
      ]
    },
    {
      "cell_type": "markdown",
      "metadata": {
        "id": "iw5mVmE18JN7"
      },
      "source": [
        "4."
      ]
    },
    {
      "cell_type": "code",
      "execution_count": 226,
      "metadata": {
        "id": "vzA4f6SZ8Jd5"
      },
      "outputs": [],
      "source": [
        "def main_solver(g, h, a1, a2):\n",
        "      u = np.random.uniform(-100, 100, g.shape)\n",
        "      for i in range(15):\n",
        "        f = solver1(h, a1, g, u)\n",
        "        u = solver2(f, a1, a2)\n",
        "      f = solver1(h, a1, g, u)\n",
        "      return f"
      ]
    },
    {
      "cell_type": "markdown",
      "metadata": {
        "id": "d97JvJ2SG6na"
      },
      "source": [
        "5."
      ]
    },
    {
      "cell_type": "code",
      "execution_count": 227,
      "metadata": {
        "colab": {
          "base_uri": "https://localhost:8080/",
          "height": 269
        },
        "id": "ANopzClOGmvw",
        "outputId": "1b8fe494-fd64-4dc5-82a3-0b8da5c741b7"
      },
      "outputs": [
        {
          "data": {
            "image/png": "[encoded data removed]",
            "text/plain": [
              "<Figure size 432x288 with 1 Axes>"
            ]
          },
          "metadata": {
            "needs_background": "light"
          },
          "output_type": "display_data"
        }
      ],
      "source": [
        "t = get_H(h, img)\n",
        "distored = matvec(t, img)\n",
        "distored += np.random.normal(0,5, distored.shape)\n",
        "plt.imshow(distored, cmap='gray')\n",
        "plt.show()"
      ]
    },
    {
      "cell_type": "code",
      "execution_count": 230,
      "metadata": {
        "colab": {
          "base_uri": "https://localhost:8080/"
        },
        "id": "noI1b_I5Ww-c",
        "outputId": "59d9de83-f3d8-4c91-91d8-cc065881b0be"
      },
      "outputs": [
        {
          "name": "stderr",
          "output_type": "stream",
          "text": [
            "/usr/local/lib/python3.8/dist-packages/cvxpy/problems/problem.py:1337: UserWarning: Solution may be inaccurate. Try another solver, adjusting the solver settings, or solve with verbose=True for more information.\n",
            "  warnings.warn(\n"
          ]
        }
      ],
      "source": [
        "res2 = main_solver(distored, t, 0.2, 0.1)"
      ]
    },
    {
      "cell_type": "code",
      "execution_count": 231,
      "metadata": {
        "colab": {
          "base_uri": "https://localhost:8080/",
          "height": 277
        },
        "id": "mGWsRp_tF9vq",
        "outputId": "5b50c4cc-35bf-4b73-ee06-89cbaa51fcb2"
      },
      "outputs": [
        {
          "data": {
            "image/png": "[encoded data removed]",
            "text/plain": [
              "<Figure size 1080x1080 with 3 Axes>"
            ]
          },
          "metadata": {
            "needs_background": "light"
          },
          "output_type": "display_data"
        }
      ],
      "source": [
        "fig = plt.figure(figsize=(15, 15))\n",
        "fig.add_subplot(1, 3, 1)\n",
        "plt.imshow(img,cmap='gray')\n",
        "plt.axis('off')\n",
        "fig.add_subplot(1, 3, 2)\n",
        "plt.imshow(distored, cmap='gray')\n",
        "plt.axis('off')\n",
        "fig.add_subplot(1, 3, 3)\n",
        "plt.imshow(res2, cmap='gray')\n",
        "plt.axis('off')\n",
        "plt.show()"
      ]
    },
    {
      "cell_type": "markdown",
      "metadata": {
        "id": "TUB2nZNsY5xY"
      },
      "source": [
        "As we can see, restored image has less noise and it less blurred, but of course not so good as original. So algorithm of minimization of loss, mentioned above, really works, we just need to find adequate a1 and a2 coefficients and choose appropriate solver for b, so it will converge. And more iteration we take, more sharpened become restored image"
      ]
    },
    {
      "cell_type": "code",
      "execution_count": null,
      "metadata": {
        "id": "tC6aioD_aXLB"
      },
      "outputs": [],
      "source": []
    }
  ],
  "metadata": {
    "colab": {
      "collapsed_sections": [
        "yF_T3dA0mt3T",
        "jo7DXTGlHCtb",
        "gjOyTA_dm526"
      ],
      "provenance": []
    },
    "kernelspec": {
      "display_name": "Python 3 (ipykernel)",
      "language": "python",
      "name": "python3"
    },
    "language_info": {
      "codemirror_mode": {
        "name": "ipython",
        "version": 3
      },
      "file_extension": ".py",
      "mimetype": "text/x-python",
      "name": "python",
      "nbconvert_exporter": "python",
      "pygments_lexer": "ipython3",
      "version": "3.10.6"
    },
    "widgets": {
      "application/vnd.jupyter.widget-state+json": {
        "01476ee5cdbb49b09f1e359fd7c864dd": {
          "model_module": "@jupyter-widgets/controls",
          "model_module_version": "1.5.0",
          "model_name": "ProgressStyleModel",
          "state": {
            "_model_module": "@jupyter-widgets/controls",
            "_model_module_version": "1.5.0",
            "_model_name": "ProgressStyleModel",
            "_view_count": null,
            "_view_module": "@jupyter-widgets/base",
            "_view_module_version": "1.2.0",
            "_view_name": "StyleView",
            "bar_color": null,
            "description_width": ""
          }
        },
        "0a62efec83f84305a511bf55c9959fa1": {
          "model_module": "@jupyter-widgets/base",
          "model_module_version": "1.2.0",
          "model_name": "LayoutModel",
          "state": {
            "_model_module": "@jupyter-widgets/base",
            "_model_module_version": "1.2.0",
            "_model_name": "LayoutModel",
            "_view_count": null,
            "_view_module": "@jupyter-widgets/base",
            "_view_module_version": "1.2.0",
            "_view_name": "LayoutView",
            "align_content": null,
            "align_items": null,
            "align_self": null,
            "border": null,
            "bottom": null,
            "display": null,
            "flex": null,
            "flex_flow": null,
            "grid_area": null,
            "grid_auto_columns": null,
            "grid_auto_flow": null,
            "grid_auto_rows": null,
            "grid_column": null,
            "grid_gap": null,
            "grid_row": null,
            "grid_template_areas": null,
            "grid_template_columns": null,
            "grid_template_rows": null,
            "height": null,
            "justify_content": null,
            "justify_items": null,
            "left": null,
            "margin": null,
            "max_height": null,
            "max_width": null,
            "min_height": null,
            "min_width": null,
            "object_fit": null,
            "object_position": null,
            "order": null,
            "overflow": null,
            "overflow_x": null,
            "overflow_y": null,
            "padding": null,
            "right": null,
            "top": null,
            "visibility": null,
            "width": null
          }
        },
        "0ddc9d9a0fa447a989c7cfcc036245bf": {
          "model_module": "@jupyter-widgets/controls",
          "model_module_version": "1.5.0",
          "model_name": "FloatProgressModel",
          "state": {
            "_dom_classes": [],
            "_model_module": "@jupyter-widgets/controls",
            "_model_module_version": "1.5.0",
            "_model_name": "FloatProgressModel",
            "_view_count": null,
            "_view_module": "@jupyter-widgets/controls",
            "_view_module_version": "1.5.0",
            "_view_name": "ProgressView",
            "bar_style": "success",
            "description": "",
            "description_tooltip": null,
            "layout": "IPY_MODEL_da73c91ca408490b94a9eaf12f1f780c",
            "max": 157,
            "min": 0,
            "orientation": "horizontal",
            "style": "IPY_MODEL_a0df327971044ab8a6ed451a52ff1bb2",
            "value": 157
          }
        },
        "100a6f21bdd34140943b5c8457f2476d": {
          "model_module": "@jupyter-widgets/controls",
          "model_module_version": "1.5.0",
          "model_name": "HBoxModel",
          "state": {
            "_dom_classes": [],
            "_model_module": "@jupyter-widgets/controls",
            "_model_module_version": "1.5.0",
            "_model_name": "HBoxModel",
            "_view_count": null,
            "_view_module": "@jupyter-widgets/controls",
            "_view_module_version": "1.5.0",
            "_view_name": "HBoxView",
            "box_style": "",
            "children": [
              "IPY_MODEL_b536252d0ee94823ba2fcb1962f09328",
              "IPY_MODEL_5ec0c3683c744634bc95f0fa1a37d20c",
              "IPY_MODEL_5c73dd26df68469092b381f8dee3fff6"
            ],
            "layout": "IPY_MODEL_68e12b031ab84dc7be08afd16f5eb81b"
          }
        },
        "10b65262df01415c93b96cbe632c9093": {
          "model_module": "@jupyter-widgets/controls",
          "model_module_version": "1.5.0",
          "model_name": "HTMLModel",
          "state": {
            "_dom_classes": [],
            "_model_module": "@jupyter-widgets/controls",
            "_model_module_version": "1.5.0",
            "_model_name": "HTMLModel",
            "_view_count": null,
            "_view_module": "@jupyter-widgets/controls",
            "_view_module_version": "1.5.0",
            "_view_name": "HTMLView",
            "description": "",
            "description_tooltip": null,
            "layout": "IPY_MODEL_969704eeaf8e4b229bac84f8169eb3c6",
            "placeholder": "​",
            "style": "IPY_MODEL_5b8674c85e00410c887a9ca853011904",
            "value": " 157/157 [00:57&lt;00:00,  2.84it/s]"
          }
        },
        "11f255222fb749b19c01a364219a4876": {
          "model_module": "@jupyter-widgets/controls",
          "model_module_version": "1.5.0",
          "model_name": "HBoxModel",
          "state": {
            "_dom_classes": [],
            "_model_module": "@jupyter-widgets/controls",
            "_model_module_version": "1.5.0",
            "_model_name": "HBoxModel",
            "_view_count": null,
            "_view_module": "@jupyter-widgets/controls",
            "_view_module_version": "1.5.0",
            "_view_name": "HBoxView",
            "box_style": "",
            "children": [
              "IPY_MODEL_8878acef08764f1595498251641abd28",
              "IPY_MODEL_17395f2c8f9e4948abdb1afed9aa78cd",
              "IPY_MODEL_e5e8e51f2a6b44f392e13a49b7ec73ed"
            ],
            "layout": "IPY_MODEL_5f5d9198151643ee8bc651585b3d5595"
          }
        },
        "17395f2c8f9e4948abdb1afed9aa78cd": {
          "model_module": "@jupyter-widgets/controls",
          "model_module_version": "1.5.0",
          "model_name": "FloatProgressModel",
          "state": {
            "_dom_classes": [],
            "_model_module": "@jupyter-widgets/controls",
            "_model_module_version": "1.5.0",
            "_model_name": "FloatProgressModel",
            "_view_count": null,
            "_view_module": "@jupyter-widgets/controls",
            "_view_module_version": "1.5.0",
            "_view_name": "ProgressView",
            "bar_style": "success",
            "description": "",
            "description_tooltip": null,
            "layout": "IPY_MODEL_f5009651b2d8462680b2b8f3c34642d9",
            "max": 157,
            "min": 0,
            "orientation": "horizontal",
            "style": "IPY_MODEL_d5043ad5bd844c939405fbf927f409f9",
            "value": 157
          }
        },
        "1c2d94c3e02c40808e1908bea3f43554": {
          "model_module": "@jupyter-widgets/base",
          "model_module_version": "1.2.0",
          "model_name": "LayoutModel",
          "state": {
            "_model_module": "@jupyter-widgets/base",
            "_model_module_version": "1.2.0",
            "_model_name": "LayoutModel",
            "_view_count": null,
            "_view_module": "@jupyter-widgets/base",
            "_view_module_version": "1.2.0",
            "_view_name": "LayoutView",
            "align_content": null,
            "align_items": null,
            "align_self": null,
            "border": null,
            "bottom": null,
            "display": null,
            "flex": null,
            "flex_flow": null,
            "grid_area": null,
            "grid_auto_columns": null,
            "grid_auto_flow": null,
            "grid_auto_rows": null,
            "grid_column": null,
            "grid_gap": null,
            "grid_row": null,
            "grid_template_areas": null,
            "grid_template_columns": null,
            "grid_template_rows": null,
            "height": null,
            "justify_content": null,
            "justify_items": null,
            "left": null,
            "margin": null,
            "max_height": null,
            "max_width": null,
            "min_height": null,
            "min_width": null,
            "object_fit": null,
            "object_position": null,
            "order": null,
            "overflow": null,
            "overflow_x": null,
            "overflow_y": null,
            "padding": null,
            "right": null,
            "top": null,
            "visibility": null,
            "width": null
          }
        },
        "228a1df9eb254a83aef54824861b979d": {
          "model_module": "@jupyter-widgets/controls",
          "model_module_version": "1.5.0",
          "model_name": "DescriptionStyleModel",
          "state": {
            "_model_module": "@jupyter-widgets/controls",
            "_model_module_version": "1.5.0",
            "_model_name": "DescriptionStyleModel",
            "_view_count": null,
            "_view_module": "@jupyter-widgets/base",
            "_view_module_version": "1.2.0",
            "_view_name": "StyleView",
            "description_width": ""
          }
        },
        "2317a0dac00e45fd970bb1fa41300399": {
          "model_module": "@jupyter-widgets/controls",
          "model_module_version": "1.5.0",
          "model_name": "HBoxModel",
          "state": {
            "_dom_classes": [],
            "_model_module": "@jupyter-widgets/controls",
            "_model_module_version": "1.5.0",
            "_model_name": "HBoxModel",
            "_view_count": null,
            "_view_module": "@jupyter-widgets/controls",
            "_view_module_version": "1.5.0",
            "_view_name": "HBoxView",
            "box_style": "",
            "children": [
              "IPY_MODEL_30549dc29426488381207bc50394d7ec",
              "IPY_MODEL_292c3845d4f74b879cd7183d2d1b534b",
              "IPY_MODEL_85ae0e7262754f27ad1d989208e5588f"
            ],
            "layout": "IPY_MODEL_ce4d1b2a07844af7a064acad5bb48d18"
          }
        },
        "24482638f555450da0b457e1df2da988": {
          "model_module": "@jupyter-widgets/controls",
          "model_module_version": "1.5.0",
          "model_name": "HTMLModel",
          "state": {
            "_dom_classes": [],
            "_model_module": "@jupyter-widgets/controls",
            "_model_module_version": "1.5.0",
            "_model_name": "HTMLModel",
            "_view_count": null,
            "_view_module": "@jupyter-widgets/controls",
            "_view_module_version": "1.5.0",
            "_view_name": "HTMLView",
            "description": "",
            "description_tooltip": null,
            "layout": "IPY_MODEL_5146123519af4d9bb767f8be39785a01",
            "placeholder": "​",
            "style": "IPY_MODEL_df42d242f063470db4727ae8b26b3796",
            "value": " 157/157 [01:12&lt;00:00,  2.59it/s]"
          }
        },
        "2572e440fbd64072b431853571fa9275": {
          "model_module": "@jupyter-widgets/controls",
          "model_module_version": "1.5.0",
          "model_name": "DescriptionStyleModel",
          "state": {
            "_model_module": "@jupyter-widgets/controls",
            "_model_module_version": "1.5.0",
            "_model_name": "DescriptionStyleModel",
            "_view_count": null,
            "_view_module": "@jupyter-widgets/base",
            "_view_module_version": "1.2.0",
            "_view_name": "StyleView",
            "description_width": ""
          }
        },
        "292c3845d4f74b879cd7183d2d1b534b": {
          "model_module": "@jupyter-widgets/controls",
          "model_module_version": "1.5.0",
          "model_name": "FloatProgressModel",
          "state": {
            "_dom_classes": [],
            "_model_module": "@jupyter-widgets/controls",
            "_model_module_version": "1.5.0",
            "_model_name": "FloatProgressModel",
            "_view_count": null,
            "_view_module": "@jupyter-widgets/controls",
            "_view_module_version": "1.5.0",
            "_view_name": "ProgressView",
            "bar_style": "success",
            "description": "",
            "description_tooltip": null,
            "layout": "IPY_MODEL_cb2f2b3ed7074669a6b3b25e4bb153e4",
            "max": 157,
            "min": 0,
            "orientation": "horizontal",
            "style": "IPY_MODEL_2e5e4474d9f543d3bd54d3bd3aa9d17c",
            "value": 157
          }
        },
        "2abb2a3a29ee4d7c85325d41e753235e": {
          "model_module": "@jupyter-widgets/controls",
          "model_module_version": "1.5.0",
          "model_name": "HBoxModel",
          "state": {
            "_dom_classes": [],
            "_model_module": "@jupyter-widgets/controls",
            "_model_module_version": "1.5.0",
            "_model_name": "HBoxModel",
            "_view_count": null,
            "_view_module": "@jupyter-widgets/controls",
            "_view_module_version": "1.5.0",
            "_view_name": "HBoxView",
            "box_style": "",
            "children": [
              "IPY_MODEL_3888ffd434f74acfae9accc8c8e7082c",
              "IPY_MODEL_0ddc9d9a0fa447a989c7cfcc036245bf",
              "IPY_MODEL_10b65262df01415c93b96cbe632c9093"
            ],
            "layout": "IPY_MODEL_e586ee091ed041718840a768b7aa5eb5"
          }
        },
        "2da5050ec8ae4a6b93c465e8bb6eea5c": {
          "model_module": "@jupyter-widgets/base",
          "model_module_version": "1.2.0",
          "model_name": "LayoutModel",
          "state": {
            "_model_module": "@jupyter-widgets/base",
            "_model_module_version": "1.2.0",
            "_model_name": "LayoutModel",
            "_view_count": null,
            "_view_module": "@jupyter-widgets/base",
            "_view_module_version": "1.2.0",
            "_view_name": "LayoutView",
            "align_content": null,
            "align_items": null,
            "align_self": null,
            "border": null,
            "bottom": null,
            "display": null,
            "flex": null,
            "flex_flow": null,
            "grid_area": null,
            "grid_auto_columns": null,
            "grid_auto_flow": null,
            "grid_auto_rows": null,
            "grid_column": null,
            "grid_gap": null,
            "grid_row": null,
            "grid_template_areas": null,
            "grid_template_columns": null,
            "grid_template_rows": null,
            "height": null,
            "justify_content": null,
            "justify_items": null,
            "left": null,
            "margin": null,
            "max_height": null,
            "max_width": null,
            "min_height": null,
            "min_width": null,
            "object_fit": null,
            "object_position": null,
            "order": null,
            "overflow": null,
            "overflow_x": null,
            "overflow_y": null,
            "padding": null,
            "right": null,
            "top": null,
            "visibility": null,
            "width": null
          }
        },
        "2e5e4474d9f543d3bd54d3bd3aa9d17c": {
          "model_module": "@jupyter-widgets/controls",
          "model_module_version": "1.5.0",
          "model_name": "ProgressStyleModel",
          "state": {
            "_model_module": "@jupyter-widgets/controls",
            "_model_module_version": "1.5.0",
            "_model_name": "ProgressStyleModel",
            "_view_count": null,
            "_view_module": "@jupyter-widgets/base",
            "_view_module_version": "1.2.0",
            "_view_name": "StyleView",
            "bar_color": null,
            "description_width": ""
          }
        },
        "30549dc29426488381207bc50394d7ec": {
          "model_module": "@jupyter-widgets/controls",
          "model_module_version": "1.5.0",
          "model_name": "HTMLModel",
          "state": {
            "_dom_classes": [],
            "_model_module": "@jupyter-widgets/controls",
            "_model_module_version": "1.5.0",
            "_model_name": "HTMLModel",
            "_view_count": null,
            "_view_module": "@jupyter-widgets/controls",
            "_view_module_version": "1.5.0",
            "_view_name": "HTMLView",
            "description": "",
            "description_tooltip": null,
            "layout": "IPY_MODEL_871e13ece27e40d6a68e173860cc7b99",
            "placeholder": "​",
            "style": "IPY_MODEL_62b343fa6330436e9fa29f17155fa9b7",
            "value": "100%"
          }
        },
        "3307e4546e8b4d02b06bc7bbb3fdb5ce": {
          "model_module": "@jupyter-widgets/base",
          "model_module_version": "1.2.0",
          "model_name": "LayoutModel",
          "state": {
            "_model_module": "@jupyter-widgets/base",
            "_model_module_version": "1.2.0",
            "_model_name": "LayoutModel",
            "_view_count": null,
            "_view_module": "@jupyter-widgets/base",
            "_view_module_version": "1.2.0",
            "_view_name": "LayoutView",
            "align_content": null,
            "align_items": null,
            "align_self": null,
            "border": null,
            "bottom": null,
            "display": null,
            "flex": null,
            "flex_flow": null,
            "grid_area": null,
            "grid_auto_columns": null,
            "grid_auto_flow": null,
            "grid_auto_rows": null,
            "grid_column": null,
            "grid_gap": null,
            "grid_row": null,
            "grid_template_areas": null,
            "grid_template_columns": null,
            "grid_template_rows": null,
            "height": null,
            "justify_content": null,
            "justify_items": null,
            "left": null,
            "margin": null,
            "max_height": null,
            "max_width": null,
            "min_height": null,
            "min_width": null,
            "object_fit": null,
            "object_position": null,
            "order": null,
            "overflow": null,
            "overflow_x": null,
            "overflow_y": null,
            "padding": null,
            "right": null,
            "top": null,
            "visibility": null,
            "width": null
          }
        },
        "36cdc6127e11431a9ef4749dede2599b": {
          "model_module": "@jupyter-widgets/controls",
          "model_module_version": "1.5.0",
          "model_name": "HTMLModel",
          "state": {
            "_dom_classes": [],
            "_model_module": "@jupyter-widgets/controls",
            "_model_module_version": "1.5.0",
            "_model_name": "HTMLModel",
            "_view_count": null,
            "_view_module": "@jupyter-widgets/controls",
            "_view_module_version": "1.5.0",
            "_view_name": "HTMLView",
            "description": "",
            "description_tooltip": null,
            "layout": "IPY_MODEL_5427d68c34d64a47a10a6a4345cd15ea",
            "placeholder": "​",
            "style": "IPY_MODEL_ae23217da46d48a1a6a1410a88b0927e",
            "value": " 157/157 [01:02&lt;00:00,  3.41it/s]"
          }
        },
        "3888ffd434f74acfae9accc8c8e7082c": {
          "model_module": "@jupyter-widgets/controls",
          "model_module_version": "1.5.0",
          "model_name": "HTMLModel",
          "state": {
            "_dom_classes": [],
            "_model_module": "@jupyter-widgets/controls",
            "_model_module_version": "1.5.0",
            "_model_name": "HTMLModel",
            "_view_count": null,
            "_view_module": "@jupyter-widgets/controls",
            "_view_module_version": "1.5.0",
            "_view_name": "HTMLView",
            "description": "",
            "description_tooltip": null,
            "layout": "IPY_MODEL_da91422d313b4f448543621633d1f445",
            "placeholder": "​",
            "style": "IPY_MODEL_51f2f1f0c75d49fc8ec442e2021ce7b2",
            "value": "100%"
          }
        },
        "45293bb73041470eb91508c74d577229": {
          "model_module": "@jupyter-widgets/base",
          "model_module_version": "1.2.0",
          "model_name": "LayoutModel",
          "state": {
            "_model_module": "@jupyter-widgets/base",
            "_model_module_version": "1.2.0",
            "_model_name": "LayoutModel",
            "_view_count": null,
            "_view_module": "@jupyter-widgets/base",
            "_view_module_version": "1.2.0",
            "_view_name": "LayoutView",
            "align_content": null,
            "align_items": null,
            "align_self": null,
            "border": null,
            "bottom": null,
            "display": null,
            "flex": null,
            "flex_flow": null,
            "grid_area": null,
            "grid_auto_columns": null,
            "grid_auto_flow": null,
            "grid_auto_rows": null,
            "grid_column": null,
            "grid_gap": null,
            "grid_row": null,
            "grid_template_areas": null,
            "grid_template_columns": null,
            "grid_template_rows": null,
            "height": null,
            "justify_content": null,
            "justify_items": null,
            "left": null,
            "margin": null,
            "max_height": null,
            "max_width": null,
            "min_height": null,
            "min_width": null,
            "object_fit": null,
            "object_position": null,
            "order": null,
            "overflow": null,
            "overflow_x": null,
            "overflow_y": null,
            "padding": null,
            "right": null,
            "top": null,
            "visibility": null,
            "width": null
          }
        },
        "495b8a6d09c54026a3dd11dd22c5e6fc": {
          "model_module": "@jupyter-widgets/controls",
          "model_module_version": "1.5.0",
          "model_name": "HBoxModel",
          "state": {
            "_dom_classes": [],
            "_model_module": "@jupyter-widgets/controls",
            "_model_module_version": "1.5.0",
            "_model_name": "HBoxModel",
            "_view_count": null,
            "_view_module": "@jupyter-widgets/controls",
            "_view_module_version": "1.5.0",
            "_view_name": "HBoxView",
            "box_style": "",
            "children": [
              "IPY_MODEL_a67815194cd140e99ff371e21b917204",
              "IPY_MODEL_a323fe681c084227bb56f22a0bed4908",
              "IPY_MODEL_24482638f555450da0b457e1df2da988"
            ],
            "layout": "IPY_MODEL_7278ece17e904638a87832ef521efe6f"
          }
        },
        "5146123519af4d9bb767f8be39785a01": {
          "model_module": "@jupyter-widgets/base",
          "model_module_version": "1.2.0",
          "model_name": "LayoutModel",
          "state": {
            "_model_module": "@jupyter-widgets/base",
            "_model_module_version": "1.2.0",
            "_model_name": "LayoutModel",
            "_view_count": null,
            "_view_module": "@jupyter-widgets/base",
            "_view_module_version": "1.2.0",
            "_view_name": "LayoutView",
            "align_content": null,
            "align_items": null,
            "align_self": null,
            "border": null,
            "bottom": null,
            "display": null,
            "flex": null,
            "flex_flow": null,
            "grid_area": null,
            "grid_auto_columns": null,
            "grid_auto_flow": null,
            "grid_auto_rows": null,
            "grid_column": null,
            "grid_gap": null,
            "grid_row": null,
            "grid_template_areas": null,
            "grid_template_columns": null,
            "grid_template_rows": null,
            "height": null,
            "justify_content": null,
            "justify_items": null,
            "left": null,
            "margin": null,
            "max_height": null,
            "max_width": null,
            "min_height": null,
            "min_width": null,
            "object_fit": null,
            "object_position": null,
            "order": null,
            "overflow": null,
            "overflow_x": null,
            "overflow_y": null,
            "padding": null,
            "right": null,
            "top": null,
            "visibility": null,
            "width": null
          }
        },
        "51f2f1f0c75d49fc8ec442e2021ce7b2": {
          "model_module": "@jupyter-widgets/controls",
          "model_module_version": "1.5.0",
          "model_name": "DescriptionStyleModel",
          "state": {
            "_model_module": "@jupyter-widgets/controls",
            "_model_module_version": "1.5.0",
            "_model_name": "DescriptionStyleModel",
            "_view_count": null,
            "_view_module": "@jupyter-widgets/base",
            "_view_module_version": "1.2.0",
            "_view_name": "StyleView",
            "description_width": ""
          }
        },
        "5427d68c34d64a47a10a6a4345cd15ea": {
          "model_module": "@jupyter-widgets/base",
          "model_module_version": "1.2.0",
          "model_name": "LayoutModel",
          "state": {
            "_model_module": "@jupyter-widgets/base",
            "_model_module_version": "1.2.0",
            "_model_name": "LayoutModel",
            "_view_count": null,
            "_view_module": "@jupyter-widgets/base",
            "_view_module_version": "1.2.0",
            "_view_name": "LayoutView",
            "align_content": null,
            "align_items": null,
            "align_self": null,
            "border": null,
            "bottom": null,
            "display": null,
            "flex": null,
            "flex_flow": null,
            "grid_area": null,
            "grid_auto_columns": null,
            "grid_auto_flow": null,
            "grid_auto_rows": null,
            "grid_column": null,
            "grid_gap": null,
            "grid_row": null,
            "grid_template_areas": null,
            "grid_template_columns": null,
            "grid_template_rows": null,
            "height": null,
            "justify_content": null,
            "justify_items": null,
            "left": null,
            "margin": null,
            "max_height": null,
            "max_width": null,
            "min_height": null,
            "min_width": null,
            "object_fit": null,
            "object_position": null,
            "order": null,
            "overflow": null,
            "overflow_x": null,
            "overflow_y": null,
            "padding": null,
            "right": null,
            "top": null,
            "visibility": null,
            "width": null
          }
        },
        "59b97f27c7b4403fb9e75598637fcb52": {
          "model_module": "@jupyter-widgets/controls",
          "model_module_version": "1.5.0",
          "model_name": "DescriptionStyleModel",
          "state": {
            "_model_module": "@jupyter-widgets/controls",
            "_model_module_version": "1.5.0",
            "_model_name": "DescriptionStyleModel",
            "_view_count": null,
            "_view_module": "@jupyter-widgets/base",
            "_view_module_version": "1.2.0",
            "_view_name": "StyleView",
            "description_width": ""
          }
        },
        "5b8674c85e00410c887a9ca853011904": {
          "model_module": "@jupyter-widgets/controls",
          "model_module_version": "1.5.0",
          "model_name": "DescriptionStyleModel",
          "state": {
            "_model_module": "@jupyter-widgets/controls",
            "_model_module_version": "1.5.0",
            "_model_name": "DescriptionStyleModel",
            "_view_count": null,
            "_view_module": "@jupyter-widgets/base",
            "_view_module_version": "1.2.0",
            "_view_name": "StyleView",
            "description_width": ""
          }
        },
        "5c73dd26df68469092b381f8dee3fff6": {
          "model_module": "@jupyter-widgets/controls",
          "model_module_version": "1.5.0",
          "model_name": "HTMLModel",
          "state": {
            "_dom_classes": [],
            "_model_module": "@jupyter-widgets/controls",
            "_model_module_version": "1.5.0",
            "_model_name": "HTMLModel",
            "_view_count": null,
            "_view_module": "@jupyter-widgets/controls",
            "_view_module_version": "1.5.0",
            "_view_name": "HTMLView",
            "description": "",
            "description_tooltip": null,
            "layout": "IPY_MODEL_faa8dfd626c14cbdb3d5562213ea4dd1",
            "placeholder": "​",
            "style": "IPY_MODEL_8da736b4d3b04cbe80468be1dc5d1edf",
            "value": " 157/157 [01:05&lt;00:00,  3.34it/s]"
          }
        },
        "5ec0c3683c744634bc95f0fa1a37d20c": {
          "model_module": "@jupyter-widgets/controls",
          "model_module_version": "1.5.0",
          "model_name": "FloatProgressModel",
          "state": {
            "_dom_classes": [],
            "_model_module": "@jupyter-widgets/controls",
            "_model_module_version": "1.5.0",
            "_model_name": "FloatProgressModel",
            "_view_count": null,
            "_view_module": "@jupyter-widgets/controls",
            "_view_module_version": "1.5.0",
            "_view_name": "ProgressView",
            "bar_style": "success",
            "description": "",
            "description_tooltip": null,
            "layout": "IPY_MODEL_72c2207207e44490926a3f40cb5a19d6",
            "max": 157,
            "min": 0,
            "orientation": "horizontal",
            "style": "IPY_MODEL_b398cf5462324549947660d3a7909d2b",
            "value": 157
          }
        },
        "5f5d9198151643ee8bc651585b3d5595": {
          "model_module": "@jupyter-widgets/base",
          "model_module_version": "1.2.0",
          "model_name": "LayoutModel",
          "state": {
            "_model_module": "@jupyter-widgets/base",
            "_model_module_version": "1.2.0",
            "_model_name": "LayoutModel",
            "_view_count": null,
            "_view_module": "@jupyter-widgets/base",
            "_view_module_version": "1.2.0",
            "_view_name": "LayoutView",
            "align_content": null,
            "align_items": null,
            "align_self": null,
            "border": null,
            "bottom": null,
            "display": null,
            "flex": null,
            "flex_flow": null,
            "grid_area": null,
            "grid_auto_columns": null,
            "grid_auto_flow": null,
            "grid_auto_rows": null,
            "grid_column": null,
            "grid_gap": null,
            "grid_row": null,
            "grid_template_areas": null,
            "grid_template_columns": null,
            "grid_template_rows": null,
            "height": null,
            "justify_content": null,
            "justify_items": null,
            "left": null,
            "margin": null,
            "max_height": null,
            "max_width": null,
            "min_height": null,
            "min_width": null,
            "object_fit": null,
            "object_position": null,
            "order": null,
            "overflow": null,
            "overflow_x": null,
            "overflow_y": null,
            "padding": null,
            "right": null,
            "top": null,
            "visibility": null,
            "width": null
          }
        },
        "62b343fa6330436e9fa29f17155fa9b7": {
          "model_module": "@jupyter-widgets/controls",
          "model_module_version": "1.5.0",
          "model_name": "DescriptionStyleModel",
          "state": {
            "_model_module": "@jupyter-widgets/controls",
            "_model_module_version": "1.5.0",
            "_model_name": "DescriptionStyleModel",
            "_view_count": null,
            "_view_module": "@jupyter-widgets/base",
            "_view_module_version": "1.2.0",
            "_view_name": "StyleView",
            "description_width": ""
          }
        },
        "68e12b031ab84dc7be08afd16f5eb81b": {
          "model_module": "@jupyter-widgets/base",
          "model_module_version": "1.2.0",
          "model_name": "LayoutModel",
          "state": {
            "_model_module": "@jupyter-widgets/base",
            "_model_module_version": "1.2.0",
            "_model_name": "LayoutModel",
            "_view_count": null,
            "_view_module": "@jupyter-widgets/base",
            "_view_module_version": "1.2.0",
            "_view_name": "LayoutView",
            "align_content": null,
            "align_items": null,
            "align_self": null,
            "border": null,
            "bottom": null,
            "display": null,
            "flex": null,
            "flex_flow": null,
            "grid_area": null,
            "grid_auto_columns": null,
            "grid_auto_flow": null,
            "grid_auto_rows": null,
            "grid_column": null,
            "grid_gap": null,
            "grid_row": null,
            "grid_template_areas": null,
            "grid_template_columns": null,
            "grid_template_rows": null,
            "height": null,
            "justify_content": null,
            "justify_items": null,
            "left": null,
            "margin": null,
            "max_height": null,
            "max_width": null,
            "min_height": null,
            "min_width": null,
            "object_fit": null,
            "object_position": null,
            "order": null,
            "overflow": null,
            "overflow_x": null,
            "overflow_y": null,
            "padding": null,
            "right": null,
            "top": null,
            "visibility": null,
            "width": null
          }
        },
        "70edea405ba14d41a3e0b92bb4ebeef9": {
          "model_module": "@jupyter-widgets/base",
          "model_module_version": "1.2.0",
          "model_name": "LayoutModel",
          "state": {
            "_model_module": "@jupyter-widgets/base",
            "_model_module_version": "1.2.0",
            "_model_name": "LayoutModel",
            "_view_count": null,
            "_view_module": "@jupyter-widgets/base",
            "_view_module_version": "1.2.0",
            "_view_name": "LayoutView",
            "align_content": null,
            "align_items": null,
            "align_self": null,
            "border": null,
            "bottom": null,
            "display": null,
            "flex": null,
            "flex_flow": null,
            "grid_area": null,
            "grid_auto_columns": null,
            "grid_auto_flow": null,
            "grid_auto_rows": null,
            "grid_column": null,
            "grid_gap": null,
            "grid_row": null,
            "grid_template_areas": null,
            "grid_template_columns": null,
            "grid_template_rows": null,
            "height": null,
            "justify_content": null,
            "justify_items": null,
            "left": null,
            "margin": null,
            "max_height": null,
            "max_width": null,
            "min_height": null,
            "min_width": null,
            "object_fit": null,
            "object_position": null,
            "order": null,
            "overflow": null,
            "overflow_x": null,
            "overflow_y": null,
            "padding": null,
            "right": null,
            "top": null,
            "visibility": null,
            "width": null
          }
        },
        "7278ece17e904638a87832ef521efe6f": {
          "model_module": "@jupyter-widgets/base",
          "model_module_version": "1.2.0",
          "model_name": "LayoutModel",
          "state": {
            "_model_module": "@jupyter-widgets/base",
            "_model_module_version": "1.2.0",
            "_model_name": "LayoutModel",
            "_view_count": null,
            "_view_module": "@jupyter-widgets/base",
            "_view_module_version": "1.2.0",
            "_view_name": "LayoutView",
            "align_content": null,
            "align_items": null,
            "align_self": null,
            "border": null,
            "bottom": null,
            "display": null,
            "flex": null,
            "flex_flow": null,
            "grid_area": null,
            "grid_auto_columns": null,
            "grid_auto_flow": null,
            "grid_auto_rows": null,
            "grid_column": null,
            "grid_gap": null,
            "grid_row": null,
            "grid_template_areas": null,
            "grid_template_columns": null,
            "grid_template_rows": null,
            "height": null,
            "justify_content": null,
            "justify_items": null,
            "left": null,
            "margin": null,
            "max_height": null,
            "max_width": null,
            "min_height": null,
            "min_width": null,
            "object_fit": null,
            "object_position": null,
            "order": null,
            "overflow": null,
            "overflow_x": null,
            "overflow_y": null,
            "padding": null,
            "right": null,
            "top": null,
            "visibility": null,
            "width": null
          }
        },
        "72c2207207e44490926a3f40cb5a19d6": {
          "model_module": "@jupyter-widgets/base",
          "model_module_version": "1.2.0",
          "model_name": "LayoutModel",
          "state": {
            "_model_module": "@jupyter-widgets/base",
            "_model_module_version": "1.2.0",
            "_model_name": "LayoutModel",
            "_view_count": null,
            "_view_module": "@jupyter-widgets/base",
            "_view_module_version": "1.2.0",
            "_view_name": "LayoutView",
            "align_content": null,
            "align_items": null,
            "align_self": null,
            "border": null,
            "bottom": null,
            "display": null,
            "flex": null,
            "flex_flow": null,
            "grid_area": null,
            "grid_auto_columns": null,
            "grid_auto_flow": null,
            "grid_auto_rows": null,
            "grid_column": null,
            "grid_gap": null,
            "grid_row": null,
            "grid_template_areas": null,
            "grid_template_columns": null,
            "grid_template_rows": null,
            "height": null,
            "justify_content": null,
            "justify_items": null,
            "left": null,
            "margin": null,
            "max_height": null,
            "max_width": null,
            "min_height": null,
            "min_width": null,
            "object_fit": null,
            "object_position": null,
            "order": null,
            "overflow": null,
            "overflow_x": null,
            "overflow_y": null,
            "padding": null,
            "right": null,
            "top": null,
            "visibility": null,
            "width": null
          }
        },
        "85ae0e7262754f27ad1d989208e5588f": {
          "model_module": "@jupyter-widgets/controls",
          "model_module_version": "1.5.0",
          "model_name": "HTMLModel",
          "state": {
            "_dom_classes": [],
            "_model_module": "@jupyter-widgets/controls",
            "_model_module_version": "1.5.0",
            "_model_name": "HTMLModel",
            "_view_count": null,
            "_view_module": "@jupyter-widgets/controls",
            "_view_module_version": "1.5.0",
            "_view_name": "HTMLView",
            "description": "",
            "description_tooltip": null,
            "layout": "IPY_MODEL_b0a6f6b24acb45adbec2b7278ef0327d",
            "placeholder": "​",
            "style": "IPY_MODEL_59b97f27c7b4403fb9e75598637fcb52",
            "value": " 157/157 [01:03&lt;00:00,  2.88it/s]"
          }
        },
        "871e13ece27e40d6a68e173860cc7b99": {
          "model_module": "@jupyter-widgets/base",
          "model_module_version": "1.2.0",
          "model_name": "LayoutModel",
          "state": {
            "_model_module": "@jupyter-widgets/base",
            "_model_module_version": "1.2.0",
            "_model_name": "LayoutModel",
            "_view_count": null,
            "_view_module": "@jupyter-widgets/base",
            "_view_module_version": "1.2.0",
            "_view_name": "LayoutView",
            "align_content": null,
            "align_items": null,
            "align_self": null,
            "border": null,
            "bottom": null,
            "display": null,
            "flex": null,
            "flex_flow": null,
            "grid_area": null,
            "grid_auto_columns": null,
            "grid_auto_flow": null,
            "grid_auto_rows": null,
            "grid_column": null,
            "grid_gap": null,
            "grid_row": null,
            "grid_template_areas": null,
            "grid_template_columns": null,
            "grid_template_rows": null,
            "height": null,
            "justify_content": null,
            "justify_items": null,
            "left": null,
            "margin": null,
            "max_height": null,
            "max_width": null,
            "min_height": null,
            "min_width": null,
            "object_fit": null,
            "object_position": null,
            "order": null,
            "overflow": null,
            "overflow_x": null,
            "overflow_y": null,
            "padding": null,
            "right": null,
            "top": null,
            "visibility": null,
            "width": null
          }
        },
        "8878acef08764f1595498251641abd28": {
          "model_module": "@jupyter-widgets/controls",
          "model_module_version": "1.5.0",
          "model_name": "HTMLModel",
          "state": {
            "_dom_classes": [],
            "_model_module": "@jupyter-widgets/controls",
            "_model_module_version": "1.5.0",
            "_model_name": "HTMLModel",
            "_view_count": null,
            "_view_module": "@jupyter-widgets/controls",
            "_view_module_version": "1.5.0",
            "_view_name": "HTMLView",
            "description": "",
            "description_tooltip": null,
            "layout": "IPY_MODEL_0a62efec83f84305a511bf55c9959fa1",
            "placeholder": "​",
            "style": "IPY_MODEL_2572e440fbd64072b431853571fa9275",
            "value": "100%"
          }
        },
        "8a629c47072d49839a5f55a21e3726a1": {
          "model_module": "@jupyter-widgets/controls",
          "model_module_version": "1.5.0",
          "model_name": "HBoxModel",
          "state": {
            "_dom_classes": [],
            "_model_module": "@jupyter-widgets/controls",
            "_model_module_version": "1.5.0",
            "_model_name": "HBoxModel",
            "_view_count": null,
            "_view_module": "@jupyter-widgets/controls",
            "_view_module_version": "1.5.0",
            "_view_name": "HBoxView",
            "box_style": "",
            "children": [
              "IPY_MODEL_de439939cc7b4d8281e1c17eadb9cc91",
              "IPY_MODEL_a00969a9b72c45298599c0b9c641745e",
              "IPY_MODEL_36cdc6127e11431a9ef4749dede2599b"
            ],
            "layout": "IPY_MODEL_1c2d94c3e02c40808e1908bea3f43554"
          }
        },
        "8da736b4d3b04cbe80468be1dc5d1edf": {
          "model_module": "@jupyter-widgets/controls",
          "model_module_version": "1.5.0",
          "model_name": "DescriptionStyleModel",
          "state": {
            "_model_module": "@jupyter-widgets/controls",
            "_model_module_version": "1.5.0",
            "_model_name": "DescriptionStyleModel",
            "_view_count": null,
            "_view_module": "@jupyter-widgets/base",
            "_view_module_version": "1.2.0",
            "_view_name": "StyleView",
            "description_width": ""
          }
        },
        "969704eeaf8e4b229bac84f8169eb3c6": {
          "model_module": "@jupyter-widgets/base",
          "model_module_version": "1.2.0",
          "model_name": "LayoutModel",
          "state": {
            "_model_module": "@jupyter-widgets/base",
            "_model_module_version": "1.2.0",
            "_model_name": "LayoutModel",
            "_view_count": null,
            "_view_module": "@jupyter-widgets/base",
            "_view_module_version": "1.2.0",
            "_view_name": "LayoutView",
            "align_content": null,
            "align_items": null,
            "align_self": null,
            "border": null,
            "bottom": null,
            "display": null,
            "flex": null,
            "flex_flow": null,
            "grid_area": null,
            "grid_auto_columns": null,
            "grid_auto_flow": null,
            "grid_auto_rows": null,
            "grid_column": null,
            "grid_gap": null,
            "grid_row": null,
            "grid_template_areas": null,
            "grid_template_columns": null,
            "grid_template_rows": null,
            "height": null,
            "justify_content": null,
            "justify_items": null,
            "left": null,
            "margin": null,
            "max_height": null,
            "max_width": null,
            "min_height": null,
            "min_width": null,
            "object_fit": null,
            "object_position": null,
            "order": null,
            "overflow": null,
            "overflow_x": null,
            "overflow_y": null,
            "padding": null,
            "right": null,
            "top": null,
            "visibility": null,
            "width": null
          }
        },
        "a00969a9b72c45298599c0b9c641745e": {
          "model_module": "@jupyter-widgets/controls",
          "model_module_version": "1.5.0",
          "model_name": "FloatProgressModel",
          "state": {
            "_dom_classes": [],
            "_model_module": "@jupyter-widgets/controls",
            "_model_module_version": "1.5.0",
            "_model_name": "FloatProgressModel",
            "_view_count": null,
            "_view_module": "@jupyter-widgets/controls",
            "_view_module_version": "1.5.0",
            "_view_name": "ProgressView",
            "bar_style": "success",
            "description": "",
            "description_tooltip": null,
            "layout": "IPY_MODEL_cda615e10c234092a7efdf7407d20ae4",
            "max": 157,
            "min": 0,
            "orientation": "horizontal",
            "style": "IPY_MODEL_dde2c8cbe0604e11a07143f861f90f8b",
            "value": 157
          }
        },
        "a0df327971044ab8a6ed451a52ff1bb2": {
          "model_module": "@jupyter-widgets/controls",
          "model_module_version": "1.5.0",
          "model_name": "ProgressStyleModel",
          "state": {
            "_model_module": "@jupyter-widgets/controls",
            "_model_module_version": "1.5.0",
            "_model_name": "ProgressStyleModel",
            "_view_count": null,
            "_view_module": "@jupyter-widgets/base",
            "_view_module_version": "1.2.0",
            "_view_name": "StyleView",
            "bar_color": null,
            "description_width": ""
          }
        },
        "a323fe681c084227bb56f22a0bed4908": {
          "model_module": "@jupyter-widgets/controls",
          "model_module_version": "1.5.0",
          "model_name": "FloatProgressModel",
          "state": {
            "_dom_classes": [],
            "_model_module": "@jupyter-widgets/controls",
            "_model_module_version": "1.5.0",
            "_model_name": "FloatProgressModel",
            "_view_count": null,
            "_view_module": "@jupyter-widgets/controls",
            "_view_module_version": "1.5.0",
            "_view_name": "ProgressView",
            "bar_style": "success",
            "description": "",
            "description_tooltip": null,
            "layout": "IPY_MODEL_45293bb73041470eb91508c74d577229",
            "max": 157,
            "min": 0,
            "orientation": "horizontal",
            "style": "IPY_MODEL_01476ee5cdbb49b09f1e359fd7c864dd",
            "value": 157
          }
        },
        "a650ce77125e48f787ab326ad890d111": {
          "model_module": "@jupyter-widgets/base",
          "model_module_version": "1.2.0",
          "model_name": "LayoutModel",
          "state": {
            "_model_module": "@jupyter-widgets/base",
            "_model_module_version": "1.2.0",
            "_model_name": "LayoutModel",
            "_view_count": null,
            "_view_module": "@jupyter-widgets/base",
            "_view_module_version": "1.2.0",
            "_view_name": "LayoutView",
            "align_content": null,
            "align_items": null,
            "align_self": null,
            "border": null,
            "bottom": null,
            "display": null,
            "flex": null,
            "flex_flow": null,
            "grid_area": null,
            "grid_auto_columns": null,
            "grid_auto_flow": null,
            "grid_auto_rows": null,
            "grid_column": null,
            "grid_gap": null,
            "grid_row": null,
            "grid_template_areas": null,
            "grid_template_columns": null,
            "grid_template_rows": null,
            "height": null,
            "justify_content": null,
            "justify_items": null,
            "left": null,
            "margin": null,
            "max_height": null,
            "max_width": null,
            "min_height": null,
            "min_width": null,
            "object_fit": null,
            "object_position": null,
            "order": null,
            "overflow": null,
            "overflow_x": null,
            "overflow_y": null,
            "padding": null,
            "right": null,
            "top": null,
            "visibility": null,
            "width": null
          }
        },
        "a67815194cd140e99ff371e21b917204": {
          "model_module": "@jupyter-widgets/controls",
          "model_module_version": "1.5.0",
          "model_name": "HTMLModel",
          "state": {
            "_dom_classes": [],
            "_model_module": "@jupyter-widgets/controls",
            "_model_module_version": "1.5.0",
            "_model_name": "HTMLModel",
            "_view_count": null,
            "_view_module": "@jupyter-widgets/controls",
            "_view_module_version": "1.5.0",
            "_view_name": "HTMLView",
            "description": "",
            "description_tooltip": null,
            "layout": "IPY_MODEL_70edea405ba14d41a3e0b92bb4ebeef9",
            "placeholder": "​",
            "style": "IPY_MODEL_aa141e36f15b4a79b62036b750c8bcbf",
            "value": "100%"
          }
        },
        "aa141e36f15b4a79b62036b750c8bcbf": {
          "model_module": "@jupyter-widgets/controls",
          "model_module_version": "1.5.0",
          "model_name": "DescriptionStyleModel",
          "state": {
            "_model_module": "@jupyter-widgets/controls",
            "_model_module_version": "1.5.0",
            "_model_name": "DescriptionStyleModel",
            "_view_count": null,
            "_view_module": "@jupyter-widgets/base",
            "_view_module_version": "1.2.0",
            "_view_name": "StyleView",
            "description_width": ""
          }
        },
        "ae23217da46d48a1a6a1410a88b0927e": {
          "model_module": "@jupyter-widgets/controls",
          "model_module_version": "1.5.0",
          "model_name": "DescriptionStyleModel",
          "state": {
            "_model_module": "@jupyter-widgets/controls",
            "_model_module_version": "1.5.0",
            "_model_name": "DescriptionStyleModel",
            "_view_count": null,
            "_view_module": "@jupyter-widgets/base",
            "_view_module_version": "1.2.0",
            "_view_name": "StyleView",
            "description_width": ""
          }
        },
        "b0a6f6b24acb45adbec2b7278ef0327d": {
          "model_module": "@jupyter-widgets/base",
          "model_module_version": "1.2.0",
          "model_name": "LayoutModel",
          "state": {
            "_model_module": "@jupyter-widgets/base",
            "_model_module_version": "1.2.0",
            "_model_name": "LayoutModel",
            "_view_count": null,
            "_view_module": "@jupyter-widgets/base",
            "_view_module_version": "1.2.0",
            "_view_name": "LayoutView",
            "align_content": null,
            "align_items": null,
            "align_self": null,
            "border": null,
            "bottom": null,
            "display": null,
            "flex": null,
            "flex_flow": null,
            "grid_area": null,
            "grid_auto_columns": null,
            "grid_auto_flow": null,
            "grid_auto_rows": null,
            "grid_column": null,
            "grid_gap": null,
            "grid_row": null,
            "grid_template_areas": null,
            "grid_template_columns": null,
            "grid_template_rows": null,
            "height": null,
            "justify_content": null,
            "justify_items": null,
            "left": null,
            "margin": null,
            "max_height": null,
            "max_width": null,
            "min_height": null,
            "min_width": null,
            "object_fit": null,
            "object_position": null,
            "order": null,
            "overflow": null,
            "overflow_x": null,
            "overflow_y": null,
            "padding": null,
            "right": null,
            "top": null,
            "visibility": null,
            "width": null
          }
        },
        "b398cf5462324549947660d3a7909d2b": {
          "model_module": "@jupyter-widgets/controls",
          "model_module_version": "1.5.0",
          "model_name": "ProgressStyleModel",
          "state": {
            "_model_module": "@jupyter-widgets/controls",
            "_model_module_version": "1.5.0",
            "_model_name": "ProgressStyleModel",
            "_view_count": null,
            "_view_module": "@jupyter-widgets/base",
            "_view_module_version": "1.2.0",
            "_view_name": "StyleView",
            "bar_color": null,
            "description_width": ""
          }
        },
        "b536252d0ee94823ba2fcb1962f09328": {
          "model_module": "@jupyter-widgets/controls",
          "model_module_version": "1.5.0",
          "model_name": "HTMLModel",
          "state": {
            "_dom_classes": [],
            "_model_module": "@jupyter-widgets/controls",
            "_model_module_version": "1.5.0",
            "_model_name": "HTMLModel",
            "_view_count": null,
            "_view_module": "@jupyter-widgets/controls",
            "_view_module_version": "1.5.0",
            "_view_name": "HTMLView",
            "description": "",
            "description_tooltip": null,
            "layout": "IPY_MODEL_a650ce77125e48f787ab326ad890d111",
            "placeholder": "​",
            "style": "IPY_MODEL_228a1df9eb254a83aef54824861b979d",
            "value": "100%"
          }
        },
        "c19f7f6f4d6b44cf9b1e3419cdb7f352": {
          "model_module": "@jupyter-widgets/controls",
          "model_module_version": "1.5.0",
          "model_name": "DescriptionStyleModel",
          "state": {
            "_model_module": "@jupyter-widgets/controls",
            "_model_module_version": "1.5.0",
            "_model_name": "DescriptionStyleModel",
            "_view_count": null,
            "_view_module": "@jupyter-widgets/base",
            "_view_module_version": "1.2.0",
            "_view_name": "StyleView",
            "description_width": ""
          }
        },
        "cb2f2b3ed7074669a6b3b25e4bb153e4": {
          "model_module": "@jupyter-widgets/base",
          "model_module_version": "1.2.0",
          "model_name": "LayoutModel",
          "state": {
            "_model_module": "@jupyter-widgets/base",
            "_model_module_version": "1.2.0",
            "_model_name": "LayoutModel",
            "_view_count": null,
            "_view_module": "@jupyter-widgets/base",
            "_view_module_version": "1.2.0",
            "_view_name": "LayoutView",
            "align_content": null,
            "align_items": null,
            "align_self": null,
            "border": null,
            "bottom": null,
            "display": null,
            "flex": null,
            "flex_flow": null,
            "grid_area": null,
            "grid_auto_columns": null,
            "grid_auto_flow": null,
            "grid_auto_rows": null,
            "grid_column": null,
            "grid_gap": null,
            "grid_row": null,
            "grid_template_areas": null,
            "grid_template_columns": null,
            "grid_template_rows": null,
            "height": null,
            "justify_content": null,
            "justify_items": null,
            "left": null,
            "margin": null,
            "max_height": null,
            "max_width": null,
            "min_height": null,
            "min_width": null,
            "object_fit": null,
            "object_position": null,
            "order": null,
            "overflow": null,
            "overflow_x": null,
            "overflow_y": null,
            "padding": null,
            "right": null,
            "top": null,
            "visibility": null,
            "width": null
          }
        },
        "cda615e10c234092a7efdf7407d20ae4": {
          "model_module": "@jupyter-widgets/base",
          "model_module_version": "1.2.0",
          "model_name": "LayoutModel",
          "state": {
            "_model_module": "@jupyter-widgets/base",
            "_model_module_version": "1.2.0",
            "_model_name": "LayoutModel",
            "_view_count": null,
            "_view_module": "@jupyter-widgets/base",
            "_view_module_version": "1.2.0",
            "_view_name": "LayoutView",
            "align_content": null,
            "align_items": null,
            "align_self": null,
            "border": null,
            "bottom": null,
            "display": null,
            "flex": null,
            "flex_flow": null,
            "grid_area": null,
            "grid_auto_columns": null,
            "grid_auto_flow": null,
            "grid_auto_rows": null,
            "grid_column": null,
            "grid_gap": null,
            "grid_row": null,
            "grid_template_areas": null,
            "grid_template_columns": null,
            "grid_template_rows": null,
            "height": null,
            "justify_content": null,
            "justify_items": null,
            "left": null,
            "margin": null,
            "max_height": null,
            "max_width": null,
            "min_height": null,
            "min_width": null,
            "object_fit": null,
            "object_position": null,
            "order": null,
            "overflow": null,
            "overflow_x": null,
            "overflow_y": null,
            "padding": null,
            "right": null,
            "top": null,
            "visibility": null,
            "width": null
          }
        },
        "ce4d1b2a07844af7a064acad5bb48d18": {
          "model_module": "@jupyter-widgets/base",
          "model_module_version": "1.2.0",
          "model_name": "LayoutModel",
          "state": {
            "_model_module": "@jupyter-widgets/base",
            "_model_module_version": "1.2.0",
            "_model_name": "LayoutModel",
            "_view_count": null,
            "_view_module": "@jupyter-widgets/base",
            "_view_module_version": "1.2.0",
            "_view_name": "LayoutView",
            "align_content": null,
            "align_items": null,
            "align_self": null,
            "border": null,
            "bottom": null,
            "display": null,
            "flex": null,
            "flex_flow": null,
            "grid_area": null,
            "grid_auto_columns": null,
            "grid_auto_flow": null,
            "grid_auto_rows": null,
            "grid_column": null,
            "grid_gap": null,
            "grid_row": null,
            "grid_template_areas": null,
            "grid_template_columns": null,
            "grid_template_rows": null,
            "height": null,
            "justify_content": null,
            "justify_items": null,
            "left": null,
            "margin": null,
            "max_height": null,
            "max_width": null,
            "min_height": null,
            "min_width": null,
            "object_fit": null,
            "object_position": null,
            "order": null,
            "overflow": null,
            "overflow_x": null,
            "overflow_y": null,
            "padding": null,
            "right": null,
            "top": null,
            "visibility": null,
            "width": null
          }
        },
        "d5043ad5bd844c939405fbf927f409f9": {
          "model_module": "@jupyter-widgets/controls",
          "model_module_version": "1.5.0",
          "model_name": "ProgressStyleModel",
          "state": {
            "_model_module": "@jupyter-widgets/controls",
            "_model_module_version": "1.5.0",
            "_model_name": "ProgressStyleModel",
            "_view_count": null,
            "_view_module": "@jupyter-widgets/base",
            "_view_module_version": "1.2.0",
            "_view_name": "StyleView",
            "bar_color": null,
            "description_width": ""
          }
        },
        "da73c91ca408490b94a9eaf12f1f780c": {
          "model_module": "@jupyter-widgets/base",
          "model_module_version": "1.2.0",
          "model_name": "LayoutModel",
          "state": {
            "_model_module": "@jupyter-widgets/base",
            "_model_module_version": "1.2.0",
            "_model_name": "LayoutModel",
            "_view_count": null,
            "_view_module": "@jupyter-widgets/base",
            "_view_module_version": "1.2.0",
            "_view_name": "LayoutView",
            "align_content": null,
            "align_items": null,
            "align_self": null,
            "border": null,
            "bottom": null,
            "display": null,
            "flex": null,
            "flex_flow": null,
            "grid_area": null,
            "grid_auto_columns": null,
            "grid_auto_flow": null,
            "grid_auto_rows": null,
            "grid_column": null,
            "grid_gap": null,
            "grid_row": null,
            "grid_template_areas": null,
            "grid_template_columns": null,
            "grid_template_rows": null,
            "height": null,
            "justify_content": null,
            "justify_items": null,
            "left": null,
            "margin": null,
            "max_height": null,
            "max_width": null,
            "min_height": null,
            "min_width": null,
            "object_fit": null,
            "object_position": null,
            "order": null,
            "overflow": null,
            "overflow_x": null,
            "overflow_y": null,
            "padding": null,
            "right": null,
            "top": null,
            "visibility": null,
            "width": null
          }
        },
        "da91422d313b4f448543621633d1f445": {
          "model_module": "@jupyter-widgets/base",
          "model_module_version": "1.2.0",
          "model_name": "LayoutModel",
          "state": {
            "_model_module": "@jupyter-widgets/base",
            "_model_module_version": "1.2.0",
            "_model_name": "LayoutModel",
            "_view_count": null,
            "_view_module": "@jupyter-widgets/base",
            "_view_module_version": "1.2.0",
            "_view_name": "LayoutView",
            "align_content": null,
            "align_items": null,
            "align_self": null,
            "border": null,
            "bottom": null,
            "display": null,
            "flex": null,
            "flex_flow": null,
            "grid_area": null,
            "grid_auto_columns": null,
            "grid_auto_flow": null,
            "grid_auto_rows": null,
            "grid_column": null,
            "grid_gap": null,
            "grid_row": null,
            "grid_template_areas": null,
            "grid_template_columns": null,
            "grid_template_rows": null,
            "height": null,
            "justify_content": null,
            "justify_items": null,
            "left": null,
            "margin": null,
            "max_height": null,
            "max_width": null,
            "min_height": null,
            "min_width": null,
            "object_fit": null,
            "object_position": null,
            "order": null,
            "overflow": null,
            "overflow_x": null,
            "overflow_y": null,
            "padding": null,
            "right": null,
            "top": null,
            "visibility": null,
            "width": null
          }
        },
        "dde2c8cbe0604e11a07143f861f90f8b": {
          "model_module": "@jupyter-widgets/controls",
          "model_module_version": "1.5.0",
          "model_name": "ProgressStyleModel",
          "state": {
            "_model_module": "@jupyter-widgets/controls",
            "_model_module_version": "1.5.0",
            "_model_name": "ProgressStyleModel",
            "_view_count": null,
            "_view_module": "@jupyter-widgets/base",
            "_view_module_version": "1.2.0",
            "_view_name": "StyleView",
            "bar_color": null,
            "description_width": ""
          }
        },
        "de439939cc7b4d8281e1c17eadb9cc91": {
          "model_module": "@jupyter-widgets/controls",
          "model_module_version": "1.5.0",
          "model_name": "HTMLModel",
          "state": {
            "_dom_classes": [],
            "_model_module": "@jupyter-widgets/controls",
            "_model_module_version": "1.5.0",
            "_model_name": "HTMLModel",
            "_view_count": null,
            "_view_module": "@jupyter-widgets/controls",
            "_view_module_version": "1.5.0",
            "_view_name": "HTMLView",
            "description": "",
            "description_tooltip": null,
            "layout": "IPY_MODEL_3307e4546e8b4d02b06bc7bbb3fdb5ce",
            "placeholder": "​",
            "style": "IPY_MODEL_fb7d4c87065d4e289396068bcd6e8cfe",
            "value": "100%"
          }
        },
        "df42d242f063470db4727ae8b26b3796": {
          "model_module": "@jupyter-widgets/controls",
          "model_module_version": "1.5.0",
          "model_name": "DescriptionStyleModel",
          "state": {
            "_model_module": "@jupyter-widgets/controls",
            "_model_module_version": "1.5.0",
            "_model_name": "DescriptionStyleModel",
            "_view_count": null,
            "_view_module": "@jupyter-widgets/base",
            "_view_module_version": "1.2.0",
            "_view_name": "StyleView",
            "description_width": ""
          }
        },
        "e586ee091ed041718840a768b7aa5eb5": {
          "model_module": "@jupyter-widgets/base",
          "model_module_version": "1.2.0",
          "model_name": "LayoutModel",
          "state": {
            "_model_module": "@jupyter-widgets/base",
            "_model_module_version": "1.2.0",
            "_model_name": "LayoutModel",
            "_view_count": null,
            "_view_module": "@jupyter-widgets/base",
            "_view_module_version": "1.2.0",
            "_view_name": "LayoutView",
            "align_content": null,
            "align_items": null,
            "align_self": null,
            "border": null,
            "bottom": null,
            "display": null,
            "flex": null,
            "flex_flow": null,
            "grid_area": null,
            "grid_auto_columns": null,
            "grid_auto_flow": null,
            "grid_auto_rows": null,
            "grid_column": null,
            "grid_gap": null,
            "grid_row": null,
            "grid_template_areas": null,
            "grid_template_columns": null,
            "grid_template_rows": null,
            "height": null,
            "justify_content": null,
            "justify_items": null,
            "left": null,
            "margin": null,
            "max_height": null,
            "max_width": null,
            "min_height": null,
            "min_width": null,
            "object_fit": null,
            "object_position": null,
            "order": null,
            "overflow": null,
            "overflow_x": null,
            "overflow_y": null,
            "padding": null,
            "right": null,
            "top": null,
            "visibility": null,
            "width": null
          }
        },
        "e5e8e51f2a6b44f392e13a49b7ec73ed": {
          "model_module": "@jupyter-widgets/controls",
          "model_module_version": "1.5.0",
          "model_name": "HTMLModel",
          "state": {
            "_dom_classes": [],
            "_model_module": "@jupyter-widgets/controls",
            "_model_module_version": "1.5.0",
            "_model_name": "HTMLModel",
            "_view_count": null,
            "_view_module": "@jupyter-widgets/controls",
            "_view_module_version": "1.5.0",
            "_view_name": "HTMLView",
            "description": "",
            "description_tooltip": null,
            "layout": "IPY_MODEL_2da5050ec8ae4a6b93c465e8bb6eea5c",
            "placeholder": "​",
            "style": "IPY_MODEL_c19f7f6f4d6b44cf9b1e3419cdb7f352",
            "value": " 157/157 [01:15&lt;00:00,  3.11it/s]"
          }
        },
        "f5009651b2d8462680b2b8f3c34642d9": {
          "model_module": "@jupyter-widgets/base",
          "model_module_version": "1.2.0",
          "model_name": "LayoutModel",
          "state": {
            "_model_module": "@jupyter-widgets/base",
            "_model_module_version": "1.2.0",
            "_model_name": "LayoutModel",
            "_view_count": null,
            "_view_module": "@jupyter-widgets/base",
            "_view_module_version": "1.2.0",
            "_view_name": "LayoutView",
            "align_content": null,
            "align_items": null,
            "align_self": null,
            "border": null,
            "bottom": null,
            "display": null,
            "flex": null,
            "flex_flow": null,
            "grid_area": null,
            "grid_auto_columns": null,
            "grid_auto_flow": null,
            "grid_auto_rows": null,
            "grid_column": null,
            "grid_gap": null,
            "grid_row": null,
            "grid_template_areas": null,
            "grid_template_columns": null,
            "grid_template_rows": null,
            "height": null,
            "justify_content": null,
            "justify_items": null,
            "left": null,
            "margin": null,
            "max_height": null,
            "max_width": null,
            "min_height": null,
            "min_width": null,
            "object_fit": null,
            "object_position": null,
            "order": null,
            "overflow": null,
            "overflow_x": null,
            "overflow_y": null,
            "padding": null,
            "right": null,
            "top": null,
            "visibility": null,
            "width": null
          }
        },
        "faa8dfd626c14cbdb3d5562213ea4dd1": {
          "model_module": "@jupyter-widgets/base",
          "model_module_version": "1.2.0",
          "model_name": "LayoutModel",
          "state": {
            "_model_module": "@jupyter-widgets/base",
            "_model_module_version": "1.2.0",
            "_model_name": "LayoutModel",
            "_view_count": null,
            "_view_module": "@jupyter-widgets/base",
            "_view_module_version": "1.2.0",
            "_view_name": "LayoutView",
            "align_content": null,
            "align_items": null,
            "align_self": null,
            "border": null,
            "bottom": null,
            "display": null,
            "flex": null,
            "flex_flow": null,
            "grid_area": null,
            "grid_auto_columns": null,
            "grid_auto_flow": null,
            "grid_auto_rows": null,
            "grid_column": null,
            "grid_gap": null,
            "grid_row": null,
            "grid_template_areas": null,
            "grid_template_columns": null,
            "grid_template_rows": null,
            "height": null,
            "justify_content": null,
            "justify_items": null,
            "left": null,
            "margin": null,
            "max_height": null,
            "max_width": null,
            "min_height": null,
            "min_width": null,
            "object_fit": null,
            "object_position": null,
            "order": null,
            "overflow": null,
            "overflow_x": null,
            "overflow_y": null,
            "padding": null,
            "right": null,
            "top": null,
            "visibility": null,
            "width": null
          }
        },
        "fb7d4c87065d4e289396068bcd6e8cfe": {
          "model_module": "@jupyter-widgets/controls",
          "model_module_version": "1.5.0",
          "model_name": "DescriptionStyleModel",
          "state": {
            "_model_module": "@jupyter-widgets/controls",
            "_model_module_version": "1.5.0",
            "_model_name": "DescriptionStyleModel",
            "_view_count": null,
            "_view_module": "@jupyter-widgets/base",
            "_view_module_version": "1.2.0",
            "_view_name": "StyleView",
            "description_width": ""
          }
        }
      }
    }
  },
  "nbformat": 4,
  "nbformat_minor": 0
}
